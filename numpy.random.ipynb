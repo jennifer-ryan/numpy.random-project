{
 "cells": [
  {
   "cell_type": "markdown",
   "metadata": {},
   "source": [
    "1. Explain the overall purpose of the package.\n",
    "2. Explain the use of the “Simple random data” and “Permutations” functions.\n",
    "3. Explain the use and purpose of at least five “Distributions” functions.\n",
    "4. Explain the use of seeds in generating pseudorandom numbers.\n",
    "\n",
    "Numpy documentation https://docs.scipy.org/doc/numpy-1.16.0/reference/routines.random.html\n",
    "\n",
    "Mersenne Twister - PRNG (pseudorandom number generator) https://en.wikipedia.org/wiki/Mersenne_Twister\n"
   ]
  },
  {
   "cell_type": "markdown",
   "metadata": {},
   "source": [
    "## Purpose of numpy.random\n",
    "\n",
    "Random number generation is vital for many practical programming needs such as security, model-building, simulation creation and statistical research. Of course, being deterministic machines, computers cannot create truly random numbers and so simulate randomness to create what are called pseudorandom numbers. These numbers are generally drawn from probability distributions and require an initial input seed to which an algorithm is applied in order to generate numbers in a predetermined fashion.\n",
    "\n",
    "Pseudorandom - random but reproducible data https://realpython.com/python-random/\n",
    "\n",
    "When discussing the various functions below, I will use random as a descriptive term, even though everything generated from the package is pseudorandom.\n",
    "\n",
    "https://stackoverflow.com/questions/4156907/why-is-random-not-so-random\n",
    "\n",
    "https://www.eriksmistad.no/pseudo-random-numbers-and-sampling-from-probability-distributions/"
   ]
  },
  {
   "cell_type": "markdown",
   "metadata": {},
   "source": [
    "### Why use numpy.random instead of built-in random.random?\n",
    "While random.random by default produces single random numbers, it can produce multiple if used with the range function. However, numpy.random allows you to produce increasingly complex arrays of random numbers. https://realpython.com/python-random/#prngs-for-arrays-numpyrandom\n",
    "\n",
    "According to Python for Data Analysis (p. 118) numpy.random supplements the random module with a few extra probability distributions and functions\n",
    "https://stackoverflow.com/questions/7029993/differences-between-numpy-random-and-random-random-in-python"
   ]
  },
  {
   "cell_type": "code",
   "execution_count": 1,
   "metadata": {},
   "outputs": [],
   "source": [
    "# Importing libraries\n",
    "import numpy as np\n",
    "import matplotlib.pyplot as plt\n",
    "%matplotlib inline\n",
    "import sys\n",
    "from scipy import stats"
   ]
  },
  {
   "cell_type": "markdown",
   "metadata": {},
   "source": [
    "<br>\n",
    "\n",
    "_________________________________________________________________________________________________________________\n",
    "\n",
    "## Simple Random Data\n",
    "At its most basic, the numpy.random package is used to generate random data or arrays of data, generally numerical. There are several functions in the package that create simple random data and each one does so in different ways. Before I move on to the more complex probability distributions and seed functions of the package, I will first discuss the following modules in this section:\n",
    "\n",
    "- rand\n",
    "- randn\n",
    "- randint\n",
    "- choice\n",
    "- bytes\n",
    "\n",
    "Within many of these functions I will discuss similar related functions that are also available elsewhere in the package."
   ]
  },
  {
   "cell_type": "markdown",
   "metadata": {},
   "source": [
    "<br>\n",
    "\n",
    "### RAND \n",
    "\n",
    "The **rand** function generates a floating point number or array of floating point numbers from the half open interval \\[0, 1), meaning that it includes every number greater than or equal to 0 and less than 1. If no arguments are passed to the function, a single random number is returned but **rand** is capable of generating large arrays of randomly generated numbers when integer arguments are passed. There is no limit to the number of arguments that can be passed so these arrays can be hugely complex. "
   ]
  },
  {
   "cell_type": "code",
   "execution_count": 2,
   "metadata": {},
   "outputs": [
    {
     "name": "stdout",
     "output_type": "stream",
     "text": [
      "\u001b[1mGenerates a single random number:\u001b[0m\n",
      "0.8026967118213291\n",
      "\n",
      "\u001b[1mGenerates 2 arrays with 4 random numbers in each:\u001b[0m\n",
      "[[0.76938353 0.46830127 0.00728191 0.48654638]\n",
      " [0.64743659 0.15357337 0.34041332 0.26219501]]\n",
      "\n",
      "\u001b[1mGenerates 2 arrays with each containing 4 arrays and each of those containing 6 random numbers:\u001b[0m\n",
      "[[[0.83188351 0.77458707 0.90561276 0.90624718 0.33219822 0.05464899]\n",
      "  [0.75899784 0.92635914 0.94829716 0.54534708 0.37165419 0.44518534]\n",
      "  [0.19457407 0.64453316 0.13547368 0.06470063 0.773568   0.24868385]\n",
      "  [0.62574618 0.48592524 0.82727835 0.08497224 0.51470058 0.8981178 ]]\n",
      "\n",
      " [[0.29903122 0.76157973 0.64596629 0.18903825 0.85336744 0.65374336]\n",
      "  [0.95394235 0.63570912 0.60631111 0.35297827 0.20692042 0.53450035]\n",
      "  [0.82120193 0.41649987 0.58652247 0.67162588 0.52063881 0.28217232]\n",
      "  [0.69809356 0.68543693 0.06381209 0.23836332 0.14973221 0.25291558]]]\n"
     ]
    }
   ],
   "source": [
    "# Passing no arguments to generate a single random number.\n",
    "print(\"\\033[1m\" + \"Generates a single random number:\" + \"\\033[0m\")\n",
    "print(np.random.rand())\n",
    "print()\n",
    "\n",
    "# Passing (x, y) arguments will return x arrays with y values in each.\n",
    "print(\"\\033[1m\" + \"Generates 2 arrays with 4 random numbers in each:\" + \"\\033[0m\")\n",
    "print(np.random.rand(2, 4))\n",
    "print()\n",
    "\n",
    "# Passing x * y * z will return x arrays containing y arrays that have z values.\n",
    "print(\"\\033[1m\" + \"Generates 2 arrays with each containing 4 arrays and each of those containing 6 random numbers:\" + \"\\033[0m\")\n",
    "print(np.random.rand(2, 4, 6))\n"
   ]
  },
  {
   "cell_type": "markdown",
   "metadata": {},
   "source": [
    "<br>\n",
    "\n",
    "#### Distribution\n",
    "\n",
    "The numbers from **rand** are generated from a continuous uniform distribution, meaning that every number in the \\[0, 1) range has an equal chance of being returned as any other. The plot below demonstrates this distribution across 10,000 randomly generated numbers from the **rand** function."
   ]
  },
  {
   "cell_type": "code",
   "execution_count": 3,
   "metadata": {},
   "outputs": [
    {
     "data": {
      "image/png": "[encoded data removed]",
      "text/plain": [
       "<Figure size 432x288 with 1 Axes>"
      ]
     },
     "metadata": {
      "needs_background": "light"
     },
     "output_type": "display_data"
    }
   ],
   "source": [
    "# Demonstrating the uniform distribution of the rand function.\n",
    "x = np.random.rand(10000)\n",
    "plt.hist(x)\n",
    "plt.title(\"uniform distribution of rand function\")\n",
    "plt.show()"
   ]
  },
  {
   "cell_type": "markdown",
   "metadata": {},
   "source": [
    "<br>\n",
    "\n",
    "#### Similar Functions"
   ]
  },
  {
   "cell_type": "markdown",
   "metadata": {},
   "source": [
    "##### random_sample\n",
    "\n",
    "There are several functions in the numpy.random package that are all variations of the same function and related to **rand**:\n",
    "\n",
    "1. np.random.random\n",
    "2. np.random.ranf\n",
    "3. np.random.sample\n",
    "4. np.random.random_sample\n",
    "\n",
    "These functions can all be considered synonymous with each other, basically aliases for **random_sample**, kept in the package as they may be used by different communities.[<sup>1</sup>](https://stackoverflow.com/a/18829377) Below demonstrates how they all the perform the same function. "
   ]
  },
  {
   "cell_type": "code",
   "execution_count": 4,
   "metadata": {},
   "outputs": [
    {
     "name": "stdout",
     "output_type": "stream",
     "text": [
      "True\n",
      "True\n",
      "True\n"
     ]
    }
   ],
   "source": [
    "# Demonstrating how the below functions are all the same\n",
    "print(np.random.random_sample == np.random.random)\n",
    "\n",
    "print(np.random.random_sample == np.random.ranf)\n",
    "\n",
    "print(np.random.random_sample == np.random.sample)"
   ]
  },
  {
   "cell_type": "markdown",
   "metadata": {},
   "source": [
    "**random_sample** is essentially the same as the **rand** function except for one very important distinction: while **rand** takes multiple arguments to build the shape of an array, **random_sample** only accepts one argument. To build a multi-dimensional array with **random_sample**, a tuple must be passed for it to function correctly.[<sup>2</sup>](https://stackoverflow.com/a/47232184) This can be useful when there are variables containing tuples from which one wants to create an array of random numbers."
   ]
  },
  {
   "cell_type": "code",
   "execution_count": 5,
   "metadata": {},
   "outputs": [
    {
     "name": "stdout",
     "output_type": "stream",
     "text": [
      "\u001b[1m2 x 4 array from rand:\u001b[0m\n",
      "[[0.35372381 0.58540081 0.32469887 0.17921805]\n",
      " [0.59538744 0.05629858 0.68531922 0.94693886]]\n",
      "\n",
      "\u001b[1m2 x 4 array from random_sample:\u001b[0m\n",
      "[[0.37712746 0.93071064 0.23923198 0.9556865 ]\n",
      " [0.03155254 0.68773366 0.47913934 0.04694011]]\n",
      "\n",
      "\u001b[1m2 x 4 array from random_sample using a variable containing a tuple:\u001b[0m\n",
      "[[0.59425469 0.71827738 0.10776266 0.80040087]\n",
      " [0.73512761 0.87950357 0.96417585 0.16146736]]\n"
     ]
    }
   ],
   "source": [
    "# Demonstrating the difference between rand and random_sample.\n",
    "print(\"\\033[1m\" + \"2 x 4 array from rand:\" + \"\\033[0m\")\n",
    "print(np.random.rand(2, 4))\n",
    "print()\n",
    "\n",
    "# Passing a tuple\n",
    "print(\"\\033[1m\" + \"2 x 4 array from random_sample:\" + \"\\033[0m\")\n",
    "print(np.random.random_sample((2, 4)))\n",
    "print()\n",
    "\n",
    "# Passing a variable that contains a tuple\n",
    "t = (2, 4)\n",
    "print(\"\\033[1m\" + \"2 x 4 array from random_sample using a variable containing a tuple:\" + \"\\033[0m\")\n",
    "print(np.random.random_sample(t))\n"
   ]
  },
  {
   "cell_type": "markdown",
   "metadata": {},
   "source": [
    "\n",
    "##### uniform\n",
    "\n",
    "The \\[0, 1) range cannot be adjusted within the **rand** function, but there is a related function within numpy.random called **uniform**, which works in largely the same way as **rand** but allows a custom range to be passed. Again this is a half open interval, generating numbers greater than or equal to the low number and less than the high number. Below is an example of the function in operation and further illustration demonstrating the uniform probability distribution."
   ]
  },
  {
   "cell_type": "code",
   "execution_count": 6,
   "metadata": {},
   "outputs": [
    {
     "name": "stdout",
     "output_type": "stream",
     "text": [
      "\u001b[1mGenerates 2 arrays with 4 random numbers in each within the custom range [-5, 10):\u001b[0m\n",
      "[[ 6.50731137  6.79571061  3.60778144 -0.773834  ]\n",
      " [ 6.00729887 -1.36042319  4.18476314  5.01674391]]\n",
      "\n",
      "\u001b[1mGenerates 4 random numbers in the custom range [-5, 10):\u001b[0m\n",
      "[ 4.98538215 -3.14991763  1.17780142  2.63091927]\n",
      "\n"
     ]
    },
    {
     "data": {
      "image/png": "[encoded data removed]",
      "text/plain": [
       "<Figure size 432x288 with 1 Axes>"
      ]
     },
     "metadata": {
      "needs_background": "light"
     },
     "output_type": "display_data"
    }
   ],
   "source": [
    "# Passing low and high arguments with size of (x, y) arguments will return x arrays with y values in each.\n",
    "print(\"\\033[1m\" + \"Generates 2 arrays with 4 random numbers in each within the custom range [-5, 10):\" + \"\\033[0m\")\n",
    "print(np.random.uniform(low=-5, high=10, size =(2, 4)))\n",
    "print()\n",
    "\n",
    "# Demonstrating it is not necessary to have 'low=' or 'high=' to operate the function. \n",
    "# 'size=' is necessary if more than one array is required.\n",
    "print(\"\\033[1m\" + \"Generates 4 random numbers in the custom range [-5, 10):\" + \"\\033[0m\")\n",
    "print(np.random.uniform(-5, 10, 4))\n",
    "print()\n",
    "\n",
    "# Demonstrating the uniform distribution of the uniform function.\n",
    "x = np.random.uniform(-10, 10, 10000)\n",
    "plt.hist(x)\n",
    "plt.title(\"uniform distribution of uniform function\")\n",
    "plt.show()"
   ]
  },
  {
   "cell_type": "markdown",
   "metadata": {},
   "source": [
    "<br>\n",
    "\n",
    "### RANDN\n",
    "\n",
    "**randn** functions in the same way as **rand** when generating numbers. Without any arguments, it will produce a single randomly generated number between \\[0, 1) and with arguments will produce increasingly complex arrays of numbers. "
   ]
  },
  {
   "cell_type": "code",
   "execution_count": 7,
   "metadata": {},
   "outputs": [
    {
     "name": "stdout",
     "output_type": "stream",
     "text": [
      "\u001b[1mGenerates a single random number:\u001b[0m\n",
      "-1.4008384030214698\n",
      "\n",
      "\u001b[1mGenerates 2 arrays with 4 random numbers in each:\u001b[0m\n",
      "[[ 0.19498763 -0.4774037  -0.28717005 -0.16655131]\n",
      " [ 0.29751343 -1.2632768  -1.54933155 -0.42062105]]\n",
      "\n",
      "\u001b[1mGenerates 2 arrays with each containing 4 arrays and each of those containing 6 random numbers:\u001b[0m\n",
      "[[[ 2.37799634e-01  3.10030029e-01  3.38776942e-01  8.12637751e-01\n",
      "    4.87397963e-02 -1.18401044e+00]\n",
      "  [ 5.37302281e-04  1.10855999e+00 -1.71259756e-01  3.83056531e-01\n",
      "   -2.05228610e+00 -8.57308690e-01]\n",
      "  [ 1.78018097e+00 -8.07531406e-01 -1.31182011e+00  1.32330099e-01\n",
      "   -2.64814885e-01 -3.95420852e-01]\n",
      "  [-6.39505121e-01  4.44885673e-01 -2.15750742e-01 -2.85101412e-01\n",
      "   -8.34940265e-01 -1.01056553e+00]]\n",
      "\n",
      " [[ 3.74662383e-02 -6.22713673e-01 -6.79904190e-01  7.50022945e-01\n",
      "    1.15862754e+00 -2.83797176e-01]\n",
      "  [ 2.22724510e-01 -5.95127017e-01  1.02638030e+00  9.88408460e-01\n",
      "    9.88079731e-01 -1.45877736e+00]\n",
      "  [ 9.20349278e-01  3.25639726e-01 -3.92124624e-01 -7.37001419e-01\n",
      "    7.94754635e-03  1.02378155e+00]\n",
      "  [ 2.22570724e-01  1.09984844e+00 -8.33317872e-01 -2.06777938e-01\n",
      "   -1.88820420e+00 -5.30124445e-01]]]\n"
     ]
    }
   ],
   "source": [
    "# Passing no arguments to generate a single random number:\n",
    "print(\"\\033[1m\" + \"Generates a single random number:\" + \"\\033[0m\")\n",
    "print(np.random.randn())\n",
    "print()\n",
    "\n",
    "# Passing (x, y) arguments will return x arrays with y values in each\n",
    "print(\"\\033[1m\" + \"Generates 2 arrays with 4 random numbers in each:\" + \"\\033[0m\")\n",
    "print(np.random.randn(2, 4))\n",
    "print()\n",
    "\n",
    "# Passing x * y * z will return x arrays containing y arrays that have z values\n",
    "print(\"\\033[1m\" + \"Generates 2 arrays with each containing 4 arrays and each of those containing 6 random numbers:\" + \"\\033[0m\")\n",
    "print(np.random.randn(2, 4, 6))\n"
   ]
  },
  {
   "cell_type": "markdown",
   "metadata": {},
   "source": [
    "<br>\n",
    "\n",
    "#### Distribution\n",
    "\n",
    "What separates the **randn** function from **rand** is that numbers are generated from a normal Gaussian distribution rather than a uniform distribution. In this function the normal distribution has a mean of 0 and a variance of 1. This means that the majority of numbers generated centre around 0 and generally range between -1 and 1. The plot below helps to illustrate this; of the 10,000 numbers generated, the vast majority are within the -1 to 1 range and peak at the 0 mark. Looking again at the numbers generated above, it can be seen that they largely sit within the range (-1, 1)."
   ]
  },
  {
   "cell_type": "code",
   "execution_count": 8,
   "metadata": {},
   "outputs": [
    {
     "data": {
      "image/png": "[encoded data removed]",
      "text/plain": [
       "<Figure size 432x288 with 1 Axes>"
      ]
     },
     "metadata": {
      "needs_background": "light"
     },
     "output_type": "display_data"
    }
   ],
   "source": [
    "# Demonstrating the normal distribution of the randn function.\n",
    "x = np.random.randn(10000)\n",
    "plt.hist(x)\n",
    "plt.title(\"normal distribution of randn function\")\n",
    "plt.show()"
   ]
  },
  {
   "cell_type": "markdown",
   "metadata": {},
   "source": [
    "<br>\n",
    "\n",
    "#### Similar Functions"
   ]
  },
  {
   "cell_type": "markdown",
   "metadata": {},
   "source": [
    "##### standard_normal\n",
    "\n",
    "Like **rand** and **random_sample**, **randn** has the same relationship with another numpy.random function called **standard_normal**, which only takes a single argument but can accept tuples.  "
   ]
  },
  {
   "cell_type": "code",
   "execution_count": 9,
   "metadata": {},
   "outputs": [
    {
     "name": "stdout",
     "output_type": "stream",
     "text": [
      "\u001b[1m2 x 4 array from randn:\u001b[0m\n",
      "[[-0.92579742  0.94608626  0.96007257 -0.15294296]\n",
      " [-1.00777353  2.40675633  0.9819452  -1.28849302]]\n",
      "\n",
      "\u001b[1m2 x 4 array from standard_normal:\u001b[0m\n",
      "[[ 1.00201524  0.11526801 -0.04875722 -0.04255859]\n",
      " [ 0.29387368  1.0164656   0.48692243 -0.70837094]]\n",
      "\n",
      "\u001b[1m2 x 4 array from standard_normal using a variable containing a tuple:\u001b[0m\n",
      "[[-0.4945626   0.57136244  0.25650798  1.21538517]\n",
      " [ 0.22100824  1.19484977  0.24423924 -1.7849285 ]]\n"
     ]
    }
   ],
   "source": [
    "# Demonstrating the difference between randn and standard_normal.\n",
    "print(\"\\033[1m\" + \"2 x 4 array from randn:\" + \"\\033[0m\")\n",
    "print(np.random.randn(2, 4))\n",
    "print()\n",
    "\n",
    "# Passing a tuple\n",
    "print(\"\\033[1m\" + \"2 x 4 array from standard_normal:\" + \"\\033[0m\")\n",
    "print(np.random.standard_normal((2, 4)))\n",
    "print()\n",
    "\n",
    "# Passing a variable that contains a tuple\n",
    "t = (2, 4)\n",
    "print(\"\\033[1m\" + \"2 x 4 array from standard_normal using a variable containing a tuple:\" + \"\\033[0m\")\n",
    "print(np.random.standard_normal(t))\n"
   ]
  },
  {
   "cell_type": "markdown",
   "metadata": {},
   "source": [
    "\n",
    "##### normal\n",
    "\n",
    "Again similar to **rand**'s range, the mean (0) and standard deviation (1) cannot be altered within the **randn** function but there is another function in the numpy.random package that returns random numbers from a customised normal distribution range. The **normal** function takes a *loc* argument to determine the mean, a *scale* argument for the standard deviation, and a *size* argument for the output shape. In each of the functions below, the output should largely be in the range (2, 8) and centre around 5.      "
   ]
  },
  {
   "cell_type": "code",
   "execution_count": 10,
   "metadata": {},
   "outputs": [
    {
     "name": "stdout",
     "output_type": "stream",
     "text": [
      "\u001b[1mGenerates 2 arrays with 4 random numbers from the custom normal distribution:\u001b[0m\n",
      "[[5.75300009 2.35948706 7.19667405 9.45683333]\n",
      " [1.7748247  5.06296703 3.04527002 5.429835  ]]\n",
      "\n",
      "\u001b[1mGenerates 4 random numbers from the custom normal distribution:\u001b[0m\n",
      "[10.94406159 -0.7153122   2.16273205  7.80588063]\n",
      "\n"
     ]
    },
    {
     "data": {
      "image/png": "[encoded data removed]",
      "text/plain": [
       "<Figure size 432x288 with 1 Axes>"
      ]
     },
     "metadata": {
      "needs_background": "light"
     },
     "output_type": "display_data"
    }
   ],
   "source": [
    "# Passing loc and scale arguments with size of (x, y) arguments will return x arrays with y values in each.\n",
    "print(\"\\033[1m\" + \"Generates 2 arrays with 4 random numbers from the custom normal distribution:\" + \"\\033[0m\")\n",
    "print(np.random.normal(loc=5, scale=3, size =(2, 4)))\n",
    "print()\n",
    "\n",
    "# Demonstrating it is not necessary to have 'loc=' or 'scale=' to operate the function. \n",
    "# 'size=' is necessary if more than one array is required.\n",
    "print(\"\\033[1m\" + \"Generates 4 random numbers from the custom normal distribution:\" + \"\\033[0m\")\n",
    "print(np.random.normal(5, 3, 4))\n",
    "print()\n",
    "\n",
    "# Demonstrating the normal distribution of the normal function.\n",
    "x = np.random.normal(5, 3, 10000)\n",
    "plt.hist(x)\n",
    "plt.title(\"normal distribution of normal function\")\n",
    "plt.show()"
   ]
  },
  {
   "cell_type": "markdown",
   "metadata": {},
   "source": [
    "<br>\n",
    "\n",
    "### RANDINT\n",
    "\n",
    "The functions explored so far all return random floating point numbers. If randomly generated integers are required, there is the **randint** function which returns random integers of a given range. The function  requires at least one argument to operate. If a single argument is provided, the function will return a number from the range 0 up to but not including the number passed, making it a half open interval. If a float rather than integer is passed, it will round down to the nearest integer. "
   ]
  },
  {
   "cell_type": "code",
   "execution_count": 11,
   "metadata": {
    "scrolled": true
   },
   "outputs": [
    {
     "name": "stdout",
     "output_type": "stream",
     "text": [
      "7\n",
      "3\n"
     ]
    }
   ],
   "source": [
    "# Returns single random integer between 0-9 inclusive.\n",
    "print(np.random.randint(10))\n",
    "\n",
    "# Returns single random integer between 0-4 inclusive.\n",
    "print(np.random.randint(5.925))"
   ]
  },
  {
   "cell_type": "markdown",
   "metadata": {},
   "source": [
    "<br>\n",
    "\n",
    "If two arguments are provided to **randint**, the first will be considered the lowest included number in the range and the second represents the number one above the highest possible number in the range. \n",
    "\n",
    "**randint** can also take an argument that dictates the shape of the output, either a single value for an array of that many numbers or a tuple for multi-dimensional arrays."
   ]
  },
  {
   "cell_type": "code",
   "execution_count": 12,
   "metadata": {},
   "outputs": [
    {
     "name": "stdout",
     "output_type": "stream",
     "text": [
      "\u001b[1mGenerates 1 random number between 5-10 inclusive:\u001b[0m\n",
      "5\n",
      "\n",
      "\u001b[1mGenerates 3 random numbers between 5-10 inclusive:\u001b[0m\n",
      "[6 9 7]\n",
      "\n",
      "\u001b[1mGenerates 2 arrays of 4 random numbers in each between 5-10 inclusive:\u001b[0m\n",
      "[[ 8  5  9  6]\n",
      " [10  5  6  7]]\n"
     ]
    }
   ],
   "source": [
    "# Returns single random integer between 5-10 inclusive.\n",
    "print(\"\\033[1m\" + \"Generates 1 random number between 5-10 inclusive:\" + \"\\033[0m\")\n",
    "print(np.random.randint(5, 11))\n",
    "print()\n",
    "\n",
    "print(\"\\033[1m\" + \"Generates 3 random numbers between 5-10 inclusive:\" + \"\\033[0m\")\n",
    "print(np.random.randint(5, 11, 3))\n",
    "print()\n",
    "\n",
    "print(\"\\033[1m\" + \"Generates 2 arrays of 4 random numbers in each between 5-10 inclusive:\" + \"\\033[0m\")\n",
    "print(np.random.randint(5, 11, size=(2, 4)))"
   ]
  },
  {
   "cell_type": "markdown",
   "metadata": {},
   "source": [
    "<br>\n",
    "\n",
    "There is a relatively new parameter in the **randint** function, which allows the output datatype to be specified. Different types of integer will be take up different amounts of storage space [<sup>3</sup>](https://stackoverflow.com/a/9696777) and so this parameter is useful if dealing with extremely large amounts of data. Each piece of code below generates the number 5 and the output demonstrates the number of bytes it takes to store each number 5, depending on the datatype argument. [<sup>4</sup>](https://stackoverflow.com/a/14329864) As would be expected, the *int64* type takes up more space than the *int8* type."
   ]
  },
  {
   "cell_type": "code",
   "execution_count": 13,
   "metadata": {},
   "outputs": [
    {
     "name": "stdout",
     "output_type": "stream",
     "text": [
      "25\n",
      "26\n",
      "28\n",
      "32\n"
     ]
    }
   ],
   "source": [
    "w = np.random.randint(5, 6, dtype='int8')\n",
    "print(sys.getsizeof(w))\n",
    "\n",
    "x = np.random.randint(5, 6, dtype='int16')\n",
    "print(sys.getsizeof(x))\n",
    "\n",
    "y = np.random.randint(5, 6, dtype='int32')\n",
    "print(sys.getsizeof(y))\n",
    "\n",
    "z = np.random.randint(5, 6, dtype='int64')\n",
    "print(sys.getsizeof(z))"
   ]
  },
  {
   "cell_type": "markdown",
   "metadata": {},
   "source": [
    "<br>\n",
    "\n",
    "#### Distribution\n",
    "\n",
    "**randint** generates random integers from a discrete uniform distribution, meaning that there is a finite amount of values that can be generated but each one has an equal change of being returned. Below, every integer on the range (0, 1000) inclusive has an equal chance of being called across 10,000 numbers."
   ]
  },
  {
   "cell_type": "code",
   "execution_count": 14,
   "metadata": {},
   "outputs": [
    {
     "data": {
      "image/png": "[encoded data removed]",
      "text/plain": [
       "<Figure size 432x288 with 1 Axes>"
      ]
     },
     "metadata": {
      "needs_background": "light"
     },
     "output_type": "display_data"
    }
   ],
   "source": [
    "# Demonstrating the uniform distribution of the randint function.\n",
    "x = np.random.randint(0, 1001, 10000)\n",
    "plt.hist(x)\n",
    "plt.title(\"unifrom distribution of the randint function\")\n",
    "plt.show()"
   ]
  },
  {
   "cell_type": "markdown",
   "metadata": {},
   "source": [
    "<br>\n",
    "\n",
    "#### Similar Functions\n",
    "\n",
    "There's another function listed in the numpy.random package called **random_integer** but this has been deprecated according to the documentation with the recommendation that **randint** be used instead."
   ]
  },
  {
   "cell_type": "markdown",
   "metadata": {},
   "source": [
    "<br>\n",
    "\n",
    "#### Practical Example\n",
    "\n",
    "Below is an example **randint** being used to simulate the answers provided by Magic 8 Ball. Each answer is assigned to an integer and when an integer is randomly generated from the **randint** function, the appropriate reply is returned.<sup>5</sup> "
   ]
  },
  {
   "cell_type": "code",
   "execution_count": 15,
   "metadata": {},
   "outputs": [
    {
     "name": "stdout",
     "output_type": "stream",
     "text": [
      "Will I be late for work in the morning?\n",
      "Ask again later.\n"
     ]
    }
   ],
   "source": [
    "# Magic 8 Ball simulation\n",
    "# help from Automate the boring stuff p. 64\n",
    "\n",
    "def Answer(number):\n",
    "    if number == 1: \n",
    "        return \"Yes.\"\n",
    "    elif number == 2:\n",
    "        return \"Most likely.\"\n",
    "    elif number == 3:\n",
    "        return \"All signs point to yes.\"\n",
    "    elif number == 4:\n",
    "        return \"Ask again later.\"\n",
    "    elif number == 5:\n",
    "        return \"Possibly.\"\n",
    "    elif number == 6:\n",
    "        return \"Outlook not so good.\"\n",
    "    elif number == 7:\n",
    "        return \"Doubtful\"\n",
    "    elif number == 8:\n",
    "        return \"No.\"\n",
    "    \n",
    "print(\"Will I be late for work in the morning?\")\n",
    "print(Answer(np.random.randint(1, 9)))"
   ]
  },
  {
   "cell_type": "markdown",
   "metadata": {},
   "source": [
    "<br>\n",
    "\n",
    "### CHOICE\n",
    "\n",
    "**choice** is similar to **randint** in that it can generate random integers in a particular array shape. However, **choice** can accept ndarrays, tuples and lists as input, meaning that it has the potential to randomise non-numerical data, such as strings.\n",
    "\n",
    "With only one argument passed, **choice** will return a single random integer from 0 up to but not including the number entered, just as **randint** does."
   ]
  },
  {
   "cell_type": "code",
   "execution_count": 16,
   "metadata": {},
   "outputs": [
    {
     "name": "stdout",
     "output_type": "stream",
     "text": [
      "\u001b[1mGenerates 1 random number between 0-9 inclusive:\u001b[0m\n",
      "8\n",
      "\n",
      "\u001b[1mGenerates 3 random numbers from an array:\u001b[0m\n",
      "[3 8 5]\n",
      "\n",
      "\u001b[1mGenerates 3 random numbers from a tuple:\u001b[0m\n",
      "[ 4 15  6]\n",
      "\n",
      "\u001b[1mGenerates 3 random names from a list:\u001b[0m\n",
      "['Tony' 'Mary' 'Helen']\n"
     ]
    }
   ],
   "source": [
    "# Returns single random integer\n",
    "print(\"\\033[1m\" + \"Generates 1 random number between 0-9 inclusive:\" + \"\\033[0m\")\n",
    "print(np.random.choice(10))\n",
    "print()\n",
    "\n",
    "# Returns random numbers from an array:\n",
    "arr = np.arange(10)\n",
    "print(\"\\033[1m\" + \"Generates 3 random numbers from an array:\" + \"\\033[0m\")\n",
    "print(np.random.choice(arr, size=3))\n",
    "print()\n",
    "\n",
    "# Returns random numbers from a tuple\n",
    "tup = (4, 6, 7, 10, 15)\n",
    "print(\"\\033[1m\" + \"Generates 3 random numbers from a tuple:\" + \"\\033[0m\")\n",
    "print(np.random.choice(tup, size=3))\n",
    "print()\n",
    "\n",
    "# Returns random non-numerical values from a list\n",
    "lst = [\"Mary\", \"John\", \"Helen\", \"Tony\"]\n",
    "print(\"\\033[1m\" + \"Generates 3 random names from a list:\" + \"\\033[0m\")\n",
    "print(np.random.choice(lst, size=3))"
   ]
  },
  {
   "cell_type": "markdown",
   "metadata": {},
   "source": [
    "<br>\n",
    "\n",
    "The previously discussed functions can potentially repeat numbers from a range in the output array, and **choice** also does this by default. However, **choice** has a parameter called *replace*, a true/false boolean that is set to True by default but, if set to False by the user, will generate an output of unique values. In this case, once a value has been randomly generated, it is removed from the pool of available values and cannot be generated again. However, if the total number of values to choose from is smaller than the output shape specified (*size*) and *replace* is set to False, a *ValueError* will occur because there are not enough elements to fulfill the desired output without repeating any of them."
   ]
  },
  {
   "cell_type": "code",
   "execution_count": 17,
   "metadata": {},
   "outputs": [
    {
     "name": "stdout",
     "output_type": "stream",
     "text": [
      "\u001b[1mGenerates 3 random names from a list with no duplicates:\u001b[0m\n",
      "['John' 'Mary' 'Tony']\n"
     ]
    }
   ],
   "source": [
    "# Returns random values from a list with no duplicates:\n",
    "print(\"\\033[1m\" + \"Generates 3 random names from a list with no duplicates:\" + \"\\033[0m\")\n",
    "print(np.random.choice(lst, size=3, replace=False))\n"
   ]
  },
  {
   "cell_type": "markdown",
   "metadata": {},
   "source": [
    "<br>\n",
    "\n",
    "#### Distribution\n",
    "\n",
    "By default, **choice** randomly picks values from a discrete uniform distribution but has an optional parameter, *p*, which allows the user to adjust the probability of each individual value appearing in the output. The number of values passed to *p* must be equal to the amount of elements available in the input and these *p* values must sum up to 1, to account for a total 100% probability. \n",
    "\n",
    "To illustrate this, the code below generates 1000 numbers from the range (0, 11]. As required, there is a *p* value for every element in this range. Most of the numbers have been given 0% probability of being returned but numbers 1, 5 and 10 have a 60%, 10%, and 30% chance of appearing in the output respectively. The plot shows that, of the 1000 numbers generated, 600 were ones, 100 were fives and 300 were tens."
   ]
  },
  {
   "cell_type": "code",
   "execution_count": 18,
   "metadata": {},
   "outputs": [
    {
     "data": {
      "image/png": "[encoded data removed]",
      "text/plain": [
       "<Figure size 432x288 with 1 Axes>"
      ]
     },
     "metadata": {
      "needs_background": "light"
     },
     "output_type": "display_data"
    }
   ],
   "source": [
    "# Customising the probability of each input element and plotting the output.\n",
    "x = np.random.choice((np.arange(11)), p = (0, 0.6, 0, 0, 0, 0.1, 0, 0, 0, 0, 0.3), size = 1000)\n",
    "plt.hist(x)\n",
    "plt.title(\"custom probabilities\")\n",
    "plt.show()"
   ]
  },
  {
   "cell_type": "markdown",
   "metadata": {},
   "source": [
    "<br>\n",
    "\n",
    "#### Practical Example\n",
    "\n",
    "Below is an example of **choice** being used to simulate the drawing of hands from a deck of cards. A list containing the 52 cards of a deck is created[<sup>6</sup>](http://www.spronck.net/pythonbook/pythonbook.pdf) and **choice** allows the user to draw 4 hands of five cards each with no duplications. "
   ]
  },
  {
   "cell_type": "code",
   "execution_count": 19,
   "metadata": {},
   "outputs": [
    {
     "data": {
      "text/plain": [
       "array([['2 of Clubs', 'King of Spades', 'King of Clubs', 'Ace of Hearts',\n",
       "        'Queen of Hearts'],\n",
       "       ['7 of Spades', 'Queen of Spades', '7 of Clubs', '6 of Clubs',\n",
       "        '10 of Hearts'],\n",
       "       ['6 of Hearts', '4 of Clubs', '4 of Diamonds', '5 of Spades',\n",
       "        '9 of Hearts'],\n",
       "       ['9 of Diamonds', '8 of Hearts', '8 of Spades', '5 of Clubs',\n",
       "        '2 of Hearts']], dtype='<U17')"
      ]
     },
     "execution_count": 19,
     "metadata": {},
     "output_type": "execute_result"
    }
   ],
   "source": [
    "# Creating a deck of cards.\n",
    "cards = []\n",
    "values = [\"2\", \"3\", \"4\", \"5\", \"6\", \"7\", \"8\", \"9\", \"10\", \"Jack\", \"Queen\", \"King\", \"Ace\"]\n",
    "suits = [\"Hearts\", \"Diamonds\", \"Spades\", \"Clubs\"]\n",
    "\n",
    "for value in values:\n",
    "    for suit in suits:\n",
    "        cards.append(f\"{value} of {suit}\")\n",
    "\n",
    "    \n",
    "# Deals 4 hands with 5 cards in each and no duplicates.\n",
    "hands = np.random.choice(cards, size=(4,5), replace=False)  \n",
    "hands"
   ]
  },
  {
   "cell_type": "markdown",
   "metadata": {},
   "source": [
    "<br>\n",
    "\n",
    "### BYTES\n",
    "\n",
    "The final function from the *Simple Random Data* section of the numpy.random package that I will discuss simply takes a single integer argument and generates a random sample of bytes of that length. **bytes** is an excellent function for efficiently generating a huge amounts of random data,[<sup>7</sup>](stefanocappellini.it/generate-pseudorandom-bytes-with-python/) which is useful for testing code. The below code generates 30 random bytes. "
   ]
  },
  {
   "cell_type": "code",
   "execution_count": 20,
   "metadata": {},
   "outputs": [
    {
     "data": {
      "text/plain": [
       "b\"7\\xe3\\x07\\x9a&'+\\xaa\\xb1\\xbdq\\xfd\\xbeb\\xe3K0\\x8c\\x82\\xc4\\xce\\xe4\\xe2Q\\xa2\\x18\\xa8\\xdb\\x8bi\""
      ]
     },
     "execution_count": 20,
     "metadata": {},
     "output_type": "execute_result"
    }
   ],
   "source": [
    "# Random byte generation\n",
    "np.random.bytes(30)"
   ]
  },
  {
   "cell_type": "markdown",
   "metadata": {},
   "source": [
    "<br>\n",
    "\n",
    "_________________________________________________________________________________________________________\n",
    "\n",
    "## Permutations\n",
    "\n",
    "There are two separate but related functions in the numpy.random package that randomly rearrange the order of existing data or create a shuffled range of numbers."
   ]
  },
  {
   "cell_type": "markdown",
   "metadata": {},
   "source": [
    "### SHUFFLE\n",
    "\n",
    "As the name suggests, **shuffle** shuffles the contents of a given list or array in place. This means that, unlike previous functions that can return the output when called, **shuffle** alters a variable and its effect can't be observed until the variable itself is called. The function takes one argument only, the list or array to be shuffled. It does not accept tuples as they are immutable and thus cannot be modified by shuffling the contents."
   ]
  },
  {
   "cell_type": "code",
   "execution_count": 21,
   "metadata": {},
   "outputs": [
    {
     "name": "stdout",
     "output_type": "stream",
     "text": [
      "\u001b[1mOutput from attempting to print shuffle command:\u001b[0m\n",
      "None\n",
      "\n",
      "\u001b[1mOriginal array:\u001b[0m\n",
      "[1 2 3 4 5 6]\n",
      "\n",
      "\u001b[1mShuffled array:\u001b[0m\n",
      "[3 2 5 6 4 1]\n",
      "\n",
      "\u001b[1mOriginal deck order:\u001b[0m\n",
      "['2 of Hearts', '2 of Diamonds', '2 of Spades', '2 of Clubs', '3 of Hearts', '3 of Diamonds', '3 of Spades', '3 of Clubs', '4 of Hearts', '4 of Diamonds', '4 of Spades', '4 of Clubs', '5 of Hearts', '5 of Diamonds', '5 of Spades']\n",
      "\n",
      "\u001b[1mShuffled deck order:\u001b[0m\n",
      "['Queen of Hearts', '5 of Spades', '4 of Clubs', '2 of Hearts', 'Queen of Spades', '8 of Spades', '4 of Spades', 'Queen of Clubs', '9 of Diamonds', 'Ace of Hearts', 'Ace of Clubs', 'King of Clubs', '6 of Diamonds', '3 of Hearts', '3 of Diamonds']\n"
     ]
    }
   ],
   "source": [
    "# Demonstrating how shuffle operates in place.\n",
    "print(\"\\033[1m\" + \"Output from attempting to print shuffle command:\" + \"\\033[0m\")\n",
    "print(np.random.shuffle([1, 2, 3]))\n",
    "print()\n",
    "\n",
    "# Shuffling a 1D array of numbers.\n",
    "x = np.array([1, 2, 3, 4, 5, 6])\n",
    "print(\"\\033[1m\" + \"Original array:\" + \"\\033[0m\")\n",
    "print(x)\n",
    "print()\n",
    "np.random.shuffle(x)\n",
    "print(\"\\033[1m\" + \"Shuffled array:\" + \"\\033[0m\")\n",
    "print(x)\n",
    "print()\n",
    "\n",
    "# Shuffling a list using the deck of cards created earlier.\n",
    "print(\"\\033[1m\" + \"Original deck order:\" + \"\\033[0m\")\n",
    "print(cards[:15])\n",
    "print()\n",
    "np.random.shuffle(cards)\n",
    "print(\"\\033[1m\" + \"Shuffled deck order:\" + \"\\033[0m\")\n",
    "print(cards[:15])"
   ]
  },
  {
   "cell_type": "markdown",
   "metadata": {},
   "source": [
    "<br>\n",
    "\n",
    "If a multidimensional array is passed, only the outermost arrays will be shuffled. The order of inner arrays and individual elements are not affected by **shuffle**. The 3D array below consists of 3 arrays, each containing 2 arrays of 3 elements each. When this array is passed through the **shuffle** function, only the first 3 arrays are rearranged.   "
   ]
  },
  {
   "cell_type": "code",
   "execution_count": 22,
   "metadata": {},
   "outputs": [
    {
     "data": {
      "text/plain": [
       "array([[[13, 14, 15],\n",
       "        [16, 17, 18]],\n",
       "\n",
       "       [[ 7,  8,  9],\n",
       "        [10, 11, 12]],\n",
       "\n",
       "       [[ 1,  2,  3],\n",
       "        [ 4,  5,  6]]])"
      ]
     },
     "execution_count": 22,
     "metadata": {},
     "output_type": "execute_result"
    }
   ],
   "source": [
    "# shuffling a 3D numpy array\n",
    "x = np.array([[[1, 2, 3],[4, 5, 6]], [[7, 8, 9], [10, 11, 12]], [[13, 14, 15], [16, 17, 18]]])\n",
    "np.random.shuffle(x)\n",
    "x"
   ]
  },
  {
   "cell_type": "markdown",
   "metadata": {},
   "source": [
    "To shuffle the innermost elements of a multi-dimensional array, you can first change it to a 1D array, perform shuffle and then return the array to its original shape.[<sup>8</sup>](https://www.science-emergence.com/Articles/How-to-randomly-shuffle-an-array-in-python-using-numpy/) "
   ]
  },
  {
   "cell_type": "code",
   "execution_count": 23,
   "metadata": {},
   "outputs": [
    {
     "name": "stdout",
     "output_type": "stream",
     "text": [
      "\u001b[1m3D array:\u001b[0m\n",
      "[[[ 1  2  3]\n",
      "  [ 4  5  6]]\n",
      "\n",
      " [[ 7  8  9]\n",
      "  [10 11 12]]]\n",
      "\n",
      "\u001b[1m3D array changed to 1D array:\u001b[0m\n",
      "[ 1  2  3  4  5  6  7  8  9 10 11 12]\n",
      "\n",
      "\u001b[1mShuffled 1D array:\u001b[0m\n",
      "[10  5  9  7  4  3 11  1  6  8 12  2]\n",
      "\n",
      "\u001b[1mShuffled 1D array changed back to 3D array:\u001b[0m\n",
      "[[[10  5  9]\n",
      "  [ 7  4  3]]\n",
      "\n",
      " [[11  1  6]\n",
      "  [ 8 12  2]]]\n"
     ]
    }
   ],
   "source": [
    "# Create 3D array\n",
    "x = np.array([[[1, 2, 3],[4, 5, 6]], [[7, 8, 9], [10, 11, 12]]])\n",
    "print(\"\\033[1m\" + \"3D array:\" + \"\\033[0m\")\n",
    "print(x)\n",
    "print()\n",
    "\n",
    "# Transform into 1D array \n",
    "x = x.ravel()\n",
    "print(\"\\033[1m\" + \"3D array changed to 1D array:\" + \"\\033[0m\")\n",
    "print(x)\n",
    "print()\n",
    "\n",
    "# Shuffle the array\n",
    "np.random.shuffle(x)\n",
    "print(\"\\033[1m\" + \"Shuffled 1D array:\" + \"\\033[0m\")\n",
    "print(x)\n",
    "print()\n",
    "\n",
    "# Transform back to 3D array\n",
    "x = x.reshape(2, 2, 3)\n",
    "print(\"\\033[1m\" + \"Shuffled 1D array changed back to 3D array:\" + \"\\033[0m\")\n",
    "print(x)"
   ]
  },
  {
   "cell_type": "markdown",
   "metadata": {},
   "source": [
    "<br>\n",
    "\n",
    "### PERMUTATION\n",
    "\n",
    "Like the **shuffle** function, **permutation** will rearrange the contents of an array, list or tuple but, rather than affecting the input in place, returns a copy of the variable with the contents shuffled. [<sup>9</sup>](https://stackoverflow.com/a/15474335)  The original order is not affected as illustrated in the code below."
   ]
  },
  {
   "cell_type": "code",
   "execution_count": 24,
   "metadata": {},
   "outputs": [
    {
     "name": "stdout",
     "output_type": "stream",
     "text": [
      "\u001b[1mVariable x:\u001b[0m\n",
      "(1, 2, 3, 4, 5, 6)\n",
      "\n",
      "\u001b[1mPermuted instance of x:\u001b[0m\n",
      "[1 5 3 4 6 2]\n",
      "\n",
      "\u001b[1mUnaffected original x:\u001b[0m\n",
      "(1, 2, 3, 4, 5, 6)\n"
     ]
    }
   ],
   "source": [
    "# Demonstrating that permutation does not affect original variable\n",
    "x = (1, 2, 3, 4, 5, 6)\n",
    "print(\"\\033[1m\" + \"Variable x:\" + \"\\033[0m\")\n",
    "print(x)\n",
    "print()\n",
    "print(\"\\033[1m\" + \"Permuted instance of x:\" + \"\\033[0m\")\n",
    "print(np.random.permutation(x))\n",
    "print()\n",
    "print(\"\\033[1m\" + \"Unaffected original x:\" + \"\\033[0m\")\n",
    "print(x)"
   ]
  },
  {
   "cell_type": "markdown",
   "metadata": {},
   "source": [
    "<br>\n",
    "\n",
    "Another feature that differentiates **permutation** from **shuffle** is that **permutation** can accept a single integer argument and will return a shuffled version of a range from 0 up to but not including the integer passed. This output can also be shaped into an array as shown below. "
   ]
  },
  {
   "cell_type": "code",
   "execution_count": 25,
   "metadata": {},
   "outputs": [
    {
     "data": {
      "text/plain": [
       "array([[6, 9, 0, 4, 7],\n",
       "       [1, 3, 5, 8, 2]])"
      ]
     },
     "execution_count": 25,
     "metadata": {},
     "output_type": "execute_result"
    }
   ],
   "source": [
    "# Returning shuffled 2D array of numbers from 0-9 inclusive\n",
    "np.random.permutation(10).reshape(2, 5)"
   ]
  },
  {
   "cell_type": "markdown",
   "metadata": {},
   "source": [
    "<br>\n",
    "\n",
    "Multidimensional arrays are treated in a similar way to **shuffle** in that arrays are only shuffled along the first axis in the returned output."
   ]
  },
  {
   "cell_type": "code",
   "execution_count": 26,
   "metadata": {},
   "outputs": [
    {
     "data": {
      "text/plain": [
       "array([[[ 1,  2,  3],\n",
       "        [ 4,  5,  6]],\n",
       "\n",
       "       [[ 7,  8,  9],\n",
       "        [10, 11, 12]],\n",
       "\n",
       "       [[13, 14, 15],\n",
       "        [16, 17, 18]]])"
      ]
     },
     "execution_count": 26,
     "metadata": {},
     "output_type": "execute_result"
    }
   ],
   "source": [
    "x = np.array([[[1, 2, 3],[4, 5, 6]], [[7, 8, 9], [10, 11, 12]], [[13, 14, 15], [16, 17, 18]]])\n",
    "np.random.permutation(x)"
   ]
  },
  {
   "cell_type": "markdown",
   "metadata": {},
   "source": [
    "<br>\n",
    "\n",
    "_________________________________________________________________________________________\n",
    "\n",
    "## Probability Distributions\n",
    "\n",
    "In previous sections, the numbers generated have been drawn from either uniform or normal distributions by default but numpy.random offers 35 different probability distribution functions from which random numbers can be drawn. \n",
    "\n",
    "\n",
    "https://www.analyticsvidhya.com/blog/2017/09/6-probability-distributions-data-science/\n",
    "\n",
    "Discrete data can only take a specific, finite number of values and is usually represented as whole numbers e.g. flipping a coin or rolling dice\n",
    "\n",
    "Continuous data can take an infinite number of values from a given range, e.g. height, weight or distance.\n",
    "\n",
    "https://onlinelibrary.wiley.com/doi/pdf/10.1002/9781119197096.app03\n",
    "\n",
    "https://www.johndcook.com/blog/2009/01/23/probability-distributions-and-object-oriented-programming/\n",
    "\n",
    "\n",
    "- Binomial\n",
    "- Poisson\n",
    "- Gamma\n",
    "- Exponential\n",
    "- Geometric\n"
   ]
  },
  {
   "cell_type": "markdown",
   "metadata": {},
   "source": [
    "### BINOMIAL\n",
    "\n",
    "The **binomial** function is a based on the Bernoulli distribution, a discrete binary distribution that operates with just two mutually exclusive outcomes such as yes/no, on/off, heads/tails.[<sup>10</sup>](https://onlinelibrary.wiley.com/doi/pdf/10.1002/9781119197096.app03) The function takes three arguments:\n",
    "\n",
    "- n = the number of independent trials, e.g. the number of times a coin is flipped.\n",
    "- p = probability of an outcome of each trial, e.g. the probability of flipping a coin and getting heads would be 50/50.\n",
    "- size = the number of times a series of trials is carried out, e.g. carrying out a 10 coin flips 100 times.\n",
    "\n",
    "Taking a fair coin toss as an illustrative example, the code below demonstrates the binomial distribution of the number of times heads is achieved every 10 flips across 1000 experiments. [<sup>11</sup>](https://cmdlinetips.com/2018/12/simulating-coin-toss-experiment-with-binomial-random-numbers-using-numpy/) The histogram reflects the 50% probability of heads winning on a coin flip. The plot peaks at approximately 5 heads winning every 10 flips, while 0-2 heads and 8-10 heads are a lot less likely to happen.The shape of the plot looks very similar to a normal distribution, but that is only because of the large sample size. The key difference between normal and binomial distributions is that normal is continuous and binomial is discrete. [<sup>12</sup>](http://staweb.sta.cathedral.org/departments/math/mhansen/public_html/23stat/handouts/normbino.htm) There are no values in between the values of a binomial distribution, i.e. a coin lands on heads either 2 or 3 times, there is nothing in between.\n",
    "\n",
    "\n",
    "From this distribution, numpy.random generates 1000 random numbers."
   ]
  },
  {
   "cell_type": "code",
   "execution_count": 34,
   "metadata": {},
   "outputs": [
    {
     "data": {
      "image/png": "[encoded data removed]",
      "text/plain": [
       "<Figure size 432x288 with 1 Axes>"
      ]
     },
     "metadata": {
      "needs_background": "light"
     },
     "output_type": "display_data"
    },
    {
     "name": "stdout",
     "output_type": "stream",
     "text": [
      "\u001b[1mThe 1000 random numbers generated from this binomial distributions range from 0 to 9 with a mean of 4.947, a median of 5.0 and a mode of [5].\u001b[0m\n"
     ]
    }
   ],
   "source": [
    "# Flipping a coin 10 times.\n",
    "flips = 10\n",
    "\n",
    "# Setting probability that heads will come up.\n",
    "heads_prob = 0.5\n",
    "\n",
    "# Number of experiments where the coin is tossed 10 times.\n",
    "exp = 1000\n",
    "\n",
    "# Creating the array of random numbers.\n",
    "x = np.random.binomial(flips, heads_prob, size = exp)\n",
    "\n",
    "# Calculating the value that occurs most often. \n",
    "mode = stats.mode(x)\n",
    "\n",
    "# Plotting the distribution\n",
    "plt.hist(x)\n",
    "plt.title(\"coin toss binomial distrbution\")\n",
    "plt.xlabel(\"heads per trial\")\n",
    "plt.ylabel(\"heads success\")\n",
    "plt.show()\n",
    "\n",
    "# The 1000 numbers generated from the binomial distribution.\n",
    "print(\"\\033[1m\" + f\"The {exp} random numbers generated from this binomial distributions range from \"\n",
    "      f\"{x.min()} to {x.max()} with a mean of {x.mean()}, a median of {np.median(x)} and a mode of {mode[0]}.\"  + \"\\033[0m\")"
   ]
  },
  {
   "cell_type": "markdown",
   "metadata": {},
   "source": [
    "### MULTINOMIAL\n",
    "\n",
    "Where the binomial distribution operates on two possible outcomes, a multinomial distribution - as the name suggests - can work with several. "
   ]
  },
  {
   "cell_type": "code",
   "execution_count": null,
   "metadata": {},
   "outputs": [],
   "source": []
  },
  {
   "cell_type": "markdown",
   "metadata": {},
   "source": [
    "<br>\n",
    "\n",
    "### POISSON\n",
    "\n",
    "The poisson distribution is a special case of the binomial distribution where we do not know the exact values of n (number of trials) or p (probability) but do know the average number of successes in a certain period of time. This value, the success rate, is called lambda (λ) and is the same as multiplying the probability of success by the number of trials (np). [<sup>13</sup>](https://medium.com/@andrew.chamberlain/deriving-the-poisson-distribution-from-the-binomial-distribution-840cc1668239) The poisson distribution is usually used to model the average rate that independent events occur.\n",
    "\n",
    "As an example, the code below looks at the number of phone calls an employee takes per hour at their job over the course of a year, working 40 hours a week for 48 weeks of the year. Of course, it would be impossible to know for certain how many people are going to phone over the course of an hour, never mind the probability of such, but the number of calls received in an hour can be quantified and the mean deduced. If the average number of phone calls received every hour is 10, then with the poisson distribution there can be as few as **MINIMUM** and as many as **MAXIMUM**, but generally the number will be close to 10. \n",
    "\n",
    "From this discrete distribution, numpy.random generates 1920 random numbers. "
   ]
  },
  {
   "cell_type": "code",
   "execution_count": 39,
   "metadata": {},
   "outputs": [
    {
     "data": {
      "image/png": "[encoded data removed]",
      "text/plain": [
       "<Figure size 432x288 with 1 Axes>"
      ]
     },
     "metadata": {
      "needs_background": "light"
     },
     "output_type": "display_data"
    },
    {
     "name": "stdout",
     "output_type": "stream",
     "text": [
      "\u001b[1mThe 1920 random numbers generated from this poisson distributions range from 2 to 22 with a mean of 10.014 and median of 10.0.\u001b[0m\n"
     ]
    }
   ],
   "source": [
    "# Calls per hour.\n",
    "cph = 10\n",
    "\n",
    "# Number of hours worked in a year.\n",
    "year = 40 * 48\n",
    "\n",
    "# Creating the array of random numbers\n",
    "x = np.random.poisson(cph, size = year)\n",
    "\n",
    "# Plotting the distribution.\n",
    "plt.hist(x)\n",
    "plt.title(\"phone calls poisson distrbution\")\n",
    "plt.xlabel(\"calls per hour\")\n",
    "plt.ylabel(\"frequency of the number of calls\")\n",
    "plt.show()\n",
    "\n",
    "# The 1920 numbers generated from the poisson distribution.\n",
    "print(\"\\033[1m\" + f\"The {year} random numbers generated from this poisson distributions range from {x.min()} to {x.max()} with a mean of {x.mean().round(3)} and median of {np.median(x)}.\"  + \"\\033[0m\")"
   ]
  },
  {
   "cell_type": "markdown",
   "metadata": {},
   "source": [
    "## Gamma Distributions\n",
    "\n",
    "Continuous\n",
    "\n",
    "https://www.datacamp.com/community/tutorials/probability-distributions-python - rarely used in its raw form. exponential, chi-squared and erlang distributions are special cases of gamma distribution"
   ]
  },
  {
   "cell_type": "code",
   "execution_count": 37,
   "metadata": {},
   "outputs": [
    {
     "data": {
      "text/plain": [
       "(array([263., 305., 215., 121.,  58.,  18.,  15.,   4.,   0.,   1.]),\n",
       " array([0.03403137, 0.97275149, 1.9114716 , 2.85019172, 3.78891183,\n",
       "        4.72763195, 5.66635207, 6.60507218, 7.5437923 , 8.48251242,\n",
       "        9.42123253]),\n",
       " <a list of 10 Patch objects>)"
      ]
     },
     "execution_count": 37,
     "metadata": {},
     "output_type": "execute_result"
    },
    {
     "data": {
      "image/png": "[encoded data removed]",
      "text/plain": [
       "<Figure size 432x288 with 1 Axes>"
      ]
     },
     "metadata": {
      "needs_background": "light"
     },
     "output_type": "display_data"
    }
   ],
   "source": [
    "x = np.random.gamma(2, 1, 1000)\n",
    "plt.hist(x)"
   ]
  },
  {
   "cell_type": "markdown",
   "metadata": {},
   "source": [
    "### EXPONENTIAL\n",
    "\n",
    "Continuous\n",
    "\n",
    "Special case of the gamma distribution (wiki)\n",
    "\n",
    "\"It is the continuous random variable equivalent to the geometric probability distribution for discrete random variables.\" https://machinelearningmastery.com/continuous-probability-distributions-for-machine-learning/\n",
    "\n",
    "Similar to pareto:\n",
    "https://www.allaboutlean.com/measure-cycle-time-part-1/exponential-and-pareto/"
   ]
  },
  {
   "cell_type": "code",
   "execution_count": 38,
   "metadata": {
    "scrolled": true
   },
   "outputs": [
    {
     "data": {
      "image/png": "[encoded data removed]",
      "text/plain": [
       "<Figure size 432x288 with 1 Axes>"
      ]
     },
     "metadata": {
      "needs_background": "light"
     },
     "output_type": "display_data"
    }
   ],
   "source": [
    "x = np.random.exponential(10, size = 10000)\n",
    "plt.hist(x)\n",
    "plt.show()"
   ]
  },
  {
   "cell_type": "markdown",
   "metadata": {},
   "source": [
    "### GEOMETRIC\n",
    "\n",
    "A discrete probability distribution that represents the number of failures before before a success in a series of Bernoulli trials https://www.statisticshowto.datasciencecentral.com/geometric-distribution/"
   ]
  },
  {
   "cell_type": "code",
   "execution_count": 32,
   "metadata": {},
   "outputs": [
    {
     "data": {
      "text/plain": [
       "(array([6.715e+03, 2.179e+03, 7.630e+02, 2.380e+02, 6.700e+01, 2.400e+01,\n",
       "        9.000e+00, 2.000e+00, 2.000e+00, 1.000e+00]),\n",
       " array([ 1.,  6., 11., 16., 21., 26., 31., 36., 41., 46., 51.]),\n",
       " <a list of 10 Patch objects>)"
      ]
     },
     "execution_count": 32,
     "metadata": {},
     "output_type": "execute_result"
    },
    {
     "data": {
      "image/png": "[encoded data removed]",
      "text/plain": [
       "<Figure size 432x288 with 1 Axes>"
      ]
     },
     "metadata": {
      "needs_background": "light"
     },
     "output_type": "display_data"
    }
   ],
   "source": [
    "x = np.random.geometric(0.2, size = 10000)\n",
    "plt.hist(x)"
   ]
  },
  {
   "cell_type": "markdown",
   "metadata": {},
   "source": [
    "<br>\n",
    "\n",
    "_________________________________________________________________________________________________________________\n",
    "\n",
    "## Random Seeds\n",
    "\n",
    "Difference between using random.seed with and without initialising RandomState https://stackoverflow.com/questions/22994423/difference-between-np-random-seed-and-np-random-randomstate/22994529\n",
    "https://stackoverflow.com/a/5837352\n",
    "\n",
    "Looks like with RandomState you can create an instance of a new seed without affecting anything else while random.seed  has a global effect\n",
    "\n",
    "https://www.sharpsightlabs.com/blog/numpy-random-seed/\n",
    "\n",
    "http://justinbois.github.io/bootcamp/2016/lessons/l26_random_number_generation.html\n",
    "\n",
    "https://www.statisticshowto.datasciencecentral.com/random-seed-definition/\n"
   ]
  },
  {
   "cell_type": "code",
   "execution_count": 33,
   "metadata": {},
   "outputs": [
    {
     "name": "stdout",
     "output_type": "stream",
     "text": [
      "[0.77132064 0.02075195 0.63364823]\n",
      "[0.22199317 0.87073231 0.20671916]\n",
      "[0.74880388 0.49850701 0.22479665]\n",
      "[0.91861091 0.48841119 0.61174386]\n"
     ]
    }
   ],
   "source": [
    "# To initialise a seed instance\n",
    "x = np.random.RandomState(10)\n",
    "# To change the seed globally\n",
    "np.random.seed(5)\n",
    "\n",
    "print(x.rand(3))\n",
    "\n",
    "print (np.random.rand(3))\n",
    "\n",
    "print(x.rand(3))\n",
    "\n",
    "print (np.random.rand(3))"
   ]
  },
  {
   "cell_type": "code",
   "execution_count": null,
   "metadata": {},
   "outputs": [],
   "source": []
  },
  {
   "cell_type": "code",
   "execution_count": null,
   "metadata": {},
   "outputs": [],
   "source": []
  },
  {
   "cell_type": "markdown",
   "metadata": {},
   "source": [
    "leftover bits\n",
    "Types of Bernoulli distributions https://onlinelibrary.wiley.com/doi/pdf/10.1002/9781119197096.app03\n",
    "\n",
    "https://towardsdatascience.com/fun-with-the-binomial-distribution-96a5ecabf65b\n"
   ]
  },
  {
   "cell_type": "markdown",
   "metadata": {},
   "source": [
    "<br>\n",
    "\n",
    "__________________________________________________________________________________________________________\n",
    "\n",
    "\n",
    "## References\n",
    "\n",
    "1. Rand versus random_sample: https://stackoverflow.com/a/18829377\n",
    "2. Difference between np.random.rand and np.random.random: https://stackoverflow.com/a/47232184\n",
    "3. Different integer types: https://stackoverflow.com/a/9696777\n",
    "4. Checking the size of different datatypes: https://stackoverflow.com/a/14329864\n",
    "5. Magic 8 Ball code adapted from: Sweigart, A. (2015). *Automate the Boring Stuff with Python*. San Fracisco: No Starch Press (p. 64).\n",
    "6. Deck of cards adapted from: Spronck, P. (2017). *The Coder's Apprentice: LEarning Programming with Python 3*. http://www.spronck.net/pythonbook/pythonbook.pdf (p. 341).\n",
    "7. Efficiency of the bytes function: Cappellini, S. (2018). *How to (efficiently) generate a huge number of pseudorandom bytes using Python*. stefanocappellini.it/generate-pseudorandom-bytes-with-python/\n",
    "8. Shuffling elements of multidimensional arrays adapted from: https://www.science-emergence.com/Articles/How-to-randomly-shuffle-an-array-in-python-using-numpy/\n",
    "9. Difference between np.random.shuffle and np.random.permutation: https://stackoverflow.com/a/15474335\n",
    "10. Binomial and Bernoulli Distributions: https://onlinelibrary.wiley.com/doi/pdf/10.1002/9781119197096.app03\n",
    "11. Coin toss binomial function adapted from: https://cmdlinetips.com/2018/12/simulating-coin-toss-experiment-with-binomial-random-numbers-using-numpy/\n",
    "12. Difference between binomial and normal distributions: http://staweb.sta.cathedral.org/departments/math/mhansen/public_html/23stat/handouts/normbino.htm\n",
    "13. About the poisson distribution: https://medium.com/@andrew.chamberlain/deriving-the-poisson-distribution-from-the-binomial-distribution-840cc1668239"
   ]
  },
  {
   "cell_type": "code",
   "execution_count": null,
   "metadata": {},
   "outputs": [],
   "source": []
  }
 ],
 "metadata": {
  "kernelspec": {
   "display_name": "Python 3",
   "language": "python",
   "name": "python3"
  },
  "language_info": {
   "codemirror_mode": {
    "name": "ipython",
    "version": 3
   },
   "file_extension": ".py",
   "mimetype": "text/x-python",
   "name": "python",
   "nbconvert_exporter": "python",
   "pygments_lexer": "ipython3",
   "version": "3.7.4"
  }
 },
 "nbformat": 4,
 "nbformat_minor": 4
}
