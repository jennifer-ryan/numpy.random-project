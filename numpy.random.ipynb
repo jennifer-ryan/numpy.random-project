{
 "cells": [
  {
   "cell_type": "markdown",
   "metadata": {},
   "source": [
    "<img src=\"https://upload.wikimedia.org/wikipedia/commons/1/1a/NumPy_logo.svg\" width=\"400\">\n",
    "\n",
    "\n",
    "# THE NUMPY.RANDOM PACKAGE"
   ]
  },
  {
   "cell_type": "markdown",
   "metadata": {
    "toc": true
   },
   "source": [
    "<h1>Table of Contents<span class=\"tocSkip\"></span></h1>\n",
    "<div class=\"toc\"><ul class=\"toc-item\"><li><span><a href=\"#RANDOM-NUMBER-GENERATION\" data-toc-modified-id=\"RANDOM-NUMBER-GENERATION-1\"><span class=\"toc-item-num\">1&nbsp;&nbsp;</span>RANDOM NUMBER GENERATION</a></span><ul class=\"toc-item\"><li><span><a href=\"#DISCRETE-AND-CONTINUOUS-DISTRIBUTIONS\" data-toc-modified-id=\"DISCRETE-AND-CONTINUOUS-DISTRIBUTIONS-1.1\"><span class=\"toc-item-num\">1.1&nbsp;&nbsp;</span>DISCRETE AND CONTINUOUS DISTRIBUTIONS</a></span></li><li><span><a href=\"#THE-RANDOM-MODULE\" data-toc-modified-id=\"THE-RANDOM-MODULE-1.2\"><span class=\"toc-item-num\">1.2&nbsp;&nbsp;</span>THE RANDOM MODULE</a></span></li><li><span><a href=\"#IMPORTING-LIBRARIES\" data-toc-modified-id=\"IMPORTING-LIBRARIES-1.3\"><span class=\"toc-item-num\">1.3&nbsp;&nbsp;</span>IMPORTING LIBRARIES</a></span></li></ul></li><li><span><a href=\"#SIMPLE-RANDOM-DATA\" data-toc-modified-id=\"SIMPLE-RANDOM-DATA-2\"><span class=\"toc-item-num\">2&nbsp;&nbsp;</span>SIMPLE RANDOM DATA</a></span><ul class=\"toc-item\"><li><span><a href=\"#RAND\" data-toc-modified-id=\"RAND-2.1\"><span class=\"toc-item-num\">2.1&nbsp;&nbsp;</span>RAND</a></span><ul class=\"toc-item\"><li><span><a href=\"#DISTRIBUTION\" data-toc-modified-id=\"DISTRIBUTION-2.1.1\"><span class=\"toc-item-num\">2.1.1&nbsp;&nbsp;</span>DISTRIBUTION</a></span></li><li><span><a href=\"#SIMILAR-FUNCTIONS-IN-NUMPY.RANDOM\" data-toc-modified-id=\"SIMILAR-FUNCTIONS-IN-NUMPY.RANDOM-2.1.2\"><span class=\"toc-item-num\">2.1.2&nbsp;&nbsp;</span>SIMILAR FUNCTIONS IN NUMPY.RANDOM</a></span><ul class=\"toc-item\"><li><span><a href=\"#RANDOM_SAMPLE\" data-toc-modified-id=\"RANDOM_SAMPLE-2.1.2.1\"><span class=\"toc-item-num\">2.1.2.1&nbsp;&nbsp;</span>RANDOM_SAMPLE</a></span></li><li><span><a href=\"#UNIFORM\" data-toc-modified-id=\"UNIFORM-2.1.2.2\"><span class=\"toc-item-num\">2.1.2.2&nbsp;&nbsp;</span>UNIFORM</a></span></li></ul></li></ul></li><li><span><a href=\"#RANDN\" data-toc-modified-id=\"RANDN-2.2\"><span class=\"toc-item-num\">2.2&nbsp;&nbsp;</span>RANDN</a></span><ul class=\"toc-item\"><li><span><a href=\"#DISTRIBUTION\" data-toc-modified-id=\"DISTRIBUTION-2.2.1\"><span class=\"toc-item-num\">2.2.1&nbsp;&nbsp;</span>DISTRIBUTION</a></span></li><li><span><a href=\"#SIMILAR-FUNCTIONS-IN-NUMPY.RANDOM\" data-toc-modified-id=\"SIMILAR-FUNCTIONS-IN-NUMPY.RANDOM-2.2.2\"><span class=\"toc-item-num\">2.2.2&nbsp;&nbsp;</span>SIMILAR FUNCTIONS IN NUMPY.RANDOM</a></span><ul class=\"toc-item\"><li><span><a href=\"#STANDARD_NORMAL\" data-toc-modified-id=\"STANDARD_NORMAL-2.2.2.1\"><span class=\"toc-item-num\">2.2.2.1&nbsp;&nbsp;</span>STANDARD_NORMAL</a></span></li><li><span><a href=\"#NORMAL\" data-toc-modified-id=\"NORMAL-2.2.2.2\"><span class=\"toc-item-num\">2.2.2.2&nbsp;&nbsp;</span>NORMAL</a></span></li></ul></li></ul></li><li><span><a href=\"#RANDINT\" data-toc-modified-id=\"RANDINT-2.3\"><span class=\"toc-item-num\">2.3&nbsp;&nbsp;</span>RANDINT</a></span><ul class=\"toc-item\"><li><span><a href=\"#DISTRIBUTION\" data-toc-modified-id=\"DISTRIBUTION-2.3.1\"><span class=\"toc-item-num\">2.3.1&nbsp;&nbsp;</span>DISTRIBUTION</a></span></li><li><span><a href=\"#SIMILAR-FUNCTION-IN-NUMPY.RANDOM\" data-toc-modified-id=\"SIMILAR-FUNCTION-IN-NUMPY.RANDOM-2.3.2\"><span class=\"toc-item-num\">2.3.2&nbsp;&nbsp;</span>SIMILAR FUNCTION IN NUMPY.RANDOM</a></span></li><li><span><a href=\"#PRACTICAL-EXAMPLE:-MAGIC-8-BALL\" data-toc-modified-id=\"PRACTICAL-EXAMPLE:-MAGIC-8-BALL-2.3.3\"><span class=\"toc-item-num\">2.3.3&nbsp;&nbsp;</span>PRACTICAL EXAMPLE: MAGIC 8 BALL</a></span></li></ul></li><li><span><a href=\"#CHOICE\" data-toc-modified-id=\"CHOICE-2.4\"><span class=\"toc-item-num\">2.4&nbsp;&nbsp;</span>CHOICE</a></span><ul class=\"toc-item\"><li><span><a href=\"#DISTRIBUTION\" data-toc-modified-id=\"DISTRIBUTION-2.4.1\"><span class=\"toc-item-num\">2.4.1&nbsp;&nbsp;</span>DISTRIBUTION</a></span></li><li><span><a href=\"#PRACTICAL-EXAMPLE:-DECK-OF-CARDS\" data-toc-modified-id=\"PRACTICAL-EXAMPLE:-DECK-OF-CARDS-2.4.2\"><span class=\"toc-item-num\">2.4.2&nbsp;&nbsp;</span>PRACTICAL EXAMPLE: DECK OF CARDS</a></span></li></ul></li><li><span><a href=\"#BYTES\" data-toc-modified-id=\"BYTES-2.5\"><span class=\"toc-item-num\">2.5&nbsp;&nbsp;</span>BYTES</a></span></li></ul></li><li><span><a href=\"#PERMUTATIONS\" data-toc-modified-id=\"PERMUTATIONS-3\"><span class=\"toc-item-num\">3&nbsp;&nbsp;</span>PERMUTATIONS</a></span><ul class=\"toc-item\"><li><span><a href=\"#SHUFFLE\" data-toc-modified-id=\"SHUFFLE-3.1\"><span class=\"toc-item-num\">3.1&nbsp;&nbsp;</span>SHUFFLE</a></span></li><li><span><a href=\"#PERMUTATION\" data-toc-modified-id=\"PERMUTATION-3.2\"><span class=\"toc-item-num\">3.2&nbsp;&nbsp;</span>PERMUTATION</a></span></li></ul></li><li><span><a href=\"#PROBABILITY-DISTRIBUTIONS\" data-toc-modified-id=\"PROBABILITY-DISTRIBUTIONS-4\"><span class=\"toc-item-num\">4&nbsp;&nbsp;</span>PROBABILITY DISTRIBUTIONS</a></span><ul class=\"toc-item\"><li><span><a href=\"#BINOMIAL\" data-toc-modified-id=\"BINOMIAL-4.1\"><span class=\"toc-item-num\">4.1&nbsp;&nbsp;</span>BINOMIAL</a></span></li><li><span><a href=\"#MULTINOMIAL\" data-toc-modified-id=\"MULTINOMIAL-4.2\"><span class=\"toc-item-num\">4.2&nbsp;&nbsp;</span>MULTINOMIAL</a></span></li><li><span><a href=\"#POISSON\" data-toc-modified-id=\"POISSON-4.3\"><span class=\"toc-item-num\">4.3&nbsp;&nbsp;</span>POISSON</a></span></li><li><span><a href=\"#EXPONENTIAL\" data-toc-modified-id=\"EXPONENTIAL-4.4\"><span class=\"toc-item-num\">4.4&nbsp;&nbsp;</span>EXPONENTIAL</a></span></li><li><span><a href=\"#GEOMETRIC\" data-toc-modified-id=\"GEOMETRIC-4.5\"><span class=\"toc-item-num\">4.5&nbsp;&nbsp;</span>GEOMETRIC</a></span></li></ul></li><li><span><a href=\"#RANDOM-GENERATORS\" data-toc-modified-id=\"RANDOM-GENERATORS-5\"><span class=\"toc-item-num\">5&nbsp;&nbsp;</span>RANDOM GENERATORS</a></span><ul class=\"toc-item\"><li><span><a href=\"#SEED\" data-toc-modified-id=\"SEED-5.1\"><span class=\"toc-item-num\">5.1&nbsp;&nbsp;</span>SEED</a></span></li><li><span><a href=\"#RANDOMSTATE\" data-toc-modified-id=\"RANDOMSTATE-5.2\"><span class=\"toc-item-num\">5.2&nbsp;&nbsp;</span>RANDOMSTATE</a></span></li><li><span><a href=\"#GENERATOR-STATE\" data-toc-modified-id=\"GENERATOR-STATE-5.3\"><span class=\"toc-item-num\">5.3&nbsp;&nbsp;</span>GENERATOR STATE</a></span></li></ul></li><li><span><a href=\"#CONCLUSION\" data-toc-modified-id=\"CONCLUSION-6\"><span class=\"toc-item-num\">6&nbsp;&nbsp;</span>CONCLUSION</a></span></li><li><span><a href=\"#REFERENCES\" data-toc-modified-id=\"REFERENCES-7\"><span class=\"toc-item-num\">7&nbsp;&nbsp;</span>REFERENCES</a></span></li></ul></div>"
   ]
  },
  {
   "cell_type": "markdown",
   "metadata": {},
   "source": [
    "## RANDOM NUMBER GENERATION\n",
    "\n",
    "Random number generation is vital for many practical programming needs, such as cryptography, model-building, simulation creation and statistical research.[<sup>1</sup>](https://www.howtogeek.com/183051/htg-explains-how-computers-generate-random-numbers/) Of course, being deterministic machines, it is extremely difficult to create truly random numbers with a computer and so generally randomness is simulated by pseudorandom number generators (PRNG). There are True Random Number Generators (TRNG) that work by connecting some kind of physical object to a computer from which random numbers can be generated[<sup>2</sup>](https://www.random.org/randomness/) but these are beyond the scope of the current investigation. Pseudorandom numbers are considered suitably random enough for many purposes and have the added benefit of allowing for reproducible data, which is useful to testing and debugging code.[<sup>3</sup>](https://realpython.com/python-random/)\n",
    "\n",
    "The **numpy.random** package is built on the Mersenne Twister PRNG, which is quite strong and has a long period before values start repeating, but is not perfect in terms of non-predictability, an issue most PRNGs face.[<sup>4</sup>](https://www.sciencedirect.com/topics/computer-science/mersenne-twister) . **numpy.random** draws numbers from probability distributions and requires an initial input seed, which is put through an algorithm that then generates numbers in a predetermined fashion. \n",
    "\n",
    "\n",
    "### DISCRETE AND CONTINUOUS DISTRIBUTIONS\n",
    "\n",
    "There are many different probability distributions that influence how values are chosen but, broadly-speaking, they are either discrete or continuous. A discrete distribution deals with sets of finite values such as the two sides of a coin or the six sides of a die. There are no values available between the values of a finite distribution; a coin either lands on heads or tails with no other options available. On the other hand, a continuous distribution deals with potentially infinite values, such as weight or distance. There can be an infinite amount of values between any two points in such a distribution; distance could be measured in kilometres but it is possible for values between to be millimetres, or even nanometres, apart. The probability distributions I discuss below are all either discrete (binomial, multinomial, poisson and geometric) or continuous (uniform, normal and exponential). \n",
    "\n",
    "\n",
    "### THE RANDOM MODULE\n",
    "\n",
    "Before commencing the discussion of **numpy.random**, it should be noted that Python already has a module called **random** that functions similarly to **numpy.random**, allowing the user to create random numbers, shuffle a sequence, or set the random seed. However, the **numpy.random** module supplements the **random** module in 2 major ways:<sup>5</sup>\n",
    "\n",
    "- Where **random** returns a single number or sequence of values, **numpy.random** can generate complex arrays of values. [<sup>6</sup>](https://realpython.com/python-random/#prngs-for-arrays-numpyrandom)\n",
    "- The **random** module documentation lists 12 functions that work with different probability distributions [<sup>7</sup>](https://docs.python.org/3/library/random.html#real-valued-distributions), where **numpy.random** has many more with 35 functions available. "
   ]
  },
  {
   "cell_type": "markdown",
   "metadata": {},
   "source": [
    "### IMPORTING LIBRARIES\n",
    "\n",
    "Below are the python libraries imported for use in this project. I have also created a class to bold some of the code string output to make it more readable.[<sup>8</sup>](https://stackoverflow.com/a/17303428)"
   ]
  },
  {
   "cell_type": "code",
   "execution_count": 1,
   "metadata": {},
   "outputs": [],
   "source": [
    "# Importing libraries\n",
    "import numpy as np\n",
    "import matplotlib.pyplot as plt\n",
    "import sys\n",
    "from scipy import stats"
   ]
  },
  {
   "cell_type": "code",
   "execution_count": 2,
   "metadata": {},
   "outputs": [],
   "source": [
    "# Defining bold class to bold decriptive text in the code to make it more readable.\n",
    "class bold:\n",
    "    BOLD = '\\033[1m'\n",
    "    END = '\\033[0m'"
   ]
  },
  {
   "cell_type": "markdown",
   "metadata": {},
   "source": [
    "<br>\n",
    "\n",
    "_________________________________________________________________________________________________________________\n",
    "\n",
    "## SIMPLE RANDOM DATA\n",
    "At its most basic, the **numpy.random** package is used to generate random data or arrays of data, generally numerical. There are several functions in the package that create simple random data and each one does so in a different way. Before moving on to the more complex probability distributions and functions of the package, I will first examine the following modules:\n",
    "\n",
    "- rand\n",
    "- randn\n",
    "- randint\n",
    "- choice\n",
    "- bytes\n",
    "\n",
    "Where appropriate in the discussions of these functions, I make reference to some related but distinct functions that are available elsewhere in the package."
   ]
  },
  {
   "cell_type": "markdown",
   "metadata": {},
   "source": [
    "<br>\n",
    "\n",
    "### RAND \n",
    "\n",
    "The **rand** function generates a floating point number or array of floating point numbers from the half open interval \\[0, 1), meaning that it includes every number greater than or equal to 0 and less than 1. It only accepts integer arguments, either several comma-separated integers directly typed into the function or a variable containing a single integer. If a non-numerical value, floating point number or variable containing more than a single integer is passed, the function will return a TypeError. If no arguments are passed to the function, a single random number is returned but **rand** is capable of generating large arrays of randomly generated numbers when several integer arguments are passed. There is no limit to the number of arguments so these arrays can be hugely complex. "
   ]
  },
  {
   "cell_type": "code",
   "execution_count": 3,
   "metadata": {},
   "outputs": [
    {
     "name": "stdout",
     "output_type": "stream",
     "text": [
      "\u001b[1mGenerates a single random number:\u001b[0m\n",
      "0.5337541379835554\n",
      "\n",
      "\u001b[1mGenerates 2 arrays with 4 random numbers in each:\u001b[0m\n",
      "[[0.73734502 0.3040095  0.07904213 0.1322985 ]\n",
      " [0.83893562 0.48262611 0.1065263  0.89251403]]\n",
      "\n",
      "\u001b[1mGenerates 2 arrays with each containing 4 arrays and each of those containing 6 random numbers:\u001b[0m\n",
      "[[[3.17786622e-01 7.61095878e-01 6.43404436e-01 5.28875141e-01\n",
      "   4.88012497e-01 1.89577486e-01]\n",
      "  [3.32810485e-01 9.10658916e-01 6.36012496e-02 7.76780668e-01\n",
      "   7.31900249e-01 9.03054619e-01]\n",
      "  [2.76077791e-01 3.78577435e-01 1.91931630e-02 1.87313202e-01\n",
      "   6.39244226e-01 5.26647325e-02]\n",
      "  [1.31784255e-01 6.97440601e-01 1.61988544e-01 2.70732202e-01\n",
      "   4.25493370e-01 9.64819682e-01]]\n",
      "\n",
      " [[1.52767527e-01 2.25042546e-01 1.58551256e-01 7.69025504e-01\n",
      "   1.10278007e-02 1.37300336e-01]\n",
      "  [3.27650920e-02 3.03934321e-01 7.55162392e-01 9.98581460e-01\n",
      "   1.21654818e-01 4.26371226e-01]\n",
      "  [2.59738805e-01 7.77032772e-01 7.81985824e-01 5.07796481e-01\n",
      "   1.73699044e-01 4.16290972e-01]\n",
      "  [4.83221230e-01 7.58956547e-05 6.80471171e-01 5.76399617e-01\n",
      "   1.11836913e-01 8.61543853e-01]]]\n"
     ]
    }
   ],
   "source": [
    "# Passing no arguments to generate a single random number.\n",
    "print(bold.BOLD + \"Generates a single random number:\" + bold.END)\n",
    "print(np.random.rand())\n",
    "print()\n",
    "\n",
    "# Passing (x, y) to return x arrays with y values in each.\n",
    "print(bold.BOLD + \"Generates 2 arrays with 4 random numbers in each:\" + bold.END)\n",
    "print(np.random.rand(2, 4))\n",
    "print()\n",
    "\n",
    "# Passing (x, y, z) to return x arrays containing y arrays that have z values.\n",
    "print(bold.BOLD + \"Generates 2 arrays with each containing 4 arrays and each of those containing 6 random numbers:\" +bold.END)\n",
    "print(np.random.rand(2, 4, 6))\n"
   ]
  },
  {
   "cell_type": "markdown",
   "metadata": {},
   "source": [
    "<br>\n",
    "\n",
    "#### DISTRIBUTION\n",
    "\n",
    "The values of **rand** are generated from a continuous uniform distribution, meaning that every number in the \\[0, 1) range has an equal chance of being returned as any other. The plot below demonstrates this even distribution across 10,000 randomly generated numbers from the **rand** function."
   ]
  },
  {
   "cell_type": "code",
   "execution_count": 4,
   "metadata": {},
   "outputs": [
    {
     "data": {
      "image/png": "[encoded data removed]",
      "text/plain": [
       "<Figure size 432x288 with 1 Axes>"
      ]
     },
     "metadata": {
      "needs_background": "light"
     },
     "output_type": "display_data"
    }
   ],
   "source": [
    "# Demonstrating the uniform distribution of the rand function.\n",
    "x = np.random.rand(10000)\n",
    "plt.hist(x)\n",
    "plt.title(\"uniform distribution of the rand function\")\n",
    "plt.xlabel(\"values\")\n",
    "plt.ylabel(\"number of values\")\n",
    "plt.show()"
   ]
  },
  {
   "cell_type": "markdown",
   "metadata": {},
   "source": [
    "<br>\n",
    "\n",
    "#### SIMILAR FUNCTIONS IN NUMPY.RANDOM"
   ]
  },
  {
   "cell_type": "markdown",
   "metadata": {},
   "source": [
    "##### RANDOM_SAMPLE\n",
    "\n",
    "There are several functions in the numpy.random package that are all variations of the same function that is related to **rand**:\n",
    "\n",
    "1. np.random.sample\n",
    "2. np.random.random\n",
    "3. np.random.ranf\n",
    "4. np.random.random_sample\n",
    "\n",
    "These functions can all be considered synonymous with each other and basically aliases for **random_sample**, kept in the package as they may be used by different communities.[<sup>9</sup>](https://stackoverflow.com/a/18829377) Below demonstrates how they all the perform the same function. "
   ]
  },
  {
   "cell_type": "code",
   "execution_count": 5,
   "metadata": {},
   "outputs": [
    {
     "name": "stdout",
     "output_type": "stream",
     "text": [
      "True\n",
      "True\n",
      "True\n"
     ]
    }
   ],
   "source": [
    "# Demonstrating the below functions are all the same.\n",
    "print(np.random.random_sample == np.random.random)\n",
    "\n",
    "print(np.random.random_sample == np.random.ranf)\n",
    "\n",
    "print(np.random.random_sample == np.random.sample)"
   ]
  },
  {
   "cell_type": "markdown",
   "metadata": {},
   "source": [
    "**random_sample** is essentially the same as the **rand** function except for one very important distinction: while **rand** takes multiple integer arguments to build the shape of an array, **random_sample** only accepts one argument. To build a multi-dimensional array with **random_sample**, a tuple must be passed for it to function correctly.[<sup>10</sup>](https://stackoverflow.com/a/47232184)  This can be useful when there are variables containing tuples from which one wants to create an array of random numbers. **rand** will not accept such a variable."
   ]
  },
  {
   "cell_type": "code",
   "execution_count": 6,
   "metadata": {},
   "outputs": [
    {
     "name": "stdout",
     "output_type": "stream",
     "text": [
      "\u001b[1m2 x 4 array from rand:\u001b[0m\n",
      "[[0.04157088 0.30683792 0.42238285 0.47764048]\n",
      " [0.83776048 0.63955085 0.38728252 0.54590771]]\n",
      "\n",
      "\u001b[1m2 x 4 array from random_sample:\u001b[0m\n",
      "[[0.05999246 0.71387572 0.25439313 0.00236004]\n",
      " [0.12376249 0.63061031 0.70942664 0.86731429]]\n",
      "\n",
      "\u001b[1m2 x 4 array from random_sample using a variable containing a tuple:\u001b[0m\n",
      "[[0.94975489 0.35668658 0.68224836 0.58234775]\n",
      " [0.17735913 0.58410619 0.93932175 0.16992184]]\n"
     ]
    }
   ],
   "source": [
    "# Passing an agument to rand.\n",
    "print(bold.BOLD + \"2 x 4 array from rand:\" + bold.END)\n",
    "print(np.random.rand(2, 4))\n",
    "print()\n",
    "\n",
    "# Passing the same argument but as a tuple to random_sample\n",
    "print(bold.BOLD + \"2 x 4 array from random_sample:\" + bold.END)\n",
    "print(np.random.random_sample((2, 4)))\n",
    "print()\n",
    "\n",
    "# Passing a variable that contains a tuple\n",
    "t = (2, 4)\n",
    "print(bold.BOLD + \"2 x 4 array from random_sample using a variable containing a tuple:\" + bold.END)\n",
    "print(np.random.random_sample(t))\n"
   ]
  },
  {
   "cell_type": "markdown",
   "metadata": {},
   "source": [
    "<br>\n",
    "\n",
    "##### UNIFORM\n",
    "\n",
    "The \\[0, 1) range cannot be adjusted in the **rand** function, but there is a related function within **numpy.random** called **uniform**, which works in largely the same way as **rand** but allows a custom range to be passed. Again this is a half open interval, generating numbers greater than or equal to the low number and less than the high number. Below is an example of the function in operation and a plot demonstrating the uniform probability distribution."
   ]
  },
  {
   "cell_type": "code",
   "execution_count": 7,
   "metadata": {},
   "outputs": [
    {
     "name": "stdout",
     "output_type": "stream",
     "text": [
      "\u001b[1mGenerates 2 arrays with 4 random numbers in each within the custom range [-5, 10):\u001b[0m\n",
      "[[ 5.08348756 -1.2233376   7.73353662 -2.29131479]\n",
      " [-3.09795838 -1.90873282 -1.05559703 -0.0707892 ]]\n",
      "\n",
      "\u001b[1mGenerates 4 random numbers in the custom range [-5, 10):\u001b[0m\n",
      "[1.74108489 6.86073728 2.84353008 8.13931037]\n",
      "\n"
     ]
    },
    {
     "data": {
      "image/png": "[encoded data removed]",
      "text/plain": [
       "<Figure size 432x288 with 1 Axes>"
      ]
     },
     "metadata": {
      "needs_background": "light"
     },
     "output_type": "display_data"
    }
   ],
   "source": [
    "# Passing low and high arguments with size (x, y) will return x arrays with y values in each.\n",
    "print(bold.BOLD + \"Generates 2 arrays with 4 random numbers in each within the custom range [-5, 10):\" + bold.END)\n",
    "print(np.random.uniform(low=-5, high=10, size =(2, 4)))\n",
    "print()\n",
    "\n",
    "# Demonstrating it is not necessary to have 'low=' or 'high=' to operate the function. \n",
    "# 'size=' is necessary if more than one array is required.\n",
    "print(bold.BOLD + \"Generates 4 random numbers in the custom range [-5, 10):\" + bold.END)\n",
    "print(np.random.uniform(-5, 10, 4))\n",
    "print()\n",
    "\n",
    "# Demonstrating the uniform distribution of the uniform function.\n",
    "x = np.random.uniform(-10, 10, 10000)\n",
    "plt.hist(x)\n",
    "plt.title(\"uniform distribution of uniform function\")\n",
    "plt.xlabel(\"values\")\n",
    "plt.ylabel(\"number of values\")\n",
    "plt.show()"
   ]
  },
  {
   "cell_type": "markdown",
   "metadata": {},
   "source": [
    "<br>\n",
    "\n",
    "### RANDN\n",
    "\n",
    "**randn** functions in the same way as **rand** when generating numbers. Without any arguments, it will produce a single randomly generated number and with arguments will produce increasingly complex arrays of numbers. "
   ]
  },
  {
   "cell_type": "code",
   "execution_count": 8,
   "metadata": {},
   "outputs": [
    {
     "name": "stdout",
     "output_type": "stream",
     "text": [
      "\u001b[1mGenerates a single random number:\u001b[0m\n",
      "1.36762789328311\n",
      "\n",
      "\u001b[1mGenerates 2 arrays with 4 random numbers in each:\u001b[0m\n",
      "[[ 0.26001404  0.61754653 -0.80825504  0.17608659]\n",
      " [-0.11494457  0.28096551 -1.04204295 -0.5874213 ]]\n",
      "\n",
      "\u001b[1mGenerates 2 arrays with each containing 4 arrays and each of those containing 5 random numbers:\u001b[0m\n",
      "[[[-0.44745551  0.90660131 -1.59036706 -1.33144211 -2.68088882]\n",
      "  [-0.68533088  1.33958008 -0.15992638 -1.15666098  0.04290405]\n",
      "  [ 0.48592043 -0.63138767  0.85430543  0.27326172  1.23206268]\n",
      "  [ 0.84609373 -1.45040246  0.40348081  2.027981    1.38690911]]\n",
      "\n",
      " [[-1.52635061 -1.26882342  1.06648862  0.26406671  1.47099673]\n",
      "  [ 0.85896278  1.36974649  2.13367347 -1.65431387 -2.08122674]\n",
      "  [ 0.0043523  -0.72446697  0.97454684  2.39987418 -0.63347362]\n",
      "  [ 1.15641202  1.95243253  0.14030199  0.60815074  0.82448457]]]\n"
     ]
    }
   ],
   "source": [
    "# Passing no arguments to generate a single random number.\n",
    "print(bold.BOLD + \"Generates a single random number:\" + bold.END)\n",
    "print(np.random.randn())\n",
    "print()\n",
    "\n",
    "# Passing (x, y) to return x arrays with y values in each.\n",
    "print(bold.BOLD + \"Generates 2 arrays with 4 random numbers in each:\" + bold.END)\n",
    "print(np.random.randn(2, 4))\n",
    "print()\n",
    "\n",
    "# Passing (x, y, z) to return x arrays containing y arrays that have z values.\n",
    "print(bold.BOLD + \"Generates 2 arrays with each containing 4 arrays and each of those containing 5 random numbers:\" + bold.END)\n",
    "print(np.random.randn(2, 4, 5))\n"
   ]
  },
  {
   "cell_type": "markdown",
   "metadata": {},
   "source": [
    "<br>\n",
    "\n",
    "#### DISTRIBUTION\n",
    "\n",
    "What separates the **randn** function from **rand** is that numbers are generated from a continuous normal or Gaussian distribution rather than a uniform distribution. In this function the normal distribution has a mean of 0 and a variance of 1. This means that the majority of numbers generated centre around 0 and generally range between -1 and 1. The plot below helps to illustrate this; of the 10,000 numbers generated, the vast majority are within the (-1, 1) range and peak at the 0 mark. Looking again at the numbers generated above, it can be seen that they largely sit within the range (-1, 1)."
   ]
  },
  {
   "cell_type": "code",
   "execution_count": 9,
   "metadata": {},
   "outputs": [
    {
     "data": {
      "image/png": "[encoded data removed]",
      "text/plain": [
       "<Figure size 432x288 with 1 Axes>"
      ]
     },
     "metadata": {
      "needs_background": "light"
     },
     "output_type": "display_data"
    }
   ],
   "source": [
    "# Demonstrating the normal distribution of the randn function.\n",
    "x = np.random.randn(10000)\n",
    "plt.hist(x)\n",
    "plt.title(\"normal distribution of randn function\")\n",
    "plt.xlabel(\"values\")\n",
    "plt.ylabel(\"number of values\")\n",
    "plt.show()"
   ]
  },
  {
   "cell_type": "markdown",
   "metadata": {},
   "source": [
    "<br>\n",
    "\n",
    "#### SIMILAR FUNCTIONS IN NUMPY.RANDOM"
   ]
  },
  {
   "cell_type": "markdown",
   "metadata": {},
   "source": [
    "##### STANDARD_NORMAL\n",
    "\n",
    "Like the relationship between **rand** and **random_sample**, **randn** has the same connection with another **numpy.random** function called **standard_normal**, which only takes a single argument but can accept tuples.  "
   ]
  },
  {
   "cell_type": "code",
   "execution_count": 10,
   "metadata": {},
   "outputs": [
    {
     "name": "stdout",
     "output_type": "stream",
     "text": [
      "\u001b[1m2 x 4 array from randn:\u001b[0m\n",
      "[[-0.57895647  1.23581073  0.62851287 -0.06242461]\n",
      " [ 1.16485735 -0.43946995  2.09579237 -1.40266903]]\n",
      "\n",
      "\u001b[1m2 x 4 array from standard_normal:\u001b[0m\n",
      "[[-0.21995625 -0.18307895 -1.07154951  0.01357224]\n",
      " [ 0.31302117 -0.6631024   0.02671156 -1.38409787]]\n",
      "\n",
      "\u001b[1m2 x 4 array from standard_normal using a variable containing a tuple:\u001b[0m\n",
      "[[ 0.21944969  1.50201922 -0.69698309 -1.31180741]\n",
      " [-0.97162492  0.76707159  1.52412714  0.45908389]]\n"
     ]
    }
   ],
   "source": [
    "# Passing an argument to randn.\n",
    "print(bold.BOLD + \"2 x 4 array from randn:\" + bold.END)\n",
    "print(np.random.randn(2, 4))\n",
    "print()\n",
    "\n",
    "# Passing the same argument but as a tuple to standard_normal.\n",
    "print(bold.BOLD + \"2 x 4 array from standard_normal:\" + bold.END)\n",
    "print(np.random.standard_normal((2, 4)))\n",
    "print()\n",
    "\n",
    "# Passing a variable that contains a tuple\n",
    "t = (2, 4)\n",
    "print(bold.BOLD + \"2 x 4 array from standard_normal using a variable containing a tuple:\" + bold.END)\n",
    "print(np.random.standard_normal(t))\n"
   ]
  },
  {
   "cell_type": "markdown",
   "metadata": {},
   "source": [
    "<br>\n",
    "\n",
    "##### NORMAL\n",
    "\n",
    "Again similar to **rand**'s range, the mean (0) and standard deviation (1) cannot be altered in the **randn** function but there is another function in the numpy.random package that returns random numbers from a customised normal distribution range. The **normal** function takes a *loc* argument to determine the mean, a *scale* argument for the standard deviation, and a *size* argument for the output shape. In the code below, *loc* is set to 5 and *scale* is set to 3 so the output should largely be in the range 2-8 (since 5 - 3 = 2 and 5 + 3 = 8) and centre around the mean of 5.      "
   ]
  },
  {
   "cell_type": "code",
   "execution_count": 11,
   "metadata": {},
   "outputs": [
    {
     "name": "stdout",
     "output_type": "stream",
     "text": [
      "\u001b[1mGenerates 2 arrays with 4 random numbers from the custom normal distribution:\u001b[0m\n",
      "[[ 6.96366439 -1.31389962  1.41736381  7.49449107]\n",
      " [ 4.34823826  9.9934782   1.01936586  3.79849004]]\n",
      "\n",
      "\u001b[1mGenerates 4 random numbers from the custom normal distribution:\u001b[0m\n",
      "[11.44419938  6.90259339  5.12965161  2.49152679]\n",
      "\n"
     ]
    },
    {
     "data": {
      "image/png": "[encoded data removed]",
      "text/plain": [
       "<Figure size 432x288 with 1 Axes>"
      ]
     },
     "metadata": {
      "needs_background": "light"
     },
     "output_type": "display_data"
    }
   ],
   "source": [
    "# Passing loc and scale arguments with size of (x, y) will return x arrays with y values in each.\n",
    "print(bold.BOLD + \"Generates 2 arrays with 4 random numbers from the custom normal distribution:\" + bold.END)\n",
    "print(np.random.normal(loc=5, scale=3, size =(2, 4)))\n",
    "print()\n",
    "\n",
    "# Demonstrating it is not necessary to have 'loc=' or 'scale=' to operate the function. \n",
    "# 'size=' is necessary if more than one array is required.\n",
    "print(bold.BOLD + \"Generates 4 random numbers from the custom normal distribution:\" + bold.END)\n",
    "print(np.random.normal(5, 3, 4))\n",
    "print()\n",
    "\n",
    "# Demonstrating the normal distribution of the normal function.\n",
    "x = np.random.normal(5, 3, 10000)\n",
    "plt.hist(x)\n",
    "plt.title(\"normal distribution of normal function\")\n",
    "plt.xlabel(\"values\")\n",
    "plt.ylabel(\"number of values\")\n",
    "plt.show()"
   ]
  },
  {
   "cell_type": "markdown",
   "metadata": {},
   "source": [
    "<br>\n",
    "\n",
    "### RANDINT\n",
    "\n",
    "The functions explored so far all return random floating point numbers. If randomly generated integers are required, there is the **randint** function which returns random integers of a given range. The function  requires at least one argument to operate. If a single argument is provided, the function will return a number from the range 0 up to but not including the number passed, making it a half open interval. If a float rather than integer is passed, it will round down to the nearest integer. "
   ]
  },
  {
   "cell_type": "code",
   "execution_count": 12,
   "metadata": {
    "scrolled": true
   },
   "outputs": [
    {
     "name": "stdout",
     "output_type": "stream",
     "text": [
      "3\n",
      "3\n"
     ]
    }
   ],
   "source": [
    "# Returns single random integer between 0-9 inclusive.\n",
    "print(np.random.randint(10))\n",
    "\n",
    "# Returns single random integer between 0-4 inclusive.\n",
    "print(np.random.randint(5.925))"
   ]
  },
  {
   "cell_type": "markdown",
   "metadata": {},
   "source": [
    "<br>\n",
    "\n",
    "If two arguments are provided to **randint**, the first will be considered the lowest included number in the range and the second represents the number one above the highest possible number in the range. \n",
    "\n",
    "**randint** can also take an argument that dictates the shape of the output, either a single value for an array of that many numbers or a tuple for multi-dimensional arrays."
   ]
  },
  {
   "cell_type": "code",
   "execution_count": 13,
   "metadata": {},
   "outputs": [
    {
     "name": "stdout",
     "output_type": "stream",
     "text": [
      "\u001b[1mGenerates 1 random number between 5-10 inclusive:\u001b[0m\n",
      "7\n",
      "\n",
      "\u001b[1mGenerates 3 random numbers between 5-10 inclusive:\u001b[0m\n",
      "[8 5 6]\n",
      "\n",
      "\u001b[1mGenerates 2 arrays of 4 random numbers in each between 5-10 inclusive:\u001b[0m\n",
      "[[ 9 10  9  5]\n",
      " [ 8  9  6  5]]\n"
     ]
    }
   ],
   "source": [
    "# Returns single random integer between 5-10 inclusive.\n",
    "print(bold.BOLD + \"Generates 1 random number between 5-10 inclusive:\" + bold.END)\n",
    "print(np.random.randint(5, 11))\n",
    "print()\n",
    "\n",
    "print(bold.BOLD + \"Generates 3 random numbers between 5-10 inclusive:\" + bold.END)\n",
    "print(np.random.randint(5, 11, 3))\n",
    "print()\n",
    "\n",
    "print(bold.BOLD + \"Generates 2 arrays of 4 random numbers in each between 5-10 inclusive:\" + bold.END)\n",
    "print(np.random.randint(5, 11, size=(2, 4)))"
   ]
  },
  {
   "cell_type": "markdown",
   "metadata": {},
   "source": [
    "<br>\n",
    "\n",
    "There is a relatively new parameter in the **randint** function, which allows the output datatype to be specified. Different types of integer will be take up different amounts of storage space [<sup>11</sup>](https://stackoverflow.com/a/9696777) and so this parameter is useful if dealing with extremely large amounts of data. Each piece of code below generates the number 5 and the output demonstrates the number of bytes it takes to store each number 5, depending on the datatype argument.[<sup>12</sup>](https://stackoverflow.com/a/14329864)  As would be expected, the *int64* type takes up more space than the *int8* type."
   ]
  },
  {
   "cell_type": "code",
   "execution_count": 14,
   "metadata": {},
   "outputs": [
    {
     "name": "stdout",
     "output_type": "stream",
     "text": [
      "\u001b[1mint8:\u001b[0m\n",
      "25\n",
      "\n",
      "\u001b[1mint16:\u001b[0m\n",
      "26\n",
      "\n",
      "\u001b[1mint32:\u001b[0m\n",
      "28\n",
      "\n",
      "\u001b[1mint64:\u001b[0m\n",
      "32\n"
     ]
    }
   ],
   "source": [
    "w = np.random.randint(5, 6, dtype='int8')\n",
    "print(bold.BOLD + \"int8:\" + bold.END)\n",
    "print(sys.getsizeof(w))\n",
    "print()\n",
    "\n",
    "x = np.random.randint(5, 6, dtype='int16')\n",
    "print(bold.BOLD + \"int16:\" + bold.END)\n",
    "print(sys.getsizeof(x))\n",
    "print()\n",
    "\n",
    "y = np.random.randint(5, 6, dtype='int32')\n",
    "print(bold.BOLD + \"int32:\" + bold.END)\n",
    "print(sys.getsizeof(y))\n",
    "print()\n",
    "\n",
    "z = np.random.randint(5, 6, dtype='int64')\n",
    "print(bold.BOLD + \"int64:\" + bold.END)\n",
    "print(sys.getsizeof(z))"
   ]
  },
  {
   "cell_type": "markdown",
   "metadata": {},
   "source": [
    "<br>\n",
    "\n",
    "#### DISTRIBUTION\n",
    "\n",
    "**randint** generates random integers from a discrete uniform distribution, meaning that there is a finite amount of values that can be generated but each one has an equal chance of being returned. Below, every integer on the range 0-1000 inclusive has an equal chance of being called across 10,000 numbers."
   ]
  },
  {
   "cell_type": "code",
   "execution_count": 15,
   "metadata": {},
   "outputs": [
    {
     "data": {
      "image/png": "[encoded data removed]",
      "text/plain": [
       "<Figure size 432x288 with 1 Axes>"
      ]
     },
     "metadata": {
      "needs_background": "light"
     },
     "output_type": "display_data"
    }
   ],
   "source": [
    "# Demonstrating the uniform distribution of the randint function.\n",
    "x = np.random.randint(0, 1001, 10000)\n",
    "plt.hist(x)\n",
    "plt.title(\"unifrom distribution of the randint function\")\n",
    "plt.xlabel(\"values\")\n",
    "plt.ylabel(\"number of values\")\n",
    "plt.show()"
   ]
  },
  {
   "cell_type": "markdown",
   "metadata": {},
   "source": [
    "<br>\n",
    "\n",
    "#### SIMILAR FUNCTION IN NUMPY.RANDOM\n",
    "\n",
    "There's another function listed in the numpy.random package called **random_integer** but this has been deprecated according to the documentation[<sup>13</sup>](https://docs.scipy.org/doc/numpy-1.16.0/reference/generated/numpy.random.random_integers.html#numpy.random.random_integers) with the recommendation that **randint** be used instead."
   ]
  },
  {
   "cell_type": "markdown",
   "metadata": {},
   "source": [
    "<br>\n",
    "\n",
    "#### PRACTICAL EXAMPLE: MAGIC 8 BALL \n",
    "<img src=\"https://i.imgur.com/KRecqEu.jpg\" width=\"100\" style=\"padding: 0 15px; float: right;\">\n",
    "\n",
    "Below is an example of **randint** being used to simulate the answers provided by a Magic 8 Ball. Each answer is assigned to an integer and when an integer is randomly generated from the **randint** function, the assigned reply is returned.<sup>14</sup> \n"
   ]
  },
  {
   "cell_type": "code",
   "execution_count": 16,
   "metadata": {},
   "outputs": [
    {
     "name": "stdout",
     "output_type": "stream",
     "text": [
      "\u001b[1mQuestion:\u001b[0m\n",
      "Will I be late for work in the morning?\n",
      "\u001b[1mAnswer:\u001b[0m\n",
      "Possibly.\n"
     ]
    }
   ],
   "source": [
    "# Magic 8 Ball simulation\n",
    "\n",
    "# Defining the Magic 8 Ball answers.\n",
    "def Answer(number):\n",
    "    if number == 1: \n",
    "        return \"Yes.\"\n",
    "    elif number == 2:\n",
    "        return \"Most likely.\"\n",
    "    elif number == 3:\n",
    "        return \"All signs point to yes.\"\n",
    "    elif number == 4:\n",
    "        return \"Ask again later.\"\n",
    "    elif number == 5:\n",
    "        return \"Possibly.\"\n",
    "    elif number == 6:\n",
    "        return \"Outlook not so good.\"\n",
    "    elif number == 7:\n",
    "        return \"Doubtful\"\n",
    "    elif number == 8:\n",
    "        return \"No.\"\n",
    "    \n",
    "# Testing out the Magic 8 Ball.    \n",
    "print(bold.BOLD + \"Question:\" + bold.END)\n",
    "print(\"Will I be late for work in the morning?\")\n",
    "print(bold.BOLD + \"Answer:\" + bold.END)\n",
    "print(Answer(np.random.randint(1, 9)))"
   ]
  },
  {
   "cell_type": "markdown",
   "metadata": {},
   "source": [
    "<br>\n",
    "\n",
    "### CHOICE\n",
    "\n",
    "**choice** is similar to **randint** in that it can generate random integers in a particular array shape. However, **choice** can accept ndarrays, tuples and lists as input, meaning that it has the potential to randomise non-numerical data, such as strings. With **choice**, the user can specify the number of values to be randomly generated from a given variable. \n",
    "\n",
    "Again like **randint**, the function does not work if no arguments are passed. With a single integer argument, **choice** will return a single random integer from 0 up to but not including the number entered, just as **randint** does. Unlike **randint**, which will round down a float argument to the nearest integer, **choice** does not accept floating point numbers as direct arguments - however, they can be accepted if part of an array, tuple or list from which values are drawn. "
   ]
  },
  {
   "cell_type": "code",
   "execution_count": 17,
   "metadata": {},
   "outputs": [
    {
     "name": "stdout",
     "output_type": "stream",
     "text": [
      "\u001b[1mGenerates 1 random number between 0-9 inclusive:\u001b[0m\n",
      "0\n",
      "\n",
      "\u001b[1mGenerates 3 random numbers from an array:\u001b[0m\n",
      "[7 3 9]\n",
      "\n",
      "\u001b[1mGenerates 3 random numbers from a tuple:\u001b[0m\n",
      "[10.2   4.9   7.63]\n",
      "\n",
      "\u001b[1mGenerates 3 random names from a list:\u001b[0m\n",
      "['Mary' 'John' 'John']\n"
     ]
    }
   ],
   "source": [
    "# Returns single random integer.\n",
    "print(bold.BOLD + \"Generates 1 random number between 0-9 inclusive:\" + bold.END)\n",
    "print(np.random.choice(10))\n",
    "print()\n",
    "\n",
    "# Returns random numbers from an array.\n",
    "arr = np.arange(10)\n",
    "print(bold.BOLD + \"Generates 3 random numbers from an array:\" + bold.END)\n",
    "print(np.random.choice(arr, size=3))\n",
    "print()\n",
    "\n",
    "# Returns random numbers from a tuple.\n",
    "tup = (4.9, 6.7, 7.63, 10.2, 15.47)\n",
    "print(bold.BOLD + \"Generates 3 random numbers from a tuple:\" + bold.END)\n",
    "print(np.random.choice(tup, size=3))\n",
    "print()\n",
    "\n",
    "# Returns random non-numerical values from a list.\n",
    "lst = [\"Mary\", \"John\", \"Helen\", \"Tony\"]\n",
    "print(bold.BOLD + \"Generates 3 random names from a list:\" + bold.END)\n",
    "print(np.random.choice(lst, size=3))"
   ]
  },
  {
   "cell_type": "markdown",
   "metadata": {},
   "source": [
    "<br>\n",
    "\n",
    "The previously discussed functions can potentially repeat numbers from a range in the output array, and **choice** also does this by default. However, **choice** has a parameter called *replace*, a true/false boolean that is set to True by default but, if set to False by the user, will generate an output of unique values. In this case, once a value has been randomly generated, it is removed from the pool of available values and cannot be generated again. However, if the total number of values to choose from is smaller than the output shape specified (*size*) and *replace* is set to False, a *ValueError* will occur because there are not enough elements to fulfill the desired output without repeating any of them."
   ]
  },
  {
   "cell_type": "code",
   "execution_count": 18,
   "metadata": {},
   "outputs": [
    {
     "name": "stdout",
     "output_type": "stream",
     "text": [
      "\u001b[1mGenerates 3 random names from a list with no duplicates:\u001b[0m\n",
      "['Tony' 'John' 'Helen']\n"
     ]
    }
   ],
   "source": [
    "# Returns random values from a list with no duplicates:\n",
    "print(bold.BOLD + \"Generates 3 random names from a list with no duplicates:\" + bold.END)\n",
    "print(np.random.choice(lst, size=3, replace=False))\n"
   ]
  },
  {
   "cell_type": "markdown",
   "metadata": {},
   "source": [
    "<br>\n",
    "\n",
    "#### DISTRIBUTION\n",
    "\n",
    "By default, **choice** randomly picks values from a discrete uniform distribution but has an optional parameter, *p*, which allows the user to adjust the probability of each individual value appearing in the output. The number of values passed to *p* must be equal to the amount of elements made available in the input and these *p* values must sum up to 1, to account for a total 100% probability. \n",
    "\n",
    "To illustrate this, the code below generates 1000 numbers from the range (0, 11]. As required, there is a *p* value for every element in this range. Most of the numbers have been given 0% probability of being returned but numbers 1, 5 and 10 have a 60%, 10%, and 30% chance of appearing in the output respectively. The plot shows that, of the 1000 numbers generated, approximately 600 were ones, 100 were fives and 300 were tens."
   ]
  },
  {
   "cell_type": "code",
   "execution_count": 19,
   "metadata": {},
   "outputs": [
    {
     "data": {
      "image/png": "[encoded data removed]",
      "text/plain": [
       "<Figure size 432x288 with 1 Axes>"
      ]
     },
     "metadata": {
      "needs_background": "light"
     },
     "output_type": "display_data"
    }
   ],
   "source": [
    "# Customising the probability of each input element and plotting the output.\n",
    "x = np.random.choice((np.arange(11)), p = (0, 0.6, 0, 0, 0, 0.1, 0, 0, 0, 0, 0.3), size = 1000)\n",
    "plt.hist(x)\n",
    "plt.title(\"custom probabilities\")\n",
    "plt.xlabel(\"values\")\n",
    "plt.ylabel(\"number of values\")\n",
    "plt.show()"
   ]
  },
  {
   "cell_type": "markdown",
   "metadata": {},
   "source": [
    "<br>\n",
    "\n",
    "#### PRACTICAL EXAMPLE: DECK OF CARDS\n",
    "\n",
    "<img src=\"https://encrypted-tbn0.gstatic.com/images?q=tbn:ANd9GcQ5_e8Y_VfGOFk6TVLtY5bDT-McFmlx8XZc6RiHwdjJP2dnGVQQ&s\" width=\"200\" style=\"padding: 0 15px; float: right;\">\n",
    "\n",
    "\n",
    "\n",
    "Below is an example of **choice** being used to simulate the drawing of hands from a deck of cards. A list containing the 52 cards of a deck is created[<sup>15</sup>](http://www.spronck.net/pythonbook/pythonbook.pdf) and **choice** allows the user to draw 4 hands of five cards each. Setting *replace* to False allows each hand to be unique as once a card is drawn, it is no longer available in the remaining deck. "
   ]
  },
  {
   "cell_type": "code",
   "execution_count": 20,
   "metadata": {},
   "outputs": [
    {
     "data": {
      "text/plain": [
       "array([['6 of Hearts', '8 of Hearts', '10 of Diamonds', '7 of Diamonds',\n",
       "        'Queen of Hearts'],\n",
       "       ['9 of Diamonds', 'Queen of Diamonds', 'Jack of Spades',\n",
       "        'Ace of Spades', '2 of Diamonds'],\n",
       "       ['5 of Clubs', 'King of Hearts', 'King of Spades', '5 of Spades',\n",
       "        '3 of Hearts'],\n",
       "       ['4 of Spades', 'King of Diamonds', '6 of Diamonds', '7 of Clubs',\n",
       "        '7 of Hearts']], dtype='<U17')"
      ]
     },
     "execution_count": 20,
     "metadata": {},
     "output_type": "execute_result"
    }
   ],
   "source": [
    "# Creating a deck of cards.\n",
    "cards = []\n",
    "values = [\"2\", \"3\", \"4\", \"5\", \"6\", \"7\", \"8\", \"9\", \"10\", \"Jack\", \"Queen\", \"King\", \"Ace\"]\n",
    "suits = [\"Hearts\", \"Diamonds\", \"Spades\", \"Clubs\"]\n",
    "\n",
    "for value in values:\n",
    "    for suit in suits:\n",
    "        cards.append(f\"{value} of {suit}\")\n",
    "\n",
    "    \n",
    "# Deals 4 hands with 5 cards in each and no duplicates.\n",
    "hands = np.random.choice(cards, size=(4,5), replace=False)  \n",
    "hands"
   ]
  },
  {
   "cell_type": "markdown",
   "metadata": {},
   "source": [
    "<br>\n",
    "\n",
    "### BYTES\n",
    "\n",
    "The final function from the *Simple Random Data* section of the **numpy.random** package that I will discuss simply takes a single integer argument and generates a random sample of bytes of that length. **bytes** is an excellent function for efficiently generating a huge amounts of random data, which is useful for testing code.[<sup>16</sup>](stefanocappellini.it/generate-pseudorandom-bytes-with-python/) The below code generates 30 random bytes. "
   ]
  },
  {
   "cell_type": "code",
   "execution_count": 21,
   "metadata": {},
   "outputs": [
    {
     "data": {
      "text/plain": [
       "b':\\xb2\\x830o!\\xfcNs\\xe7\\xc2\\xf8\\xa4l-\\x9c\\x184\\xffn\\x11\\x07\\xcao|\\xd2$\\xd9\\xde\\x06'"
      ]
     },
     "execution_count": 21,
     "metadata": {},
     "output_type": "execute_result"
    }
   ],
   "source": [
    "# Random byte generation\n",
    "np.random.bytes(30)"
   ]
  },
  {
   "cell_type": "markdown",
   "metadata": {},
   "source": [
    "<br>\n",
    "\n",
    "_________________________________________________________________________________________________________\n",
    "\n",
    "## PERMUTATIONS\n",
    "\n",
    "There are two separate but related functions in the numpy.random package that randomly rearrange the order of existing data or create a shuffled range of numbers:\n",
    "\n",
    "- shuffle\n",
    "- permutation\n",
    "\n",
    "Below I examine these similar but distinct functions."
   ]
  },
  {
   "cell_type": "markdown",
   "metadata": {},
   "source": [
    "### SHUFFLE\n",
    "\n",
    "As the name suggests, **shuffle** shuffles the contents of a given list or array in place. This means that, unlike previous functions that can return the output when called, **shuffle** alters a variable and its effect can't be observed until the variable itself is called. The function takes one argument only, the list or array to be shuffled. It does not accept tuples as they are immutable and thus cannot be modified by shuffling the contents. The code below demonstrates how shuffle works in place, shows a 1D array and a list deck of cards before and after shuffling. "
   ]
  },
  {
   "cell_type": "code",
   "execution_count": 22,
   "metadata": {},
   "outputs": [
    {
     "name": "stdout",
     "output_type": "stream",
     "text": [
      "\u001b[1mOutput from attempting to print shuffle command:\u001b[0m\n",
      "None\n",
      "\n",
      "\u001b[1mOriginal array:\u001b[0m\n",
      "[1 2 3 4 5 6]\n",
      "\n",
      "\u001b[1mShuffled array:\u001b[0m\n",
      "[4 2 6 3 5 1]\n",
      "\n",
      "\u001b[1mOriginal deck order:\u001b[0m\n",
      "['2 of Hearts', '2 of Diamonds', '2 of Spades', '2 of Clubs', '3 of Hearts', '3 of Diamonds', '3 of Spades', '3 of Clubs', '4 of Hearts', '4 of Diamonds', '4 of Spades', '4 of Clubs', '5 of Hearts', '5 of Diamonds', '5 of Spades']\n",
      "\n",
      "\u001b[1mShuffled deck order:\u001b[0m\n",
      "['Ace of Spades', '10 of Spades', 'King of Clubs', 'Queen of Spades', '2 of Diamonds', '6 of Diamonds', '10 of Clubs', '3 of Clubs', '7 of Diamonds', '7 of Clubs', '2 of Hearts', 'Ace of Clubs', 'Queen of Diamonds', '8 of Clubs', '6 of Hearts']\n"
     ]
    }
   ],
   "source": [
    "# Demonstrating how shuffle operates in place. Output will be None.\n",
    "print(bold.BOLD + \"Output from attempting to print shuffle command:\" + bold.END)\n",
    "print(np.random.shuffle([1, 2, 3]))\n",
    "print()\n",
    "\n",
    "# Creating a 1D array of numbers.\n",
    "x = np.array([1, 2, 3, 4, 5, 6])\n",
    "print(bold.BOLD + \"Original array:\" + bold.END)\n",
    "print(x)\n",
    "print()\n",
    "\n",
    "# Shuffling the 1D array.\n",
    "np.random.shuffle(x)\n",
    "print(bold.BOLD + \"Shuffled array:\" + bold.END)\n",
    "print(x)\n",
    "print()\n",
    "\n",
    "# Shuffling a list using the deck of cards created earlier. Note original list is in numerical order.\n",
    "print(bold.BOLD + \"Original deck order:\" + bold.END)\n",
    "print(cards[:15])\n",
    "print()\n",
    "\n",
    "np.random.shuffle(cards)\n",
    "print(bold.BOLD + \"Shuffled deck order:\" + bold.END)\n",
    "print(cards[:15])"
   ]
  },
  {
   "cell_type": "markdown",
   "metadata": {},
   "source": [
    "<br>\n",
    "\n",
    "If a multidimensional array is passed, only the outermost arrays will be shuffled. The order of inner arrays and individual elements are not affected by **shuffle**. The 3D array below consists of 3 arrays, each containing 2 arrays of 3 elements each. When this array is passed through the **shuffle** function, only the first 3 arrays are rearranged.   "
   ]
  },
  {
   "cell_type": "code",
   "execution_count": 23,
   "metadata": {},
   "outputs": [
    {
     "data": {
      "text/plain": [
       "array([[[ 1,  2,  3],\n",
       "        [ 4,  5,  6]],\n",
       "\n",
       "       [[13, 14, 15],\n",
       "        [16, 17, 18]],\n",
       "\n",
       "       [[ 7,  8,  9],\n",
       "        [10, 11, 12]]])"
      ]
     },
     "execution_count": 23,
     "metadata": {},
     "output_type": "execute_result"
    }
   ],
   "source": [
    "# Shuffling a 3D numpy array with the shuffle function.\n",
    "x = np.array([[[1, 2, 3],[4, 5, 6]], [[7, 8, 9], [10, 11, 12]], [[13, 14, 15], [16, 17, 18]]])\n",
    "np.random.shuffle(x)\n",
    "x"
   ]
  },
  {
   "cell_type": "markdown",
   "metadata": {},
   "source": [
    "<br>\n",
    "\n",
    "To shuffle the inner elements of a multi-dimensional array, you can first change it to a 1D array, perform **shuffle** and then return the array to its original shape.[<sup>17</sup>](https://www.science-emergence.com/Articles/How-to-randomly-shuffle-an-array-in-python-using-numpy/) "
   ]
  },
  {
   "cell_type": "code",
   "execution_count": 24,
   "metadata": {},
   "outputs": [
    {
     "name": "stdout",
     "output_type": "stream",
     "text": [
      "\u001b[1mOriginal 3D array:\u001b[0m\n",
      "[[[ 1  2  3]\n",
      "  [ 4  5  6]]\n",
      "\n",
      " [[ 7  8  9]\n",
      "  [10 11 12]]]\n",
      "\n",
      "\u001b[1m3D array changed to 1D array:\u001b[0m\n",
      "[ 1  2  3  4  5  6  7  8  9 10 11 12]\n",
      "\n",
      "\u001b[1mShuffled 1D array:\u001b[0m\n",
      "[ 7  8  9  4  5 11  3  6  1 12 10  2]\n",
      "\n",
      "\u001b[1mShuffled 1D array changed back to 3D array:\u001b[0m\n",
      "[[[ 7  8  9]\n",
      "  [ 4  5 11]]\n",
      "\n",
      " [[ 3  6  1]\n",
      "  [12 10  2]]]\n"
     ]
    }
   ],
   "source": [
    "# Create a 3D array.\n",
    "x = np.array([[[1, 2, 3],[4, 5, 6]], [[7, 8, 9], [10, 11, 12]]])\n",
    "print(bold.BOLD + \"Original 3D array:\" + bold.END)\n",
    "print(x)\n",
    "print()\n",
    "\n",
    "# Transform the 3D array into 1D array. \n",
    "x = x.ravel()\n",
    "print(bold.BOLD + \"3D array changed to 1D array:\" + bold.END)\n",
    "print(x)\n",
    "print()\n",
    "\n",
    "# Shuffle the 1D array.\n",
    "np.random.shuffle(x)\n",
    "print(bold.BOLD + \"Shuffled 1D array:\" + bold.END)\n",
    "print(x)\n",
    "print()\n",
    "\n",
    "# Transform back to 3D array.\n",
    "x = x.reshape(2, 2, 3)\n",
    "print(bold.BOLD + \"Shuffled 1D array changed back to 3D array:\" + bold.END)\n",
    "print(x)"
   ]
  },
  {
   "cell_type": "markdown",
   "metadata": {},
   "source": [
    "<br>\n",
    "\n",
    "### PERMUTATION\n",
    "\n",
    "Like the **shuffle** function, **permutation** will rearrange the contents of an array, list or tuple but, rather than affecting the input in place, returns a copy of the variable with the contents shuffled. [<sup>18</sup>](https://stackoverflow.com/a/15474335)  Where **shuffle** directly alters a variable, the original order is not affected but **premutation** as illustrated in the code below."
   ]
  },
  {
   "cell_type": "code",
   "execution_count": 25,
   "metadata": {},
   "outputs": [
    {
     "name": "stdout",
     "output_type": "stream",
     "text": [
      "\u001b[1mVariable x:\u001b[0m\n",
      "(1, 2, 3, 4, 5, 6)\n",
      "\n",
      "\u001b[1mPermuted instance of x:\u001b[0m\n",
      "[5 2 1 6 4 3]\n",
      "\n",
      "\u001b[1mUnaffected original x:\u001b[0m\n",
      "(1, 2, 3, 4, 5, 6)\n"
     ]
    }
   ],
   "source": [
    "# Demonstrating that permutation does not affect the original variable order.\n",
    "x = (1, 2, 3, 4, 5, 6)\n",
    "print(bold.BOLD + \"Variable x:\" + bold.END)\n",
    "print(x)\n",
    "print()\n",
    "print(bold.BOLD + \"Permuted instance of x:\" + bold.END)\n",
    "print(np.random.permutation(x))\n",
    "print()\n",
    "print(bold.BOLD + \"Unaffected original x:\" + bold.END)\n",
    "print(x)"
   ]
  },
  {
   "cell_type": "markdown",
   "metadata": {},
   "source": [
    "<br>\n",
    "\n",
    "Another feature that differentiates **permutation** from **shuffle** is that **permutation** can accept a single integer argument and will return a shuffled version of a range from 0 up to but not including the integer passed. "
   ]
  },
  {
   "cell_type": "code",
   "execution_count": 26,
   "metadata": {},
   "outputs": [
    {
     "data": {
      "text/plain": [
       "array([8, 9, 5, 7, 6, 4, 2, 0, 3, 1])"
      ]
     },
     "execution_count": 26,
     "metadata": {},
     "output_type": "execute_result"
    }
   ],
   "source": [
    "# Returning a shuffled sequence of numbers in the half open interval [0,10).\n",
    "np.random.permutation(10)"
   ]
  },
  {
   "cell_type": "markdown",
   "metadata": {},
   "source": [
    "This output cannot be returned as a multidimensional array by the **permutation** function itself but this can be achieved by adding the **reshape** function as shown below. "
   ]
  },
  {
   "cell_type": "code",
   "execution_count": 27,
   "metadata": {},
   "outputs": [
    {
     "data": {
      "text/plain": [
       "array([[8, 6, 2, 3, 4],\n",
       "       [7, 0, 9, 1, 5]])"
      ]
     },
     "execution_count": 27,
     "metadata": {},
     "output_type": "execute_result"
    }
   ],
   "source": [
    "# Returning shuffled 2D array of numbers in the half open interval [0,10).\n",
    "np.random.permutation(10).reshape(2, 5)"
   ]
  },
  {
   "cell_type": "markdown",
   "metadata": {},
   "source": [
    "<br>\n",
    "\n",
    "Multidimensional arrays are treated in a similar way to **shuffle** in that arrays are only shuffled along the first axis in the returned output."
   ]
  },
  {
   "cell_type": "code",
   "execution_count": 28,
   "metadata": {},
   "outputs": [
    {
     "data": {
      "text/plain": [
       "array([[[ 1,  2,  3],\n",
       "        [ 4,  5,  6]],\n",
       "\n",
       "       [[13, 14, 15],\n",
       "        [16, 17, 18]],\n",
       "\n",
       "       [[ 7,  8,  9],\n",
       "        [10, 11, 12]]])"
      ]
     },
     "execution_count": 28,
     "metadata": {},
     "output_type": "execute_result"
    }
   ],
   "source": [
    "# Shuffling a 3D numpy array with the permutation function.\n",
    "x = np.array([[[1, 2, 3],[4, 5, 6]], [[7, 8, 9], [10, 11, 12]], [[13, 14, 15], [16, 17, 18]]])\n",
    "np.random.permutation(x)"
   ]
  },
  {
   "cell_type": "markdown",
   "metadata": {},
   "source": [
    "<br>\n",
    "\n",
    "_________________________________________________________________________________________\n",
    "\n",
    "## PROBABILITY DISTRIBUTIONS\n",
    "\n",
    "In previous sections, the numbers generated have been drawn from either uniform or normal distributions by default but **numpy.random** offers 35 different probability distribution functions. I have previously discussed the continuous distributions of the **uniform** and **normal** functions as they related to the **rand** and **randn** functions respectively so in this section I will look at the following distribution functions, most of which are discrete: \n",
    "\n",
    "- Binomial\n",
    "- Multinomial\n",
    "- Poisson\n",
    "- Exponential\n",
    "- Geometric\n",
    "\n",
    "There are similarities between these functions but they are quite distinct from one another. I have used practical examples to illustrate each one. Of note, all of these functions have the parameter *size* which allows them to create multi-dimensional arrays of random numbers. When illustrating the functions below, I have only generated single arrays of numbers but it is possible to generate very complex multidimensional arrays from each of these probability distributions."
   ]
  },
  {
   "cell_type": "markdown",
   "metadata": {},
   "source": [
    "### BINOMIAL\n",
    "\n",
    "The **binomial** function is a based on the Bernoulli distribution, a discrete binary probability distribution that operates with just two mutually exclusive outcomes such as yes/no, on/off, heads/tails.[<sup>19</sup>](https://onlinelibrary.wiley.com/doi/pdf/10.1002/9781119197096.app03) The function takes three arguments:\n",
    "\n",
    "- *n:* the number of independent trials, e.g. the number of times a coin is flipped.\n",
    "- *p:* probability of an outcome of each trial, e.g. the probability of flipping a coin and getting heads would be 50/50.\n",
    "- *size:* the output shape, which is the number of times a series of trials is carried out, e.g. carrying out a 10 coin flips 100 times.\n",
    "\n",
    "<img src=\"https://encrypted-tbn0.gstatic.com/images?q=tbn:ANd9GcTjmsZnxI2tvFHR8yC3OmfYZwIkoSDeB96kJXGStyy84lzNY8Hxvg&s\" width=\"150\" style=\"padding: 0 15px; float: left;\">\n",
    "\n",
    "Taking a fair coin toss as an illustrative example, the code below demonstrates the binomial distribution of the number of times heads is achieved every 10 flips across 10,000 experiments. [<sup>20</sup>](https://cmdlinetips.com/2018/12/simulating-coin-toss-experiment-with-binomial-random-numbers-using-numpy/) The histogram below reflects the 50% probability of heads winning on a coin flip. The plot peaks at approximately 5 heads winning every 10 flips, while 0-2 heads and 8-10 heads are a lot less likely to happen.The shape of the plot can look very similar to a normal distribution, but that is only because of the large sample size. The key difference between normal and binomial distributions is that normal is continuous while binomial is discrete. [<sup>21</sup>](http://staweb.sta.cathedral.org/departments/math/mhansen/public_html/23stat/handouts/normbino.htm) There are no values in between the values of a binomial distribution, i.e. a coin lands on heads either 2 or 3 times, there is no option between these values."
   ]
  },
  {
   "cell_type": "code",
   "execution_count": 29,
   "metadata": {},
   "outputs": [
    {
     "data": {
      "image/png": "[encoded data removed]",
      "text/plain": [
       "<Figure size 432x288 with 1 Axes>"
      ]
     },
     "metadata": {
      "needs_background": "light"
     },
     "output_type": "display_data"
    }
   ],
   "source": [
    "# Defining the number of coin flips.\n",
    "flips = 10\n",
    "\n",
    "# Setting the probability that heads will come up.\n",
    "heads_prob = 0.5\n",
    "\n",
    "# Number of experiments where the coin is tossed 10 times.\n",
    "exp = 10000\n",
    "\n",
    "# Creating the array of random numbers.\n",
    "x = np.random.binomial(flips, heads_prob, size = exp)\n",
    "\n",
    "# Plotting the distribution.\n",
    "plt.hist(x)\n",
    "plt.title(\"coin toss: binomial distrbution\")\n",
    "plt.xlabel(\"number of heads\")\n",
    "plt.ylabel(\"heads success rate\")\n",
    "plt.show()"
   ]
  },
  {
   "cell_type": "markdown",
   "metadata": {},
   "source": [
    "From this distribution, the **binomial** function generates 10,000 random numbers, which can range from 0 (no heads in 10 flips) to 10 (all coins flipped are heads). The mean should be approximately 5 but, since this is a discrete distribution, both the median and mode should be exactly 5 to reflect the 50% probability that the coin will land on heads."
   ]
  },
  {
   "cell_type": "code",
   "execution_count": 30,
   "metadata": {},
   "outputs": [
    {
     "name": "stdout",
     "output_type": "stream",
     "text": [
      "\u001b[1mSample of random numbers:\u001b[0m\n",
      "[2 7 5 3 5 3 4 5 6 5 5 7 4 6 6 4 2 6 8 6]\n",
      "\n",
      "\u001b[1mThe 10000 random numbers generated from this binomial distributions range from 0 to 10 with a mean of 5.0011, a median of 5.0 and a mode of [5].\u001b[0m\n"
     ]
    }
   ],
   "source": [
    "# Sample of generated numbers\n",
    "print(bold.BOLD + \"Sample of random numbers:\" + bold.END)\n",
    "print(x[:20])\n",
    "print()\n",
    "\n",
    "# Calculating the value that occurs most often. \n",
    "mode = stats.mode(x)\n",
    "\n",
    "# The 10,000 numbers generated from the binomial distribution.\n",
    "print(bold.BOLD + f\"The {exp} random numbers generated from this binomial distributions range from {x.min()} to {x.max()} with a mean of {x.mean()}, a median of {np.median(x)} and a mode of {mode[0]}.\"  + bold.END)"
   ]
  },
  {
   "cell_type": "markdown",
   "metadata": {},
   "source": [
    "<br>\n",
    "\n",
    "### MULTINOMIAL\n",
    "\n",
    "Where the binomial distribution operates on two possible outcomes, a multinomial distribution - as the name suggests - can work with several. The **multinomial** function takes three arguments, some of which are similar to the **binomial** function, and returns a random number array:\n",
    "<img src=\"https://encrypted-tbn0.gstatic.com/images?q=tbn:ANd9GcQJmgTqtbvH5HyAJ0Lvc2xJlqM8jEhsoHaPkJ65iHUpOCFw3CRM&s\" width=\"350\" style=\"padding: 0 15px; float: right;\">\n",
    "\n",
    "- *n:* the number of independent trials, e.g. the number of times a single card is picked.\n",
    "- *pvals:* probability of each value outcome, e.g. the 1/4 probability of each suit in a deck of cards.\n",
    "- *size:* the output shape, which is the number of times a series of trials is carried out, e.g. 5 cards drawn 100 times.\n",
    "\n",
    "To illustrate this discrete distribution, I'll revisit the example of a deck of cards. [<sup>22</sup>](https://stattrek.com/probability-distributions/multinomial.aspx)  A card is drawn from a 52 card deck, the suit is noted and the card is shuffled back into the deck. This means that every time a card is drawn, there is consistently a 25% chance that it could be any suit. Ten cards are drawn in this way to constitute a single trial. A numpy array is returned that shows how many times each suit is drawn as shown below:"
   ]
  },
  {
   "cell_type": "code",
   "execution_count": 31,
   "metadata": {},
   "outputs": [
    {
     "name": "stdout",
     "output_type": "stream",
     "text": [
      "[0 3 3 4]\n",
      "\n",
      "\u001b[1mThe 10 cards drawn in this trial contain 0 hearts, 3 diamonds, 3 clubs and 4 spades.\u001b[0m\n"
     ]
    }
   ],
   "source": [
    "# Drawing 10 cards.\n",
    "draws = 10\n",
    "\n",
    "# Single multinomial trial.\n",
    "x = np.random.multinomial(draws, pvals = (0.25, 0.25, 0.25, 0.25))\n",
    "print(x)\n",
    "print()\n",
    "print(bold.BOLD + f\"The {draws} cards drawn in this trial contain {x[0]} hearts, {x[1]} diamonds, {x[2]} clubs and {x[3]} spades.\" + bold.END)"
   ]
  },
  {
   "cell_type": "markdown",
   "metadata": {},
   "source": [
    "<br>\n",
    "\n",
    "The code below repeats each trial 10,000 times to visually demonstrate the multinomial distribution. In the histogram, each suit is represented by a different colour and they are uniformly distributed in the frequency each one is drawn, which is to be expected as the probability for each is equal. "
   ]
  },
  {
   "cell_type": "code",
   "execution_count": 32,
   "metadata": {},
   "outputs": [
    {
     "data": {
      "image/png": "[encoded data removed]",
      "text/plain": [
       "<Figure size 432x288 with 1 Axes>"
      ]
     },
     "metadata": {
      "needs_background": "light"
     },
     "output_type": "display_data"
    }
   ],
   "source": [
    "# Creating the random number arrays.\n",
    "x = np.random.multinomial(draws, pvals = (0.25, 0.25, 0.25, 0.25), size=10000)\n",
    "\n",
    "# Plotting the distribution.\n",
    "plt.hist(x)\n",
    "plt.title(\"card suits: multinomial distribution\")\n",
    "plt.xlabel(\"number of times each suit is drawn\")\n",
    "plt.ylabel(\"suits success rate\")\n",
    "plt.show()"
   ]
  },
  {
   "cell_type": "markdown",
   "metadata": {},
   "source": [
    "With 10 cards drawn, and the probability of each suit set to 25%, an average of 2.5 cards of each suit should be drawn (reflected in the mean below). However, since we can't halve cards and this is a discrete distribution, we can see in the plot above that each suit generally appears 2 or 3 times in the returned arrays. The numbers within each array can potentially range from 0 (no cards of a particular suit drawn) to 10 (all cards drawn are of the same suit)."
   ]
  },
  {
   "cell_type": "code",
   "execution_count": 33,
   "metadata": {},
   "outputs": [
    {
     "name": "stdout",
     "output_type": "stream",
     "text": [
      "\u001b[1mSample of random number arrays:\u001b[0m\n",
      "[[3 3 1 3]\n",
      " [2 3 5 0]\n",
      " [1 0 2 7]\n",
      " [3 5 1 1]\n",
      " [1 4 2 3]\n",
      " [2 0 3 5]\n",
      " [1 5 1 3]\n",
      " [2 6 1 1]\n",
      " [2 2 3 3]\n",
      " [1 6 0 3]]\n",
      "\n",
      "\u001b[1mThe 10,000 random arrays generated from this multinomial distribution have numbers ranging from 0 to 8 with a mean of 2.5.\u001b[0m\n"
     ]
    }
   ],
   "source": [
    "# Sample of generated numbers.\n",
    "print(bold.BOLD + \"Sample of random number arrays:\" + bold.END)\n",
    "print(x[:10])\n",
    "print()\n",
    "\n",
    "# Calculating the value that occurs most often. \n",
    "mode = stats.mode(x)\n",
    "\n",
    "# The 10,000 random number arrays returned.\n",
    "print(bold.BOLD + f\"The 10,000 random arrays generated from this multinomial distribution have numbers ranging from {x.min()} to {x.max()} with a mean of {x.mean()}.\"  + bold.END)"
   ]
  },
  {
   "cell_type": "markdown",
   "metadata": {},
   "source": [
    "<br>\n",
    "\n",
    "### POISSON\n",
    "\n",
    "The poisson distribution is a special case of the binomial distribution where we do not know the exact values of *n* (number of trials) or *p* (probability) but do know the average number of successes in a certain period of time. This value, the success rate, is called lambda (*λ*) and is the same as multiplying the probability of success by the number of trials (*np*). [<sup>23</sup>](https://medium.com/@andrew.chamberlain/deriving-the-poisson-distribution-from-the-binomial-distribution-840cc1668239) It is a discrete distribution, usually used to model the average rate that independent events occur.\n",
    "\n",
    "The **poisson** function takes two arguments: \n",
    "\n",
    "- *λ (lam):* the average number of events in a certain unit of time, e.g. phone calls per hour.\n",
    "<img src=\"https://i.imgur.com/UEF9d4L.jpg\" width=\"300\" style=\"padding: 0 15px; float: right;\">\n",
    "- *size:* the output shape, which is the number of time periods, e.g. number of hours per week.\n",
    "\n",
    "As an example, the code below looks at the number of phone calls an employee takes per hour at their job over the course of a year, working 40 hours a week for 48 weeks of the year. Of course, it would be impossible to know for certain how many people are going to phone in an hour, never mind the probability of such, but the number of calls received in an hour can be quantified and the mean deduced. The average number of phone calls received every hour is 10 (*λ*=10), and so, similar to a continuous normal distribution even though poisson is discrete, the highest point of the histogram is at the mean 10 and the likelihood of more or less phone calls per hour drops on either side."
   ]
  },
  {
   "cell_type": "code",
   "execution_count": 34,
   "metadata": {},
   "outputs": [
    {
     "data": {
      "image/png": "[encoded data removed]",
      "text/plain": [
       "<Figure size 432x288 with 1 Axes>"
      ]
     },
     "metadata": {
      "needs_background": "light"
     },
     "output_type": "display_data"
    }
   ],
   "source": [
    "# Calls per hour.\n",
    "cph = 10\n",
    "\n",
    "# Number of hours worked in a year.\n",
    "year = 40 * 48\n",
    "\n",
    "# Creating the array of random numbers.\n",
    "x = np.random.poisson(cph, size = year)\n",
    "\n",
    "# Plotting the distribution.\n",
    "plt.hist(x)\n",
    "plt.title(\"phone calls: poisson distribution\")\n",
    "plt.xlabel(\"calls per hour\")\n",
    "plt.ylabel(\"frequency of the number of calls\")\n",
    "plt.show()"
   ]
  },
  {
   "cell_type": "markdown",
   "metadata": {},
   "source": [
    "With the **poisson** function, the random numbers generated can potentially range from 0 (no calls in an hour) to 20+ (over 20 calls per hour), but generally the numbers will be close to 10 as demonstrated by the mean, median and mode values below. "
   ]
  },
  {
   "cell_type": "code",
   "execution_count": 35,
   "metadata": {},
   "outputs": [
    {
     "name": "stdout",
     "output_type": "stream",
     "text": [
      "\u001b[1mSample of random numbers:\u001b[0m\n",
      "[ 8  7  6 10  8  8 14 12 13 10 17 17 13 16 11 11 12 11  8 10]\n",
      "\n",
      "\u001b[1mThe 1920 random numbers generated from this poisson distribution range from 1 to 22 with a mean of 9.908, a median of 10.0 and a mode of [9].\u001b[0m\n"
     ]
    }
   ],
   "source": [
    "# Sample of generated numbers.\n",
    "print(bold.BOLD + \"Sample of random numbers:\" + bold.END)\n",
    "print(x[:20])\n",
    "print()\n",
    "\n",
    "# Calculating the value that occurs most often. \n",
    "mode = stats.mode(x)\n",
    "\n",
    "# The 1920 numbers generated from the poisson distribution.\n",
    "print(bold.BOLD + f\"The {year} random numbers generated from this poisson distribution range from {x.min()} to {x.max()} with a mean of {x.mean().round(3)}, a median of {np.median(x)} and a mode of {mode[0]}.\"  + bold.END)"
   ]
  },
  {
   "cell_type": "markdown",
   "metadata": {},
   "source": [
    "<br>\n",
    "\n",
    "### EXPONENTIAL\n",
    "\n",
    "Where the poisson distribution looks at the number of events in a certain time frame, an exponential distribution could be used to look at the time intervals between events.[<sup>24</sup>](https://stats.stackexchange.com/questions/2092/relationship-between-poisson-and-exponential-distribution) It is a continuous distribution as time is not made up of fixed values. The **exponential** function takes two arguments:\n",
    "\n",
    "- *β (scale):* 1/λ - the time interval between events, e.g. 6 minutes between one phone call and another.\n",
    "- *size*: the output shape, which is the number of times a particular time period lapsed between events, e.g. the number of times that 6 minutes lapsed between phone calls.  \n",
    "<img src=\"https://i.imgur.com/xhrVz46.png\" width=\"200\" style=\"padding: 0 15px; float: right;\">\n",
    "\n",
    "Looking back at the worker who has an average of 10 phone calls per hour, the parameter β would be 1/10 (1/λ) to represent 0.1 or 10% of the time interval, which in this case is an hour. This means the worker gets approximately 1 call every 6 minutes (10% of 60 mins = 6 mins). As the histogram below demonstrates, most of the phone calls that come in are centred around the 0.1 mark and as the time interval gets larger, the chances that it takes so long for the next call to come in drop dramatically, e.g. it is very rare that half an hour (0.5 on the histogram) would pass between phone calls. "
   ]
  },
  {
   "cell_type": "code",
   "execution_count": 36,
   "metadata": {},
   "outputs": [
    {
     "data": {
      "image/png": "[encoded data removed]",
      "text/plain": [
       "<Figure size 432x288 with 1 Axes>"
      ]
     },
     "metadata": {
      "needs_background": "light"
     },
     "output_type": "display_data"
    }
   ],
   "source": [
    "# Average time interval (1/λ).\n",
    "interval = 1/cph\n",
    "\n",
    "# Creating the array of random numbers.\n",
    "x = np.random.exponential(interval, size = 1000)\n",
    "\n",
    "# Plotting the distribution.\n",
    "plt.hist(x)\n",
    "plt.title(\"interval between phonecalls: exponential distribution\")\n",
    "plt.xlabel(\"time intervals\")\n",
    "plt.ylabel(\"frequency of time intervals\")\n",
    "plt.show()"
   ]
  },
  {
   "cell_type": "markdown",
   "metadata": {},
   "source": [
    "The random numbers generated from this exponential distribution are floating point numbers that represent portions of an hour and nearly all fall between 0.0-0.3, with very few values beyond this. The mean, as should be expected, is close to 0.1."
   ]
  },
  {
   "cell_type": "code",
   "execution_count": 37,
   "metadata": {},
   "outputs": [
    {
     "name": "stdout",
     "output_type": "stream",
     "text": [
      "\u001b[1mSample of random numbers:\u001b[0m\n",
      "[0.15517361 0.12399748 0.02713717 0.02249022 0.01075903]\n",
      "\n",
      "\u001b[1mThe 1000 random numbers generated from this exponential distribution range from about 4.848327107795528e-05 to 0.8298125452771468 with a mean of 0.09701757217520784.\u001b[0m\n"
     ]
    }
   ],
   "source": [
    "# Sample of generated numbers.\n",
    "print(bold.BOLD + \"Sample of random numbers:\" + bold.END)\n",
    "print(x[:5])\n",
    "print()\n",
    "\n",
    "# The 1000 numbers generated from the exponential distribution.\n",
    "print(bold.BOLD + f\"The 1000 random numbers generated from this exponential distribution range from about {x.min()} to {x.max()} with a mean of {x.mean()}.\" + bold.END)             "
   ]
  },
  {
   "cell_type": "markdown",
   "metadata": {},
   "source": [
    "### GEOMETRIC\n",
    "\n",
    "The final function I will discuss is the **geometric** function, which is related to the exponential distribution except that is it discrete rather than continuous. The histogram in the code below looks very similar to the exponential plot above but represents a very different set of data. Where an exponential distribution is the time between events, a geometric probability distribution represents the number of failures before a successful event in a series of Bernoulli trials.[<sup>25</sup>](https://www.statisticshowto.datasciencecentral.com/geometric-distribution/)\n",
    "\n",
    "The **geometric** function takes two parameters:\n",
    "\n",
    "- *p:* the probability of the successful event occurring in a trial, e.g. the 50/50 chance of heads when flipping a coin.\n",
    "- *size:* the output shape, which is the number of trials before a success, e.g. the number of times the coin was flipped before getting a heads.\n",
    "<img src=\"https://encrypted-tbn0.gstatic.com/images?q=tbn:ANd9GcR7NDqaSKzgk3CfJYMFxBPL4yCAT-O8Q5LNHhTlpUs2T-VeBjHE&s\" width=\"200\" style=\"padding: 0 15px; float: left;\">\n",
    "\n",
    "Going back to the Bernoulli trial of a coin flip that was used in the discussion about the **binomial** function, I will use the same scenario to demonstrate the geometric distribution. While previously we counted the number of times heads was achieved in 10 coin flips, here we look at the number of flips it takes before the coin lands on heads. Once a heads is achieved, the number of flips is recorded and the next trial begins. The *p* value is again set to 0.5 to represent the 50% probability of getting heads. As may be expected, most of the time when flipping a coin it might only takes 1 or 2 flips before seeing a heads and the histogram below reflects this with a huge proportion of the 1000 trials taking 2 flips or less.  "
   ]
  },
  {
   "cell_type": "code",
   "execution_count": 38,
   "metadata": {},
   "outputs": [
    {
     "data": {
      "image/png": "[encoded data removed]",
      "text/plain": [
       "<Figure size 432x288 with 1 Axes>"
      ]
     },
     "metadata": {
      "needs_background": "light"
     },
     "output_type": "display_data"
    }
   ],
   "source": [
    "# Creating the array of random numbers.\n",
    "x = np.random.geometric(0.5, size = 1000)\n",
    "\n",
    "\n",
    "# Plotting the distribution.\n",
    "plt.hist(x)\n",
    "plt.title(\"coin flips: geometric distribution\")\n",
    "plt.xlabel(\"number of flips\")\n",
    "plt.ylabel(\"frequency of failures\")\n",
    "plt.show()"
   ]
  },
  {
   "cell_type": "markdown",
   "metadata": {},
   "source": [
    "The mean, median and mode below also illustrate the trend of taking 1 or 2 flips to get heads. The range of the numbers starts at 1 (a single flip) but the top of the range cannot be estimated. Since each coin flip is an independent trial, there could potentially be a large amount of flips before the coin lands on heads, even if it's quite unlikely."
   ]
  },
  {
   "cell_type": "code",
   "execution_count": 39,
   "metadata": {},
   "outputs": [
    {
     "name": "stdout",
     "output_type": "stream",
     "text": [
      "\u001b[1mSample of random numbers:\u001b[0m\n",
      "[3 3 1 3 1 1 1 1 1 1 3 2 1 1 2 1 2 4 1 2]\n",
      "\n",
      "\u001b[1mThe 1000 random numbers generated from this geometric distribution range from 1 to 9 with a mean of 2.016, a median of 2.0 and a mode of [1].\u001b[0m\n"
     ]
    }
   ],
   "source": [
    "# Sample of generated numbers.\n",
    "print(bold.BOLD + \"Sample of random numbers:\" + bold.END)\n",
    "print(x[:20])\n",
    "print()\n",
    "\n",
    "# Calculating the value that occurs most often. \n",
    "mode = stats.mode(x)\n",
    "\n",
    "# The 1000 numbers generated from the geometrical distribution.\n",
    "print(bold.BOLD + f\"The 1000 random numbers generated from this geometric distribution range from {x.min()} to {x.max()} with a mean of {x.mean().round(3)}, a median of {np.median(x)} and a mode of {mode[0]}.\"  + bold.END)"
   ]
  },
  {
   "cell_type": "markdown",
   "metadata": {},
   "source": [
    "<br>\n",
    "\n",
    "_________________________________________________________________________________________________________________\n",
    "\n",
    "## RANDOM GENERATORS\n",
    "\n",
    "In the introduction to this project, I mentioned that pseudorandom number generators, such as **numpy.random**, are initialised by a **seed**. This seed can be a number or array that is manipulated by an algorithm to generate random values. By default, a system's clock in milliseconds is often used as the seed [<sup>26</sup>](https://machinelearningmastery.com/how-to-generate-random-numbers-in-python/) but it is also possible to create your own seed. This is useful as it allows for reproducibility when testing or debugging code as the random sequence generated will always be the same if a function is initialised with the same seed. **numpy.random** has 2 functions that allow the user to set a seed state:\n",
    "\n",
    "- seed\n",
    "- RandomState\n",
    "\n",
    "I will discuss these functions and the difference between them below. I will also briefly touch on the **get_state** and **set_state** functions."
   ]
  },
  {
   "cell_type": "markdown",
   "metadata": {},
   "source": [
    "<br>\n",
    "\n",
    "### SEED \n",
    "\n",
    "The **seed** function accepts a single argument, either an integer or array, that is used to seed the pseudorandom number generator. It doesn't matter what value is entered into the function as it only serves as a starting point to create the initial random value. \n",
    "\n",
    "Below is an example of the function in operation. Once the seed is set, the **rand** function is called twice and returns two different sets of numbers. The reason it does not return the same sequence the second time, even though the same function is being called, is because the seed value only affects the first randomly generated value. After that, the seed becomes the previous number generated [<sup>27</sup>](https://stackoverflow.com/a/22639752) and so a different sequence of numbers will be created. However, if the seed is reset with the same value and the two rand functions run again, the sequences will match those of the first instance.  "
   ]
  },
  {
   "cell_type": "code",
   "execution_count": 40,
   "metadata": {},
   "outputs": [
    {
     "name": "stdout",
     "output_type": "stream",
     "text": [
      "\u001b[1mFirst rand sequence:\u001b[0m\n",
      "[0.69646919 0.28613933 0.22685145]\n",
      "\n",
      "\u001b[1mSecond rand sequence:\u001b[0m\n",
      "[0.55131477 0.71946897 0.42310646]\n",
      "\n",
      "\u001b[1mFirst rand sequence after seed reset:\u001b[0m\n",
      "[0.69646919 0.28613933 0.22685145]\n",
      "\n",
      "\u001b[1mSecond rand sequence after seed reset:\u001b[0m\n",
      "[0.55131477 0.71946897 0.42310646]\n"
     ]
    }
   ],
   "source": [
    "# Setting the seed.\n",
    "np.random.seed(123)\n",
    "\n",
    "# Calling rand function twice.\n",
    "print(bold.BOLD + \"First rand sequence:\" + bold.END)\n",
    "print(np.random.rand(3))\n",
    "print()\n",
    "print(bold.BOLD + \"Second rand sequence:\" + bold.END)\n",
    "print(np.random.rand(3))\n",
    "print()\n",
    "\n",
    "# Setting the seed again with the same value.\n",
    "np.random.seed(123)\n",
    "\n",
    "# Recalling rand function twice.\n",
    "print(bold.BOLD + \"First rand sequence after seed reset:\" + bold.END)\n",
    "print(np.random.rand(3))\n",
    "print()\n",
    "print(bold.BOLD + \"Second rand sequence after seed reset:\" + bold.END)\n",
    "print(np.random.rand(3))"
   ]
  },
  {
   "cell_type": "markdown",
   "metadata": {},
   "source": [
    "Some believe that using the **seed** function should be avoided where possible for the following related reasons:\n",
    "\n",
    "- It resets the global state, which can have unpredictable and undesirable effects on a program.[<sup>28</sup>](https://softwareengineering.stackexchange.com/a/148109)\n",
    "- It is not thread safe.[<sup>29</sup>](https://stackoverflow.com/questions/5836335/consistently-create-same-random-numpy-array) Threads are a way in which a program can be split into simultaneously running tasks[<sup>30</sup>](https://simple.wikipedia.org/wiki/Thread_(computer_science)) and the **seed** function may cause issues if different threads attempt to run it at the same time.[<sup>31</sup>](https://stackoverflow.com/a/7030595) \n",
    "\n",
    "The **RandomState** function does not have such issues and it is recommended by some to use this function over **seed** when possible, although there is some debate about that.[<sup>32</sup>](https://stackoverflow.com/a/37224605)"
   ]
  },
  {
   "cell_type": "markdown",
   "metadata": {},
   "source": [
    "<br>\n",
    "\n",
    "### RANDOMSTATE\n",
    "\n",
    "The **RandomState** function takes the same kind of argument as **seed** but works differently. It creates a new seed instance without affecting the rest of the program so you always know what code uses the set seed as it needs to be explicitly stated.[<sup>33</sup>](https://stackoverflow.com/questions/37224116/difference-between-randomstate-and-seed-in-numpy) As a *class*, it serves as a blueprint for a new seed and must be reinitialised to get predictable sequences. For this reason, it is generally assigned to a variable as it needs to work directly on a function. \n",
    "\n",
    "Below the **geometric** and **choice** functions are called with the variable *rs* which contains an instance of **RandomState**. As with **seed**, when called a second time with *rs*, each function returns a different sequence. **RandomState** is then reinitialised with the same seed value under the variable *rs2* and when the functions are called again, the sequences match the first instance."
   ]
  },
  {
   "cell_type": "code",
   "execution_count": 41,
   "metadata": {},
   "outputs": [
    {
     "name": "stdout",
     "output_type": "stream",
     "text": [
      "\u001b[1mFirst sequences:\u001b[0m\n",
      "[7 1 1 1 2]\n",
      "\n",
      "['John' 'John' 'Helen' 'John' 'Tony']\n",
      "\n",
      "[8 2 1 7 1]\n",
      "\n",
      "['Helen' 'John' 'Helen' 'Helen' 'Tony']\n",
      "\n",
      "\u001b[1mRepeated sequences:\u001b[0m\n",
      "[7 1 1 1 2]\n",
      "\n",
      "['John' 'John' 'Helen' 'John' 'Tony']\n",
      "\n",
      "[8 2 1 7 1]\n",
      "\n",
      "['Helen' 'John' 'Helen' 'Helen' 'Tony']\n"
     ]
    }
   ],
   "source": [
    "# Creating RandomState variable.\n",
    "rs = np.random.RandomState(12345)\n",
    "\n",
    "# Using the variable to seed a function.\n",
    "print(bold.BOLD + \"First sequences:\" + bold.END)\n",
    "print(rs.geometric(0.35, 5))\n",
    "print()\n",
    "print(rs.choice(lst, 5))\n",
    "print()\n",
    "print(rs.geometric(0.3, 5))\n",
    "print()\n",
    "print(rs.choice(lst, 5))\n",
    "print()\n",
    "\n",
    "# Reinitialising RandomState under a new variable with the same seed.\n",
    "rs2 = np.random.RandomState(12345)\n",
    "\n",
    "# Using the new variable to seed a function.\n",
    "print(bold.BOLD + \"Repeated sequences:\" + bold.END)\n",
    "print(rs2.geometric(0.35, 5))\n",
    "print()\n",
    "print(rs2.choice(lst, 5))\n",
    "print()\n",
    "print(rs2.geometric(0.3, 5))\n",
    "print()\n",
    "print(rs2.choice(lst, 5))\n"
   ]
  },
  {
   "cell_type": "markdown",
   "metadata": {},
   "source": [
    "<br>\n",
    "\n",
    "### GENERATOR STATE\n",
    "\n",
    "**numpy.random** allows the user to check the current internal state of the Mersenne Twister PRNG or the state set by using **RandomState**. It is possible to view or save the current seed state with **get_state**. This functon does not take any arguments and returns a large tuple containing:\n",
    "\n",
    "- The Mersenne Twister PRNG: MT19937, which is the most commonly used version.[<sup>34</sup>](https://en.wikipedia.org/wiki/Mersenne_Twister)\n",
    "- The MT19937 vector which is a 624- element array of 32-bit unsigned integers.\n",
    "- The current position of the state within the array (*pos*).\n",
    "\n",
    "Below is the output of calling the current state:"
   ]
  },
  {
   "cell_type": "code",
   "execution_count": 42,
   "metadata": {},
   "outputs": [
    {
     "data": {
      "text/plain": [
       "('MT19937', array([1122872025,  737094441, 4160526012, 3414899017, 3282997386,\n",
       "        3586720757, 2011856609,  691369529, 2704741050,  320439860,\n",
       "         922494571, 3178248661, 3274377074, 3275764267, 3081342085,\n",
       "        2076807258, 1081761650, 3533801578, 2432145187, 1699078966,\n",
       "        2512661213, 1425501352, 2918224469, 2454684247, 3388172078,\n",
       "        4259147081, 2363261628,  303126520, 3848195136, 4116394420,\n",
       "         140915001, 3005568500, 1375581996, 3142161116,  206045127,\n",
       "         457585225, 1679241285,  505342217, 4046559470, 1308879792,\n",
       "        3204447901, 1734328260, 1896898150, 3691171616, 1355923724,\n",
       "        3055484125, 2589013697, 3544610295, 2961208966, 3577412106,\n",
       "        1869140688, 1175939934, 3375062202, 1643448851, 2530320692,\n",
       "        1057421054,  884475053, 3346252175, 3889918247, 4066914563,\n",
       "         274216968,  713733417, 3805498216, 3999013250, 1969742413,\n",
       "        3098704596, 1717761612, 3694012174, 1808552583, 1972588566,\n",
       "        1658590618, 1898870322, 1499872357, 1039751222, 3880105830,\n",
       "        3696705387, 1607970438, 1898117675,  659853514, 3282708766,\n",
       "         819682166, 1371972783, 2187801424,  960008648, 2293014227,\n",
       "        3034264138, 2017002840,   58723420, 4036501433,  388258582,\n",
       "         802716879, 4025706644, 3858269009, 1045520167,  877461974,\n",
       "        2695592382, 3829809646, 1996136340, 3367075933, 3285255553,\n",
       "        1336701831, 2800433325, 3254471065, 3211425170,  187130101,\n",
       "        1163498262, 1108342448, 1421522846, 4261841367, 2760766097,\n",
       "         914228878, 1981461314, 2354325253, 3200487865, 1990934641,\n",
       "        3126186330, 2303633240, 2908561938, 2266471168, 3696819779,\n",
       "         905242403, 3281138319, 4081560457, 3279226936, 3282823424,\n",
       "        1889953775,  301481425, 2552827920, 2918194413,  904109635,\n",
       "         552230479,  161650292,   16950610,  947572109, 1476654111,\n",
       "        4256645035, 4156963877,  830712929, 1173112624,  758435882,\n",
       "        3579715829, 2315344448, 2287728185, 2472835962, 2365892946,\n",
       "        3510583757, 3475656166, 2434499731, 2216680284, 2359973408,\n",
       "        1393210317, 2311957733, 2748671078,  536854380, 2143190453,\n",
       "        3340280002, 1732575844, 3161815031, 1036892316, 3193369909,\n",
       "          70417284, 2021041499, 3367340408, 2719652041, 2324900995,\n",
       "        2664480367, 1176291886, 1862139718, 1353925187, 3882857670,\n",
       "        2533964711, 1511717822, 4177874634, 4120968952, 2095908382,\n",
       "        2082295578, 1627861547, 1911768575, 3539434040, 4121524024,\n",
       "         700002367, 2679419985,  136773556, 2062264432, 3523702439,\n",
       "        2211275877, 3972263260, 2375398073, 2961970464, 2040720185,\n",
       "        2432762515, 3318975361, 2408036026, 3289896250, 2265870178,\n",
       "         367424839, 1722443602, 1688516966, 2247758598, 2775270453,\n",
       "         838489712,  979962382, 1321601760, 1605447103, 2023457969,\n",
       "        1409942241, 2412900480, 2694360435, 1896576861, 3789966922,\n",
       "        2460761754, 3831962867,  192276956, 3827302317, 1072028217,\n",
       "        2539208068, 2048661212, 1335821353,  913061931, 1875071013,\n",
       "        1465248384,  625898375, 3532592441, 2195751855, 3186747009,\n",
       "        2693894474,  319090394, 1593383641, 3498533409, 3375052794,\n",
       "        2296208480, 3740879403, 1926355411,  627741356, 2370873648,\n",
       "        2195175262,  481409577, 1555207656, 4175368353, 3462228046,\n",
       "        1370258896,  860065285, 2101898237,  168051082,  210583810,\n",
       "        1635452935, 3185896436, 1183383096,  717787102,   47483447,\n",
       "        2017991713, 2726180840, 4290114566, 3400382713, 3786376820,\n",
       "        3289390463, 3783998394, 1840827989, 3331306945, 3643314414,\n",
       "        4049325469,  424124911, 3638990118, 3922578748, 1040897212,\n",
       "        1455542929, 3887192778, 4203615399, 3904339059, 3392347128,\n",
       "         861764920,  216780714, 1615227753, 1928890899, 1578726274,\n",
       "         227350039,  349977696, 4075951529,  426848895, 2446857878,\n",
       "        3038045057, 1529396688, 1125856476, 2887989976, 3964258780,\n",
       "         441003619,  200242061, 1039584141,  175485077, 1460494296,\n",
       "        1457778177,  661458702, 1840195479, 4185700674, 3399134389,\n",
       "        1641244380, 3142726367, 3076936223,  391280925, 2604264660,\n",
       "        1155031074,  368583979, 1923828101, 1999553643, 1916548071,\n",
       "        1391182768, 3106123469, 2338893090, 4139658241, 4193060763,\n",
       "         106999213, 1061980203,  739700330, 4261710189,  629410814,\n",
       "        1052159225,  174592282, 1254969359, 3395437958,   69110623,\n",
       "        2543070189, 1608782163, 3984757974, 2402328033, 1726939604,\n",
       "        2706290965, 3113055650, 2345203608, 4057851601, 2530927983,\n",
       "         250619646,  278184368, 3025741747,  451112606, 3181393267,\n",
       "        3580762549, 2998590612,  536269612, 1960538884, 2618586445,\n",
       "         313253492,   65113691, 2589213866,  423053961, 2696338423,\n",
       "        3205479942, 3537660157, 1472222762, 3378011233, 4110059804,\n",
       "        1229904543, 1088458597, 1197564202, 2373669650, 3136975456,\n",
       "         819931046,  834638986, 1164384212, 1475981148, 1722932147,\n",
       "        1587576394, 4093146410,  631896600, 1080322558, 3583251473,\n",
       "         407489645, 2706612637,   53335293, 4183239065,  593419758,\n",
       "        1526216675, 1102206434, 3711374837, 4006182709, 2206546238,\n",
       "        3015881121, 4146692347, 3372072900, 3139200827,  958977727,\n",
       "        2047602264, 4059983775, 3532426713, 1209220355, 4072089926,\n",
       "         671001866,  747671301, 3028711396, 2832478268, 1843472042,\n",
       "         155393522, 4021812638, 2616030343, 1230240867, 3516919231,\n",
       "         190487402,  116789655, 2745255018,  762095432,  238706680,\n",
       "         329670851, 1392607907,  513667250, 3136313053, 1466445653,\n",
       "         669554451,  949151891, 3195474594, 3452100799, 1250596268,\n",
       "        4204244202,  409769516, 2885494464,  318278070,  166401246,\n",
       "        1532369024, 2320853600, 3353462919, 1438340587, 1840693485,\n",
       "        1272805791,  254448666, 1600454979, 2107936058, 2694817016,\n",
       "         387402485, 2229144529, 4251070798,  884887616, 1957320061,\n",
       "         813881257, 2440006643, 2927929178, 4174220850, 2725621429,\n",
       "        1039370752,  599313587, 2034885557, 1417575591, 1662175378,\n",
       "        2964311831, 1397856157, 3312421165, 1019689466, 3291038762,\n",
       "        4079917366,  751858340, 1189039173, 3792204652, 1128315889,\n",
       "        2158850056, 3965653473,  428922967, 1105791752, 2473538084,\n",
       "         762991771,  111545725,  703700720,  677326175,  232442155,\n",
       "        1028963805, 2639501388, 1190554553, 3865965537, 3662590156,\n",
       "        1383392476, 1623662146,  278965780, 3347956857,   55050024,\n",
       "        1084141768, 2073971289, 1953299329, 4254318532, 3354503482,\n",
       "        2429860816, 3892808726,  668907179, 1593060337, 3285964040,\n",
       "        2990370679, 1003122341, 3770227797,  855487998, 1848157593,\n",
       "        4071686574, 4252093599, 2055719545,  970720001,  667668747,\n",
       "         594661943, 4265297362, 1118641135, 3129519576, 1113864553,\n",
       "        4082789854, 1233331230, 4199871268, 1284412828, 1157305633,\n",
       "        1135323654, 3214402252, 3210575608,  357746572, 2119439470,\n",
       "        3089432199,  364084521,  309584334, 3367014081, 3760228340,\n",
       "         640371317, 1110166959, 3888464125,  147589675, 2958863917,\n",
       "        3146184581, 3215846479,  854176721,  764549064,  301424912,\n",
       "        3711594168, 1559484723, 1045028780, 4161638724, 1511003144,\n",
       "         284302578, 1214761446, 2483873579,  391738882,  932544084,\n",
       "        2319196845,  589488997, 3249055035, 1943981140, 3692042211,\n",
       "        3546797104, 2915657524,  612393141, 1365940662, 3034505988,\n",
       "        3597524219, 3977110133, 1520119218, 3293495345, 1034082403,\n",
       "         795547805, 3091892453, 3873136747, 1837455088, 1807376413,\n",
       "        3726656238,  579305038,  654297884,  988409672, 3615143892,\n",
       "        2232054438, 2786910931, 2744449236, 3880266292, 3799519785,\n",
       "        3756835966,  960320010, 3111460890, 1037779612,  209951884,\n",
       "         983033764, 1497040946, 3783877112, 4074885362, 3593503162,\n",
       "        3029903931, 4088814669, 1207086652, 3382337669, 2326921001,\n",
       "         704500669,  619566889, 2191761866,  428341710, 1080112307,\n",
       "        2087452119, 3199187205, 2728582021, 4041125618, 1410125678,\n",
       "        1818731483,  151893765, 2300663710, 2407658977, 3184292407,\n",
       "         877616145, 1961447659, 2926926963, 3071055827, 3454849398,\n",
       "        1001018403,  569706072, 1252270618, 2909045054, 3647931566,\n",
       "        1052757060, 1022942820, 1719086399,   20269828,   51720488,\n",
       "          54414564, 3957970932, 2696006700, 2271540074, 1848767114,\n",
       "        4173021873, 2245102472, 1639277978,  716946694, 1867844294,\n",
       "         608169812,  140515359, 2949172605, 1227922820, 2150940520,\n",
       "        2529859744,  676177722, 2760301324, 4270355492], dtype=uint32), 12, 0, 0.0)"
      ]
     },
     "execution_count": 42,
     "metadata": {},
     "output_type": "execute_result"
    }
   ],
   "source": [
    "# Checking current PRNG state.\n",
    "np.random.get_state()"
   ]
  },
  {
   "cell_type": "markdown",
   "metadata": {},
   "source": [
    "The state can be saved to a variable and used to set the state at a later time with **set_state**. Below I use the state created in the variable *rs* previously and save it to the variable *state*. This can then be used to set the state at any time."
   ]
  },
  {
   "cell_type": "code",
   "execution_count": 43,
   "metadata": {},
   "outputs": [],
   "source": [
    "# Creating a variable containing the state created previously by RandomState.\n",
    "state = rs.get_state()\n",
    "\n",
    "# Setting the state with the variable state.\n",
    "np.random.set_state(state)"
   ]
  },
  {
   "cell_type": "markdown",
   "metadata": {},
   "source": [
    "The **numpy.random** documentation recommends against using the **set_state** function unless the user knows exactly what they are doing when manually altering the internal state. [<sup>35</sup>](https://docs.scipy.org/doc/numpy-1.14.0/reference/generated/numpy.random.set_state.html#numpy.random.set_state)"
   ]
  },
  {
   "cell_type": "markdown",
   "metadata": {},
   "source": [
    "<br>\n",
    "\n",
    "## CONCLUSION\n",
    "\n",
    "Before starting this project, my knowledge of the **numpy.random** package was limited to its ability to create a few random numbers. However, by examining and attempting to understand various functions available in the package, I now recognise its huge value to programming and data science. It is extremely useful for generating random values across a wide range of probability distributions, randomly shuffling data, and creating reproducible random data.  "
   ]
  },
  {
   "cell_type": "markdown",
   "metadata": {},
   "source": [
    "<br>\n",
    "\n",
    "__________________________________________________________________________________________________________\n",
    "\n",
    "\n",
    "## REFERENCES\n",
    "\n",
    "1. Why randomly generated numbers are useful: https://www.howtogeek.com/183051/htg-explains-how-computers-generate-random-numbers/\n",
    "2. True Random Number Generators: https://www.random.org/randomness/\n",
    "3. Pseudorandom numbers: https://realpython.com/python-random/\n",
    "4. Mersenne Twister: https://www.sciencedirect.com/topics/computer-science/mersenne-twister\n",
    "5. Difference between random module and numpy.random module: McKinney, W. (2018) *Python for Data Analysis.* California: O'Reilly Media. (p. 118).\n",
    "6. Values versus arrays with random and numpy: https://realpython.com/python-random/#prngs-for-arrays-numpyrandom\n",
    "7. random module probability distributions: https://docs.python.org/3/library/random.html#real-valued-distributions\n",
    "8. Bold class. Code adapted from: https://stackoverflow.com/a/17303428 \n",
    "9. Rand versus random_sample: https://stackoverflow.com/a/18829377\n",
    "10. Difference between rand and random_sample: https://stackoverflow.com/a/47232184\n",
    "11. Different integer types: https://stackoverflow.com/a/9696777\n",
    "12. Checking the size of different datatypes: https://stackoverflow.com/a/14329864\n",
    "13. Deprecation of random_integers https://docs.scipy.org/doc/numpy-16.0/reference/generated/numpy.random.random_integers.html#numpy.random.random_integers\n",
    "14. Magic 8 Ball code adapted from: Sweigart, A. (2015). *Automate the Boring Stuff with Python*. San Fracisco: No Starch Press (p. 64).\n",
    "15. Deck of cards adapted from: Spronck, P. (2017). *The Coder's Apprentice: LEarning Programming with Python 3*. http://www.spronck.net/pythonbook/pythonbook.pdf (p. 341).\n",
    "16. Efficiency of the bytes function: Cappellini, S. (2018). *How to (efficiently) generate a huge number of pseudorandom bytes using Python*. stefanocappellini.it/generate-pseudorandom-bytes-with-python/\n",
    "17. Shuffling elements of multidimensional arrays. Code adapted from: https://www.science-emergence.com/Articles/How-to-randomly-shuffle-an-array-in-python-using-numpy/\n",
    "18. Difference between shuffle and permutation: https://stackoverflow.com/a/15474335\n",
    "19. Bernoulli Distributions: https://onlinelibrary.wiley.com/doi/pdf/10.1002/9781119197096.app03\n",
    "20. Coin toss binomial function. Code adapted from: https://cmdlinetips.com/2018/12/simulating-coin-toss-experiment-with-binomial-random-numbers-using-numpy/\n",
    "21. Difference between binomial and normal distributions: http://staweb.sta.cathedral.org/departments/math/mhansen/public_html/23stat/handouts/normbino.htm\n",
    "22. Multinomial distribution example idea: https://stattrek.com/probability-distributions/multinomial.aspx\n",
    "23. About the poisson distribution: https://medium.com/@andrew.chamberlain/deriving-the-poisson-distribution-from-the-binomial-distribution-840cc1668239\n",
    "24. Relationship between poisson and exponential: https://stats.stackexchange.com/questions/2092/relationship-between-poisson-and-exponential-distribution\n",
    "25. Relationship between geometric and exponential: https://www.statisticshowto.datasciencecentral.com/geometric-distribution/\n",
    "26. Default pseudorandom number generator seed: https://machinelearningmastery.com/how-to-generate-random-numbers-in-python/\n",
    "27. Different sequences after setting the seed: https://stackoverflow.com/a/22639752\n",
    "28. Global state issues with the seed function: https://softwareengineering.stackexchange.com/a/148109\n",
    "29. Thread issues with the seed function: https://stackoverflow.com/questions/5836335/consistently-create-same-random-numpy-array\n",
    "30. Threads: https://simple.wikipedia.org/wiki/Thread_(computer_science)\n",
    "31. seed function and thread safety: https://stackoverflow.com/a/7030595\n",
    "32. Use RandomState over seed function: https://stackoverflow.com/a/37224605\n",
    "33. RandomState: https://stackoverflow.com/questions/37224116/difference-between-randomstate-and-seed-in-numpy\n",
    "34. MT19937: https://en.wikipedia.org/wiki/Mersenne_Twister\n",
    "35. Warning about altering the internal state: https://docs.scipy.org/doc/numpy-1.14.0/reference/generated/numpy.random.set_state.html#numpy.random.set_state"
   ]
  }
 ],
 "metadata": {
  "kernelspec": {
   "display_name": "Python 3",
   "language": "python",
   "name": "python3"
  },
  "language_info": {
   "codemirror_mode": {
    "name": "ipython",
    "version": 3
   },
   "file_extension": ".py",
   "mimetype": "text/x-python",
   "name": "python",
   "nbconvert_exporter": "python",
   "pygments_lexer": "ipython3",
   "version": "3.7.4"
  },
  "toc": {
   "base_numbering": 1,
   "nav_menu": {},
   "number_sections": true,
   "sideBar": false,
   "skip_h1_title": true,
   "title_cell": "Table of Contents",
   "title_sidebar": "Contents",
   "toc_cell": true,
   "toc_position": {},
   "toc_section_display": true,
   "toc_window_display": false
  }
 },
 "nbformat": 4,
 "nbformat_minor": 4
}
