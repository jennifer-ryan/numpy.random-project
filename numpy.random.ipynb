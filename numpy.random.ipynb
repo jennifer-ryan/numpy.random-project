{
 "cells": [
  {
   "cell_type": "markdown",
   "metadata": {},
   "source": [
    "1. Explain the overall purpose of the package.\n",
    "2. Explain the use of the “Simple random data” and “Permutations” functions.\n",
    "3. Explain the use and purpose of at least five “Distributions” functions.\n",
    "4. Explain the use of seeds in generating pseudorandom numbers.\n",
    "\n",
    "Numpy documentation https://docs.scipy.org/doc/numpy-1.16.0/reference/routines.random.html\n",
    "\n",
    "Mersenne Twister - PRNG (pseudorandom number generator) https://en.wikipedia.org/wiki/Mersenne_Twister\n"
   ]
  },
  {
   "cell_type": "code",
   "execution_count": 2,
   "metadata": {},
   "outputs": [],
   "source": [
    "# Importing libraries\n",
    "import numpy as np\n",
    "import matplotlib.pyplot as plt"
   ]
  },
  {
   "cell_type": "markdown",
   "metadata": {},
   "source": [
    "## Simple Random Data\n",
    "At its most basic, numpy.random is used to generate random numbers or arrays of numbers. There are several functions within this package that create such simple random data and each one does so in different ways, across various distributions. "
   ]
  },
  {
   "cell_type": "markdown",
   "metadata": {},
   "source": [
    "### rand and randn\n",
    "The numpy.random.rand and numpy.random.randn fuctions each generates a random number or array of numbers from uniform and normal distributions respectively. \n",
    "\n",
    "The function rand produces a number or array between 0 and 1 from a unifrom distribution, meaning that every number in this range has an equal chance of being generated as any other. The histogram below demonstrates the distribution across 10000 randomly generated numbers."
   ]
  },
  {
   "cell_type": "code",
   "execution_count": 7,
   "metadata": {},
   "outputs": [
    {
     "data": {
      "image/png": "[encoded data removed]",
      "text/plain": [
       "<Figure size 432x288 with 1 Axes>"
      ]
     },
     "metadata": {
      "needs_background": "light"
     },
     "output_type": "display_data"
    }
   ],
   "source": [
    "# demonstrating the uniform distribution of the rand function\n",
    "x = np.random.rand(10000)\n",
    "plt.hist(x)\n",
    "plt.title(\"rand universal distribution\")\n",
    "plt.show()"
   ]
  },
  {
   "cell_type": "markdown",
   "metadata": {},
   "source": [
    "On the other hand, the randn fuction generates a random number or array from a normal Gaussian distribution with a mean of 0 and a variance of 1. This means that the majority of numbers generated are between -1 and 1 and center largely around 0. The graph below helps to illustrate this; of the 1000 numbers generated, well over half are within the -1 to 1 range and peak at the 0 mark."
   ]
  },
  {
   "cell_type": "code",
   "execution_count": 4,
   "metadata": {},
   "outputs": [
    {
     "data": {
      "image/png": "[encoded data removed]",
      "text/plain": [
       "<Figure size 432x288 with 1 Axes>"
      ]
     },
     "metadata": {
      "needs_background": "light"
     },
     "output_type": "display_data"
    }
   ],
   "source": [
    "# demonstrating the normal distribution of the randn function\n",
    "x = np.random.randn(10000)\n",
    "plt.hist(x)\n",
    "plt.title(\"randn normal distribution\")\n",
    "plt.show()"
   ]
  },
  {
   "cell_type": "markdown",
   "metadata": {},
   "source": [
    "Despite working with different probability distributions, rand and randn function in the same way. Without any arguments, they will produce a single randomly generated number from their assigned distribution:"
   ]
  },
  {
   "cell_type": "code",
   "execution_count": 5,
   "metadata": {},
   "outputs": [
    {
     "name": "stdout",
     "output_type": "stream",
     "text": [
      "\u001b[1mrand:\u001b[0m\n",
      "0.8036299121912932\n",
      "\n",
      "\u001b[1mrandn:\u001b[0m\n",
      "-0.024626179051597225\n"
     ]
    }
   ],
   "source": [
    "print(\"\\033[1m\" + \"rand:\" + \"\\033[0m\")\n",
    "print(np.random.rand())\n",
    "print()\n",
    "print(\"\\033[1m\" + \"randn:\" + \"\\033[0m\")\n",
    "print(np.random.randn())"
   ]
  },
  {
   "cell_type": "markdown",
   "metadata": {},
   "source": [
    "If arguments are passed, the functions create arrays of randomly generated numbers. There is no limit on the number of arguments that can be entered, so very complex arrays of arrays are achievable. "
   ]
  },
  {
   "cell_type": "code",
   "execution_count": 6,
   "metadata": {},
   "outputs": [
    {
     "name": "stdout",
     "output_type": "stream",
     "text": [
      "\u001b[1mrand:\u001b[0m\n",
      "[0.63122944 0.61440095 0.33532602 0.65206309 0.5499367 ]\n",
      "\n",
      "\u001b[1mrandn:\u001b[0m\n",
      "[[[-0.2906841  -0.78547783  1.18038289 -1.30747225]\n",
      "  [-0.82030829  1.4243961   1.62946753  0.51085414]\n",
      "  [-0.1156754   1.0496287   0.76499461 -0.76554855]]\n",
      "\n",
      " [[-0.98039882  0.42002722 -1.22790516 -0.0179578 ]\n",
      "  [-0.27877978 -0.40903248  0.42176562 -1.88219571]\n",
      "  [-1.6887933   0.42005445  1.0968321  -0.3272721 ]]]\n"
     ]
    }
   ],
   "source": [
    "print(\"\\033[1m\" + \"rand:\" + \"\\033[0m\")\n",
    "print(np.random.rand(5))\n",
    "print()\n",
    "print(\"\\033[1m\" + \"randn:\" + \"\\033[0m\")\n",
    "print(np.random.randn(2, 3, 4))"
   ]
  },
  {
   "cell_type": "markdown",
   "metadata": {},
   "source": [
    "As mentioned previously, these functions each have a built-in range from which numbers are generated: rand produces numbers between 0 and 1 and the numbers of randn center around a mean of 0. While it is not possible to alter this range within the function arguments, it can be scaled up by multiplying by twice the desired value and then subtracting the desired value (https://www.youtube.com/watch?v=Kh9vsy6t_9c)- <b>may not be the best way and is rand only</b> So for example, if you want the range to be between -5 and 5, you would multipl by 10 and then subtract 5: "
   ]
  },
  {
   "cell_type": "code",
   "execution_count": 7,
   "metadata": {},
   "outputs": [
    {
     "data": {
      "text/plain": [
       "array([ 3.11259201, -1.44644958])"
      ]
     },
     "execution_count": 7,
     "metadata": {},
     "output_type": "execute_result"
    }
   ],
   "source": [
    "10 * np.random.rand(2) - 5"
   ]
  },
  {
   "cell_type": "markdown",
   "metadata": {},
   "source": [
    "### randint\n",
    "Returns randomly generated integers of a given range. This function will not work if there are no arguments passed.\n",
    "If only one argument is passed, the range runs from 0 up to but not including that number, making it a half-open interval. The code below will return a random number from the range 0 - 9 inclusive. If a float rather than integer "
   ]
  },
  {
   "cell_type": "code",
   "execution_count": 8,
   "metadata": {},
   "outputs": [
    {
     "data": {
      "text/plain": [
       "1"
      ]
     },
     "execution_count": 8,
     "metadata": {},
     "output_type": "execute_result"
    }
   ],
   "source": [
    "np.random.randint(10)"
   ]
  },
  {
   "cell_type": "code",
   "execution_count": 14,
   "metadata": {},
   "outputs": [
    {
     "data": {
      "text/plain": [
       "0"
      ]
     },
     "execution_count": 14,
     "metadata": {},
     "output_type": "execute_result"
    }
   ],
   "source": [
    "np.random.randint(1.5)"
   ]
  },
  {
   "cell_type": "markdown",
   "metadata": {},
   "source": [
    "### random_sample\n",
    "\n",
    "There are four functions in the numpy.random library that all operate in the same way:\n",
    "1. numpy.random.random\n",
    "2. numpy.random.ranf\n",
    "3. numpy.random.sample\n",
    "4. numpy.random.random_sample\n",
    "\n",
    "https://stackoverflow.com/questions/18829185/difference-between-various-numpy-random-functions\n",
    "They are essentially all aliases for the rendom_sample function which returns a single floating point number or array of numbers in the half-open interval 0.0 - 1.0\n",
    "\n",
    "Difference between random_sample and rand https://stackoverflow.com/questions/47231852/np-random-rand-vs-np-random-random"
   ]
  },
  {
   "cell_type": "code",
   "execution_count": 9,
   "metadata": {},
   "outputs": [
    {
     "data": {
      "image/png": "[encoded data removed]",
      "text/plain": [
       "<Figure size 432x288 with 1 Axes>"
      ]
     },
     "metadata": {
      "needs_background": "light"
     },
     "output_type": "display_data"
    }
   ],
   "source": [
    "x = np.random.random_sample(10000)\n"
   ]
  },
  {
   "cell_type": "code",
   "execution_count": null,
   "metadata": {},
   "outputs": [],
   "source": []
  },
  {
   "cell_type": "code",
   "execution_count": null,
   "metadata": {},
   "outputs": [],
   "source": []
  },
  {
   "cell_type": "code",
   "execution_count": null,
   "metadata": {},
   "outputs": [],
   "source": []
  },
  {
   "cell_type": "markdown",
   "metadata": {},
   "source": [
    "### Why use numpy.random instead of built-in random.random?\n",
    "While random.random by default produces single random numbers, it can produce multiple if used with the range function. However, numpy.random allows you to produce increasingly complex arrays of random numbers. https://realpython.com/python-random/#prngs-for-arrays-numpyrandom\n",
    "\n",
    "According to Python for Data Analysis (p. 118) numpy.random supplements the random module with a few extra probability distributions and functions\n",
    "https://stackoverflow.com/questions/7029993/differences-between-numpy-random-and-random-random-in-python"
   ]
  },
  {
   "cell_type": "code",
   "execution_count": null,
   "metadata": {},
   "outputs": [],
   "source": []
  }
 ],
 "metadata": {
  "kernelspec": {
   "display_name": "Python 3",
   "language": "python",
   "name": "python3"
  },
  "language_info": {
   "codemirror_mode": {
    "name": "ipython",
    "version": 3
   },
   "file_extension": ".py",
   "mimetype": "text/x-python",
   "name": "python",
   "nbconvert_exporter": "python",
   "pygments_lexer": "ipython3",
   "version": "3.7.4"
  }
 },
 "nbformat": 4,
 "nbformat_minor": 4
}
