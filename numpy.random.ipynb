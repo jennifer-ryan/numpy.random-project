{
 "cells": [
  {
   "cell_type": "markdown",
   "metadata": {},
   "source": [
    "1. Explain the overall purpose of the package.\n",
    "2. Explain the use of the “Simple random data” and “Permutations” functions.\n",
    "3. Explain the use and purpose of at least five “Distributions” functions.\n",
    "4. Explain the use of seeds in generating pseudorandom numbers.\n",
    "\n",
    "Numpy documentation https://docs.scipy.org/doc/numpy-1.16.0/reference/routines.random.html\n",
    "\n",
    "Mersenne Twister - PRNG (pseudorandom number generator) https://en.wikipedia.org/wiki/Mersenne_Twister\n"
   ]
  },
  {
   "cell_type": "markdown",
   "metadata": {},
   "source": [
    "## Purpose of numpy.random\n",
    "\n",
    "Random number generation is vital for many practical programming needs such as security, model-building, simulation creation and statistical research. Of course, being deterministic machines, computers cannot create truly random numbers and so simulate randomness to create what are called pseudorandom numbers. These numbers are generally drawn from probability distributions and require an initial input seed to which an algorithm is applied in order to generate numbers in a predetermined fashion.\n",
    "\n",
    "Pseudorandom - random but reproducible data https://realpython.com/python-random/\n",
    "\n",
    "When discussing the various functions below, I will use random as a descriptive term for readability, even though everything generated from the package is pseudorandom.\n",
    "\n",
    "https://stackoverflow.com/questions/4156907/why-is-random-not-so-random\n",
    "\n",
    "https://www.eriksmistad.no/pseudo-random-numbers-and-sampling-from-probability-distributions/\n",
    "\n",
    "In the section discussing the different probability distributions, I have used some classic examples to illustrate them (coin flipping and card shuffling). I have also shown the mean, median and mode   "
   ]
  },
  {
   "cell_type": "markdown",
   "metadata": {},
   "source": [
    "### Why use numpy.random instead of built-in random.random?\n",
    "While random.random by default produces single random numbers, it can produce multiple if used with the range function. However, numpy.random allows you to produce increasingly complex arrays of random numbers. https://realpython.com/python-random/#prngs-for-arrays-numpyrandom\n",
    "\n",
    "According to Python for Data Analysis (p. 118) numpy.random supplements the random module with a few extra probability distributions and functions\n",
    "https://stackoverflow.com/questions/7029993/differences-between-numpy-random-and-random-random-in-python"
   ]
  },
  {
   "cell_type": "code",
   "execution_count": 1,
   "metadata": {},
   "outputs": [],
   "source": [
    "# Importing libraries\n",
    "import numpy as np\n",
    "import matplotlib.pyplot as plt\n",
    "%matplotlib inline\n",
    "import sys\n",
    "from scipy import stats"
   ]
  },
  {
   "cell_type": "code",
   "execution_count": 126,
   "metadata": {},
   "outputs": [],
   "source": [
    "class bold:\n",
    "    BOLD = '\\033[1m'\n",
    "    END = '\\033[0m'"
   ]
  },
  {
   "cell_type": "markdown",
   "metadata": {},
   "source": [
    "<br>\n",
    "\n",
    "_________________________________________________________________________________________________________________\n",
    "\n",
    "## Simple Random Data\n",
    "At its most basic, the numpy.random package is used to generate random data or arrays of data, generally numerical. There are several functions in the package that create simple random data and each one does so in different ways. Before I move on to the more complex probability distributions and seed functions of the package, I will first discuss the following modules in this section:\n",
    "\n",
    "- rand\n",
    "- randn\n",
    "- randint\n",
    "- choice\n",
    "- bytes\n",
    "\n",
    "Within many of these functions I will discuss similar related functions that are also available elsewhere in the package."
   ]
  },
  {
   "cell_type": "markdown",
   "metadata": {},
   "source": [
    "<br>\n",
    "\n",
    "### RAND \n",
    "\n",
    "The **rand** function generates a floating point number or array of floating point numbers from the half open interval \\[0, 1), meaning that it includes every number greater than or equal to 0 and less than 1. If no arguments are passed to the function, a single random number is returned but **rand** is capable of generating large arrays of randomly generated numbers when integer arguments are passed. There is no limit to the number of arguments that can be passed so these arrays can be hugely complex. "
   ]
  },
  {
   "cell_type": "code",
   "execution_count": 129,
   "metadata": {},
   "outputs": [
    {
     "name": "stdout",
     "output_type": "stream",
     "text": [
      "\u001b[1mGenerates a single random number:\u001b[0m\n",
      "0.6400784921962739\n",
      "\n",
      "\u001b[1mGenerates 2 arrays with 4 random numbers in each:\u001b[0m\n",
      "[[0.99860037 0.60172771 0.05970803 0.97094243]\n",
      " [0.42044083 0.49637684 0.6539106  0.91782515]]\n",
      "\n",
      "\u001b[1mGenerates 2 arrays with each containing 4 arrays and each of those containing 6 random numbers:\u001b[0m\n",
      "[[[0.02572223 0.72850349 0.9041442  0.8249846  0.02810759 0.50457301]\n",
      "  [0.15686572 0.41788624 0.3958518  0.43444359 0.37654949 0.84306905]\n",
      "  [0.50393663 0.26485606 0.12549809 0.43037777 0.98203476 0.04727982]\n",
      "  [0.577304   0.91104533 0.49831277 0.07868277 0.51490219 0.91201016]]\n",
      "\n",
      " [[0.2585448  0.76194982 0.43528491 0.22342241 0.68627794 0.72821561]\n",
      "  [0.96160511 0.8483716  0.95002202 0.56555981 0.32373401 0.40925672]\n",
      "  [0.74173294 0.39944142 0.307241   0.46051405 0.66499473 0.96033125]\n",
      "  [0.87400372 0.67768207 0.82416932 0.55322349 0.1609768  0.48529227]]]\n"
     ]
    }
   ],
   "source": [
    "# Passing no arguments to generate a single random number.\n",
    "print(bold.BOLD + \"Generates a single random number:\" + bold.END)\n",
    "print(np.random.rand())\n",
    "print()\n",
    "\n",
    "# Passing (x, y) arguments will return x arrays with y values in each.\n",
    "print(bold.BOLD + \"Generates 2 arrays with 4 random numbers in each:\" + bold.END)\n",
    "print(np.random.rand(2, 4))\n",
    "print()\n",
    "\n",
    "# Passing x * y * z will return x arrays containing y arrays that have z values.\n",
    "print(bold.BOLD + \"Generates 2 arrays with each containing 4 arrays and each of those containing 6 random numbers:\" +bold.END)\n",
    "print(np.random.rand(2, 4, 6))\n"
   ]
  },
  {
   "cell_type": "markdown",
   "metadata": {},
   "source": [
    "<br>\n",
    "\n",
    "#### Distribution\n",
    "\n",
    "The numbers from **rand** are generated from a continuous uniform distribution, meaning that every number in the \\[0, 1) range has an equal chance of being returned as any other. The plot below demonstrates this distribution across 10,000 randomly generated numbers from the **rand** function."
   ]
  },
  {
   "cell_type": "code",
   "execution_count": 135,
   "metadata": {},
   "outputs": [
    {
     "data": {
      "image/png": "[encoded data removed]",
      "text/plain": [
       "<Figure size 432x288 with 1 Axes>"
      ]
     },
     "metadata": {
      "needs_background": "light"
     },
     "output_type": "display_data"
    }
   ],
   "source": [
    "# Demonstrating the uniform distribution of the rand function.\n",
    "x = np.random.rand(10000)\n",
    "plt.hist(x)\n",
    "plt.title(\"uniform distribution of the rand function\")\n",
    "plt.xlabel(\"values\")\n",
    "plt.ylabel(\"number of values\")\n",
    "plt.show()"
   ]
  },
  {
   "cell_type": "markdown",
   "metadata": {},
   "source": [
    "<br>\n",
    "\n",
    "#### Similar Functions in numpy.random"
   ]
  },
  {
   "cell_type": "markdown",
   "metadata": {},
   "source": [
    "##### random_sample\n",
    "\n",
    "There are several functions in the numpy.random package that are all variations of the same function and related to **rand**:\n",
    "\n",
    "1. np.random.random\n",
    "2. np.random.ranf\n",
    "3. np.random.sample\n",
    "4. np.random.random_sample\n",
    "\n",
    "These functions can all be considered synonymous with each other, basically aliases for **random_sample**, kept in the package as they may be used by different communities.[<sup>1</sup>](https://stackoverflow.com/a/18829377) Below demonstrates how they all the perform the same function. "
   ]
  },
  {
   "cell_type": "code",
   "execution_count": 4,
   "metadata": {},
   "outputs": [
    {
     "name": "stdout",
     "output_type": "stream",
     "text": [
      "True\n",
      "True\n",
      "True\n"
     ]
    }
   ],
   "source": [
    "# Demonstrating how the below functions are all the same\n",
    "print(np.random.random_sample == np.random.random)\n",
    "\n",
    "print(np.random.random_sample == np.random.ranf)\n",
    "\n",
    "print(np.random.random_sample == np.random.sample)"
   ]
  },
  {
   "cell_type": "markdown",
   "metadata": {},
   "source": [
    "**random_sample** is essentially the same as the **rand** function except for one very important distinction: while **rand** takes multiple arguments to build the shape of an array, **random_sample** only accepts one argument. To build a multi-dimensional array with **random_sample**, a tuple must be passed for it to function correctly.[<sup>2</sup>](https://stackoverflow.com/a/47232184) This can be useful when there are variables containing tuples from which one wants to create an array of random numbers."
   ]
  },
  {
   "cell_type": "code",
   "execution_count": 132,
   "metadata": {},
   "outputs": [
    {
     "name": "stdout",
     "output_type": "stream",
     "text": [
      "\u001b[1m2 x 4 array from rand:\u001b[0m\n",
      "[[0.83984581 0.33337863 0.97767763 0.76877959]\n",
      " [0.67779866 0.6047158  0.4508548  0.13250606]]\n",
      "\n",
      "\u001b[1m2 x 4 array from random_sample:\u001b[0m\n",
      "[[0.28658375 0.92455665 0.384828   0.44240423]\n",
      " [0.20978517 0.16921434 0.12434146 0.72073834]]\n",
      "\n",
      "\u001b[1m2 x 4 array from random_sample using a variable containing a tuple:\u001b[0m\n",
      "[[0.8387551  0.02369711 0.95045053 0.53385914]\n",
      " [0.08090904 0.48333097 0.19635723 0.3191641 ]]\n"
     ]
    }
   ],
   "source": [
    "# Demonstrating the difference between rand and random_sample.\n",
    "print(bold.BOLD + \"2 x 4 array from rand:\" + bold.END)\n",
    "print(np.random.rand(2, 4))\n",
    "print()\n",
    "\n",
    "# Passing a tuple\n",
    "print(bold.BOLD + \"2 x 4 array from random_sample:\" + bold.END)\n",
    "print(np.random.random_sample((2, 4)))\n",
    "print()\n",
    "\n",
    "# Passing a variable that contains a tuple\n",
    "t = (2, 4)\n",
    "print(bold.BOLD + \"2 x 4 array from random_sample using a variable containing a tuple:\" + bold.END)\n",
    "print(np.random.random_sample(t))\n"
   ]
  },
  {
   "cell_type": "markdown",
   "metadata": {},
   "source": [
    "\n",
    "##### uniform\n",
    "\n",
    "The \\[0, 1) range cannot be adjusted within the **rand** function, but there is a related function within numpy.random called **uniform**, which works in largely the same way as **rand** but allows a custom range to be passed. Again this is a half open interval, generating numbers greater than or equal to the low number and less than the high number. Below is an example of the function in operation and further illustration demonstrating the uniform probability distribution."
   ]
  },
  {
   "cell_type": "code",
   "execution_count": 139,
   "metadata": {},
   "outputs": [
    {
     "name": "stdout",
     "output_type": "stream",
     "text": [
      "\u001b[1mGenerates 2 arrays with 4 random numbers in each within the custom range [-5, 10):\u001b[0m\n",
      "[[ 2.0800479   0.27990255  8.63908436 -2.80838649]\n",
      " [ 6.95911972  7.28668292  8.07441107  9.91498118]]\n",
      "\n",
      "\u001b[1mGenerates 4 random numbers in the custom range [-5, 10):\u001b[0m\n",
      "[-4.83894426 -0.75237137 -0.22740545  5.00170967]\n",
      "\n"
     ]
    },
    {
     "data": {
      "image/png": "[encoded data removed]",
      "text/plain": [
       "<Figure size 432x288 with 1 Axes>"
      ]
     },
     "metadata": {
      "needs_background": "light"
     },
     "output_type": "display_data"
    }
   ],
   "source": [
    "# Passing low and high arguments with size of (x, y) arguments will return x arrays with y values in each.\n",
    "print(bold.BOLD + \"Generates 2 arrays with 4 random numbers in each within the custom range [-5, 10):\" + bold.END)\n",
    "print(np.random.uniform(low=-5, high=10, size =(2, 4)))\n",
    "print()\n",
    "\n",
    "# Demonstrating it is not necessary to have 'low=' or 'high=' to operate the function. \n",
    "# 'size=' is necessary if more than one array is required.\n",
    "print(bold.BOLD + \"Generates 4 random numbers in the custom range [-5, 10):\" + bold.END)\n",
    "print(np.random.uniform(-5, 10, 4))\n",
    "print()\n",
    "\n",
    "# Demonstrating the uniform distribution of the uniform function.\n",
    "x = np.random.uniform(-10, 10, 10000)\n",
    "plt.hist(x)\n",
    "plt.title(\"uniform distribution of uniform function\")\n",
    "plt.xlabel(\"values\")\n",
    "plt.ylabel(\"number of values\")\n",
    "plt.show()"
   ]
  },
  {
   "cell_type": "markdown",
   "metadata": {},
   "source": [
    "<br>\n",
    "\n",
    "### RANDN\n",
    "\n",
    "**randn** functions in the same way as **rand** when generating numbers. Without any arguments, it will produce a single randomly generated number between \\[0, 1) and with arguments will produce increasingly complex arrays of numbers. "
   ]
  },
  {
   "cell_type": "code",
   "execution_count": 138,
   "metadata": {},
   "outputs": [
    {
     "name": "stdout",
     "output_type": "stream",
     "text": [
      "\u001b[1mGenerates a single random number:\u001b[0m\n",
      "-2.1496282772773334\n",
      "\n",
      "\u001b[1mGenerates 2 arrays with 4 random numbers in each:\u001b[0m\n",
      "[[-0.57957232  2.13599745  0.35080806  1.40962855]\n",
      " [-1.08571533  0.25231949  0.20165163 -0.2175247 ]]\n",
      "\n",
      "\u001b[1mGenerates 2 arrays with each containing 4 arrays and each of those containing 6 random numbers:\u001b[0m\n",
      "[[[ 1.10198746  0.88284953 -0.16528315  1.59083163 -1.19698407\n",
      "    0.2695976 ]\n",
      "  [ 1.33255856  0.63334726  1.35022352 -1.31446545  0.40612164\n",
      "    0.56529896]\n",
      "  [-0.40990575 -0.02069317  0.97574203  0.70282645 -0.03823629\n",
      "   -0.3586219 ]\n",
      "  [-1.54049973  0.21294457 -1.33403033 -0.34739439  0.12239835\n",
      "   -1.42371438]]\n",
      "\n",
      " [[-1.08764829  1.72677409  0.59036617  0.15212759 -0.97700423\n",
      "    2.19549146]\n",
      "  [-0.39693723 -0.73964724 -1.55986925  1.28235338  0.37283817\n",
      "    0.68824144]\n",
      "  [ 0.78806274 -0.9624178   0.37938095 -0.52304933  0.43965207\n",
      "   -1.07597107]\n",
      "  [-0.80770818 -2.56944547 -0.29852241 -0.41931556 -0.18104441\n",
      "   -1.183804  ]]]\n"
     ]
    }
   ],
   "source": [
    "# Passing no arguments to generate a single random number:\n",
    "print(bold.BOLD + \"Generates a single random number:\" + bold.END)\n",
    "print(np.random.randn())\n",
    "print()\n",
    "\n",
    "# Passing (x, y) arguments will return x arrays with y values in each\n",
    "print(bold.BOLD + \"Generates 2 arrays with 4 random numbers in each:\" + bold.END)\n",
    "print(np.random.randn(2, 4))\n",
    "print()\n",
    "\n",
    "# Passing x * y * z will return x arrays containing y arrays that have z values\n",
    "print(bold.BOLD + \"Generates 2 arrays with each containing 4 arrays and each of those containing 6 random numbers:\" + bold.END)\n",
    "print(np.random.randn(2, 4, 6))\n"
   ]
  },
  {
   "cell_type": "markdown",
   "metadata": {},
   "source": [
    "<br>\n",
    "\n",
    "#### Distribution\n",
    "\n",
    "What separates the **randn** function from **rand** is that numbers are generated from a normal Gaussian distribution rather than a uniform distribution. In this function the normal distribution has a mean of 0 and a variance of 1. This means that the majority of numbers generated centre around 0 and generally range between -1 and 1. The plot below helps to illustrate this; of the 10,000 numbers generated, the vast majority are within the -1 to 1 range and peak at the 0 mark. Looking again at the numbers generated above, it can be seen that they largely sit within the range (-1, 1)."
   ]
  },
  {
   "cell_type": "code",
   "execution_count": 140,
   "metadata": {},
   "outputs": [
    {
     "data": {
      "image/png": "[encoded data removed]",
      "text/plain": [
       "<Figure size 432x288 with 1 Axes>"
      ]
     },
     "metadata": {
      "needs_background": "light"
     },
     "output_type": "display_data"
    }
   ],
   "source": [
    "# Demonstrating the normal distribution of the randn function.\n",
    "x = np.random.randn(10000)\n",
    "plt.hist(x)\n",
    "plt.title(\"normal distribution of randn function\")\n",
    "plt.xlabel(\"values\")\n",
    "plt.ylabel(\"number of values\")\n",
    "plt.show()"
   ]
  },
  {
   "cell_type": "markdown",
   "metadata": {},
   "source": [
    "<br>\n",
    "\n",
    "#### Similar Functions in numpy.random"
   ]
  },
  {
   "cell_type": "markdown",
   "metadata": {},
   "source": [
    "##### standard_normal\n",
    "\n",
    "Like **rand** and **random_sample**, **randn** has the same relationship with another numpy.random function called **standard_normal**, which only takes a single argument but can accept tuples.  "
   ]
  },
  {
   "cell_type": "code",
   "execution_count": 142,
   "metadata": {},
   "outputs": [
    {
     "name": "stdout",
     "output_type": "stream",
     "text": [
      "\u001b[1m2 x 4 array from randn:\u001b[0m\n",
      "[[ 0.15176107  1.02803721 -0.93405063  0.91783991]\n",
      " [-0.25220022  0.97759185  0.79482436  0.01435643]]\n",
      "\n",
      "\u001b[1m2 x 4 array from standard_normal:\u001b[0m\n",
      "[[-2.19456015 -1.44764291 -0.82957153  1.74136752]\n",
      " [ 1.79464955  0.71662623 -0.42719995 -0.96477786]]\n",
      "\n",
      "\u001b[1m2 x 4 array from standard_normal using a variable containing a tuple:\u001b[0m\n",
      "[[-1.14387442  1.09288881  1.26001751 -0.89386232]\n",
      " [ 0.0193643   1.02230976  0.31738656  1.08725986]]\n"
     ]
    }
   ],
   "source": [
    "# Demonstrating the difference between randn and standard_normal.\n",
    "print(bold.BOLD + \"2 x 4 array from randn:\" + bold.END)\n",
    "print(np.random.randn(2, 4))\n",
    "print()\n",
    "\n",
    "# Passing a tuple\n",
    "print(bold.BOLD + \"2 x 4 array from standard_normal:\" + bold.END)\n",
    "print(np.random.standard_normal((2, 4)))\n",
    "print()\n",
    "\n",
    "# Passing a variable that contains a tuple\n",
    "t = (2, 4)\n",
    "print(bold.BOLD + \"2 x 4 array from standard_normal using a variable containing a tuple:\" + bold.END)\n",
    "print(np.random.standard_normal(t))\n"
   ]
  },
  {
   "cell_type": "markdown",
   "metadata": {},
   "source": [
    "\n",
    "##### normal\n",
    "\n",
    "Again similar to **rand**'s range, the mean (0) and standard deviation (1) cannot be altered within the **randn** function but there is another function in the numpy.random package that returns random numbers from a customised normal distribution range. The **normal** function takes a *loc* argument to determine the mean, a *scale* argument for the standard deviation, and a *size* argument for the output shape. In each of the functions below, the output should largely be in the range (2, 8) and centre around 5.      "
   ]
  },
  {
   "cell_type": "code",
   "execution_count": 144,
   "metadata": {},
   "outputs": [
    {
     "name": "stdout",
     "output_type": "stream",
     "text": [
      "\u001b[1mGenerates 2 arrays with 4 random numbers from the custom normal distribution:\u001b[0m\n",
      "[[ 2.41787441  6.53058643  6.20821214  3.84372161]\n",
      " [ 7.89612359  2.95990936  2.68658078 -0.47037807]]\n",
      "\n",
      "\u001b[1mGenerates 4 random numbers from the custom normal distribution:\u001b[0m\n",
      "[ 0.68480549 11.03677827 11.00774649  6.9513506 ]\n",
      "\n"
     ]
    },
    {
     "data": {
      "image/png": "[encoded data removed]",
      "text/plain": [
       "<Figure size 432x288 with 1 Axes>"
      ]
     },
     "metadata": {
      "needs_background": "light"
     },
     "output_type": "display_data"
    }
   ],
   "source": [
    "# Passing loc and scale arguments with size of (x, y) arguments will return x arrays with y values in each.\n",
    "print(bold.BOLD + \"Generates 2 arrays with 4 random numbers from the custom normal distribution:\" + bold.END)\n",
    "print(np.random.normal(loc=5, scale=3, size =(2, 4)))\n",
    "print()\n",
    "\n",
    "# Demonstrating it is not necessary to have 'loc=' or 'scale=' to operate the function. \n",
    "# 'size=' is necessary if more than one array is required.\n",
    "print(bold.BOLD + \"Generates 4 random numbers from the custom normal distribution:\" + bold.END)\n",
    "print(np.random.normal(5, 3, 4))\n",
    "print()\n",
    "\n",
    "# Demonstrating the normal distribution of the normal function.\n",
    "x = np.random.normal(5, 3, 10000)\n",
    "plt.hist(x)\n",
    "plt.title(\"normal distribution of normal function\")\n",
    "plt.xlabel(\"values\")\n",
    "plt.ylabel(\"number of values\")\n",
    "plt.show()"
   ]
  },
  {
   "cell_type": "markdown",
   "metadata": {},
   "source": [
    "<br>\n",
    "\n",
    "### RANDINT\n",
    "\n",
    "The functions explored so far all return random floating point numbers. If randomly generated integers are required, there is the **randint** function which returns random integers of a given range. The function  requires at least one argument to operate. If a single argument is provided, the function will return a number from the range 0 up to but not including the number passed, making it a half open interval. If a float rather than integer is passed, it will round down to the nearest integer. "
   ]
  },
  {
   "cell_type": "code",
   "execution_count": 11,
   "metadata": {
    "scrolled": true
   },
   "outputs": [
    {
     "name": "stdout",
     "output_type": "stream",
     "text": [
      "7\n",
      "3\n"
     ]
    }
   ],
   "source": [
    "# Returns single random integer between 0-9 inclusive.\n",
    "print(np.random.randint(10))\n",
    "\n",
    "# Returns single random integer between 0-4 inclusive.\n",
    "print(np.random.randint(5.925))"
   ]
  },
  {
   "cell_type": "markdown",
   "metadata": {},
   "source": [
    "<br>\n",
    "\n",
    "If two arguments are provided to **randint**, the first will be considered the lowest included number in the range and the second represents the number one above the highest possible number in the range. \n",
    "\n",
    "**randint** can also take an argument that dictates the shape of the output, either a single value for an array of that many numbers or a tuple for multi-dimensional arrays."
   ]
  },
  {
   "cell_type": "code",
   "execution_count": 145,
   "metadata": {},
   "outputs": [
    {
     "name": "stdout",
     "output_type": "stream",
     "text": [
      "\u001b[1mGenerates 1 random number between 5-10 inclusive:\u001b[0m\n",
      "7\n",
      "\n",
      "\u001b[1mGenerates 3 random numbers between 5-10 inclusive:\u001b[0m\n",
      "[6 9 8]\n",
      "\n",
      "\u001b[1mGenerates 2 arrays of 4 random numbers in each between 5-10 inclusive:\u001b[0m\n",
      "[[10  5  7  9]\n",
      " [ 8  6  5  7]]\n"
     ]
    }
   ],
   "source": [
    "# Returns single random integer between 5-10 inclusive.\n",
    "print(bold.BOLD + \"Generates 1 random number between 5-10 inclusive:\" + bold.END)\n",
    "print(np.random.randint(5, 11))\n",
    "print()\n",
    "\n",
    "print(bold.BOLD + \"Generates 3 random numbers between 5-10 inclusive:\" + bold.END)\n",
    "print(np.random.randint(5, 11, 3))\n",
    "print()\n",
    "\n",
    "print(bold.BOLD + \"Generates 2 arrays of 4 random numbers in each between 5-10 inclusive:\" + bold.END)\n",
    "print(np.random.randint(5, 11, size=(2, 4)))"
   ]
  },
  {
   "cell_type": "markdown",
   "metadata": {},
   "source": [
    "<br>\n",
    "\n",
    "There is a relatively new parameter in the **randint** function, which allows the output datatype to be specified. Different types of integer will be take up different amounts of storage space [<sup>3</sup>](https://stackoverflow.com/a/9696777) and so this parameter is useful if dealing with extremely large amounts of data. Each piece of code below generates the number 5 and the output demonstrates the number of bytes it takes to store each number 5, depending on the datatype argument. [<sup>4</sup>](https://stackoverflow.com/a/14329864) As would be expected, the *int64* type takes up more space than the *int8* type."
   ]
  },
  {
   "cell_type": "code",
   "execution_count": 13,
   "metadata": {},
   "outputs": [
    {
     "name": "stdout",
     "output_type": "stream",
     "text": [
      "25\n",
      "26\n",
      "28\n",
      "32\n"
     ]
    }
   ],
   "source": [
    "w = np.random.randint(5, 6, dtype='int8')\n",
    "print(sys.getsizeof(w))\n",
    "\n",
    "x = np.random.randint(5, 6, dtype='int16')\n",
    "print(sys.getsizeof(x))\n",
    "\n",
    "y = np.random.randint(5, 6, dtype='int32')\n",
    "print(sys.getsizeof(y))\n",
    "\n",
    "z = np.random.randint(5, 6, dtype='int64')\n",
    "print(sys.getsizeof(z))"
   ]
  },
  {
   "cell_type": "markdown",
   "metadata": {},
   "source": [
    "<br>\n",
    "\n",
    "#### Distribution\n",
    "\n",
    "**randint** generates random integers from a discrete uniform distribution, meaning that there is a finite amount of values that can be generated but each one has an equal change of being returned. Below, every integer on the range (0, 1000) inclusive has an equal chance of being called across 10,000 numbers."
   ]
  },
  {
   "cell_type": "code",
   "execution_count": 146,
   "metadata": {},
   "outputs": [
    {
     "data": {
      "image/png": "[encoded data removed]",
      "text/plain": [
       "<Figure size 432x288 with 1 Axes>"
      ]
     },
     "metadata": {
      "needs_background": "light"
     },
     "output_type": "display_data"
    }
   ],
   "source": [
    "# Demonstrating the uniform distribution of the randint function.\n",
    "x = np.random.randint(0, 1001, 10000)\n",
    "plt.hist(x)\n",
    "plt.title(\"unifrom distribution of the randint function\")\n",
    "plt.xlabel(\"values\")\n",
    "plt.ylabel(\"number of values\")\n",
    "plt.show()"
   ]
  },
  {
   "cell_type": "markdown",
   "metadata": {},
   "source": [
    "<br>\n",
    "\n",
    "#### Similar Function in numpy.random\n",
    "\n",
    "There's another function listed in the numpy.random package called **random_integer** but this has been deprecated according to the documentation[<sup>3</sup>](https://docs.scipy.org/doc/numpy-1.16.0/reference/generated/numpy.random.random_integers.html#numpy.random.random_integers) with the recommendation that **randint** be used instead."
   ]
  },
  {
   "cell_type": "markdown",
   "metadata": {},
   "source": [
    "<br>\n",
    "\n",
    "#### Practical Example\n",
    "\n",
    "Below is an example **randint** being used to simulate the answers provided by Magic 8 Ball. Each answer is assigned to an integer and when an integer is randomly generated from the **randint** function, the appropriate reply is returned.<sup>5</sup> "
   ]
  },
  {
   "cell_type": "code",
   "execution_count": 15,
   "metadata": {},
   "outputs": [
    {
     "name": "stdout",
     "output_type": "stream",
     "text": [
      "Will I be late for work in the morning?\n",
      "Ask again later.\n"
     ]
    }
   ],
   "source": [
    "# Magic 8 Ball simulation\n",
    "# help from Automate the boring stuff p. 64\n",
    "\n",
    "def Answer(number):\n",
    "    if number == 1: \n",
    "        return \"Yes.\"\n",
    "    elif number == 2:\n",
    "        return \"Most likely.\"\n",
    "    elif number == 3:\n",
    "        return \"All signs point to yes.\"\n",
    "    elif number == 4:\n",
    "        return \"Ask again later.\"\n",
    "    elif number == 5:\n",
    "        return \"Possibly.\"\n",
    "    elif number == 6:\n",
    "        return \"Outlook not so good.\"\n",
    "    elif number == 7:\n",
    "        return \"Doubtful\"\n",
    "    elif number == 8:\n",
    "        return \"No.\"\n",
    "    \n",
    "print(\"Will I be late for work in the morning?\")\n",
    "print(Answer(np.random.randint(1, 9)))"
   ]
  },
  {
   "cell_type": "markdown",
   "metadata": {},
   "source": [
    "<br>\n",
    "\n",
    "### CHOICE\n",
    "\n",
    "**choice** is similar to **randint** in that it can generate random integers in a particular array shape. However, **choice** can accept ndarrays, tuples and lists as input, meaning that it has the potential to randomise non-numerical data, such as strings.\n",
    "\n",
    "With only one argument passed, **choice** will return a single random integer from 0 up to but not including the number entered, just as **randint** does."
   ]
  },
  {
   "cell_type": "code",
   "execution_count": 147,
   "metadata": {},
   "outputs": [
    {
     "name": "stdout",
     "output_type": "stream",
     "text": [
      "\u001b[1mGenerates 1 random number between 0-9 inclusive:\u001b[0m\n",
      "5\n",
      "\n",
      "\u001b[1mGenerates 3 random numbers from an array:\u001b[0m\n",
      "[5 1 1]\n",
      "\n",
      "\u001b[1mGenerates 3 random numbers from a tuple:\u001b[0m\n",
      "[15  7 15]\n",
      "\n",
      "\u001b[1mGenerates 3 random names from a list:\u001b[0m\n",
      "['Helen' 'Tony' 'Helen']\n"
     ]
    }
   ],
   "source": [
    "# Returns single random integer\n",
    "print(bold.BOLD + \"Generates 1 random number between 0-9 inclusive:\" + bold.END)\n",
    "print(np.random.choice(10))\n",
    "print()\n",
    "\n",
    "# Returns random numbers from an array:\n",
    "arr = np.arange(10)\n",
    "print(bold.BOLD + \"Generates 3 random numbers from an array:\" + bold.END)\n",
    "print(np.random.choice(arr, size=3))\n",
    "print()\n",
    "\n",
    "# Returns random numbers from a tuple\n",
    "tup = (4, 6, 7, 10, 15)\n",
    "print(bold.BOLD + \"Generates 3 random numbers from a tuple:\" + bold.END)\n",
    "print(np.random.choice(tup, size=3))\n",
    "print()\n",
    "\n",
    "# Returns random non-numerical values from a list\n",
    "lst = [\"Mary\", \"John\", \"Helen\", \"Tony\"]\n",
    "print(bold.BOLD + \"Generates 3 random names from a list:\" + bold.END)\n",
    "print(np.random.choice(lst, size=3))"
   ]
  },
  {
   "cell_type": "markdown",
   "metadata": {},
   "source": [
    "<br>\n",
    "\n",
    "The previously discussed functions can potentially repeat numbers from a range in the output array, and **choice** also does this by default. However, **choice** has a parameter called *replace*, a true/false boolean that is set to True by default but, if set to False by the user, will generate an output of unique values. In this case, once a value has been randomly generated, it is removed from the pool of available values and cannot be generated again. However, if the total number of values to choose from is smaller than the output shape specified (*size*) and *replace* is set to False, a *ValueError* will occur because there are not enough elements to fulfill the desired output without repeating any of them."
   ]
  },
  {
   "cell_type": "code",
   "execution_count": 148,
   "metadata": {},
   "outputs": [
    {
     "name": "stdout",
     "output_type": "stream",
     "text": [
      "\u001b[1mGenerates 3 random names from a list with no duplicates:\u001b[0m\n",
      "['John' 'Tony' 'Mary']\n"
     ]
    }
   ],
   "source": [
    "# Returns random values from a list with no duplicates:\n",
    "print(bold.BOLD + \"Generates 3 random names from a list with no duplicates:\" + bold.END)\n",
    "print(np.random.choice(lst, size=3, replace=False))\n"
   ]
  },
  {
   "cell_type": "markdown",
   "metadata": {},
   "source": [
    "<br>\n",
    "\n",
    "#### Distribution\n",
    "\n",
    "By default, **choice** randomly picks values from a discrete uniform distribution but has an optional parameter, *p*, which allows the user to adjust the probability of each individual value appearing in the output. The number of values passed to *p* must be equal to the amount of elements available in the input and these *p* values must sum up to 1, to account for a total 100% probability. \n",
    "\n",
    "To illustrate this, the code below generates 1000 numbers from the range (0, 11]. As required, there is a *p* value for every element in this range. Most of the numbers have been given 0% probability of being returned but numbers 1, 5 and 10 have a 60%, 10%, and 30% chance of appearing in the output respectively. The plot shows that, of the 1000 numbers generated, 600 were ones, 100 were fives and 300 were tens."
   ]
  },
  {
   "cell_type": "code",
   "execution_count": 149,
   "metadata": {},
   "outputs": [
    {
     "data": {
      "image/png": "[encoded data removed]",
      "text/plain": [
       "<Figure size 432x288 with 1 Axes>"
      ]
     },
     "metadata": {
      "needs_background": "light"
     },
     "output_type": "display_data"
    }
   ],
   "source": [
    "# Customising the probability of each input element and plotting the output.\n",
    "x = np.random.choice((np.arange(11)), p = (0, 0.6, 0, 0, 0, 0.1, 0, 0, 0, 0, 0.3), size = 1000)\n",
    "plt.hist(x)\n",
    "plt.title(\"custom probabilities\")\n",
    "plt.xlabel(\"values\")\n",
    "plt.ylabel(\"number of values\")\n",
    "plt.show()"
   ]
  },
  {
   "cell_type": "markdown",
   "metadata": {},
   "source": [
    "<br>\n",
    "\n",
    "#### Practical Example\n",
    "\n",
    "Below is an example of **choice** being used to simulate the drawing of hands from a deck of cards. A list containing the 52 cards of a deck is created[<sup>6</sup>](http://www.spronck.net/pythonbook/pythonbook.pdf) and **choice** allows the user to draw 4 hands of five cards each with no duplications. "
   ]
  },
  {
   "cell_type": "code",
   "execution_count": 151,
   "metadata": {},
   "outputs": [
    {
     "data": {
      "text/plain": [
       "array([['5 of Clubs', '2 of Spades', 'Queen of Hearts', '7 of Diamonds',\n",
       "        '9 of Diamonds'],\n",
       "       ['3 of Hearts', 'Queen of Clubs', '4 of Clubs', '4 of Diamonds',\n",
       "        '6 of Hearts'],\n",
       "       ['Jack of Diamonds', 'Ace of Spades', '2 of Diamonds',\n",
       "        '8 of Hearts', 'Queen of Spades'],\n",
       "       ['10 of Spades', '6 of Spades', 'King of Spades',\n",
       "        'Jack of Spades', '2 of Hearts']], dtype='<U17')"
      ]
     },
     "execution_count": 151,
     "metadata": {},
     "output_type": "execute_result"
    }
   ],
   "source": [
    "# Creating a deck of cards.\n",
    "cards = []\n",
    "values = [\"2\", \"3\", \"4\", \"5\", \"6\", \"7\", \"8\", \"9\", \"10\", \"Jack\", \"Queen\", \"King\", \"Ace\"]\n",
    "suits = [\"Hearts\", \"Diamonds\", \"Spades\", \"Clubs\"]\n",
    "\n",
    "for value in values:\n",
    "    for suit in suits:\n",
    "        cards.append(f\"{value} of {suit}\")\n",
    "\n",
    "    \n",
    "# Deals 4 hands with 5 cards in each and no duplicates.\n",
    "hands = np.random.choice(cards, size=(4,5), replace=False)  \n",
    "hands"
   ]
  },
  {
   "cell_type": "markdown",
   "metadata": {},
   "source": [
    "<br>\n",
    "\n",
    "### BYTES\n",
    "\n",
    "The final function from the *Simple Random Data* section of the numpy.random package that I will discuss simply takes a single integer argument and generates a random sample of bytes of that length. **bytes** is an excellent function for efficiently generating a huge amounts of random data,[<sup>7</sup>](stefanocappellini.it/generate-pseudorandom-bytes-with-python/) which is useful for testing code. The below code generates 30 random bytes. "
   ]
  },
  {
   "cell_type": "code",
   "execution_count": 20,
   "metadata": {},
   "outputs": [
    {
     "data": {
      "text/plain": [
       "b\"7\\xe3\\x07\\x9a&'+\\xaa\\xb1\\xbdq\\xfd\\xbeb\\xe3K0\\x8c\\x82\\xc4\\xce\\xe4\\xe2Q\\xa2\\x18\\xa8\\xdb\\x8bi\""
      ]
     },
     "execution_count": 20,
     "metadata": {},
     "output_type": "execute_result"
    }
   ],
   "source": [
    "# Random byte generation\n",
    "np.random.bytes(30)"
   ]
  },
  {
   "cell_type": "markdown",
   "metadata": {},
   "source": [
    "<br>\n",
    "\n",
    "_________________________________________________________________________________________________________\n",
    "\n",
    "## Permutations\n",
    "\n",
    "There are two separate but related functions in the numpy.random package that randomly rearrange the order of existing data or create a shuffled range of numbers."
   ]
  },
  {
   "cell_type": "markdown",
   "metadata": {},
   "source": [
    "### SHUFFLE\n",
    "\n",
    "As the name suggests, **shuffle** shuffles the contents of a given list or array in place. This means that, unlike previous functions that can return the output when called, **shuffle** alters a variable and its effect can't be observed until the variable itself is called. The function takes one argument only, the list or array to be shuffled. It does not accept tuples as they are immutable and thus cannot be modified by shuffling the contents."
   ]
  },
  {
   "cell_type": "code",
   "execution_count": 152,
   "metadata": {},
   "outputs": [
    {
     "name": "stdout",
     "output_type": "stream",
     "text": [
      "\u001b[1mOutput from attempting to print shuffle command:\u001b[0m\n",
      "None\n",
      "\n",
      "\u001b[1mOriginal array:\u001b[0m\n",
      "[1 2 3 4 5 6]\n",
      "\n",
      "\u001b[1mShuffled array:\u001b[0m\n",
      "[1 4 3 2 5 6]\n",
      "\n",
      "\u001b[1mOriginal deck order:\u001b[0m\n",
      "['2 of Hearts', '2 of Diamonds', '2 of Spades', '2 of Clubs', '3 of Hearts', '3 of Diamonds', '3 of Spades', '3 of Clubs', '4 of Hearts', '4 of Diamonds', '4 of Spades', '4 of Clubs', '5 of Hearts', '5 of Diamonds', '5 of Spades']\n",
      "\n",
      "\u001b[1mShuffled deck order:\u001b[0m\n",
      "['Ace of Diamonds', 'Ace of Clubs', 'Jack of Hearts', '7 of Diamonds', '3 of Hearts', '6 of Spades', 'King of Clubs', '2 of Hearts', '9 of Hearts', 'Jack of Diamonds', '5 of Diamonds', 'King of Spades', '4 of Diamonds', 'King of Hearts', '10 of Spades']\n"
     ]
    }
   ],
   "source": [
    "# Demonstrating how shuffle operates in place.\n",
    "print(bold.BOLD + \"Output from attempting to print shuffle command:\" + bold.END)\n",
    "print(np.random.shuffle([1, 2, 3]))\n",
    "print()\n",
    "\n",
    "# Shuffling a 1D array of numbers.\n",
    "x = np.array([1, 2, 3, 4, 5, 6])\n",
    "print(bold.BOLD + \"Original array:\" + bold.END)\n",
    "print(x)\n",
    "print()\n",
    "np.random.shuffle(x)\n",
    "print(bold.BOLD + \"Shuffled array:\" + bold.END)\n",
    "print(x)\n",
    "print()\n",
    "\n",
    "# Shuffling a list using the deck of cards created earlier. Note original list is in numerical order.\n",
    "print(bold.BOLD + \"Original deck order:\" + bold.END)\n",
    "print(cards[:15])\n",
    "print()\n",
    "np.random.shuffle(cards)\n",
    "print(bold.BOLD + \"Shuffled deck order:\" + bold.END)\n",
    "print(cards[:15])"
   ]
  },
  {
   "cell_type": "markdown",
   "metadata": {},
   "source": [
    "<br>\n",
    "\n",
    "If a multidimensional array is passed, only the outermost arrays will be shuffled. The order of inner arrays and individual elements are not affected by **shuffle**. The 3D array below consists of 3 arrays, each containing 2 arrays of 3 elements each. When this array is passed through the **shuffle** function, only the first 3 arrays are rearranged.   "
   ]
  },
  {
   "cell_type": "code",
   "execution_count": 22,
   "metadata": {},
   "outputs": [
    {
     "data": {
      "text/plain": [
       "array([[[13, 14, 15],\n",
       "        [16, 17, 18]],\n",
       "\n",
       "       [[ 7,  8,  9],\n",
       "        [10, 11, 12]],\n",
       "\n",
       "       [[ 1,  2,  3],\n",
       "        [ 4,  5,  6]]])"
      ]
     },
     "execution_count": 22,
     "metadata": {},
     "output_type": "execute_result"
    }
   ],
   "source": [
    "# shuffling a 3D numpy array\n",
    "x = np.array([[[1, 2, 3],[4, 5, 6]], [[7, 8, 9], [10, 11, 12]], [[13, 14, 15], [16, 17, 18]]])\n",
    "np.random.shuffle(x)\n",
    "x"
   ]
  },
  {
   "cell_type": "markdown",
   "metadata": {},
   "source": [
    "To shuffle the innermost elements of a multi-dimensional array, you can first change it to a 1D array, perform shuffle and then return the array to its original shape.[<sup>8</sup>](https://www.science-emergence.com/Articles/How-to-randomly-shuffle-an-array-in-python-using-numpy/) "
   ]
  },
  {
   "cell_type": "code",
   "execution_count": 153,
   "metadata": {},
   "outputs": [
    {
     "name": "stdout",
     "output_type": "stream",
     "text": [
      "\u001b[1m3D array:\u001b[0m\n",
      "[[[ 1  2  3]\n",
      "  [ 4  5  6]]\n",
      "\n",
      " [[ 7  8  9]\n",
      "  [10 11 12]]]\n",
      "\n",
      "\u001b[1m3D array changed to 1D array:\u001b[0m\n",
      "[ 1  2  3  4  5  6  7  8  9 10 11 12]\n",
      "\n",
      "\u001b[1mShuffled 1D array:\u001b[0m\n",
      "[ 3  8  7 10  2  5 12 11  9  4  6  1]\n",
      "\n",
      "\u001b[1mShuffled 1D array changed back to 3D array:\u001b[0m\n",
      "[[[ 3  8  7]\n",
      "  [10  2  5]]\n",
      "\n",
      " [[12 11  9]\n",
      "  [ 4  6  1]]]\n"
     ]
    }
   ],
   "source": [
    "# Create 3D array\n",
    "x = np.array([[[1, 2, 3],[4, 5, 6]], [[7, 8, 9], [10, 11, 12]]])\n",
    "print(bold.BOLD + \"3D array:\" + bold.END)\n",
    "print(x)\n",
    "print()\n",
    "\n",
    "# Transform into 1D array \n",
    "x = x.ravel()\n",
    "print(bold.BOLD + \"3D array changed to 1D array:\" + bold.END)\n",
    "print(x)\n",
    "print()\n",
    "\n",
    "# Shuffle the array\n",
    "np.random.shuffle(x)\n",
    "print(bold.BOLD + \"Shuffled 1D array:\" + bold.END)\n",
    "print(x)\n",
    "print()\n",
    "\n",
    "# Transform back to 3D array\n",
    "x = x.reshape(2, 2, 3)\n",
    "print(bold.BOLD + \"Shuffled 1D array changed back to 3D array:\" + bold.END)\n",
    "print(x)"
   ]
  },
  {
   "cell_type": "markdown",
   "metadata": {},
   "source": [
    "<br>\n",
    "\n",
    "### PERMUTATION\n",
    "\n",
    "Like the **shuffle** function, **permutation** will rearrange the contents of an array, list or tuple but, rather than affecting the input in place, returns a copy of the variable with the contents shuffled. [<sup>9</sup>](https://stackoverflow.com/a/15474335)  The original order is not affected as illustrated in the code below."
   ]
  },
  {
   "cell_type": "code",
   "execution_count": 154,
   "metadata": {},
   "outputs": [
    {
     "name": "stdout",
     "output_type": "stream",
     "text": [
      "\u001b[1mVariable x:\u001b[0m\n",
      "(1, 2, 3, 4, 5, 6)\n",
      "\n",
      "\u001b[1mPermuted instance of x:\u001b[0m\n",
      "[4 6 5 2 3 1]\n",
      "\n",
      "\u001b[1mUnaffected original x:\u001b[0m\n",
      "(1, 2, 3, 4, 5, 6)\n"
     ]
    }
   ],
   "source": [
    "# Demonstrating that permutation does not affect original variable\n",
    "x = (1, 2, 3, 4, 5, 6)\n",
    "print(bold.BOLD + \"Variable x:\" + bold.END)\n",
    "print(x)\n",
    "print()\n",
    "print(bold.BOLD + \"Permuted instance of x:\" + bold.END)\n",
    "print(np.random.permutation(x))\n",
    "print()\n",
    "print(bold.BOLD + \"Unaffected original x:\" + bold.END)\n",
    "print(x)"
   ]
  },
  {
   "cell_type": "markdown",
   "metadata": {},
   "source": [
    "<br>\n",
    "\n",
    "Another feature that differentiates **permutation** from **shuffle** is that **permutation** can accept a single integer argument and will return a shuffled version of a range from 0 up to but not including the integer passed. This output can also be shaped into an array as shown below. "
   ]
  },
  {
   "cell_type": "code",
   "execution_count": 25,
   "metadata": {},
   "outputs": [
    {
     "data": {
      "text/plain": [
       "array([[6, 9, 0, 4, 7],\n",
       "       [1, 3, 5, 8, 2]])"
      ]
     },
     "execution_count": 25,
     "metadata": {},
     "output_type": "execute_result"
    }
   ],
   "source": [
    "# Returning shuffled 2D array of numbers from 0-9 inclusive\n",
    "np.random.permutation(10).reshape(2, 5)"
   ]
  },
  {
   "cell_type": "markdown",
   "metadata": {},
   "source": [
    "<br>\n",
    "\n",
    "Multidimensional arrays are treated in a similar way to **shuffle** in that arrays are only shuffled along the first axis in the returned output."
   ]
  },
  {
   "cell_type": "code",
   "execution_count": 26,
   "metadata": {},
   "outputs": [
    {
     "data": {
      "text/plain": [
       "array([[[ 1,  2,  3],\n",
       "        [ 4,  5,  6]],\n",
       "\n",
       "       [[ 7,  8,  9],\n",
       "        [10, 11, 12]],\n",
       "\n",
       "       [[13, 14, 15],\n",
       "        [16, 17, 18]]])"
      ]
     },
     "execution_count": 26,
     "metadata": {},
     "output_type": "execute_result"
    }
   ],
   "source": [
    "x = np.array([[[1, 2, 3],[4, 5, 6]], [[7, 8, 9], [10, 11, 12]], [[13, 14, 15], [16, 17, 18]]])\n",
    "np.random.permutation(x)"
   ]
  },
  {
   "cell_type": "markdown",
   "metadata": {},
   "source": [
    "<br>\n",
    "\n",
    "_________________________________________________________________________________________\n",
    "\n",
    "## Probability Distributions\n",
    "\n",
    "In previous sections, the numbers generated have been drawn from either uniform or normal distributions by default but numpy.random offers 35 different probability distribution functions from which random numbers can be drawn. \n",
    "\n",
    "\n",
    "https://www.analyticsvidhya.com/blog/2017/09/6-probability-distributions-data-science/\n",
    "\n",
    "Discrete data can only take a specific, finite number of values and is usually represented as whole numbers e.g. flipping a coin or rolling dice\n",
    "\n",
    "Continuous data can take an infinite number of values from a given range, e.g. height, weight or distance.\n",
    "\n",
    "https://onlinelibrary.wiley.com/doi/pdf/10.1002/9781119197096.app03\n",
    "\n",
    "https://www.johndcook.com/blog/2009/01/23/probability-distributions-and-object-oriented-programming/\n",
    "\n",
    "\n",
    "- Binomial\n",
    "- Multinomial\n",
    "- Poisson\n",
    "- Exponential\n",
    "- Geometric\n",
    "\n",
    "Each function takes a parameter, *size* which allows them to create multi-dimensional arrays of random numbers. When illustrating the functions below, I only generate single arrays of numbers but it is possible to generate very complex multidimensional arrays from each of these different probability distributions."
   ]
  },
  {
   "cell_type": "markdown",
   "metadata": {},
   "source": [
    "### BINOMIAL\n",
    "\n",
    "The **binomial** function is a based on the Bernoulli distribution, a discrete binary distribution that operates with just two mutually exclusive outcomes such as yes/no, on/off, heads/tails.[<sup>10</sup>](https://onlinelibrary.wiley.com/doi/pdf/10.1002/9781119197096.app03) The function takes three arguments:\n",
    "\n",
    "- **n:** the number of independent trials, e.g. the number of times a coin is flipped.\n",
    "- **p:** probability of an outcome of each trial, e.g. the probability of flipping a coin and getting heads would be 50/50.\n",
    "- **size:** the output shape which is the number of times a series of trials is carried out, e.g. carrying out a 10 coin flips 100 times.\n",
    "\n",
    "Taking a fair coin toss as an illustrative example, the code below demonstrates the binomial distribution of the number of times heads is achieved every 10 flips across 1000 experiments. [<sup>11</sup>](https://cmdlinetips.com/2018/12/simulating-coin-toss-experiment-with-binomial-random-numbers-using-numpy/) The histogram reflects the 50% probability of heads winning on a coin flip. The plot peaks at approximately 5 heads winning every 10 flips, while 0-2 heads and 8-10 heads are a lot less likely to happen.The shape of the plot looks very similar to a normal distribution, but that is only because of the large sample size. The key difference between normal and binomial distributions is that normal is continuous and binomial is discrete. [<sup>12</sup>](http://staweb.sta.cathedral.org/departments/math/mhansen/public_html/23stat/handouts/normbino.htm) There are no values in between the values of a binomial distribution, i.e. a coin lands on heads either 2 or 3 times, there is nothing in between.\n",
    "\n",
    "From this distribution, numpy.random generates 1000 random numbers, which can range from 0 (no heads in 10 flips) to 10 (all coins flipped are heads). The mean should be approximately 5 but, since this is a discrete distribution, both the median and mode should be exactly 5 to reflect the 50% probability that the coin will land on heads."
   ]
  },
  {
   "cell_type": "code",
   "execution_count": 165,
   "metadata": {},
   "outputs": [
    {
     "data": {
      "image/png": "[encoded data removed]",
      "text/plain": [
       "<Figure size 432x288 with 1 Axes>"
      ]
     },
     "metadata": {
      "needs_background": "light"
     },
     "output_type": "display_data"
    },
    {
     "name": "stdout",
     "output_type": "stream",
     "text": [
      "\u001b[1mSample of random numbers:\u001b[0m\n",
      "[7 7 4 9 3 8 9 2 5 5 6 2 4 7 6 6 5 5 3 7]\n",
      "\n",
      "\u001b[1mThe 1000 random numbers generated from this binomial distributions range from 1 to 10 with a mean of 5.167, a median of 5.0 and a mode of [5].\u001b[0m\n"
     ]
    }
   ],
   "source": [
    "# Flipping a coin 10 times.\n",
    "flips = 10\n",
    "\n",
    "# Setting probability that heads will come up.\n",
    "heads_prob = 0.5\n",
    "\n",
    "# Number of experiments where the coin is tossed 10 times.\n",
    "exp = 1000\n",
    "\n",
    "# Creating the array of random numbers.\n",
    "x = np.random.binomial(flips, heads_prob, size = exp)\n",
    "\n",
    "# Plotting the distribution\n",
    "plt.hist(x)\n",
    "plt.title(\"coin toss binomial distrbution\")\n",
    "plt.xlabel(\"number of heads\")\n",
    "plt.ylabel(\"heads success rate\")\n",
    "plt.show()\n",
    "\n",
    "# Sample of genrated numbers\n",
    "print(bold.BOLD + \"Sample of random numbers:\" + bold.END)\n",
    "print(x[:20])\n",
    "print()\n",
    "\n",
    "# Calculating the value that occurs most often. \n",
    "mode = stats.mode(x)\n",
    "\n",
    "# The 1000 numbers generated from the binomial distribution.\n",
    "print(bold.BOLD + f\"The {exp} random numbers generated from this binomial distributions range from {x.min()} to {x.max()} with a mean of {x.mean()}, a median of {np.median(x)} and a mode of {mode[0]}.\"  + bold.END)"
   ]
  },
  {
   "cell_type": "markdown",
   "metadata": {},
   "source": [
    "<br>\n",
    "\n",
    "### MULTINOMIAL\n",
    "\n",
    "Where the binomial distribution operates on two possible outcomes, a multinomial distribution - as the name suggests - can work with several. The **multinomial** function takes three arguments, some of which are similar to the **binomial** function:\n",
    "\n",
    "- **n:** the number of independent trials, e.g. the number of times card is picked.\n",
    "- **pvals:** probability of each value outcome, e.g. the 1/4 probability of each suit in a deck of cards.\n",
    "- **size:** the output shape which is the number of times a series of trials is carried out, e.g. 5 cards drawn 100 times.\n",
    "\n",
    "To illustrate this discrete distribution, I'll use the example of a deck of cards. [<sup>13</sup>](https://stattrek.com/probability-distributions/multinomial.aspx)  A card is drawn from a 52 card deck, the suit is noted and the card is shuffled back into the deck. This means that every time a card is drawn, there is consistently a 25% chance that it could be any suit. Ten cards are drawn in this way to constitute a single trial. A numpy array is returned that shows how many times each suit is drawn as shown below:"
   ]
  },
  {
   "cell_type": "code",
   "execution_count": 156,
   "metadata": {},
   "outputs": [
    {
     "name": "stdout",
     "output_type": "stream",
     "text": [
      "[3 2 5 0]\n",
      "\n",
      "\u001b[1mThe 10 cards drawn in this trial contain 3 hearts, 2 diamonds, 5 clubs and 0 spades.\u001b[0m\n"
     ]
    }
   ],
   "source": [
    "# Drawing 10 cards\n",
    "draws = 10\n",
    "\n",
    "#  Single multinomial trial.\n",
    "x = np.random.multinomial(draws, pvals = (0.25, 0.25, 0.25, 0.25))\n",
    "print(x)\n",
    "print()\n",
    "print(bold.BOLD + f\"The {draws} cards drawn in this trial contain {x[0]} hearts, {x[1]} diamonds, {x[2]} clubs and {x[3]} spades.\" + bold.END)"
   ]
  },
  {
   "cell_type": "markdown",
   "metadata": {},
   "source": [
    "The code below repeats each trial 10,000 times to visually demonstrate the distribution. In the histogram, each suit is represented by a different colour and they are uniformly distributed in the frequency they are drawn, which is to be expected as the probability for each is equal. With 10 cards drawn, and the probability of each suit set to 25%, an average of 2.5 cards of each suit should be drawn (reflected in the mean below). However, since we can't halve cards and this is a discrete distribution, we can see that each suit generally appears 2 or 3 times in the returned arrays. The numbers within in each array can range between 0 (no cards of a particular suit drawn) to 10 (all cards drawn are of the same suit."
   ]
  },
  {
   "cell_type": "code",
   "execution_count": 160,
   "metadata": {},
   "outputs": [
    {
     "data": {
      "image/png": "[encoded data removed]",
      "text/plain": [
       "<Figure size 432x288 with 1 Axes>"
      ]
     },
     "metadata": {
      "needs_background": "light"
     },
     "output_type": "display_data"
    },
    {
     "name": "stdout",
     "output_type": "stream",
     "text": [
      "\u001b[1mSample of random number arrays:\u001b[0m\n",
      "[[1 4 3 2]\n",
      " [2 3 1 4]\n",
      " [4 0 4 2]\n",
      " [3 4 2 1]\n",
      " [4 3 1 2]\n",
      " [3 3 1 3]\n",
      " [0 3 3 4]\n",
      " [2 3 1 4]\n",
      " [2 4 1 3]\n",
      " [4 1 3 2]]\n",
      "\n",
      "\u001b[1mThe 10000 random arrays generated from this multinomial distribution have numbers ranging from 0 to 9 with a mean of 2.5.\u001b[0m\n"
     ]
    }
   ],
   "source": [
    "# Output size.\n",
    "size = 10000\n",
    "\n",
    "# Creating the random number arrays.\n",
    "x = np.random.multinomial(draws, pvals = (0.25, 0.25, 0.25, 0.25), size=size)\n",
    "\n",
    "# Plotting the distribution.\n",
    "plt.hist(x)\n",
    "plt.title(\"card suits multinomial distrbution\")\n",
    "plt.xlabel(\"number of times each suit is drawn\")\n",
    "plt.ylabel(\"suits success rate\")\n",
    "plt.show()\n",
    "\n",
    "# Sample of genrated numbers\n",
    "print(bold.BOLD + \"Sample of random number arrays:\" + bold.END)\n",
    "print(x[:10])\n",
    "print()\n",
    "\n",
    "# Calculating the value that occurs most often. \n",
    "mode = stats.mode(x)\n",
    "\n",
    "# The 10,000 random number arrays returned.\n",
    "print(bold.BOLD + f\"The {size} random arrays generated from this multinomial distribution have numbers ranging from {x.min()} to {x.max()} with a mean of {x.mean()}.\"  + bold.END)"
   ]
  },
  {
   "cell_type": "markdown",
   "metadata": {},
   "source": [
    "<br>\n",
    "\n",
    "### POISSON\n",
    "\n",
    "The poisson distribution is a special case of the binomial distribution where we do not know the exact values of n (number of trials) or p (probability) but do know the average number of successes in a certain period of time. This value, the success rate, is called lambda (λ) and is the same as multiplying the probability of success by the number of trials (np). [<sup>13</sup>](https://medium.com/@andrew.chamberlain/deriving-the-poisson-distribution-from-the-binomial-distribution-840cc1668239) It is a discrete distribution, usually used to model the average rate that independent events occur.\n",
    "\n",
    "The **poisson** function takes two arguments: \n",
    "\n",
    "- **λ (lam):** the average number of events in a certain unit of time, e.g. calls per hour.\n",
    "- **size:** the output shape, which is the number of time periods, e.g. number of hours per week.\n",
    "\n",
    "As an example, the code below looks at the number of phone calls an employee takes per hour at their job over the course of a year, working 40 hours a week for 48 weeks. Of course, it would be impossible to know for certain how many people are going to phone in an hour, never mind the probability of such, but the number of calls received in an hour can be quantified and the mean deduced. If the average number of phone calls received every hour is 10, then with the poisson distribution it can range from 0 to over 25 calls per hour, but generally the number will be close to 10 as demonstrated by the mean, median and mode values below. "
   ]
  },
  {
   "cell_type": "code",
   "execution_count": 162,
   "metadata": {},
   "outputs": [
    {
     "data": {
      "image/png": "[encoded data removed]",
      "text/plain": [
       "<Figure size 432x288 with 1 Axes>"
      ]
     },
     "metadata": {
      "needs_background": "light"
     },
     "output_type": "display_data"
    },
    {
     "name": "stdout",
     "output_type": "stream",
     "text": [
      "\u001b[1mSample of random numbers:\u001b[0m\n",
      "[10 16  9  7  9 10  8 12 10  9  6 15  6 10  6 15 12  9 11 12]\n",
      "\n",
      "\u001b[1mThe 1920 random numbers generated from this poisson distribution range from 1 to 22 with a mean of 9.926, a median of 10.0 and a mode of [10].\u001b[0m\n"
     ]
    }
   ],
   "source": [
    "# Calls per hour.\n",
    "cph = 10\n",
    "\n",
    "# Number of hours worked in a year.\n",
    "year = 40 * 48\n",
    "\n",
    "# Creating the array of random numbers\n",
    "x = np.random.poisson(cph, size = year)\n",
    "\n",
    "# Plotting the distribution.\n",
    "plt.hist(x)\n",
    "plt.title(\"phone calls poisson distrbution\")\n",
    "plt.xlabel(\"calls per hour\")\n",
    "plt.ylabel(\"frequency of the number of calls\")\n",
    "plt.show()\n",
    "\n",
    "# Sample of genrated numbers\n",
    "print(bold.BOLD + \"Sample of random numbers:\" + bold.END)\n",
    "print(x[:20])\n",
    "print()\n",
    "\n",
    "# Calculating the value that occurs most often. \n",
    "mode = stats.mode(x)\n",
    "\n",
    "# The 1920 numbers generated from the poisson distribution.\n",
    "print(bold.BOLD + f\"The {year} random numbers generated from this poisson distribution range from {x.min()} to {x.max()} with a mean of {x.mean().round(3)}, a median of {np.median(x)} and a mode of {mode[0]}.\"  + bold.END)"
   ]
  },
  {
   "cell_type": "markdown",
   "metadata": {},
   "source": [
    "<br>\n",
    "\n",
    "### EXPONENTIAL\n",
    "\n",
    "Where the poisson distribution looks at the number of events in a certain timeframe, an exponential distribution could be used to look at the time intervals between events.[<sup>16</sup>](https://stats.stackexchange.com/questions/2092/relationship-between-poisson-and-exponential-distribution). It is a continuous distribution as time intervals are not made up of fixed values. In numpy.random, the **exponential** function takes two arguments:\n",
    "\n",
    "- **β (scale):** the time interval between events, e.g. 6 minutes between one phone call and another.\n",
    "- **size**: the output shape, which is the number of times a particular time period lapsed between events, e.g. the number of times that 6 minutes lapsed between phone calls.  \n",
    "\n",
    "Looking back at the worker who has an average of 10 phone calls per hour, the parameter β would be 1/10 (1/λ) to represent 0.1% of the time interval, which in this case is measured in hours. This means the worker gets approximately 1 call every 6 minutes (0.1% of 60 mins = 6mins). As the histogram below illustrates, most of the phone calls that come in are centred around the 0.1 mark and as the time interval gets larger, the chances that a longer times pass before a call drop off dramatically, e.g. it is very rare that half an hour (0.5 on the histogram) would pass between phone calls. The random numbers generated from this exponential distribution are floating point numbers that are nearly all between 0-0.4 - there are proportionally very few values beyond this - with a mean close to 0.1."
   ]
  },
  {
   "cell_type": "code",
   "execution_count": 186,
   "metadata": {},
   "outputs": [
    {
     "data": {
      "image/png": "[encoded data removed]",
      "text/plain": [
       "<Figure size 432x288 with 1 Axes>"
      ]
     },
     "metadata": {
      "needs_background": "light"
     },
     "output_type": "display_data"
    },
    {
     "name": "stdout",
     "output_type": "stream",
     "text": [
      "\u001b[1mSample of random numbers:\u001b[0m\n",
      "[0.02341914 0.02487795 0.10569299 0.04896711 0.03299351]\n",
      "\n",
      "\u001b[1mThe 1000 random numbers generated from this exponential distribution range from about 0.00013016103619025712 to 0.9012265950789152 with a mean of 0.10184184415880977.\u001b[0m\n"
     ]
    }
   ],
   "source": [
    "# Average time interval (1/λ).\n",
    "interval = 1/cph\n",
    "\n",
    "# Creating the array of random numbers.\n",
    "x = np.random.exponential(interval, size = 1000)\n",
    "\n",
    "# Plotting the distribution.\n",
    "plt.hist(x)\n",
    "plt.title(\"interval between phonecalls exponential distribution\")\n",
    "plt.xlabel(\"time intervals\")\n",
    "plt.ylabel(\"frequency of time intervals\")\n",
    "plt.show()\n",
    "\n",
    "# Sample of genrated numbers\n",
    "print(bold.BOLD + \"Sample of random numbers:\" + bold.END)\n",
    "print(x[:5])\n",
    "print()\n",
    "\n",
    "# The 1920 numbers generated from the exponential distribution.\n",
    "print(bold.BOLD + f\"The 1000 random numbers generated from this exponential distribution range from about {x.min()} to {x.max()} with a mean of {x.mean()}.\" + bold.END)             "
   ]
  },
  {
   "cell_type": "markdown",
   "metadata": {},
   "source": [
    "### GEOMETRIC\n",
    "\n",
    "The final function I will discuss is the **geometric** function, which is related to the exponential distribution except that is it discrete rather than continuous. The histogram in the code below looks very similar to the exponential plot above but represents a very different set of data. Where an exponential distribution is the time between events, a geometric probability distribution represents the number of failures before a successful event in a series of Bernoulli trials. [<sup>17</sup>](https://www.statisticshowto.datasciencecentral.com/geometric-distribution/). The **geometric** function takes two parameters:\n",
    "\n",
    "- **p:** the probability of success of a trial, e.g. the 50/50 chance of heads or tails when flipping a coin.\n",
    "- **size:** the output shape, which is the number of trials before a success, e.g. the number of times the coin was flipped before getting a heads.\n",
    "\n",
    "Going back to the Bernoulli trial of a coin flip that was used in the discussion about the **binomial** function, I will use the same scenario to demonstrate the geometric distribution. While previously we counted the number of times heads was achieved in 10 coin flips, here we look at the number of flips it takes before the coin lands on heads. Once a heads is achieved, the number of flips is recorded and the next trial begins. The **p** value is again set to 0.5 to represent the 50% probability of getting heads. As may be expected, most of the time when flipping a coin it might only takes 1 or 2 flips before you'd see a heads and the histogram below reflects this with a huge proportion of the 1000 trials taking 2 flips or less. The mean, median and mode of the 1000 random numbers are also around 1 or 2. Of course, as each coin flip is an independent trial there could potentially be a large amount of flips before the coin lands on heads even though it's quite unlikely.  "
   ]
  },
  {
   "cell_type": "code",
   "execution_count": 197,
   "metadata": {},
   "outputs": [
    {
     "data": {
      "image/png": "[encoded data removed]",
      "text/plain": [
       "<Figure size 432x288 with 1 Axes>"
      ]
     },
     "metadata": {
      "needs_background": "light"
     },
     "output_type": "display_data"
    },
    {
     "name": "stdout",
     "output_type": "stream",
     "text": [
      "\u001b[1mSample of random numbers:\u001b[0m\n",
      "[8 3 2 1 1 1 2 2 1 1 5 5 1 1 1 1 1 1 2 1]\n",
      "\n",
      "\u001b[1mThe 1000 random numbers generated from this poisson distribution range from 1 to 13 with a mean of 2.035, a median of 2.0 and a mode of [1].\u001b[0m\n"
     ]
    }
   ],
   "source": [
    "# Creating the array of random numbers.\n",
    "x = np.random.geometric(0.5, size = 1000)\n",
    "\n",
    "\n",
    "# Plotting the distribution.\n",
    "plt.hist(x)\n",
    "plt.title(\"Geometric Distrbution: Coin Flips\")\n",
    "plt.xlabel(\"Number of Flips\")\n",
    "plt.ylabel(\"Frequency of Flip Numbers\")\n",
    "plt.show()\n",
    "\n",
    "# Sample of genrated numbers\n",
    "print(bold.BOLD + \"Sample of random numbers:\" + bold.END)\n",
    "print(x[:20])\n",
    "print()\n",
    "\n",
    "# Calculating the value that occurs most often. \n",
    "mode = stats.mode(x)\n",
    "\n",
    "# The 1000 numbers generated from the geometrical distribution.\n",
    "print(bold.BOLD + f\"The 1000 random numbers generated from this poisson distribution range from {x.min()} to {x.max()} with a mean of {x.mean().round(3)}, a median of {np.median(x)} and a mode of {mode[0]}.\"  + bold.END)"
   ]
  },
  {
   "cell_type": "markdown",
   "metadata": {},
   "source": [
    "<br>\n",
    "\n",
    "_________________________________________________________________________________________________________________\n",
    "\n",
    "## Random Seeds\n",
    "\n",
    "Difference between using random.seed with and without initialising RandomState https://stackoverflow.com/questions/22994423/difference-between-np-random-seed-and-np-random-randomstate/22994529\n",
    "https://stackoverflow.com/a/5837352\n",
    "\n",
    "Looks like with RandomState you can create an instance of a new seed without affecting anything else while random.seed  has a global effect\n",
    "\n",
    "https://www.sharpsightlabs.com/blog/numpy-random-seed/\n",
    "\n",
    "http://justinbois.github.io/bootcamp/2016/lessons/l26_random_number_generation.html\n",
    "\n",
    "https://www.statisticshowto.datasciencecentral.com/random-seed-definition/\n"
   ]
  },
  {
   "cell_type": "code",
   "execution_count": 33,
   "metadata": {},
   "outputs": [
    {
     "name": "stdout",
     "output_type": "stream",
     "text": [
      "[0.77132064 0.02075195 0.63364823]\n",
      "[0.22199317 0.87073231 0.20671916]\n",
      "[0.74880388 0.49850701 0.22479665]\n",
      "[0.91861091 0.48841119 0.61174386]\n"
     ]
    }
   ],
   "source": [
    "# To initialise a seed instance\n",
    "x = np.random.RandomState(10)\n",
    "# To change the seed globally\n",
    "np.random.seed(5)\n",
    "\n",
    "print(x.rand(3))\n",
    "\n",
    "print (np.random.rand(3))\n",
    "\n",
    "print(x.rand(3))\n",
    "\n",
    "print (np.random.rand(3))"
   ]
  },
  {
   "cell_type": "code",
   "execution_count": null,
   "metadata": {},
   "outputs": [],
   "source": []
  },
  {
   "cell_type": "code",
   "execution_count": null,
   "metadata": {},
   "outputs": [],
   "source": []
  },
  {
   "cell_type": "markdown",
   "metadata": {},
   "source": [
    "leftover bits\n",
    "\n",
    "Types of Bernoulli distributions https://onlinelibrary.wiley.com/doi/pdf/10.1002/9781119197096.app03\n",
    "\n",
    "https://towardsdatascience.com/fun-with-the-binomial-distribution-96a5ecabf65b\n",
    "\n",
    "\"It (exponential) is the continuous random variable equivalent to the geometric probability distribution for discrete random variables.\" https://machinelearningmastery.com/continuous-probability-distributions-for-machine-learning/"
   ]
  },
  {
   "cell_type": "markdown",
   "metadata": {},
   "source": [
    "<br>\n",
    "\n",
    "__________________________________________________________________________________________________________\n",
    "\n",
    "\n",
    "## References\n",
    "\n",
    "1. Rand versus random_sample: https://stackoverflow.com/a/18829377\n",
    "2. Difference between np.random.rand and np.random.random: https://stackoverflow.com/a/47232184\n",
    "3. Different integer types: https://stackoverflow.com/a/9696777\n",
    "3. Deprecation of random_integers https://docs.scipy.org/doc/numpy-1.16.0/reference/generated/numpy.random.random_integers.html#numpy.random.random_integers\n",
    "4. Checking the size of different datatypes: https://stackoverflow.com/a/14329864\n",
    "5. Magic 8 Ball code adapted from: Sweigart, A. (2015). *Automate the Boring Stuff with Python*. San Fracisco: No Starch Press (p. 64).\n",
    "6. Deck of cards adapted from: Spronck, P. (2017). *The Coder's Apprentice: LEarning Programming with Python 3*. http://www.spronck.net/pythonbook/pythonbook.pdf (p. 341).\n",
    "7. Efficiency of the bytes function: Cappellini, S. (2018). *How to (efficiently) generate a huge number of pseudorandom bytes using Python*. stefanocappellini.it/generate-pseudorandom-bytes-with-python/\n",
    "8. Shuffling elements of multidimensional arrays adapted from: https://www.science-emergence.com/Articles/How-to-randomly-shuffle-an-array-in-python-using-numpy/\n",
    "9. Difference between np.random.shuffle and np.random.permutation: https://stackoverflow.com/a/15474335\n",
    "10. Binomial and Bernoulli Distributions: https://onlinelibrary.wiley.com/doi/pdf/10.1002/9781119197096.app03\n",
    "11. Coin toss binomial function adapted from: https://cmdlinetips.com/2018/12/simulating-coin-toss-experiment-with-binomial-random-numbers-using-numpy/\n",
    "12. Difference between binomial and normal distributions: http://staweb.sta.cathedral.org/departments/math/mhansen/public_html/23stat/handouts/normbino.htm\n",
    "13. Multinomial distribution example idea: https://stattrek.com/probability-distributions/multinomial.aspx\n",
    "13. About the poisson distribution: https://medium.com/@andrew.chamberlain/deriving-the-poisson-distribution-from-the-binomial-distribution-840cc1668239\n",
    "14. Relationship between poisson and exponential: https://stats.stackexchange.com/questions/2092/relationship-between-poisson-and-exponential-distribution\n",
    "17. Relationship between geometric and exponential: https://www.statisticshowto.datasciencecentral.com/geometric-distribution/"
   ]
  },
  {
   "cell_type": "code",
   "execution_count": null,
   "metadata": {},
   "outputs": [],
   "source": []
  }
 ],
 "metadata": {
  "kernelspec": {
   "display_name": "Python 3",
   "language": "python",
   "name": "python3"
  },
  "language_info": {
   "codemirror_mode": {
    "name": "ipython",
    "version": 3
   },
   "file_extension": ".py",
   "mimetype": "text/x-python",
   "name": "python",
   "nbconvert_exporter": "python",
   "pygments_lexer": "ipython3",
   "version": "3.7.4"
  }
 },
 "nbformat": 4,
 "nbformat_minor": 4
}
