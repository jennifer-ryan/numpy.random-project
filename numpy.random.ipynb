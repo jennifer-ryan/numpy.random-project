{
 "cells": [
  {
   "cell_type": "markdown",
   "metadata": {},
   "source": [
    "1. Explain the overall purpose of the package.\n",
    "2. Explain the use of the “Simple random data” and “Permutations” functions.\n",
    "3. Explain the use and purpose of at least five “Distributions” functions.\n",
    "4. Explain the use of seeds in generating pseudorandom numbers.\n",
    "\n",
    "Numpy documentation https://docs.scipy.org/doc/numpy-1.16.0/reference/routines.random.html\n",
    "\n",
    "Mersenne Twister - PRNG (pseudorandom number generator) https://en.wikipedia.org/wiki/Mersenne_Twister\n"
   ]
  },
  {
   "cell_type": "markdown",
   "metadata": {},
   "source": [
    "## Purpose of numpy.random\n",
    "\n",
    "Random number generation is vital for many practical programming needs, such as cryptography, model-building, simulation creation and statistical research.[<sup>1</sup>](https://en.wikipedia.org/wiki/Pseudorandom_number_generator) Of course, being programmed, deterministic machines, computers cannot create truly random numbers and so simulate randomness to generate what are called pseudorandom numbers. These numbers are generally drawn from probability distributions and require an initial input seed, which allows an algorithm to generate numbers in a predetermined fashion. Pseudorandom numbers are generally suitably random enough for most purposes but also allow for reproducible data. [<sup>2</sup>](https://realpython.com/python-random/) The **numpy.random** package is built on the Mersenne Twister pseudorandom number generator, which is strong in that it has a long period before values start repeating, but not perfect in terms of non-predictability. [<sup>3</sup>](https://www.sciencedirect.com/topics/computer-science/mersenne-twister) \n",
    "\n"
   ]
  },
  {
   "cell_type": "markdown",
   "metadata": {},
   "source": [
    "### The random module\n",
    "\n",
    "Before commencing the discussion of **numpy.random**, it should be noted that Python already has a module called **random** that functions similarly to **numpy.random**, allowing the user to create random numbers, shuffle a sequence, or set the random seed. However, the **numpy.random** module supplements the **random** module in 2 major ways<sup>1</sup>:\n",
    "\n",
    "- Where **random** returns a single number or sequence of values, **numpy.random** can generate complex arrays of values. [<sup>2</sup>](https://realpython.com/python-random/#prngs-for-arrays-numpyrandom)\n",
    "- The **random** module documentation lists 12 functions that work with different probability distributions [<sup>2</sup>](https://docs.python.org/3/library/random.html#real-valued-distributions), where **numpy.random** has many more with 35 functions available. \n",
    "\n",
    "While random.random by default produces single random numbers, it can produce multiple if used with the range function. However, numpy.random allows you to produce increasingly complex arrays of random numbers. https://realpython.com/python-random/#prngs-for-arrays-numpyrandom\n",
    "\n",
    "According to Python for Data Analysis (p. 118) numpy.random supplements the random module with a few extra probability distributions and functions\n",
    "https://stackoverflow.com/questions/7029993/differences-between-numpy-random-and-random-random-in-python"
   ]
  },
  {
   "cell_type": "code",
   "execution_count": 1,
   "metadata": {},
   "outputs": [],
   "source": [
    "# Importing libraries\n",
    "import numpy as np\n",
    "import matplotlib.pyplot as plt\n",
    "%matplotlib inline\n",
    "import sys\n",
    "from scipy import stats"
   ]
  },
  {
   "cell_type": "code",
   "execution_count": 2,
   "metadata": {},
   "outputs": [],
   "source": [
    "class bold:\n",
    "    BOLD = '\\033[1m'\n",
    "    END = '\\033[0m'"
   ]
  },
  {
   "cell_type": "markdown",
   "metadata": {},
   "source": [
    "<br>\n",
    "\n",
    "_________________________________________________________________________________________________________________\n",
    "\n",
    "## Simple Random Data\n",
    "At its most basic, the numpy.random package is used to generate random data or arrays of data, generally numerical. There are several functions in the package that create simple random data and each one does so in different ways. Before I move on to the more complex probability distributions and seed functions of the package, I will first discuss the following modules in this section:\n",
    "\n",
    "- rand\n",
    "- randn\n",
    "- randint\n",
    "- choice\n",
    "- bytes\n",
    "\n",
    "Within many of these functions, where appropriate, I will make reference to some related but distinct functions that are available elsewhere in the package."
   ]
  },
  {
   "cell_type": "markdown",
   "metadata": {},
   "source": [
    "<br>\n",
    "\n",
    "### RAND \n",
    "\n",
    "The **rand** function generates a floating point number or array of floating point numbers from the half open interval \\[0, 1), meaning that it includes every number greater than or equal to 0 and less than 1. If no arguments are passed to the function, a single random number is returned but **rand** is capable of generating large arrays of randomly generated numbers when integer arguments are passed. There is no limit to the number of arguments that can be passed so these arrays can be hugely complex. "
   ]
  },
  {
   "cell_type": "code",
   "execution_count": 3,
   "metadata": {},
   "outputs": [
    {
     "name": "stdout",
     "output_type": "stream",
     "text": [
      "\u001b[1mGenerates a single random number:\u001b[0m\n",
      "0.4532253267810512\n",
      "\n",
      "\u001b[1mGenerates 2 arrays with 4 random numbers in each:\u001b[0m\n",
      "[[0.83793354 0.80207609 0.97556432 0.27139058]\n",
      " [0.56585658 0.19991819 0.62878598 0.1883357 ]]\n",
      "\n",
      "\u001b[1mGenerates 2 arrays with each containing 4 arrays and each of those containing 6 random numbers:\u001b[0m\n",
      "[[[0.82199325 0.30653291 0.91226905 0.33071814 0.54330986 0.17731433]\n",
      "  [0.45317258 0.64515975 0.56187741 0.2830964  0.60309229 0.1620865 ]\n",
      "  [0.43120143 0.01756025 0.14111867 0.05532671 0.17873961 0.06837828]\n",
      "  [0.43411975 0.36530462 0.35112034 0.21322961 0.4320038  0.80417391]]\n",
      "\n",
      " [[0.13393977 0.86710992 0.08689561 0.82574105 0.93837114 0.2089617 ]\n",
      "  [0.65676276 0.51844837 0.35073249 0.37671718 0.20362713 0.17807632]\n",
      "  [0.28380711 0.2494461  0.48827866 0.32905887 0.09888763 0.15425405]\n",
      "  [0.54986252 0.71092129 0.18009966 0.48485906 0.70812955 0.28660802]]]\n"
     ]
    }
   ],
   "source": [
    "# Passing no arguments to generate a single random number.\n",
    "print(bold.BOLD + \"Generates a single random number:\" + bold.END)\n",
    "print(np.random.rand())\n",
    "print()\n",
    "\n",
    "# Passing (x, y) arguments will return x arrays with y values in each.\n",
    "print(bold.BOLD + \"Generates 2 arrays with 4 random numbers in each:\" + bold.END)\n",
    "print(np.random.rand(2, 4))\n",
    "print()\n",
    "\n",
    "# Passing x * y * z will return x arrays containing y arrays that have z values.\n",
    "print(bold.BOLD + \"Generates 2 arrays with each containing 4 arrays and each of those containing 6 random numbers:\" +bold.END)\n",
    "print(np.random.rand(2, 4, 6))\n"
   ]
  },
  {
   "cell_type": "markdown",
   "metadata": {},
   "source": [
    "<br>\n",
    "\n",
    "#### Distribution\n",
    "\n",
    "The numbers from **rand** are generated from a continuous uniform distribution, meaning that every number in the \\[0, 1) range has an equal chance of being returned as any other. The plot below demonstrates this distribution across 10,000 randomly generated numbers from the **rand** function."
   ]
  },
  {
   "cell_type": "code",
   "execution_count": 4,
   "metadata": {},
   "outputs": [
    {
     "data": {
      "image/png": "[encoded data removed]",
      "text/plain": [
       "<Figure size 432x288 with 1 Axes>"
      ]
     },
     "metadata": {
      "needs_background": "light"
     },
     "output_type": "display_data"
    }
   ],
   "source": [
    "# Demonstrating the uniform distribution of the rand function.\n",
    "x = np.random.rand(10000)\n",
    "plt.hist(x)\n",
    "plt.title(\"uniform distribution of the rand function\")\n",
    "plt.xlabel(\"values\")\n",
    "plt.ylabel(\"number of values\")\n",
    "plt.show()"
   ]
  },
  {
   "cell_type": "markdown",
   "metadata": {},
   "source": [
    "<br>\n",
    "\n",
    "#### Similar Functions in numpy.random"
   ]
  },
  {
   "cell_type": "markdown",
   "metadata": {},
   "source": [
    "##### random_sample\n",
    "\n",
    "There are several functions in the numpy.random package that are all variations of the same function and related to **rand**:\n",
    "\n",
    "1. np.random.random\n",
    "2. np.random.ranf\n",
    "3. np.random.sample\n",
    "4. np.random.random_sample\n",
    "\n",
    "These functions can all be considered synonymous with each other, basically aliases for **random_sample**, kept in the package as they may be used by different communities.[<sup>1</sup>](https://stackoverflow.com/a/18829377) Below demonstrates how they all the perform the same function. "
   ]
  },
  {
   "cell_type": "code",
   "execution_count": 5,
   "metadata": {},
   "outputs": [
    {
     "name": "stdout",
     "output_type": "stream",
     "text": [
      "True\n",
      "True\n",
      "True\n"
     ]
    }
   ],
   "source": [
    "# Demonstrating how the below functions are all the same\n",
    "print(np.random.random_sample == np.random.random)\n",
    "\n",
    "print(np.random.random_sample == np.random.ranf)\n",
    "\n",
    "print(np.random.random_sample == np.random.sample)"
   ]
  },
  {
   "cell_type": "markdown",
   "metadata": {},
   "source": [
    "**random_sample** is essentially the same as the **rand** function except for one very important distinction: while **rand** takes multiple arguments to build the shape of an array, **random_sample** only accepts one argument. To build a multi-dimensional array with **random_sample**, a tuple must be passed for it to function correctly.[<sup>2</sup>](https://stackoverflow.com/a/47232184) This can be useful when there are variables containing tuples from which one wants to create an array of random numbers."
   ]
  },
  {
   "cell_type": "code",
   "execution_count": 6,
   "metadata": {},
   "outputs": [
    {
     "name": "stdout",
     "output_type": "stream",
     "text": [
      "\u001b[1m2 x 4 array from rand:\u001b[0m\n",
      "[[0.51512673 0.75501567 0.02684045 0.0035929 ]\n",
      " [0.71009571 0.86807152 0.19924026 0.68979053]]\n",
      "\n",
      "\u001b[1m2 x 4 array from random_sample:\u001b[0m\n",
      "[[0.51682519 0.1772551  0.81898302 0.27316546]\n",
      " [0.92242308 0.29999413 0.27666401 0.25131836]]\n",
      "\n",
      "\u001b[1m2 x 4 array from random_sample using a variable containing a tuple:\u001b[0m\n",
      "[[0.6223839  0.00256024 0.79743911 0.03304484]\n",
      " [0.5997124  0.77224473 0.48577064 0.264875  ]]\n"
     ]
    }
   ],
   "source": [
    "# Demonstrating the difference between rand and random_sample.\n",
    "print(bold.BOLD + \"2 x 4 array from rand:\" + bold.END)\n",
    "print(np.random.rand(2, 4))\n",
    "print()\n",
    "\n",
    "# Passing a tuple\n",
    "print(bold.BOLD + \"2 x 4 array from random_sample:\" + bold.END)\n",
    "print(np.random.random_sample((2, 4)))\n",
    "print()\n",
    "\n",
    "# Passing a variable that contains a tuple\n",
    "t = (2, 4)\n",
    "print(bold.BOLD + \"2 x 4 array from random_sample using a variable containing a tuple:\" + bold.END)\n",
    "print(np.random.random_sample(t))\n"
   ]
  },
  {
   "cell_type": "markdown",
   "metadata": {},
   "source": [
    "\n",
    "##### uniform\n",
    "\n",
    "The \\[0, 1) range cannot be adjusted within the **rand** function, but there is a related function within numpy.random called **uniform**, which works in largely the same way as **rand** but allows a custom range to be passed. Again this is a half open interval, generating numbers greater than or equal to the low number and less than the high number. Below is an example of the function in operation and further illustration demonstrating the uniform probability distribution."
   ]
  },
  {
   "cell_type": "code",
   "execution_count": 7,
   "metadata": {},
   "outputs": [
    {
     "name": "stdout",
     "output_type": "stream",
     "text": [
      "\u001b[1mGenerates 2 arrays with 4 random numbers in each within the custom range [-5, 10):\u001b[0m\n",
      "[[-0.22026595  8.61150122 -2.0677899  -1.08905529]\n",
      " [ 4.67993979 -4.72125497  8.94195628 -3.9037685 ]]\n",
      "\n",
      "\u001b[1mGenerates 4 random numbers in the custom range [-5, 10):\u001b[0m\n",
      "[5.12769915 0.15541026 1.85289275 9.34236731]\n",
      "\n"
     ]
    },
    {
     "data": {
      "image/png": "[encoded data removed]",
      "text/plain": [
       "<Figure size 432x288 with 1 Axes>"
      ]
     },
     "metadata": {
      "needs_background": "light"
     },
     "output_type": "display_data"
    }
   ],
   "source": [
    "# Passing low and high arguments with size of (x, y) arguments will return x arrays with y values in each.\n",
    "print(bold.BOLD + \"Generates 2 arrays with 4 random numbers in each within the custom range [-5, 10):\" + bold.END)\n",
    "print(np.random.uniform(low=-5, high=10, size =(2, 4)))\n",
    "print()\n",
    "\n",
    "# Demonstrating it is not necessary to have 'low=' or 'high=' to operate the function. \n",
    "# 'size=' is necessary if more than one array is required.\n",
    "print(bold.BOLD + \"Generates 4 random numbers in the custom range [-5, 10):\" + bold.END)\n",
    "print(np.random.uniform(-5, 10, 4))\n",
    "print()\n",
    "\n",
    "# Demonstrating the uniform distribution of the uniform function.\n",
    "x = np.random.uniform(-10, 10, 10000)\n",
    "plt.hist(x)\n",
    "plt.title(\"uniform distribution of uniform function\")\n",
    "plt.xlabel(\"values\")\n",
    "plt.ylabel(\"number of values\")\n",
    "plt.show()"
   ]
  },
  {
   "cell_type": "markdown",
   "metadata": {},
   "source": [
    "<br>\n",
    "\n",
    "### RANDN\n",
    "\n",
    "**randn** functions in the same way as **rand** when generating numbers. Without any arguments, it will produce a single randomly generated number between \\[0, 1) and with arguments will produce increasingly complex arrays of numbers. "
   ]
  },
  {
   "cell_type": "code",
   "execution_count": 8,
   "metadata": {},
   "outputs": [
    {
     "name": "stdout",
     "output_type": "stream",
     "text": [
      "\u001b[1mGenerates a single random number:\u001b[0m\n",
      "-0.26800136493609816\n",
      "\n",
      "\u001b[1mGenerates 2 arrays with 4 random numbers in each:\u001b[0m\n",
      "[[-0.61033476 -0.59559225 -0.65396667 -1.04615206]\n",
      " [ 0.74635249  0.02452399 -0.26062417  1.00579906]]\n",
      "\n",
      "\u001b[1mGenerates 2 arrays with each containing 4 arrays and each of those containing 6 random numbers:\u001b[0m\n",
      "[[[ 0.74970645 -1.68855239 -1.72608876 -0.66265749  1.11192331\n",
      "   -0.20754553]\n",
      "  [ 0.47468408  1.16161728  1.37218111 -0.55862392  0.58443725\n",
      "    1.87015206]\n",
      "  [ 1.20125604  1.14790295  2.05125754  0.73737875  0.46328997\n",
      "   -1.25369252]\n",
      "  [ 0.59217937  0.45438747 -1.8847288   0.35530567  1.30001087\n",
      "    0.13942017]]\n",
      "\n",
      " [[-0.68398176  0.28565666  0.0844255   0.68009516  0.90843656\n",
      "    0.54403985]\n",
      "  [ 0.11216653  0.0038989  -0.81358506 -1.36782859  0.60613725\n",
      "    0.28539753]\n",
      "  [-0.61066787 -0.6596051   2.25292619  1.44387313 -0.76919117\n",
      "    2.50269077]\n",
      "  [ 0.31117084  3.36504021  1.20009958 -0.98120036  0.0551161\n",
      "    0.920289  ]]]\n"
     ]
    }
   ],
   "source": [
    "# Passing no arguments to generate a single random number:\n",
    "print(bold.BOLD + \"Generates a single random number:\" + bold.END)\n",
    "print(np.random.randn())\n",
    "print()\n",
    "\n",
    "# Passing (x, y) arguments will return x arrays with y values in each\n",
    "print(bold.BOLD + \"Generates 2 arrays with 4 random numbers in each:\" + bold.END)\n",
    "print(np.random.randn(2, 4))\n",
    "print()\n",
    "\n",
    "# Passing x * y * z will return x arrays containing y arrays that have z values\n",
    "print(bold.BOLD + \"Generates 2 arrays with each containing 4 arrays and each of those containing 6 random numbers:\" + bold.END)\n",
    "print(np.random.randn(2, 4, 6))\n"
   ]
  },
  {
   "cell_type": "markdown",
   "metadata": {},
   "source": [
    "<br>\n",
    "\n",
    "#### Distribution\n",
    "\n",
    "What separates the **randn** function from **rand** is that numbers are generated from a normal Gaussian distribution rather than a uniform distribution. In this function the normal distribution has a mean of 0 and a variance of 1. This means that the majority of numbers generated centre around 0 and generally range between -1 and 1. The plot below helps to illustrate this; of the 10,000 numbers generated, the vast majority are within the -1 to 1 range and peak at the 0 mark. Looking again at the numbers generated above, it can be seen that they largely sit within the range (-1, 1)."
   ]
  },
  {
   "cell_type": "code",
   "execution_count": 9,
   "metadata": {},
   "outputs": [
    {
     "data": {
      "image/png": "[encoded data removed]",
      "text/plain": [
       "<Figure size 432x288 with 1 Axes>"
      ]
     },
     "metadata": {
      "needs_background": "light"
     },
     "output_type": "display_data"
    }
   ],
   "source": [
    "# Demonstrating the normal distribution of the randn function.\n",
    "x = np.random.randn(10000)\n",
    "plt.hist(x)\n",
    "plt.title(\"normal distribution of randn function\")\n",
    "plt.xlabel(\"values\")\n",
    "plt.ylabel(\"number of values\")\n",
    "plt.show()"
   ]
  },
  {
   "cell_type": "markdown",
   "metadata": {},
   "source": [
    "<br>\n",
    "\n",
    "#### Similar Functions in numpy.random"
   ]
  },
  {
   "cell_type": "markdown",
   "metadata": {},
   "source": [
    "##### standard_normal\n",
    "\n",
    "Like **rand** and **random_sample**, **randn** has the same relationship with another numpy.random function called **standard_normal**, which only takes a single argument but can accept tuples.  "
   ]
  },
  {
   "cell_type": "code",
   "execution_count": 10,
   "metadata": {},
   "outputs": [
    {
     "name": "stdout",
     "output_type": "stream",
     "text": [
      "\u001b[1m2 x 4 array from randn:\u001b[0m\n",
      "[[ 1.08656815  0.07445319 -0.61877444 -0.86812183]\n",
      " [-0.04014713 -0.52348453 -1.3060253  -1.15884696]]\n",
      "\n",
      "\u001b[1m2 x 4 array from standard_normal:\u001b[0m\n",
      "[[ 1.00968931 -0.00972444  0.09524933 -0.27180338]\n",
      " [ 1.9279719   1.18161126  1.12142578 -1.74441223]]\n",
      "\n",
      "\u001b[1m2 x 4 array from standard_normal using a variable containing a tuple:\u001b[0m\n",
      "[[-0.13888804 -1.95821309  0.42567674 -0.66823061]\n",
      " [ 0.22932222 -1.90712985 -0.88401272  1.65102884]]\n"
     ]
    }
   ],
   "source": [
    "# Demonstrating the difference between randn and standard_normal.\n",
    "print(bold.BOLD + \"2 x 4 array from randn:\" + bold.END)\n",
    "print(np.random.randn(2, 4))\n",
    "print()\n",
    "\n",
    "# Passing a tuple\n",
    "print(bold.BOLD + \"2 x 4 array from standard_normal:\" + bold.END)\n",
    "print(np.random.standard_normal((2, 4)))\n",
    "print()\n",
    "\n",
    "# Passing a variable that contains a tuple\n",
    "t = (2, 4)\n",
    "print(bold.BOLD + \"2 x 4 array from standard_normal using a variable containing a tuple:\" + bold.END)\n",
    "print(np.random.standard_normal(t))\n"
   ]
  },
  {
   "cell_type": "markdown",
   "metadata": {},
   "source": [
    "\n",
    "##### normal\n",
    "\n",
    "Again similar to **rand**'s range, the mean (0) and standard deviation (1) cannot be altered within the **randn** function but there is another function in the numpy.random package that returns random numbers from a customised normal distribution range. The **normal** function takes a *loc* argument to determine the mean, a *scale* argument for the standard deviation, and a *size* argument for the output shape. In each of the functions below, the output should largely be in the range (2, 8) and centre around 5.      "
   ]
  },
  {
   "cell_type": "code",
   "execution_count": 11,
   "metadata": {},
   "outputs": [
    {
     "name": "stdout",
     "output_type": "stream",
     "text": [
      "\u001b[1mGenerates 2 arrays with 4 random numbers from the custom normal distribution:\u001b[0m\n",
      "[[3.22071271 6.8936116  6.62553663 3.04975451]\n",
      " [1.8159272  3.16491993 9.55771743 5.85404287]]\n",
      "\n",
      "\u001b[1mGenerates 4 random numbers from the custom normal distribution:\u001b[0m\n",
      "[4.0759912  2.16668059 5.94330875 2.10071627]\n",
      "\n"
     ]
    },
    {
     "data": {
      "image/png": "[encoded data removed]",
      "text/plain": [
       "<Figure size 432x288 with 1 Axes>"
      ]
     },
     "metadata": {
      "needs_background": "light"
     },
     "output_type": "display_data"
    }
   ],
   "source": [
    "# Passing loc and scale arguments with size of (x, y) arguments will return x arrays with y values in each.\n",
    "print(bold.BOLD + \"Generates 2 arrays with 4 random numbers from the custom normal distribution:\" + bold.END)\n",
    "print(np.random.normal(loc=5, scale=3, size =(2, 4)))\n",
    "print()\n",
    "\n",
    "# Demonstrating it is not necessary to have 'loc=' or 'scale=' to operate the function. \n",
    "# 'size=' is necessary if more than one array is required.\n",
    "print(bold.BOLD + \"Generates 4 random numbers from the custom normal distribution:\" + bold.END)\n",
    "print(np.random.normal(5, 3, 4))\n",
    "print()\n",
    "\n",
    "# Demonstrating the normal distribution of the normal function.\n",
    "x = np.random.normal(5, 3, 10000)\n",
    "plt.hist(x)\n",
    "plt.title(\"normal distribution of normal function\")\n",
    "plt.xlabel(\"values\")\n",
    "plt.ylabel(\"number of values\")\n",
    "plt.show()"
   ]
  },
  {
   "cell_type": "markdown",
   "metadata": {},
   "source": [
    "<br>\n",
    "\n",
    "### RANDINT\n",
    "\n",
    "The functions explored so far all return random floating point numbers. If randomly generated integers are required, there is the **randint** function which returns random integers of a given range. The function  requires at least one argument to operate. If a single argument is provided, the function will return a number from the range 0 up to but not including the number passed, making it a half open interval. If a float rather than integer is passed, it will round down to the nearest integer. "
   ]
  },
  {
   "cell_type": "code",
   "execution_count": 12,
   "metadata": {
    "scrolled": true
   },
   "outputs": [
    {
     "name": "stdout",
     "output_type": "stream",
     "text": [
      "2\n",
      "4\n"
     ]
    }
   ],
   "source": [
    "# Returns single random integer between 0-9 inclusive.\n",
    "print(np.random.randint(10))\n",
    "\n",
    "# Returns single random integer between 0-4 inclusive.\n",
    "print(np.random.randint(5.925))"
   ]
  },
  {
   "cell_type": "markdown",
   "metadata": {},
   "source": [
    "<br>\n",
    "\n",
    "If two arguments are provided to **randint**, the first will be considered the lowest included number in the range and the second represents the number one above the highest possible number in the range. \n",
    "\n",
    "**randint** can also take an argument that dictates the shape of the output, either a single value for an array of that many numbers or a tuple for multi-dimensional arrays."
   ]
  },
  {
   "cell_type": "code",
   "execution_count": 13,
   "metadata": {},
   "outputs": [
    {
     "name": "stdout",
     "output_type": "stream",
     "text": [
      "\u001b[1mGenerates 1 random number between 5-10 inclusive:\u001b[0m\n",
      "5\n",
      "\n",
      "\u001b[1mGenerates 3 random numbers between 5-10 inclusive:\u001b[0m\n",
      "[9 8 7]\n",
      "\n",
      "\u001b[1mGenerates 2 arrays of 4 random numbers in each between 5-10 inclusive:\u001b[0m\n",
      "[[ 7  9  7 10]\n",
      " [ 8  7  7 10]]\n"
     ]
    }
   ],
   "source": [
    "# Returns single random integer between 5-10 inclusive.\n",
    "print(bold.BOLD + \"Generates 1 random number between 5-10 inclusive:\" + bold.END)\n",
    "print(np.random.randint(5, 11))\n",
    "print()\n",
    "\n",
    "print(bold.BOLD + \"Generates 3 random numbers between 5-10 inclusive:\" + bold.END)\n",
    "print(np.random.randint(5, 11, 3))\n",
    "print()\n",
    "\n",
    "print(bold.BOLD + \"Generates 2 arrays of 4 random numbers in each between 5-10 inclusive:\" + bold.END)\n",
    "print(np.random.randint(5, 11, size=(2, 4)))"
   ]
  },
  {
   "cell_type": "markdown",
   "metadata": {},
   "source": [
    "<br>\n",
    "\n",
    "There is a relatively new parameter in the **randint** function, which allows the output datatype to be specified. Different types of integer will be take up different amounts of storage space [<sup>3</sup>](https://stackoverflow.com/a/9696777) and so this parameter is useful if dealing with extremely large amounts of data. Each piece of code below generates the number 5 and the output demonstrates the number of bytes it takes to store each number 5, depending on the datatype argument. [<sup>4</sup>](https://stackoverflow.com/a/14329864) As would be expected, the *int64* type takes up more space than the *int8* type."
   ]
  },
  {
   "cell_type": "code",
   "execution_count": 14,
   "metadata": {},
   "outputs": [
    {
     "name": "stdout",
     "output_type": "stream",
     "text": [
      "25\n",
      "26\n",
      "28\n",
      "32\n"
     ]
    }
   ],
   "source": [
    "w = np.random.randint(5, 6, dtype='int8')\n",
    "print(sys.getsizeof(w))\n",
    "\n",
    "x = np.random.randint(5, 6, dtype='int16')\n",
    "print(sys.getsizeof(x))\n",
    "\n",
    "y = np.random.randint(5, 6, dtype='int32')\n",
    "print(sys.getsizeof(y))\n",
    "\n",
    "z = np.random.randint(5, 6, dtype='int64')\n",
    "print(sys.getsizeof(z))"
   ]
  },
  {
   "cell_type": "markdown",
   "metadata": {},
   "source": [
    "<br>\n",
    "\n",
    "#### Distribution\n",
    "\n",
    "**randint** generates random integers from a discrete uniform distribution, meaning that there is a finite amount of values that can be generated but each one has an equal change of being returned. Below, every integer on the range (0, 1000) inclusive has an equal chance of being called across 10,000 numbers."
   ]
  },
  {
   "cell_type": "code",
   "execution_count": 15,
   "metadata": {},
   "outputs": [
    {
     "data": {
      "image/png": "[encoded data removed]",
      "text/plain": [
       "<Figure size 432x288 with 1 Axes>"
      ]
     },
     "metadata": {
      "needs_background": "light"
     },
     "output_type": "display_data"
    }
   ],
   "source": [
    "# Demonstrating the uniform distribution of the randint function.\n",
    "x = np.random.randint(0, 1001, 10000)\n",
    "plt.hist(x)\n",
    "plt.title(\"unifrom distribution of the randint function\")\n",
    "plt.xlabel(\"values\")\n",
    "plt.ylabel(\"number of values\")\n",
    "plt.show()"
   ]
  },
  {
   "cell_type": "markdown",
   "metadata": {},
   "source": [
    "<br>\n",
    "\n",
    "#### Similar Function in numpy.random\n",
    "\n",
    "There's another function listed in the numpy.random package called **random_integer** but this has been deprecated according to the documentation[<sup>3</sup>](https://docs.scipy.org/doc/numpy-1.16.0/reference/generated/numpy.random.random_integers.html#numpy.random.random_integers) with the recommendation that **randint** be used instead."
   ]
  },
  {
   "cell_type": "markdown",
   "metadata": {},
   "source": [
    "<br>\n",
    "\n",
    "#### Practical Example\n",
    "\n",
    "Below is an example **randint** being used to simulate the answers provided by Magic 8 Ball. Each answer is assigned to an integer and when an integer is randomly generated from the **randint** function, the appropriate reply is returned.<sup>5</sup> "
   ]
  },
  {
   "cell_type": "code",
   "execution_count": 16,
   "metadata": {},
   "outputs": [
    {
     "name": "stdout",
     "output_type": "stream",
     "text": [
      "Will I be late for work in the morning?\n",
      "Ask again later.\n"
     ]
    }
   ],
   "source": [
    "# Magic 8 Ball simulation\n",
    "# help from Automate the boring stuff p. 64\n",
    "\n",
    "def Answer(number):\n",
    "    if number == 1: \n",
    "        return \"Yes.\"\n",
    "    elif number == 2:\n",
    "        return \"Most likely.\"\n",
    "    elif number == 3:\n",
    "        return \"All signs point to yes.\"\n",
    "    elif number == 4:\n",
    "        return \"Ask again later.\"\n",
    "    elif number == 5:\n",
    "        return \"Possibly.\"\n",
    "    elif number == 6:\n",
    "        return \"Outlook not so good.\"\n",
    "    elif number == 7:\n",
    "        return \"Doubtful\"\n",
    "    elif number == 8:\n",
    "        return \"No.\"\n",
    "    \n",
    "print(\"Will I be late for work in the morning?\")\n",
    "print(Answer(np.random.randint(1, 9)))"
   ]
  },
  {
   "cell_type": "markdown",
   "metadata": {},
   "source": [
    "<br>\n",
    "\n",
    "### CHOICE\n",
    "\n",
    "**choice** is similar to **randint** in that it can generate random integers in a particular array shape. However, **choice** can accept ndarrays, tuples and lists as input, meaning that it has the potential to randomise non-numerical data, such as strings.\n",
    "\n",
    "With only one argument passed, **choice** will return a single random integer from 0 up to but not including the number entered, just as **randint** does."
   ]
  },
  {
   "cell_type": "code",
   "execution_count": 17,
   "metadata": {},
   "outputs": [
    {
     "name": "stdout",
     "output_type": "stream",
     "text": [
      "\u001b[1mGenerates 1 random number between 0-9 inclusive:\u001b[0m\n",
      "1\n",
      "\n",
      "\u001b[1mGenerates 3 random numbers from an array:\u001b[0m\n",
      "[7 8 6]\n",
      "\n",
      "\u001b[1mGenerates 3 random numbers from a tuple:\u001b[0m\n",
      "[7 4 7]\n",
      "\n",
      "\u001b[1mGenerates 3 random names from a list:\u001b[0m\n",
      "['Helen' 'Mary' 'Mary']\n"
     ]
    }
   ],
   "source": [
    "# Returns single random integer\n",
    "print(bold.BOLD + \"Generates 1 random number between 0-9 inclusive:\" + bold.END)\n",
    "print(np.random.choice(10))\n",
    "print()\n",
    "\n",
    "# Returns random numbers from an array:\n",
    "arr = np.arange(10)\n",
    "print(bold.BOLD + \"Generates 3 random numbers from an array:\" + bold.END)\n",
    "print(np.random.choice(arr, size=3))\n",
    "print()\n",
    "\n",
    "# Returns random numbers from a tuple\n",
    "tup = (4, 6, 7, 10, 15)\n",
    "print(bold.BOLD + \"Generates 3 random numbers from a tuple:\" + bold.END)\n",
    "print(np.random.choice(tup, size=3))\n",
    "print()\n",
    "\n",
    "# Returns random non-numerical values from a list\n",
    "lst = [\"Mary\", \"John\", \"Helen\", \"Tony\"]\n",
    "print(bold.BOLD + \"Generates 3 random names from a list:\" + bold.END)\n",
    "print(np.random.choice(lst, size=3))"
   ]
  },
  {
   "cell_type": "markdown",
   "metadata": {},
   "source": [
    "<br>\n",
    "\n",
    "The previously discussed functions can potentially repeat numbers from a range in the output array, and **choice** also does this by default. However, **choice** has a parameter called *replace*, a true/false boolean that is set to True by default but, if set to False by the user, will generate an output of unique values. In this case, once a value has been randomly generated, it is removed from the pool of available values and cannot be generated again. However, if the total number of values to choose from is smaller than the output shape specified (*size*) and *replace* is set to False, a *ValueError* will occur because there are not enough elements to fulfill the desired output without repeating any of them."
   ]
  },
  {
   "cell_type": "code",
   "execution_count": 18,
   "metadata": {},
   "outputs": [
    {
     "name": "stdout",
     "output_type": "stream",
     "text": [
      "\u001b[1mGenerates 3 random names from a list with no duplicates:\u001b[0m\n",
      "['Tony' 'John' 'Mary']\n"
     ]
    }
   ],
   "source": [
    "# Returns random values from a list with no duplicates:\n",
    "print(bold.BOLD + \"Generates 3 random names from a list with no duplicates:\" + bold.END)\n",
    "print(np.random.choice(lst, size=3, replace=False))\n"
   ]
  },
  {
   "cell_type": "markdown",
   "metadata": {},
   "source": [
    "<br>\n",
    "\n",
    "#### Distribution\n",
    "\n",
    "By default, **choice** randomly picks values from a discrete uniform distribution but has an optional parameter, *p*, which allows the user to adjust the probability of each individual value appearing in the output. The number of values passed to *p* must be equal to the amount of elements available in the input and these *p* values must sum up to 1, to account for a total 100% probability. \n",
    "\n",
    "To illustrate this, the code below generates 1000 numbers from the range (0, 11]. As required, there is a *p* value for every element in this range. Most of the numbers have been given 0% probability of being returned but numbers 1, 5 and 10 have a 60%, 10%, and 30% chance of appearing in the output respectively. The plot shows that, of the 1000 numbers generated, 600 were ones, 100 were fives and 300 were tens."
   ]
  },
  {
   "cell_type": "code",
   "execution_count": 19,
   "metadata": {},
   "outputs": [
    {
     "data": {
      "image/png": "[encoded data removed]",
      "text/plain": [
       "<Figure size 432x288 with 1 Axes>"
      ]
     },
     "metadata": {
      "needs_background": "light"
     },
     "output_type": "display_data"
    }
   ],
   "source": [
    "# Customising the probability of each input element and plotting the output.\n",
    "x = np.random.choice((np.arange(11)), p = (0, 0.6, 0, 0, 0, 0.1, 0, 0, 0, 0, 0.3), size = 1000)\n",
    "plt.hist(x)\n",
    "plt.title(\"custom probabilities\")\n",
    "plt.xlabel(\"values\")\n",
    "plt.ylabel(\"number of values\")\n",
    "plt.show()"
   ]
  },
  {
   "cell_type": "markdown",
   "metadata": {},
   "source": [
    "<br>\n",
    "\n",
    "#### Practical Example\n",
    "\n",
    "Below is an example of **choice** being used to simulate the drawing of hands from a deck of cards. A list containing the 52 cards of a deck is created[<sup>6</sup>](http://www.spronck.net/pythonbook/pythonbook.pdf) and **choice** allows the user to draw 4 hands of five cards each with no duplications. "
   ]
  },
  {
   "cell_type": "code",
   "execution_count": 20,
   "metadata": {},
   "outputs": [
    {
     "data": {
      "text/plain": [
       "array([['10 of Spades', '2 of Clubs', '6 of Spades', '8 of Diamonds',\n",
       "        '5 of Diamonds'],\n",
       "       ['4 of Spades', 'Ace of Clubs', '4 of Diamonds', '10 of Hearts',\n",
       "        '7 of Hearts'],\n",
       "       ['King of Diamonds', '5 of Clubs', '6 of Clubs', '7 of Clubs',\n",
       "        '4 of Clubs'],\n",
       "       ['Jack of Hearts', '2 of Spades', 'Jack of Diamonds',\n",
       "        'Jack of Spades', '6 of Hearts']], dtype='<U17')"
      ]
     },
     "execution_count": 20,
     "metadata": {},
     "output_type": "execute_result"
    }
   ],
   "source": [
    "# Creating a deck of cards.\n",
    "cards = []\n",
    "values = [\"2\", \"3\", \"4\", \"5\", \"6\", \"7\", \"8\", \"9\", \"10\", \"Jack\", \"Queen\", \"King\", \"Ace\"]\n",
    "suits = [\"Hearts\", \"Diamonds\", \"Spades\", \"Clubs\"]\n",
    "\n",
    "for value in values:\n",
    "    for suit in suits:\n",
    "        cards.append(f\"{value} of {suit}\")\n",
    "\n",
    "    \n",
    "# Deals 4 hands with 5 cards in each and no duplicates.\n",
    "hands = np.random.choice(cards, size=(4,5), replace=False)  \n",
    "hands"
   ]
  },
  {
   "cell_type": "markdown",
   "metadata": {},
   "source": [
    "<br>\n",
    "\n",
    "### BYTES\n",
    "\n",
    "The final function from the *Simple Random Data* section of the numpy.random package that I will discuss simply takes a single integer argument and generates a random sample of bytes of that length. **bytes** is an excellent function for efficiently generating a huge amounts of random data,[<sup>7</sup>](stefanocappellini.it/generate-pseudorandom-bytes-with-python/) which is useful for testing code. The below code generates 30 random bytes. "
   ]
  },
  {
   "cell_type": "code",
   "execution_count": 21,
   "metadata": {},
   "outputs": [
    {
     "data": {
      "text/plain": [
       "b'p\\xd9\\xca\\n\\xf0?j\\x9c\\xa9\\x92Ru\\xe5+q\\x80\\n\\xe5\\xf9\\xbc\\x13\\xd6\\xb9\\xf6\\xde\\x8d\\xcf\\xfa{\\xc7'"
      ]
     },
     "execution_count": 21,
     "metadata": {},
     "output_type": "execute_result"
    }
   ],
   "source": [
    "# Random byte generation\n",
    "np.random.bytes(30)"
   ]
  },
  {
   "cell_type": "markdown",
   "metadata": {},
   "source": [
    "<br>\n",
    "\n",
    "_________________________________________________________________________________________________________\n",
    "\n",
    "## Permutations\n",
    "\n",
    "There are two separate but related functions in the numpy.random package that randomly rearrange the order of existing data or create a shuffled range of numbers."
   ]
  },
  {
   "cell_type": "markdown",
   "metadata": {},
   "source": [
    "### SHUFFLE\n",
    "\n",
    "As the name suggests, **shuffle** shuffles the contents of a given list or array in place. This means that, unlike previous functions that can return the output when called, **shuffle** alters a variable and its effect can't be observed until the variable itself is called. The function takes one argument only, the list or array to be shuffled. It does not accept tuples as they are immutable and thus cannot be modified by shuffling the contents."
   ]
  },
  {
   "cell_type": "code",
   "execution_count": 22,
   "metadata": {},
   "outputs": [
    {
     "name": "stdout",
     "output_type": "stream",
     "text": [
      "\u001b[1mOutput from attempting to print shuffle command:\u001b[0m\n",
      "None\n",
      "\n",
      "\u001b[1mOriginal array:\u001b[0m\n",
      "[1 2 3 4 5 6]\n",
      "\n",
      "\u001b[1mShuffled array:\u001b[0m\n",
      "[2 3 1 5 6 4]\n",
      "\n",
      "\u001b[1mOriginal deck order:\u001b[0m\n",
      "['2 of Hearts', '2 of Diamonds', '2 of Spades', '2 of Clubs', '3 of Hearts', '3 of Diamonds', '3 of Spades', '3 of Clubs', '4 of Hearts', '4 of Diamonds', '4 of Spades', '4 of Clubs', '5 of Hearts', '5 of Diamonds', '5 of Spades']\n",
      "\n",
      "\u001b[1mShuffled deck order:\u001b[0m\n",
      "['Queen of Hearts', '5 of Clubs', '3 of Diamonds', 'Ace of Diamonds', '10 of Hearts', '10 of Clubs', '8 of Diamonds', '2 of Hearts', 'Jack of Diamonds', '9 of Spades', '6 of Diamonds', 'Queen of Diamonds', 'Jack of Clubs', '3 of Spades', '6 of Spades']\n"
     ]
    }
   ],
   "source": [
    "# Demonstrating how shuffle operates in place.\n",
    "print(bold.BOLD + \"Output from attempting to print shuffle command:\" + bold.END)\n",
    "print(np.random.shuffle([1, 2, 3]))\n",
    "print()\n",
    "\n",
    "# Shuffling a 1D array of numbers.\n",
    "x = np.array([1, 2, 3, 4, 5, 6])\n",
    "print(bold.BOLD + \"Original array:\" + bold.END)\n",
    "print(x)\n",
    "print()\n",
    "np.random.shuffle(x)\n",
    "print(bold.BOLD + \"Shuffled array:\" + bold.END)\n",
    "print(x)\n",
    "print()\n",
    "\n",
    "# Shuffling a list using the deck of cards created earlier. Note original list is in numerical order.\n",
    "print(bold.BOLD + \"Original deck order:\" + bold.END)\n",
    "print(cards[:15])\n",
    "print()\n",
    "np.random.shuffle(cards)\n",
    "print(bold.BOLD + \"Shuffled deck order:\" + bold.END)\n",
    "print(cards[:15])"
   ]
  },
  {
   "cell_type": "markdown",
   "metadata": {},
   "source": [
    "<br>\n",
    "\n",
    "If a multidimensional array is passed, only the outermost arrays will be shuffled. The order of inner arrays and individual elements are not affected by **shuffle**. The 3D array below consists of 3 arrays, each containing 2 arrays of 3 elements each. When this array is passed through the **shuffle** function, only the first 3 arrays are rearranged.   "
   ]
  },
  {
   "cell_type": "code",
   "execution_count": 23,
   "metadata": {},
   "outputs": [
    {
     "data": {
      "text/plain": [
       "array([[[ 1,  2,  3],\n",
       "        [ 4,  5,  6]],\n",
       "\n",
       "       [[ 7,  8,  9],\n",
       "        [10, 11, 12]],\n",
       "\n",
       "       [[13, 14, 15],\n",
       "        [16, 17, 18]]])"
      ]
     },
     "execution_count": 23,
     "metadata": {},
     "output_type": "execute_result"
    }
   ],
   "source": [
    "# shuffling a 3D numpy array\n",
    "x = np.array([[[1, 2, 3],[4, 5, 6]], [[7, 8, 9], [10, 11, 12]], [[13, 14, 15], [16, 17, 18]]])\n",
    "np.random.shuffle(x)\n",
    "x"
   ]
  },
  {
   "cell_type": "markdown",
   "metadata": {},
   "source": [
    "To shuffle the innermost elements of a multi-dimensional array, you can first change it to a 1D array, perform shuffle and then return the array to its original shape.[<sup>8</sup>](https://www.science-emergence.com/Articles/How-to-randomly-shuffle-an-array-in-python-using-numpy/) "
   ]
  },
  {
   "cell_type": "code",
   "execution_count": 24,
   "metadata": {},
   "outputs": [
    {
     "name": "stdout",
     "output_type": "stream",
     "text": [
      "\u001b[1m3D array:\u001b[0m\n",
      "[[[ 1  2  3]\n",
      "  [ 4  5  6]]\n",
      "\n",
      " [[ 7  8  9]\n",
      "  [10 11 12]]]\n",
      "\n",
      "\u001b[1m3D array changed to 1D array:\u001b[0m\n",
      "[ 1  2  3  4  5  6  7  8  9 10 11 12]\n",
      "\n",
      "\u001b[1mShuffled 1D array:\u001b[0m\n",
      "[12  1  8 10  3  6  4  2  9 11  7  5]\n",
      "\n",
      "\u001b[1mShuffled 1D array changed back to 3D array:\u001b[0m\n",
      "[[[12  1  8]\n",
      "  [10  3  6]]\n",
      "\n",
      " [[ 4  2  9]\n",
      "  [11  7  5]]]\n"
     ]
    }
   ],
   "source": [
    "# Create 3D array\n",
    "x = np.array([[[1, 2, 3],[4, 5, 6]], [[7, 8, 9], [10, 11, 12]]])\n",
    "print(bold.BOLD + \"3D array:\" + bold.END)\n",
    "print(x)\n",
    "print()\n",
    "\n",
    "# Transform into 1D array \n",
    "x = x.ravel()\n",
    "print(bold.BOLD + \"3D array changed to 1D array:\" + bold.END)\n",
    "print(x)\n",
    "print()\n",
    "\n",
    "# Shuffle the array\n",
    "np.random.shuffle(x)\n",
    "print(bold.BOLD + \"Shuffled 1D array:\" + bold.END)\n",
    "print(x)\n",
    "print()\n",
    "\n",
    "# Transform back to 3D array\n",
    "x = x.reshape(2, 2, 3)\n",
    "print(bold.BOLD + \"Shuffled 1D array changed back to 3D array:\" + bold.END)\n",
    "print(x)"
   ]
  },
  {
   "cell_type": "markdown",
   "metadata": {},
   "source": [
    "<br>\n",
    "\n",
    "### PERMUTATION\n",
    "\n",
    "Like the **shuffle** function, **permutation** will rearrange the contents of an array, list or tuple but, rather than affecting the input in place, returns a copy of the variable with the contents shuffled. [<sup>9</sup>](https://stackoverflow.com/a/15474335)  The original order is not affected as illustrated in the code below."
   ]
  },
  {
   "cell_type": "code",
   "execution_count": 25,
   "metadata": {},
   "outputs": [
    {
     "name": "stdout",
     "output_type": "stream",
     "text": [
      "\u001b[1mVariable x:\u001b[0m\n",
      "(1, 2, 3, 4, 5, 6)\n",
      "\n",
      "\u001b[1mPermuted instance of x:\u001b[0m\n",
      "[5 6 4 2 3 1]\n",
      "\n",
      "\u001b[1mUnaffected original x:\u001b[0m\n",
      "(1, 2, 3, 4, 5, 6)\n"
     ]
    }
   ],
   "source": [
    "# Demonstrating that permutation does not affect original variable\n",
    "x = (1, 2, 3, 4, 5, 6)\n",
    "print(bold.BOLD + \"Variable x:\" + bold.END)\n",
    "print(x)\n",
    "print()\n",
    "print(bold.BOLD + \"Permuted instance of x:\" + bold.END)\n",
    "print(np.random.permutation(x))\n",
    "print()\n",
    "print(bold.BOLD + \"Unaffected original x:\" + bold.END)\n",
    "print(x)"
   ]
  },
  {
   "cell_type": "markdown",
   "metadata": {},
   "source": [
    "<br>\n",
    "\n",
    "Another feature that differentiates **permutation** from **shuffle** is that **permutation** can accept a single integer argument and will return a shuffled version of a range from 0 up to but not including the integer passed. This output can also be shaped into an array as shown below. "
   ]
  },
  {
   "cell_type": "code",
   "execution_count": 26,
   "metadata": {},
   "outputs": [
    {
     "data": {
      "text/plain": [
       "array([[0, 2, 9, 6, 7],\n",
       "       [4, 3, 1, 5, 8]])"
      ]
     },
     "execution_count": 26,
     "metadata": {},
     "output_type": "execute_result"
    }
   ],
   "source": [
    "# Returning shuffled 2D array of numbers from 0-9 inclusive\n",
    "np.random.permutation(10).reshape(2, 5)"
   ]
  },
  {
   "cell_type": "markdown",
   "metadata": {},
   "source": [
    "<br>\n",
    "\n",
    "Multidimensional arrays are treated in a similar way to **shuffle** in that arrays are only shuffled along the first axis in the returned output."
   ]
  },
  {
   "cell_type": "code",
   "execution_count": 27,
   "metadata": {},
   "outputs": [
    {
     "data": {
      "text/plain": [
       "array([[[ 1,  2,  3],\n",
       "        [ 4,  5,  6]],\n",
       "\n",
       "       [[ 7,  8,  9],\n",
       "        [10, 11, 12]],\n",
       "\n",
       "       [[13, 14, 15],\n",
       "        [16, 17, 18]]])"
      ]
     },
     "execution_count": 27,
     "metadata": {},
     "output_type": "execute_result"
    }
   ],
   "source": [
    "x = np.array([[[1, 2, 3],[4, 5, 6]], [[7, 8, 9], [10, 11, 12]], [[13, 14, 15], [16, 17, 18]]])\n",
    "np.random.permutation(x)"
   ]
  },
  {
   "cell_type": "markdown",
   "metadata": {},
   "source": [
    "<br>\n",
    "\n",
    "_________________________________________________________________________________________\n",
    "\n",
    "## Probability Distributions\n",
    "\n",
    "In previous sections, the numbers generated have been drawn from either uniform or normal distributions by default but numpy.random offers 35 different probability distribution functions from which random numbers can be drawn. \n",
    "\n",
    "\n",
    "https://www.analyticsvidhya.com/blog/2017/09/6-probability-distributions-data-science/\n",
    "\n",
    "Discrete data can only take a specific, finite number of values and is usually represented as whole numbers e.g. flipping a coin or rolling dice\n",
    "\n",
    "Continuous data can take an infinite number of values from a given range, e.g. height, weight or distance.\n",
    "\n",
    "https://onlinelibrary.wiley.com/doi/pdf/10.1002/9781119197096.app03\n",
    "\n",
    "https://www.johndcook.com/blog/2009/01/23/probability-distributions-and-object-oriented-programming/\n",
    "\n",
    "\n",
    "- Binomial\n",
    "- Multinomial\n",
    "- Poisson\n",
    "- Exponential\n",
    "- Geometric\n",
    "\n",
    "Each function takes a parameter, *size* which allows them to create multi-dimensional arrays of random numbers. When illustrating the functions below, I only generate single arrays of numbers but it is possible to generate very complex multidimensional arrays from each of these different probability distributions."
   ]
  },
  {
   "cell_type": "markdown",
   "metadata": {},
   "source": [
    "### BINOMIAL\n",
    "\n",
    "The **binomial** function is a based on the Bernoulli distribution, a discrete binary distribution that operates with just two mutually exclusive outcomes such as yes/no, on/off, heads/tails.[<sup>10</sup>](https://onlinelibrary.wiley.com/doi/pdf/10.1002/9781119197096.app03) The function takes three arguments:\n",
    "\n",
    "- **n:** the number of independent trials, e.g. the number of times a coin is flipped.\n",
    "- **p:** probability of an outcome of each trial, e.g. the probability of flipping a coin and getting heads would be 50/50.\n",
    "- **size:** the output shape which is the number of times a series of trials is carried out, e.g. carrying out a 10 coin flips 100 times.\n",
    "\n",
    "Taking a fair coin toss as an illustrative example, the code below demonstrates the binomial distribution of the number of times heads is achieved every 10 flips across 1000 experiments. [<sup>11</sup>](https://cmdlinetips.com/2018/12/simulating-coin-toss-experiment-with-binomial-random-numbers-using-numpy/) The histogram reflects the 50% probability of heads winning on a coin flip. The plot peaks at approximately 5 heads winning every 10 flips, while 0-2 heads and 8-10 heads are a lot less likely to happen.The shape of the plot looks very similar to a normal distribution, but that is only because of the large sample size. The key difference between normal and binomial distributions is that normal is continuous and binomial is discrete. [<sup>12</sup>](http://staweb.sta.cathedral.org/departments/math/mhansen/public_html/23stat/handouts/normbino.htm) There are no values in between the values of a binomial distribution, i.e. a coin lands on heads either 2 or 3 times, there is nothing in between.\n",
    "\n",
    "From this distribution, numpy.random generates 1000 random numbers, which can range from 0 (no heads in 10 flips) to 10 (all coins flipped are heads). The mean should be approximately 5 but, since this is a discrete distribution, both the median and mode should be exactly 5 to reflect the 50% probability that the coin will land on heads."
   ]
  },
  {
   "cell_type": "code",
   "execution_count": 28,
   "metadata": {},
   "outputs": [
    {
     "data": {
      "image/png": "[encoded data removed]",
      "text/plain": [
       "<Figure size 432x288 with 1 Axes>"
      ]
     },
     "metadata": {
      "needs_background": "light"
     },
     "output_type": "display_data"
    },
    {
     "name": "stdout",
     "output_type": "stream",
     "text": [
      "\u001b[1mSample of random numbers:\u001b[0m\n",
      "[6 5 4 5 5 3 6 4 5 5 6 4 8 3 4 7 4 2 3 5]\n",
      "\n",
      "\u001b[1mThe 1000 random numbers generated from this binomial distributions range from 0 to 10 with a mean of 5.075, a median of 5.0 and a mode of [5].\u001b[0m\n"
     ]
    }
   ],
   "source": [
    "# Flipping a coin 10 times.\n",
    "flips = 10\n",
    "\n",
    "# Setting probability that heads will come up.\n",
    "heads_prob = 0.5\n",
    "\n",
    "# Number of experiments where the coin is tossed 10 times.\n",
    "exp = 1000\n",
    "\n",
    "# Creating the array of random numbers.\n",
    "x = np.random.binomial(flips, heads_prob, size = exp)\n",
    "\n",
    "# Plotting the distribution\n",
    "plt.hist(x)\n",
    "plt.title(\"coin toss binomial distrbution\")\n",
    "plt.xlabel(\"number of heads\")\n",
    "plt.ylabel(\"heads success rate\")\n",
    "plt.show()\n",
    "\n",
    "# Sample of genrated numbers\n",
    "print(bold.BOLD + \"Sample of random numbers:\" + bold.END)\n",
    "print(x[:20])\n",
    "print()\n",
    "\n",
    "# Calculating the value that occurs most often. \n",
    "mode = stats.mode(x)\n",
    "\n",
    "# The 1000 numbers generated from the binomial distribution.\n",
    "print(bold.BOLD + f\"The {exp} random numbers generated from this binomial distributions range from {x.min()} to {x.max()} with a mean of {x.mean()}, a median of {np.median(x)} and a mode of {mode[0]}.\"  + bold.END)"
   ]
  },
  {
   "cell_type": "markdown",
   "metadata": {},
   "source": [
    "<br>\n",
    "\n",
    "### MULTINOMIAL\n",
    "\n",
    "Where the binomial distribution operates on two possible outcomes, a multinomial distribution - as the name suggests - can work with several. The **multinomial** function takes three arguments, some of which are similar to the **binomial** function:\n",
    "\n",
    "- **n:** the number of independent trials, e.g. the number of times card is picked.\n",
    "- **pvals:** probability of each value outcome, e.g. the 1/4 probability of each suit in a deck of cards.\n",
    "- **size:** the output shape which is the number of times a series of trials is carried out, e.g. 5 cards drawn 100 times.\n",
    "\n",
    "To illustrate this discrete distribution, I'll use the example of a deck of cards. [<sup>13</sup>](https://stattrek.com/probability-distributions/multinomial.aspx)  A card is drawn from a 52 card deck, the suit is noted and the card is shuffled back into the deck. This means that every time a card is drawn, there is consistently a 25% chance that it could be any suit. Ten cards are drawn in this way to constitute a single trial. A numpy array is returned that shows how many times each suit is drawn as shown below:"
   ]
  },
  {
   "cell_type": "code",
   "execution_count": 29,
   "metadata": {},
   "outputs": [
    {
     "name": "stdout",
     "output_type": "stream",
     "text": [
      "[2 2 1 5]\n",
      "\n",
      "\u001b[1mThe 10 cards drawn in this trial contain 2 hearts, 2 diamonds, 1 clubs and 5 spades.\u001b[0m\n"
     ]
    }
   ],
   "source": [
    "# Drawing 10 cards\n",
    "draws = 10\n",
    "\n",
    "#  Single multinomial trial.\n",
    "x = np.random.multinomial(draws, pvals = (0.25, 0.25, 0.25, 0.25))\n",
    "print(x)\n",
    "print()\n",
    "print(bold.BOLD + f\"The {draws} cards drawn in this trial contain {x[0]} hearts, {x[1]} diamonds, {x[2]} clubs and {x[3]} spades.\" + bold.END)"
   ]
  },
  {
   "cell_type": "markdown",
   "metadata": {},
   "source": [
    "The code below repeats each trial 10,000 times to visually demonstrate the distribution. In the histogram, each suit is represented by a different colour and they are uniformly distributed in the frequency they are drawn, which is to be expected as the probability for each is equal. With 10 cards drawn, and the probability of each suit set to 25%, an average of 2.5 cards of each suit should be drawn (reflected in the mean below). However, since we can't halve cards and this is a discrete distribution, we can see that each suit generally appears 2 or 3 times in the returned arrays. The numbers within in each array can range between 0 (no cards of a particular suit drawn) to 10 (all cards drawn are of the same suit."
   ]
  },
  {
   "cell_type": "code",
   "execution_count": 30,
   "metadata": {},
   "outputs": [
    {
     "data": {
      "image/png": "[encoded data removed]",
      "text/plain": [
       "<Figure size 432x288 with 1 Axes>"
      ]
     },
     "metadata": {
      "needs_background": "light"
     },
     "output_type": "display_data"
    },
    {
     "name": "stdout",
     "output_type": "stream",
     "text": [
      "\u001b[1mSample of random number arrays:\u001b[0m\n",
      "[[3 0 3 4]\n",
      " [1 0 4 5]\n",
      " [5 1 2 2]\n",
      " [4 0 4 2]\n",
      " [3 3 1 3]\n",
      " [1 1 5 3]\n",
      " [3 2 2 3]\n",
      " [3 1 6 0]\n",
      " [4 3 0 3]\n",
      " [2 2 2 4]]\n",
      "\n",
      "\u001b[1mThe 10000 random arrays generated from this multinomial distribution have numbers ranging from 0 to 9 with a mean of 2.5.\u001b[0m\n"
     ]
    }
   ],
   "source": [
    "# Output size.\n",
    "size = 10000\n",
    "\n",
    "# Creating the random number arrays.\n",
    "x = np.random.multinomial(draws, pvals = (0.25, 0.25, 0.25, 0.25), size=size)\n",
    "\n",
    "# Plotting the distribution.\n",
    "plt.hist(x)\n",
    "plt.title(\"card suits multinomial distrbution\")\n",
    "plt.xlabel(\"number of times each suit is drawn\")\n",
    "plt.ylabel(\"suits success rate\")\n",
    "plt.show()\n",
    "\n",
    "# Sample of genrated numbers\n",
    "print(bold.BOLD + \"Sample of random number arrays:\" + bold.END)\n",
    "print(x[:10])\n",
    "print()\n",
    "\n",
    "# Calculating the value that occurs most often. \n",
    "mode = stats.mode(x)\n",
    "\n",
    "# The 10,000 random number arrays returned.\n",
    "print(bold.BOLD + f\"The {size} random arrays generated from this multinomial distribution have numbers ranging from {x.min()} to {x.max()} with a mean of {x.mean()}.\"  + bold.END)"
   ]
  },
  {
   "cell_type": "markdown",
   "metadata": {},
   "source": [
    "<br>\n",
    "\n",
    "### POISSON\n",
    "\n",
    "The poisson distribution is a special case of the binomial distribution where we do not know the exact values of n (number of trials) or p (probability) but do know the average number of successes in a certain period of time. This value, the success rate, is called lambda (λ) and is the same as multiplying the probability of success by the number of trials (np). [<sup>13</sup>](https://medium.com/@andrew.chamberlain/deriving-the-poisson-distribution-from-the-binomial-distribution-840cc1668239) It is a discrete distribution, usually used to model the average rate that independent events occur.\n",
    "\n",
    "The **poisson** function takes two arguments: \n",
    "\n",
    "- **λ (lam):** the average number of events in a certain unit of time, e.g. calls per hour.\n",
    "- **size:** the output shape, which is the number of time periods, e.g. number of hours per week.\n",
    "\n",
    "As an example, the code below looks at the number of phone calls an employee takes per hour at their job over the course of a year, working 40 hours a week for 48 weeks. Of course, it would be impossible to know for certain how many people are going to phone in an hour, never mind the probability of such, but the number of calls received in an hour can be quantified and the mean deduced. If the average number of phone calls received every hour is 10, then with the poisson distribution it can range from 0 to over 25 calls per hour, but generally the number will be close to 10 as demonstrated by the mean, median and mode values below. "
   ]
  },
  {
   "cell_type": "code",
   "execution_count": 31,
   "metadata": {},
   "outputs": [
    {
     "data": {
      "image/png": "[encoded data removed]",
      "text/plain": [
       "<Figure size 432x288 with 1 Axes>"
      ]
     },
     "metadata": {
      "needs_background": "light"
     },
     "output_type": "display_data"
    },
    {
     "name": "stdout",
     "output_type": "stream",
     "text": [
      "\u001b[1mSample of random numbers:\u001b[0m\n",
      "[12  6  7  7 10 10 10  9 12  9  5 12  7 16 10 11  6  8 10 11]\n",
      "\n",
      "\u001b[1mThe 1920 random numbers generated from this poisson distribution range from 1 to 22 with a mean of 9.874, a median of 10.0 and a mode of [10].\u001b[0m\n"
     ]
    }
   ],
   "source": [
    "# Calls per hour.\n",
    "cph = 10\n",
    "\n",
    "# Number of hours worked in a year.\n",
    "year = 40 * 48\n",
    "\n",
    "# Creating the array of random numbers\n",
    "x = np.random.poisson(cph, size = year)\n",
    "\n",
    "# Plotting the distribution.\n",
    "plt.hist(x)\n",
    "plt.title(\"phone calls poisson distrbution\")\n",
    "plt.xlabel(\"calls per hour\")\n",
    "plt.ylabel(\"frequency of the number of calls\")\n",
    "plt.show()\n",
    "\n",
    "# Sample of genrated numbers\n",
    "print(bold.BOLD + \"Sample of random numbers:\" + bold.END)\n",
    "print(x[:20])\n",
    "print()\n",
    "\n",
    "# Calculating the value that occurs most often. \n",
    "mode = stats.mode(x)\n",
    "\n",
    "# The 1920 numbers generated from the poisson distribution.\n",
    "print(bold.BOLD + f\"The {year} random numbers generated from this poisson distribution range from {x.min()} to {x.max()} with a mean of {x.mean().round(3)}, a median of {np.median(x)} and a mode of {mode[0]}.\"  + bold.END)"
   ]
  },
  {
   "cell_type": "markdown",
   "metadata": {},
   "source": [
    "<br>\n",
    "\n",
    "### EXPONENTIAL\n",
    "\n",
    "Where the poisson distribution looks at the number of events in a certain timeframe, an exponential distribution could be used to look at the time intervals between events.[<sup>16</sup>](https://stats.stackexchange.com/questions/2092/relationship-between-poisson-and-exponential-distribution). It is a continuous distribution as time intervals are not made up of fixed values. In numpy.random, the **exponential** function takes two arguments:\n",
    "\n",
    "- **β (scale):** the time interval between events, e.g. 6 minutes between one phone call and another.\n",
    "- **size**: the output shape, which is the number of times a particular time period lapsed between events, e.g. the number of times that 6 minutes lapsed between phone calls.  \n",
    "\n",
    "Looking back at the worker who has an average of 10 phone calls per hour, the parameter β would be 1/10 (1/λ) to represent 0.1% of the time interval, which in this case is measured in hours. This means the worker gets approximately 1 call every 6 minutes (0.1% of 60 mins = 6mins). As the histogram below illustrates, most of the phone calls that come in are centred around the 0.1 mark and as the time interval gets larger, the chances that a longer times pass before a call drop off dramatically, e.g. it is very rare that half an hour (0.5 on the histogram) would pass between phone calls. The random numbers generated from this exponential distribution are floating point numbers that are nearly all between 0-0.4 - there are proportionally very few values beyond this - with a mean close to 0.1."
   ]
  },
  {
   "cell_type": "code",
   "execution_count": 32,
   "metadata": {},
   "outputs": [
    {
     "data": {
      "image/png": "[encoded data removed]",
      "text/plain": [
       "<Figure size 432x288 with 1 Axes>"
      ]
     },
     "metadata": {
      "needs_background": "light"
     },
     "output_type": "display_data"
    },
    {
     "name": "stdout",
     "output_type": "stream",
     "text": [
      "\u001b[1mSample of random numbers:\u001b[0m\n",
      "[0.01658719 0.20954558 0.02038337 0.18603527 0.00275964]\n",
      "\n",
      "\u001b[1mThe 1000 random numbers generated from this exponential distribution range from about 3.6451260299141014e-05 to 0.48662948209399587 with a mean of 0.09415906799473049.\u001b[0m\n"
     ]
    }
   ],
   "source": [
    "# Average time interval (1/λ).\n",
    "interval = 1/cph\n",
    "\n",
    "# Creating the array of random numbers.\n",
    "x = np.random.exponential(interval, size = 1000)\n",
    "\n",
    "# Plotting the distribution.\n",
    "plt.hist(x)\n",
    "plt.title(\"interval between phonecalls exponential distribution\")\n",
    "plt.xlabel(\"time intervals\")\n",
    "plt.ylabel(\"frequency of time intervals\")\n",
    "plt.show()\n",
    "\n",
    "# Sample of genrated numbers\n",
    "print(bold.BOLD + \"Sample of random numbers:\" + bold.END)\n",
    "print(x[:5])\n",
    "print()\n",
    "\n",
    "# The 1920 numbers generated from the exponential distribution.\n",
    "print(bold.BOLD + f\"The 1000 random numbers generated from this exponential distribution range from about {x.min()} to {x.max()} with a mean of {x.mean()}.\" + bold.END)             "
   ]
  },
  {
   "cell_type": "markdown",
   "metadata": {},
   "source": [
    "### GEOMETRIC\n",
    "\n",
    "The final function I will discuss is the **geometric** function, which is related to the exponential distribution except that is it discrete rather than continuous. The histogram in the code below looks very similar to the exponential plot above but represents a very different set of data. Where an exponential distribution is the time between events, a geometric probability distribution represents the number of failures before a successful event in a series of Bernoulli trials. [<sup>17</sup>](https://www.statisticshowto.datasciencecentral.com/geometric-distribution/). The **geometric** function takes two parameters:\n",
    "\n",
    "- **p:** the probability of success of a trial, e.g. the 50/50 chance of heads or tails when flipping a coin.\n",
    "- **size:** the output shape, which is the number of trials before a success, e.g. the number of times the coin was flipped before getting a heads.\n",
    "\n",
    "Going back to the Bernoulli trial of a coin flip that was used in the discussion about the **binomial** function, I will use the same scenario to demonstrate the geometric distribution. While previously we counted the number of times heads was achieved in 10 coin flips, here we look at the number of flips it takes before the coin lands on heads. Once a heads is achieved, the number of flips is recorded and the next trial begins. The **p** value is again set to 0.5 to represent the 50% probability of getting heads. As may be expected, most of the time when flipping a coin it might only takes 1 or 2 flips before you'd see a heads and the histogram below reflects this with a huge proportion of the 1000 trials taking 2 flips or less. The mean, median and mode of the 1000 random numbers are also around 1 or 2. Of course, as each coin flip is an independent trial there could potentially be a large amount of flips before the coin lands on heads even though it's quite unlikely.  "
   ]
  },
  {
   "cell_type": "code",
   "execution_count": 33,
   "metadata": {},
   "outputs": [
    {
     "data": {
      "image/png": "[encoded data removed]",
      "text/plain": [
       "<Figure size 432x288 with 1 Axes>"
      ]
     },
     "metadata": {
      "needs_background": "light"
     },
     "output_type": "display_data"
    },
    {
     "name": "stdout",
     "output_type": "stream",
     "text": [
      "\u001b[1mSample of random numbers:\u001b[0m\n",
      "[1 1 3 3 1 3 1 1 2 1 3 5 1 1 1 1 2 3 2 1]\n",
      "\n",
      "\u001b[1mThe 1000 random numbers generated from this poisson distribution range from 1 to 13 with a mean of 1.975, a median of 2.0 and a mode of [1].\u001b[0m\n"
     ]
    }
   ],
   "source": [
    "# Creating the array of random numbers.\n",
    "x = np.random.geometric(0.5, size = 1000)\n",
    "\n",
    "\n",
    "# Plotting the distribution.\n",
    "plt.hist(x)\n",
    "plt.title(\"Geometric Distrbution: Coin Flips\")\n",
    "plt.xlabel(\"Number of Flips\")\n",
    "plt.ylabel(\"Frequency of Flip Numbers\")\n",
    "plt.show()\n",
    "\n",
    "# Sample of genrated numbers\n",
    "print(bold.BOLD + \"Sample of random numbers:\" + bold.END)\n",
    "print(x[:20])\n",
    "print()\n",
    "\n",
    "# Calculating the value that occurs most often. \n",
    "mode = stats.mode(x)\n",
    "\n",
    "# The 1000 numbers generated from the geometrical distribution.\n",
    "print(bold.BOLD + f\"The 1000 random numbers generated from this poisson distribution range from {x.min()} to {x.max()} with a mean of {x.mean().round(3)}, a median of {np.median(x)} and a mode of {mode[0]}.\"  + bold.END)"
   ]
  },
  {
   "cell_type": "markdown",
   "metadata": {},
   "source": [
    "<br>\n",
    "\n",
    "_________________________________________________________________________________________________________________\n",
    "\n",
    "## Random Generators\n",
    "\n",
    "In the introduction to this project, I mentioned that pseudorandom number generators, such as numpy.random, used what is called a **seed** as the initial input to the function's algorithm and from this the random numbers are drawn. By default, the function can use your system's clock as the initial seed [<sup>18</sup>](https://machinelearningmastery.com/how-to-generate-random-numbers-in-python/) but it is also possible to create your own seed. This is helpful as it allows for reproducibility when testing code as the random sequence is generated from the same source. numpy.random has 2 functions that allow the user to set a seed state:\n",
    "\n",
    "- np.random.seed\n",
    "- np.random.RandomState\n",
    "\n",
    "\n",
    "Both of these functions allow the user to set the seed but have one major difference. Where the **seed** function will change \n",
    "\n",
    "Difference between using random.seed with and without initialising RandomState https://stackoverflow.com/questions/22994423/difference-between-np-random-seed-and-np-random-randomstate/22994529\n",
    "https://stackoverflow.com/a/5837352\n",
    "\n",
    "Looks like with RandomState you can create an instance of a new seed without affecting anything else while random.seed  has a global effect\n",
    "\n",
    "https://www.sharpsightlabs.com/blog/numpy-random-seed/\n",
    "\n",
    "http://justinbois.github.io/bootcamp/2016/lessons/l26_random_number_generation.html\n",
    "\n",
    "https://www.statisticshowto.datasciencecentral.com/random-seed-definition/\n"
   ]
  },
  {
   "cell_type": "code",
   "execution_count": 73,
   "metadata": {},
   "outputs": [
    {
     "name": "stdout",
     "output_type": "stream",
     "text": [
      "[1.9151945  6.22108771 4.37727739 7.85358584 7.79975808]\n",
      "[[0.27259261 0.27646426 0.80187218]\n",
      " [0.95813935 0.87593263 0.35781727]]\n",
      "[5.00995126 6.83462935 7.12702027 3.70250755 5.61196186]\n"
     ]
    }
   ],
   "source": [
    "np.random.seed(1234)\n",
    "print(np.random.uniform(0, 10, 5))\n",
    "print(np.random.rand(2,3))\n",
    "print(np.random.uniform(0, 10, 5))"
   ]
  },
  {
   "cell_type": "code",
   "execution_count": 75,
   "metadata": {},
   "outputs": [
    {
     "name": "stdout",
     "output_type": "stream",
     "text": [
      "[1.9151945  6.22108771 4.37727739 7.85358584 7.79975808]\n",
      "0.2725926052826416\n",
      "[2.76464255 8.01872178 9.58139354 8.75932635 3.5781727 ]\n"
     ]
    }
   ],
   "source": [
    "r = np.random.RandomState(1234)\n",
    "print(r.uniform(0, 10, 5))\n",
    "print(r.rand())\n",
    "print(r.uniform(0, 10, 5))"
   ]
  },
  {
   "cell_type": "code",
   "execution_count": 76,
   "metadata": {},
   "outputs": [
    {
     "name": "stdout",
     "output_type": "stream",
     "text": [
      "[1.9151945  6.22108771 4.37727739 7.85358584 7.79975808]\n",
      "0.2725926052826416\n",
      "[2.76464255 8.01872178 9.58139354 8.75932635 3.5781727 ]\n"
     ]
    }
   ],
   "source": [
    "r = np.random.RandomState(1234)\n",
    "print(r.uniform(0, 10, 5))\n",
    "print(r.rand())\n",
    "print(r.uniform(0, 10, 5))"
   ]
  },
  {
   "cell_type": "code",
   "execution_count": 66,
   "metadata": {},
   "outputs": [
    {
     "data": {
      "text/plain": [
       "array([[0.27259261, 0.27646426, 0.80187218],\n",
       "       [0.95813935, 0.87593263, 0.35781727]])"
      ]
     },
     "execution_count": 66,
     "metadata": {},
     "output_type": "execute_result"
    }
   ],
   "source": [
    "r.rand(2,3)"
   ]
  },
  {
   "cell_type": "code",
   "execution_count": 67,
   "metadata": {},
   "outputs": [
    {
     "data": {
      "text/plain": [
       "('MT19937', array([2260313690,  348938374, 3392255680, 2909033704,  140638832,\n",
       "        1016917445, 4051655600,  976942074, 1628339371,  932989997,\n",
       "         417988570, 3106230116, 3847402493, 2846838083, 1854065059,\n",
       "        2365406610,  631390710, 3006558680, 1855109059,  230064328,\n",
       "         758538135, 1999313224, 2345696623, 4174662269,  280561112,\n",
       "        1706268812, 4182435209, 1014638053,  610687375, 2331525695,\n",
       "        3432349290, 1302213857, 2461808965, 1211193860, 3120004290,\n",
       "         159403718,  785407708, 1103582039, 2181742160, 4003474818,\n",
       "        3333684546, 2164025542, 3329631014, 3331897623,   44841503,\n",
       "        2124190575, 4103716897, 1985760015, 3231349092, 2579223365,\n",
       "        2045506447, 1684183393, 4105280043,  264622240, 3457386480,\n",
       "        3640204395, 3308050770, 1877785652, 1671495555,  489816736,\n",
       "        3645271096, 1053221445, 4106060276, 3422181599, 2615443735,\n",
       "        1804244509, 3539838858, 3452443235, 2399113344, 1565187405,\n",
       "        2474733055, 1149428025, 3675651662, 3578586687, 2141819878,\n",
       "        3912530560, 3882533229,  502129057, 2262588256,  243511723,\n",
       "        3669928491, 2909147132, 2533094556, 1693913013, 1031455591,\n",
       "         892347669, 1204715320, 2778280540, 3103938066, 1548020698,\n",
       "        2371526184, 2362735796,  601580678, 4163515833, 2286774353,\n",
       "        3385525426, 3435050721, 3859726043,  658564489, 1680167334,\n",
       "         395160378, 1918020476, 2179531800,  750714379, 1277823100,\n",
       "        3279993862,  968375750, 2645945689, 1435905461,  453299951,\n",
       "        2432221527, 2543208725,  977186272,  374115648, 1760836837,\n",
       "        1339597678, 4072942346, 1502786855, 1263608786, 2235649091,\n",
       "        3748764825,  105321286, 3494441207,  889085055, 1548213403,\n",
       "        3930247105, 1261616741, 3701589864, 2730870951, 2328741100,\n",
       "        1549885863,  885362289, 4236685512, 4183414762, 2700385771,\n",
       "        4179975148, 1324969786, 3735228741, 3337696400,  342695004,\n",
       "        1189947554,  799007231, 3479707634, 2754945644,  450211552,\n",
       "        2069028394, 1489498981, 3077105910, 2775627593, 1485941576,\n",
       "        1906706347, 1363343182, 1154927348, 2663740949, 3518726712,\n",
       "        3224543204, 2088074182, 3636799541,  876485687, 1331764607,\n",
       "        1721688505, 2144969088, 4090073983, 1223328334, 1893823894,\n",
       "        4023014570, 2390997307,  722079132,  534353189, 4068461700,\n",
       "        4005844884, 3362478912, 2758321754, 2734444009,  970440841,\n",
       "        3012468549, 1113307510, 4226440206, 4008367189, 2219268773,\n",
       "         870392716, 2499253257, 3083981992, 2008109066, 1151287397,\n",
       "        2169435052, 2384932835, 1612096122, 2171119261, 3321318748,\n",
       "        1317674930, 1449643218, 2113476231, 3313810858, 1519782446,\n",
       "        2630003892, 2464758765,    9731462, 1052415654, 3656592014,\n",
       "        2841565583, 3624077715, 2983921733,  562911616, 1962641375,\n",
       "         614269341,  785306885, 4273760749, 1888303864, 3171945333,\n",
       "         747233216,  368198111, 3813072643, 1724804430,  681854442,\n",
       "        4131373003, 2999398905, 2879312256, 3658689550, 2347669835,\n",
       "        2664829219, 2807075018, 3253655972, 2002544366, 1643713543,\n",
       "        1186919809, 3215199810, 4029160488, 1068185241,  915000036,\n",
       "        2065976610, 4276053157, 3527758033, 2401161367,  842168689,\n",
       "         507969091, 1804685371,  958670079, 2845853863, 2795655679,\n",
       "         229490910,  774557515, 2141840939, 1784889067, 1679680385,\n",
       "        2648417388, 2429705148, 2754293229, 1433256960,  126113575,\n",
       "        3636255678, 3156875032, 3485050346, 2225833886,  477422240,\n",
       "        2922494267, 3447028538, 4123742736, 1624289207, 1362957341,\n",
       "         578091799, 1188249426, 4254745168, 2077134384, 3248839208,\n",
       "         920104920,  777072686,  919500975,  954689369, 3734345697,\n",
       "         963527021, 1627543331,  610865187, 3652041124, 2034149562,\n",
       "        3544763031,   77621747, 4128985850, 1587424817, 1354288442,\n",
       "        3619314760, 1708376797,  326940888, 2058024529, 3459367601,\n",
       "        1470000018, 1095941426, 2700094647, 1369430284,  240943488,\n",
       "         361842083,  961851483, 2191681518, 3308512613, 2054940002,\n",
       "        4265757199, 1166040063, 3479215563, 3448883455,  660622673,\n",
       "        1004507739,  444314655, 3089971362, 3441658735, 2054386395,\n",
       "         721606098, 2808281070, 3988922231, 2981069157, 3187660644,\n",
       "        1700438419,  465094909, 2067097955,  781034920, 3593382873,\n",
       "         221537540, 4058240238, 2649691518, 1464747161, 2171116181,\n",
       "         277760487, 2657734871, 1713714962, 2306668985, 1921083486,\n",
       "        3101885825,  663912034, 2109009255, 1604183668,  752862648,\n",
       "        2154754068, 2146568730, 2346085114,  227251157, 3434674477,\n",
       "        1825639385,  614299416, 1712896225,  115429852, 3468720208,\n",
       "        3812351631,  144413573, 1565979984, 4039450152, 4216138990,\n",
       "        1663623049, 2247050244, 3060868821, 1566337412, 3382686158,\n",
       "        2509623692, 1263563671, 1360200562, 1826970920, 2705971464,\n",
       "        1615712977, 4286498113, 4230861534, 2996730271, 1690375340,\n",
       "        2889722659, 3759201910,  195871346,  657582540, 3854023474,\n",
       "         443002808, 1522982692,  524536023, 4259312476, 1550095226,\n",
       "        4167482166,  156698076, 4237215123, 3869358353, 1811122148,\n",
       "        1187724156, 2737100772, 1406546615,  432196015,  814245354,\n",
       "        4129949113, 1940145834, 1587754779, 3914244363, 2890981831,\n",
       "        2532990725, 4220043234,  922349960, 3682307144, 3519797929,\n",
       "        1872948906, 3421600291, 1356585955, 2660558280, 2593655527,\n",
       "        1829590266, 4071773680, 3568093215, 2602224556, 2629361598,\n",
       "        3225297981, 3639800786, 1400651480,  769725007, 3509817332,\n",
       "        1138316693, 1429898715, 3029690960, 3512041792, 2693047090,\n",
       "        3025060641, 2934039187,  271210632, 1213597215,  466142102,\n",
       "        1489185601, 2431230993, 1940741760, 1856343276, 3695963554,\n",
       "         277495980, 2525997388, 3753281030, 3833241502, 1492571399,\n",
       "         203035164, 2190351553, 3620139539, 2628646633, 2244091324,\n",
       "        1274966498, 3847098676,  958180754, 1263580506, 2803396943,\n",
       "         804048593,  578223533, 3232363764, 3810610989, 2666351419,\n",
       "         274246722, 3045961342, 2654133257,  338915900,  135050623,\n",
       "        3714710897, 1122319361, 1930288394, 1514757446, 2648411551,\n",
       "        2665976818, 1922954710, 2414027436, 1364684265,  395814907,\n",
       "         803208761, 2521936447,  631823100,  570463898, 1034907987,\n",
       "         179273695, 2234303106, 2679028703, 2219522624, 2189595580,\n",
       "        3160356306, 2041672333, 2986536412, 3816979234, 3054356004,\n",
       "        1932200261,  487488630, 2462430590, 3646338000, 1173263836,\n",
       "         542681657, 1746431646, 2016274431,   50704002, 2910955822,\n",
       "        3136959849, 2562376297, 2669796713,  218959494, 2736407903,\n",
       "        2112935337, 2184602348, 3131955204, 1988918897, 1979433465,\n",
       "         111037611, 1307546936, 1620099127, 1388754931,  507698292,\n",
       "        3193492631, 2715688218, 2909281280, 1057165160,  951970226,\n",
       "        1479088468, 2466700726,  110695581, 2588386715, 3894786584,\n",
       "        1363081750, 2562094110,  673223621, 3455478874,  319727983,\n",
       "        3420367804, 2595169198, 3952587382,  841364433, 3277142633,\n",
       "        2615888764,  353016384,  897840736,  884587774, 2356096243,\n",
       "         231721642, 2574185937,   13589462,  865475638, 4107744461,\n",
       "        1653527351, 2649632148, 1167334644, 1569430142, 3609105483,\n",
       "        3463259590, 1179723884, 2115248217, 3982052755,  487211103,\n",
       "        2363841818, 3724666385, 2275560911, 3830737525,  353381279,\n",
       "        1123433786, 1682768477, 2473812269, 1408021729, 1584109860,\n",
       "        4045088634, 1624954728, 1941754630, 4153741554, 3653232275,\n",
       "        1526795240, 3729710413,  332973006, 1697259304, 4217938175,\n",
       "        3876775776, 2901195850, 1611722990, 2548595086, 4265201072,\n",
       "          76991528, 3763912135, 1696021447,  123633128,  225556227,\n",
       "        3703923807, 4055295818, 1989679936,  572855962, 2422414634,\n",
       "        4293793217, 3757525477, 2042976673, 4132414536, 4241580006,\n",
       "        2077062331, 2198064263, 3998557957,  563847915, 2851070600,\n",
       "        3105990049, 2079504127, 1211296335,   61687311, 1982828632,\n",
       "        2130228175, 1557705711, 1212550942, 1205493497,  185279173,\n",
       "        4165883878,  773213171,  344698889, 1395910106, 3707815628,\n",
       "        1334816435, 2620911066, 1935228689,  180053610, 4078401641,\n",
       "        1736554240, 3643702302, 3315857509,  341577669, 2807850657,\n",
       "         391126227, 2467381806, 2838072779, 3039008762, 3826797962,\n",
       "         421136520, 3827508772, 1428234374,  798512555, 1640145905,\n",
       "        2443857604, 1869726726,  374514272, 2743520988, 3451965119,\n",
       "        3983557115, 1676015003, 2941385220, 2985199325], dtype=uint32), 22, 0, 0.0)"
      ]
     },
     "execution_count": 67,
     "metadata": {},
     "output_type": "execute_result"
    }
   ],
   "source": [
    "np.random.get_state()"
   ]
  },
  {
   "cell_type": "code",
   "execution_count": 68,
   "metadata": {},
   "outputs": [
    {
     "data": {
      "text/plain": [
       "('MT19937', array([2260313690,  348938374, 3392255680, 2909033704,  140638832,\n",
       "        1016917445, 4051655600,  976942074, 1628339371,  932989997,\n",
       "         417988570, 3106230116, 3847402493, 2846838083, 1854065059,\n",
       "        2365406610,  631390710, 3006558680, 1855109059,  230064328,\n",
       "         758538135, 1999313224, 2345696623, 4174662269,  280561112,\n",
       "        1706268812, 4182435209, 1014638053,  610687375, 2331525695,\n",
       "        3432349290, 1302213857, 2461808965, 1211193860, 3120004290,\n",
       "         159403718,  785407708, 1103582039, 2181742160, 4003474818,\n",
       "        3333684546, 2164025542, 3329631014, 3331897623,   44841503,\n",
       "        2124190575, 4103716897, 1985760015, 3231349092, 2579223365,\n",
       "        2045506447, 1684183393, 4105280043,  264622240, 3457386480,\n",
       "        3640204395, 3308050770, 1877785652, 1671495555,  489816736,\n",
       "        3645271096, 1053221445, 4106060276, 3422181599, 2615443735,\n",
       "        1804244509, 3539838858, 3452443235, 2399113344, 1565187405,\n",
       "        2474733055, 1149428025, 3675651662, 3578586687, 2141819878,\n",
       "        3912530560, 3882533229,  502129057, 2262588256,  243511723,\n",
       "        3669928491, 2909147132, 2533094556, 1693913013, 1031455591,\n",
       "         892347669, 1204715320, 2778280540, 3103938066, 1548020698,\n",
       "        2371526184, 2362735796,  601580678, 4163515833, 2286774353,\n",
       "        3385525426, 3435050721, 3859726043,  658564489, 1680167334,\n",
       "         395160378, 1918020476, 2179531800,  750714379, 1277823100,\n",
       "        3279993862,  968375750, 2645945689, 1435905461,  453299951,\n",
       "        2432221527, 2543208725,  977186272,  374115648, 1760836837,\n",
       "        1339597678, 4072942346, 1502786855, 1263608786, 2235649091,\n",
       "        3748764825,  105321286, 3494441207,  889085055, 1548213403,\n",
       "        3930247105, 1261616741, 3701589864, 2730870951, 2328741100,\n",
       "        1549885863,  885362289, 4236685512, 4183414762, 2700385771,\n",
       "        4179975148, 1324969786, 3735228741, 3337696400,  342695004,\n",
       "        1189947554,  799007231, 3479707634, 2754945644,  450211552,\n",
       "        2069028394, 1489498981, 3077105910, 2775627593, 1485941576,\n",
       "        1906706347, 1363343182, 1154927348, 2663740949, 3518726712,\n",
       "        3224543204, 2088074182, 3636799541,  876485687, 1331764607,\n",
       "        1721688505, 2144969088, 4090073983, 1223328334, 1893823894,\n",
       "        4023014570, 2390997307,  722079132,  534353189, 4068461700,\n",
       "        4005844884, 3362478912, 2758321754, 2734444009,  970440841,\n",
       "        3012468549, 1113307510, 4226440206, 4008367189, 2219268773,\n",
       "         870392716, 2499253257, 3083981992, 2008109066, 1151287397,\n",
       "        2169435052, 2384932835, 1612096122, 2171119261, 3321318748,\n",
       "        1317674930, 1449643218, 2113476231, 3313810858, 1519782446,\n",
       "        2630003892, 2464758765,    9731462, 1052415654, 3656592014,\n",
       "        2841565583, 3624077715, 2983921733,  562911616, 1962641375,\n",
       "         614269341,  785306885, 4273760749, 1888303864, 3171945333,\n",
       "         747233216,  368198111, 3813072643, 1724804430,  681854442,\n",
       "        4131373003, 2999398905, 2879312256, 3658689550, 2347669835,\n",
       "        2664829219, 2807075018, 3253655972, 2002544366, 1643713543,\n",
       "        1186919809, 3215199810, 4029160488, 1068185241,  915000036,\n",
       "        2065976610, 4276053157, 3527758033, 2401161367,  842168689,\n",
       "         507969091, 1804685371,  958670079, 2845853863, 2795655679,\n",
       "         229490910,  774557515, 2141840939, 1784889067, 1679680385,\n",
       "        2648417388, 2429705148, 2754293229, 1433256960,  126113575,\n",
       "        3636255678, 3156875032, 3485050346, 2225833886,  477422240,\n",
       "        2922494267, 3447028538, 4123742736, 1624289207, 1362957341,\n",
       "         578091799, 1188249426, 4254745168, 2077134384, 3248839208,\n",
       "         920104920,  777072686,  919500975,  954689369, 3734345697,\n",
       "         963527021, 1627543331,  610865187, 3652041124, 2034149562,\n",
       "        3544763031,   77621747, 4128985850, 1587424817, 1354288442,\n",
       "        3619314760, 1708376797,  326940888, 2058024529, 3459367601,\n",
       "        1470000018, 1095941426, 2700094647, 1369430284,  240943488,\n",
       "         361842083,  961851483, 2191681518, 3308512613, 2054940002,\n",
       "        4265757199, 1166040063, 3479215563, 3448883455,  660622673,\n",
       "        1004507739,  444314655, 3089971362, 3441658735, 2054386395,\n",
       "         721606098, 2808281070, 3988922231, 2981069157, 3187660644,\n",
       "        1700438419,  465094909, 2067097955,  781034920, 3593382873,\n",
       "         221537540, 4058240238, 2649691518, 1464747161, 2171116181,\n",
       "         277760487, 2657734871, 1713714962, 2306668985, 1921083486,\n",
       "        3101885825,  663912034, 2109009255, 1604183668,  752862648,\n",
       "        2154754068, 2146568730, 2346085114,  227251157, 3434674477,\n",
       "        1825639385,  614299416, 1712896225,  115429852, 3468720208,\n",
       "        3812351631,  144413573, 1565979984, 4039450152, 4216138990,\n",
       "        1663623049, 2247050244, 3060868821, 1566337412, 3382686158,\n",
       "        2509623692, 1263563671, 1360200562, 1826970920, 2705971464,\n",
       "        1615712977, 4286498113, 4230861534, 2996730271, 1690375340,\n",
       "        2889722659, 3759201910,  195871346,  657582540, 3854023474,\n",
       "         443002808, 1522982692,  524536023, 4259312476, 1550095226,\n",
       "        4167482166,  156698076, 4237215123, 3869358353, 1811122148,\n",
       "        1187724156, 2737100772, 1406546615,  432196015,  814245354,\n",
       "        4129949113, 1940145834, 1587754779, 3914244363, 2890981831,\n",
       "        2532990725, 4220043234,  922349960, 3682307144, 3519797929,\n",
       "        1872948906, 3421600291, 1356585955, 2660558280, 2593655527,\n",
       "        1829590266, 4071773680, 3568093215, 2602224556, 2629361598,\n",
       "        3225297981, 3639800786, 1400651480,  769725007, 3509817332,\n",
       "        1138316693, 1429898715, 3029690960, 3512041792, 2693047090,\n",
       "        3025060641, 2934039187,  271210632, 1213597215,  466142102,\n",
       "        1489185601, 2431230993, 1940741760, 1856343276, 3695963554,\n",
       "         277495980, 2525997388, 3753281030, 3833241502, 1492571399,\n",
       "         203035164, 2190351553, 3620139539, 2628646633, 2244091324,\n",
       "        1274966498, 3847098676,  958180754, 1263580506, 2803396943,\n",
       "         804048593,  578223533, 3232363764, 3810610989, 2666351419,\n",
       "         274246722, 3045961342, 2654133257,  338915900,  135050623,\n",
       "        3714710897, 1122319361, 1930288394, 1514757446, 2648411551,\n",
       "        2665976818, 1922954710, 2414027436, 1364684265,  395814907,\n",
       "         803208761, 2521936447,  631823100,  570463898, 1034907987,\n",
       "         179273695, 2234303106, 2679028703, 2219522624, 2189595580,\n",
       "        3160356306, 2041672333, 2986536412, 3816979234, 3054356004,\n",
       "        1932200261,  487488630, 2462430590, 3646338000, 1173263836,\n",
       "         542681657, 1746431646, 2016274431,   50704002, 2910955822,\n",
       "        3136959849, 2562376297, 2669796713,  218959494, 2736407903,\n",
       "        2112935337, 2184602348, 3131955204, 1988918897, 1979433465,\n",
       "         111037611, 1307546936, 1620099127, 1388754931,  507698292,\n",
       "        3193492631, 2715688218, 2909281280, 1057165160,  951970226,\n",
       "        1479088468, 2466700726,  110695581, 2588386715, 3894786584,\n",
       "        1363081750, 2562094110,  673223621, 3455478874,  319727983,\n",
       "        3420367804, 2595169198, 3952587382,  841364433, 3277142633,\n",
       "        2615888764,  353016384,  897840736,  884587774, 2356096243,\n",
       "         231721642, 2574185937,   13589462,  865475638, 4107744461,\n",
       "        1653527351, 2649632148, 1167334644, 1569430142, 3609105483,\n",
       "        3463259590, 1179723884, 2115248217, 3982052755,  487211103,\n",
       "        2363841818, 3724666385, 2275560911, 3830737525,  353381279,\n",
       "        1123433786, 1682768477, 2473812269, 1408021729, 1584109860,\n",
       "        4045088634, 1624954728, 1941754630, 4153741554, 3653232275,\n",
       "        1526795240, 3729710413,  332973006, 1697259304, 4217938175,\n",
       "        3876775776, 2901195850, 1611722990, 2548595086, 4265201072,\n",
       "          76991528, 3763912135, 1696021447,  123633128,  225556227,\n",
       "        3703923807, 4055295818, 1989679936,  572855962, 2422414634,\n",
       "        4293793217, 3757525477, 2042976673, 4132414536, 4241580006,\n",
       "        2077062331, 2198064263, 3998557957,  563847915, 2851070600,\n",
       "        3105990049, 2079504127, 1211296335,   61687311, 1982828632,\n",
       "        2130228175, 1557705711, 1212550942, 1205493497,  185279173,\n",
       "        4165883878,  773213171,  344698889, 1395910106, 3707815628,\n",
       "        1334816435, 2620911066, 1935228689,  180053610, 4078401641,\n",
       "        1736554240, 3643702302, 3315857509,  341577669, 2807850657,\n",
       "         391126227, 2467381806, 2838072779, 3039008762, 3826797962,\n",
       "         421136520, 3827508772, 1428234374,  798512555, 1640145905,\n",
       "        2443857604, 1869726726,  374514272, 2743520988, 3451965119,\n",
       "        3983557115, 1676015003, 2941385220, 2985199325], dtype=uint32), 22, 0, 0.0)"
      ]
     },
     "execution_count": 68,
     "metadata": {},
     "output_type": "execute_result"
    }
   ],
   "source": [
    "r.get_state()"
   ]
  },
  {
   "cell_type": "markdown",
   "metadata": {},
   "source": [
    "leftover bits\n",
    "\n",
    "Types of Bernoulli distributions https://onlinelibrary.wiley.com/doi/pdf/10.1002/9781119197096.app03\n",
    "\n",
    "https://towardsdatascience.com/fun-with-the-binomial-distribution-96a5ecabf65b\n",
    "\n",
    "\"It (exponential) is the continuous random variable equivalent to the geometric probability distribution for discrete random variables.\" https://machinelearningmastery.com/continuous-probability-distributions-for-machine-learning/"
   ]
  },
  {
   "cell_type": "markdown",
   "metadata": {},
   "source": [
    "<br>\n",
    "\n",
    "__________________________________________________________________________________________________________\n",
    "\n",
    "\n",
    "## References\n",
    "\n",
    "1. Why randomly generated numbers are useful: https://www.howtogeek.com/183051/htg-explains-how-computers-generate-random-numbers/\n",
    "2. Pseudorandom numbers: https://realpython.com/python-random/\n",
    "3. Mersenne Twister: https://www.sciencedirect.com/topics/computer-science/mersenne-twister\n",
    "\n",
    "\n",
    "1. Difference between random module and numpy.random module: McKinney, W. (2018) *Python for Data Analysis.* California: O'Reilly Media. (p. 118).\n",
    "1. Rand versus random_sample: https://stackoverflow.com/a/18829377\n",
    "2. Difference between random module and numpy.random module: https://realpython.com/python-random/#prngs-for-arrays-numpyrandom\n",
    "2. random module probability distributions: https://docs.python.org/3/library/random.html#real-valued-distributions\n",
    "2. Difference between np.random.rand and np.random.random: https://stackoverflow.com/a/47232184\n",
    "3. Different integer types: https://stackoverflow.com/a/9696777\n",
    "3. Deprecation of random_integers https://docs.scipy.org/doc/numpy-1.16.0/reference/generated/numpy.random.random_integers.html#numpy.random.random_integers\n",
    "4. Checking the size of different datatypes: https://stackoverflow.com/a/14329864\n",
    "5. Magic 8 Ball code adapted from: Sweigart, A. (2015). *Automate the Boring Stuff with Python*. San Fracisco: No Starch Press (p. 64).\n",
    "6. Deck of cards adapted from: Spronck, P. (2017). *The Coder's Apprentice: LEarning Programming with Python 3*. http://www.spronck.net/pythonbook/pythonbook.pdf (p. 341).\n",
    "7. Efficiency of the bytes function: Cappellini, S. (2018). *How to (efficiently) generate a huge number of pseudorandom bytes using Python*. stefanocappellini.it/generate-pseudorandom-bytes-with-python/\n",
    "8. Shuffling elements of multidimensional arrays adapted from: https://www.science-emergence.com/Articles/How-to-randomly-shuffle-an-array-in-python-using-numpy/\n",
    "9. Difference between np.random.shuffle and np.random.permutation: https://stackoverflow.com/a/15474335\n",
    "10. Binomial and Bernoulli Distributions: https://onlinelibrary.wiley.com/doi/pdf/10.1002/9781119197096.app03\n",
    "11. Coin toss binomial function adapted from: https://cmdlinetips.com/2018/12/simulating-coin-toss-experiment-with-binomial-random-numbers-using-numpy/\n",
    "12. Difference between binomial and normal distributions: http://staweb.sta.cathedral.org/departments/math/mhansen/public_html/23stat/handouts/normbino.htm\n",
    "13. Multinomial distribution example idea: https://stattrek.com/probability-distributions/multinomial.aspx\n",
    "13. About the poisson distribution: https://medium.com/@andrew.chamberlain/deriving-the-poisson-distribution-from-the-binomial-distribution-840cc1668239\n",
    "14. Relationship between poisson and exponential: https://stats.stackexchange.com/questions/2092/relationship-between-poisson-and-exponential-distribution\n",
    "17. Relationship between geometric and exponential: https://www.statisticshowto.datasciencecentral.com/geometric-distribution/\n",
    "18. Default pseudorandom number generator seed: https://machinelearningmastery.com/how-to-generate-random-numbers-in-python/"
   ]
  },
  {
   "cell_type": "code",
   "execution_count": null,
   "metadata": {},
   "outputs": [],
   "source": []
  }
 ],
 "metadata": {
  "kernelspec": {
   "display_name": "Python 3",
   "language": "python",
   "name": "python3"
  },
  "language_info": {
   "codemirror_mode": {
    "name": "ipython",
    "version": 3
   },
   "file_extension": ".py",
   "mimetype": "text/x-python",
   "name": "python",
   "nbconvert_exporter": "python",
   "pygments_lexer": "ipython3",
   "version": "3.7.4"
  }
 },
 "nbformat": 4,
 "nbformat_minor": 4
}
