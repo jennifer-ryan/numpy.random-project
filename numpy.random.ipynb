{
 "cells": [
  {
   "cell_type": "markdown",
   "metadata": {},
   "source": [
    "1. Explain the overall purpose of the package.\n",
    "2. Explain the use of the “Simple random data” and “Permutations” functions.\n",
    "3. Explain the use and purpose of at least five “Distributions” functions.\n",
    "4. Explain the use of seeds in generating pseudorandom numbers.\n",
    "\n",
    "Numpy documentation https://docs.scipy.org/doc/numpy-1.16.0/reference/routines.random.html\n",
    "\n",
    "Mersenne Twister - PRNG (pseudorandom number generator) https://en.wikipedia.org/wiki/Mersenne_Twister\n"
   ]
  },
  {
   "cell_type": "markdown",
   "metadata": {},
   "source": [
    "### Why use numpy.random instead of built-in random.random?\n",
    "While random.random by default produces single random numbers, it can produce multiple if used with the range function. However, numpy.random allows you to produce increasingly complex arrays of random numbers. https://realpython.com/python-random/#prngs-for-arrays-numpyrandom\n",
    "\n",
    "According to Python for Data Analysis (p. 118) numpy.random supplements the random module with a few extra probability distributions and functions\n",
    "https://stackoverflow.com/questions/7029993/differences-between-numpy-random-and-random-random-in-python"
   ]
  },
  {
   "cell_type": "code",
   "execution_count": 2,
   "metadata": {},
   "outputs": [],
   "source": [
    "# Importing libraries\n",
    "import numpy as np\n",
    "import matplotlib.pyplot as plt"
   ]
  },
  {
   "cell_type": "markdown",
   "metadata": {},
   "source": [
    "## Simple Random Data\n",
    "At its most basic, numpy.random is used to generate random numbers or arrays of numbers. There are several functions within this package that create such simple random data and each one does so in different ways, across various distributions. "
   ]
  },
  {
   "cell_type": "markdown",
   "metadata": {},
   "source": [
    "### rand and randn\n",
    "The numpy.random.rand and numpy.random.randn fuctions each generates a random number or array of numbers from uniform and normal distributions respectively. \n",
    "\n",
    "The function rand produces a number or array between 0 and 1 from a unifrom distribution, meaning that every number in this range has an equal chance of being generated as any other. The histogram below demonstrates the distribution across 10000 randomly generated numbers."
   ]
  },
  {
   "cell_type": "code",
   "execution_count": 7,
   "metadata": {},
   "outputs": [
    {
     "data": {
      "image/png": "[encoded data removed]",
      "text/plain": [
       "<Figure size 432x288 with 1 Axes>"
      ]
     },
     "metadata": {
      "needs_background": "light"
     },
     "output_type": "display_data"
    }
   ],
   "source": [
    "# demonstrating the uniform distribution of the rand function\n",
    "x = np.random.rand(10000)\n",
    "plt.hist(x)\n",
    "plt.title(\"rand universal distribution\")\n",
    "plt.show()"
   ]
  },
  {
   "cell_type": "markdown",
   "metadata": {},
   "source": [
    "On the other hand, the randn fuction generates a random number or array from a normal Gaussian distribution with a mean of 0 and a variance of 1. This means that the majority of numbers generated are between -1 and 1 and center largely around 0. The graph below helps to illustrate this; of the 1000 numbers generated, well over half are within the -1 to 1 range and peak at the 0 mark."
   ]
  },
  {
   "cell_type": "code",
   "execution_count": 4,
   "metadata": {},
   "outputs": [
    {
     "data": {
      "image/png": "[encoded data removed]",
      "text/plain": [
       "<Figure size 432x288 with 1 Axes>"
      ]
     },
     "metadata": {
      "needs_background": "light"
     },
     "output_type": "display_data"
    }
   ],
   "source": [
    "# demonstrating the normal distribution of the randn function\n",
    "x = np.random.randn(10000)\n",
    "plt.hist(x)\n",
    "plt.title(\"randn normal distribution\")\n",
    "plt.show()"
   ]
  },
  {
   "cell_type": "markdown",
   "metadata": {},
   "source": [
    "Despite working with different probability distributions, rand and randn function in the same way. Without any arguments, they will produce a single randomly generated number from their assigned distribution:"
   ]
  },
  {
   "cell_type": "code",
   "execution_count": 5,
   "metadata": {},
   "outputs": [
    {
     "name": "stdout",
     "output_type": "stream",
     "text": [
      "\u001b[1mrand:\u001b[0m\n",
      "0.8036299121912932\n",
      "\n",
      "\u001b[1mrandn:\u001b[0m\n",
      "-0.024626179051597225\n"
     ]
    }
   ],
   "source": [
    "print(\"\\033[1m\" + \"rand:\" + \"\\033[0m\")\n",
    "print(np.random.rand())\n",
    "print()\n",
    "print(\"\\033[1m\" + \"randn:\" + \"\\033[0m\")\n",
    "print(np.random.randn())"
   ]
  },
  {
   "cell_type": "markdown",
   "metadata": {},
   "source": [
    "If arguments are passed, the functions create arrays of randomly generated numbers. There is no limit on the number of arguments that can be entered, so very complex arrays of arrays are achievable. "
   ]
  },
  {
   "cell_type": "code",
   "execution_count": 6,
   "metadata": {},
   "outputs": [
    {
     "name": "stdout",
     "output_type": "stream",
     "text": [
      "\u001b[1mrand:\u001b[0m\n",
      "[0.63122944 0.61440095 0.33532602 0.65206309 0.5499367 ]\n",
      "\n",
      "\u001b[1mrandn:\u001b[0m\n",
      "[[[-0.2906841  -0.78547783  1.18038289 -1.30747225]\n",
      "  [-0.82030829  1.4243961   1.62946753  0.51085414]\n",
      "  [-0.1156754   1.0496287   0.76499461 -0.76554855]]\n",
      "\n",
      " [[-0.98039882  0.42002722 -1.22790516 -0.0179578 ]\n",
      "  [-0.27877978 -0.40903248  0.42176562 -1.88219571]\n",
      "  [-1.6887933   0.42005445  1.0968321  -0.3272721 ]]]\n"
     ]
    }
   ],
   "source": [
    "print(\"\\033[1m\" + \"rand:\" + \"\\033[0m\")\n",
    "print(np.random.rand(5))\n",
    "print()\n",
    "print(\"\\033[1m\" + \"randn:\" + \"\\033[0m\")\n",
    "print(np.random.randn(2, 3, 4))"
   ]
  },
  {
   "cell_type": "markdown",
   "metadata": {},
   "source": [
    "As mentioned previously, these functions each have a built-in range from which numbers are generated: rand produces numbers between 0 and 1 and the numbers of randn center around a mean of 0. While it is not possible to alter this range within the function arguments, it can be scaled up by multiplying by twice the desired value and then subtracting the desired value (https://www.youtube.com/watch?v=Kh9vsy6t_9c)- <b>may not be the best way and is rand only</b> So for example, if you want the range to be between -5 and 5, you would multipl by 10 and then subtract 5: "
   ]
  },
  {
   "cell_type": "code",
   "execution_count": 7,
   "metadata": {},
   "outputs": [
    {
     "data": {
      "text/plain": [
       "array([ 3.11259201, -1.44644958])"
      ]
     },
     "execution_count": 7,
     "metadata": {},
     "output_type": "execute_result"
    }
   ],
   "source": [
    "10 * np.random.rand(2) - 5"
   ]
  },
  {
   "cell_type": "markdown",
   "metadata": {},
   "source": [
    "### randint\n",
    "Returns randomly generated integers of a given range. This function will not work if there are no arguments passed.\n",
    "If only one argument is passed, the range runs from 0 up to but not including that number, making it a half-open interval. The code below will return a random number from the range 0 - 9 inclusive. If a float rather than integer is passes, it will round down to the nearest integer. \n",
    "\n",
    "low - lowest number in the range. If no high argument is passed then the range runs up to but does not include this number.\n",
    "\n",
    "high - highest number in the range. Selection is made from lowest number up to but not including this number.\n",
    "\n",
    "size - shape of output\n",
    "\n",
    "dtype - specify data type of the output. tried changing to float32 below but not working...\n",
    "\n",
    "There's another function listed in the numpy.random documentation called random_integer but this has been deprecated - use randint instead."
   ]
  },
  {
   "cell_type": "code",
   "execution_count": 8,
   "metadata": {},
   "outputs": [
    {
     "data": {
      "text/plain": [
       "1"
      ]
     },
     "execution_count": 8,
     "metadata": {},
     "output_type": "execute_result"
    }
   ],
   "source": [
    "np.random.randint(10)"
   ]
  },
  {
   "cell_type": "code",
   "execution_count": 95,
   "metadata": {},
   "outputs": [
    {
     "ename": "TypeError",
     "evalue": "Unsupported dtype \"float32\" for randint",
     "output_type": "error",
     "traceback": [
      "\u001b[1;31m---------------------------------------------------------------------------\u001b[0m",
      "\u001b[1;31mKeyError\u001b[0m                                  Traceback (most recent call last)",
      "\u001b[1;32mmtrand.pyx\u001b[0m in \u001b[0;36mmtrand.RandomState.randint\u001b[1;34m()\u001b[0m\n",
      "\u001b[1;31mKeyError\u001b[0m: dtype('float32')",
      "\nDuring handling of the above exception, another exception occurred:\n",
      "\u001b[1;31mTypeError\u001b[0m                                 Traceback (most recent call last)",
      "\u001b[1;32m<ipython-input-95-f7f4457fb1b2>\u001b[0m in \u001b[0;36m<module>\u001b[1;34m\u001b[0m\n\u001b[1;32m----> 1\u001b[1;33m \u001b[0mnp\u001b[0m\u001b[1;33m.\u001b[0m\u001b[0mrandom\u001b[0m\u001b[1;33m.\u001b[0m\u001b[0mrandint\u001b[0m\u001b[1;33m(\u001b[0m\u001b[1;36m6\u001b[0m\u001b[1;33m,\u001b[0m \u001b[1;36m10\u001b[0m\u001b[1;33m,\u001b[0m \u001b[0mdtype\u001b[0m\u001b[1;33m=\u001b[0m\u001b[1;34m'float32'\u001b[0m\u001b[1;33m)\u001b[0m\u001b[1;33m\u001b[0m\u001b[1;33m\u001b[0m\u001b[0m\n\u001b[0m",
      "\u001b[1;32mmtrand.pyx\u001b[0m in \u001b[0;36mmtrand.RandomState.randint\u001b[1;34m()\u001b[0m\n",
      "\u001b[1;31mTypeError\u001b[0m: Unsupported dtype \"float32\" for randint"
     ]
    }
   ],
   "source": [
    "np.random.randint(6, 10, dtype='float32')"
   ]
  },
  {
   "cell_type": "code",
   "execution_count": null,
   "metadata": {},
   "outputs": [],
   "source": []
  },
  {
   "cell_type": "code",
   "execution_count": 75,
   "metadata": {},
   "outputs": [
    {
     "data": {
      "text/plain": [
       "{'Character': 'c',\n",
       " 'Integer': 'bhilqp',\n",
       " 'UnsignedInteger': 'BHILQP',\n",
       " 'Float': 'efdg',\n",
       " 'Complex': 'FDG',\n",
       " 'AllInteger': 'bBhHiIlLqQpP',\n",
       " 'AllFloat': 'efdgFDG',\n",
       " 'Datetime': 'Mm',\n",
       " 'All': '?bhilqpBHILQPefdgFDGSUVOMm'}"
      ]
     },
     "execution_count": 75,
     "metadata": {},
     "output_type": "execute_result"
    }
   ],
   "source": [
    "np.typecodes"
   ]
  },
  {
   "cell_type": "markdown",
   "metadata": {},
   "source": [
    "### random_sample\n",
    "\n",
    "There are four functions in the numpy.random library that all operate in the same way:\n",
    "1. numpy.random.random\n",
    "2. numpy.random.ranf\n",
    "3. numpy.random.sample\n",
    "4. numpy.random.random_sample\n",
    "\n",
    "https://stackoverflow.com/questions/18829185/difference-between-various-numpy-random-functions\n",
    "They are essentially all aliases for the random_sample function which returns a single floating point number or array of numbers in the half-open interval 0.0 - 1.0\n",
    "\n",
    "Difference between random_sample and rand https://stackoverflow.com/questions/47231852/np-random-rand-vs-np-random-random"
   ]
  },
  {
   "cell_type": "code",
   "execution_count": 7,
   "metadata": {},
   "outputs": [
    {
     "data": {
      "text/plain": [
       "array([[[0.09528253, 0.0266487 , 0.31292768, 0.79005321, 0.97467631,\n",
       "         0.27525679],\n",
       "        [0.65778989, 0.41074373, 0.11895406, 0.43001239, 0.38637832,\n",
       "         0.68140744],\n",
       "        [0.03649894, 0.73717941, 0.0570313 , 0.53105466, 0.26370269,\n",
       "         0.96308445],\n",
       "        [0.08708685, 0.2779669 , 0.78686876, 0.74128369, 0.03714362,\n",
       "         0.26528571]],\n",
       "\n",
       "       [[0.94262967, 0.25537591, 0.45132997, 0.17349005, 0.60801899,\n",
       "         0.2583331 ],\n",
       "        [0.30101891, 0.30016041, 0.5613312 , 0.29941189, 0.99973755,\n",
       "         0.6646444 ],\n",
       "        [0.35903497, 0.96046448, 0.00133074, 0.13578376, 0.90184802,\n",
       "         0.95611427],\n",
       "        [0.17720508, 0.06544401, 0.89207855, 0.43106667, 0.75748282,\n",
       "         0.37533959]]])"
      ]
     },
     "execution_count": 7,
     "metadata": {},
     "output_type": "execute_result"
    }
   ],
   "source": [
    "np.random.random_sample((2, 4, 6))\n"
   ]
  },
  {
   "cell_type": "markdown",
   "metadata": {},
   "source": [
    "### choice\n",
    "Similar to randint in that it generates a random integer and you can specify a range. However, choice can accept tuples, lists or numpy arrays as input.\n",
    "size - allows you to determine the shape of the output\n",
    "replace - true/false boolean. If false, the returned numbers never repeat in the output. Once a number has been generated, it it removed from the pool of available numbers. This allows for unique numbers only. It can generate an error if the pool of numbers to choose from is smaller than output shape. https://stackoverflow.com/questions/40689152/what-does-replacement-mean-in-numpy-random-choice\n",
    "p - looks like you can set the probability of a set of numbers (default is uniform). SO if I have a tuple (1, 2, 3, 4) and a p value of  "
   ]
  },
  {
   "cell_type": "code",
   "execution_count": 57,
   "metadata": {},
   "outputs": [
    {
     "data": {
      "text/plain": [
       "array([ 7, 10,  6])"
      ]
     },
     "execution_count": 57,
     "metadata": {},
     "output_type": "execute_result"
    }
   ],
   "source": [
    "# will return random numbers from provided tuple\n",
    "np.random.choice((4, 6, 7, 10), size=3)"
   ]
  },
  {
   "cell_type": "code",
   "execution_count": 73,
   "metadata": {},
   "outputs": [
    {
     "data": {
      "text/plain": [
       "6"
      ]
     },
     "execution_count": 73,
     "metadata": {},
     "output_type": "execute_result"
    }
   ],
   "source": [
    "# setting probability\n",
    "# Here there's a 50/50 chance of 6 and 7 coming up but zero chance of 4 or 10\n",
    "np.random.choice((4, 6, 7, 10), p = (0, 0.5, 0.5, 0))"
   ]
  },
  {
   "cell_type": "markdown",
   "metadata": {},
   "source": [
    "### bytes\n",
    "returns a string of random bytes\n",
    "Only takes one argument - the number of bytes to be returned \n",
    "Good for security such as passwords"
   ]
  },
  {
   "cell_type": "code",
   "execution_count": 105,
   "metadata": {},
   "outputs": [
    {
     "data": {
      "text/plain": [
       "b'\\x145/\\x7fF\\x89\\xba9\\x16\\x18\\xd0(X\\x93-e\\xd0\\x1f\\xb5\\x02l\\x93\\x08\\xde>\\xfa\\x92\\xf4\\xdcy:\\x96\\xb1\\xa2\\x9f\\xe6\\x82\\x85\\xf7 R\\xbflM\\xe3\\xa5-\\x1eA\\x87\\xdb\\xfba\\xd9H5\\x7f\"f\\xdc.9E`\\xd3-\\xe7\\xc6\\xccA\\xf9v\\xb9n1\\xbc\\xf4R\\xa4\\xff\\xc6F\\xddzOm\\x01\\x86\\xd4\\x99\\xf2\\xb6\\x0bbB\\xba\\r\\xe5.\\x83x\\xe3%\\xf7 \\x85\\x08}\\xabK*\\xbb9\\xafjl\\x82C\\xb8\\x8e[I\\xb1Z0I\\xc5\\x1f8\\x94k\\xcf\\xbe\\xde\\xa0\\x02c\\x9b\\xc8\\xd5\\n\\xec7\\x0cD\\xc7\\xfe*\\x1d\"\\xe2\\x82F\\xe6gIDB\\xfc\\xf1^n\\xed,s\\x87\\xc6\\xc2\\x9cLx\\x81\\xfaRj\\x11\\x7fp\\x1fj\\x82\\xfe.o\\xe9`\\xb6O\\x8d4\\xd8\\x13\\xcbU\\xeb;\\x8a\\xaa\\x18\\xfa\\xbb\\x94\\xe9\\xe2\\xd8nr\\xb2\\n<\\xecM\\x11~\\xc19\\xcd\\xa7\\xdd\\xe9\\xffW\\xff\\x7f\\xd3\\x1c\\xe4\\rl%_@\\n8\\xfe9\\xc7\\x1d%\\xd3\\x1a\\xa3\\xd9\\x8d\\xbeTo\\xf8\\xf8;\\'^\\x81nu\\xeb\\x05\\xe5\\xc7\\x12\\x9b\\xa0A\\xdb\\xfd\\xfbbjf\\xc8\\xb46\\xa6\\xc5\\xf76fQT3Z\\x83\\x03%\\x1b2\\x86\\x05\\xb1\\xfd\\xcb\\xd7\\xd2<\\xda\\xf3R\\xc0\\xc5S\\x01\\xd5\\x83\\xccl\\x95@\\xf0\\xd2\\xf2i<\\x93+y]d\\xc6\\x1b\\xf7\\x96\\xf6\\xedq\\xe86:\\x96\\xe1\\x8d\\xea\\xbc\\x1d\\xfeP\\x1ej\\x8a\\x86I\\xfe$\\xea\\xfbA\\x1c\\x18\\x80\\x9f\\x04\\xd6y\\'\\x80t\\x1ei\\xf5\\xe8\\xc9\\xc5\\xda_\\x9d\\x16P\\xe2-\\xce!x:D\\x83nia\\xb8]\\x95h\\x88\\x96KL\\xd1SS\\xd8\\x1b\\xcf\\'\\xeddh|\\x0f\\x8cZ\\xb3\\n\\\\\\x14\\xfdk\\xb3_\\xe6M\\x15B..\\x1cF\\x87\\xc4\\x89h\\xfb\\x99\\xdel\\x97\\x16{\\xb2!\\x87<*5,>q\\x07\\x8c\\xfc\\xe0\\x91\\xb7$\\xc9`\\x00\\x90\\x06J\\x91V\\xcd9\\r6q4<\\xa4E<+\\xd4d\\tBb\\x03\\xee\\xa8\\xdd[\\x16\\xea\\x06A\\xac\\'\\x02#w\\xacM\\xadi%\\x97\\xea}\\x00\\x8bH\\x9cEH\\x1b\\xba\\x05%\\xd3\\xef?`\\x86\\x06NN\\\\\\xd6\\x17\\x97|\\xf9n1\\xd5\\xbai\\xed\\x8b\\xa2\\x92\\x92\\xf7\\xde\\xea;\\xfb-\\x16\\xcd\\xb3\\xfcd\\xfc\\xf6\\x10=\\xea\\xb5\\x80F-\\x11<Y\\xd5\\xbcE\\x93\\xd4\\x8fjc\\xc9\\xbc\\xbb^\\xec\\x10\\xe2.\\xa6cPI\\xd7\\x90s\\x81\\xb8\\xfd\\xa3p\\x82[[\\xbe\\'\\xf7s7\\xbd\\x1f\\xd5\\x12P\\xcf\\x02\\xc3#\\xea\\xe6\\x9f{3\\x84\\xd8\\xd5\\xf5c\\x1dT\\xd0\\x8a\\xf9$\\x94\\x9ci\\xd2\\xfaC\\xa5\\xa8\\xe6,n|>\\x9b\\xe2\\xa0Z\\xa4-\\xb0!|\\xdc\\xd0\\x8ce\\x0467u\\xa0\\xff*uDWI\\xe16\\xfd\\x8a#`\\xa5\\xd3\\xe9%M\\xfa&\\x0c\\xb1g\\x12J\\x86\\xdc6 ^\\x08RQK8c\\xa4U\\x18\\xa0\\xaf\\x11\\x10\\x08\\xe9\\xca\\x14\\xfe(\\x16\\xe8\\x05\\xcc\\xe1]\\xeev\\xe0\\xbb\\\\\\x99\\xebg\\xbe\\x8a\\xc2^\\x89$7\\xdf\\xa7Os\\xa6\\xda)\\x9a\\x96\\xf4\\xe9\\xba\\'Rf\\xf9h\\xa1?h\\x90\\x8d\\x07\\xffM\\xc4\\x04\\xe8/8p\\x14\\xae\\xb8!ul~\\xf02\\xbb\\x9b>\\x99\\r\\xd6I\\xe73G,(\\x03\\x80\\xa54\\xeek\\xb9\\x83U\\xde\\x83\\xb8\\x89\\x7fy\\xbf\\xf4/yF\\x18\\xacd\\xfa\\xd2\\x88Q\\xc5,)\\x18Y\\xb0\\xa6Z(\\xcb\\xaf\\xf5]\\xc2\\xa8\\x86\\x80\\xe3\\x18\\xce\\x91-|\\x12F\\xcd\\xe0\\xc6\\x19\\xbcr\\'\\xca\\xe9\\x9b\\xfeWw\\xda\\x7f\\x99H\\xf0\\xae#x\\xf4N\\xfbs\\xe8\\x8dj\\xee]\\xf0<*\\xb4^\\xbf\\xb4~K;)\\xaa\\xef\\xe5\\xde\\x05\\xdf\\x16\\xac\\x16!\\xf1\\xdeO\\x8b\\xfa7=a\\xf66oy\\xa3\\x17\\x87\\xae\\x15\\xf8j\\x19\\xbb@\\x8b\\xde1\\xfc\\xbd\\xf2<\\xd4\\xf7\\x89)\\xc1\\xf7uh\\x0eT\\xa7\\xf7\\x9aX1iU\\xec\\xa5Av\\xbf\\x04p\\x18\\x0c\\xc9N\\xbd&\\xec\\xadJ\\x0b\\x98HU\\xe2\\xf6\\xad\\xca\\x98\\xf4\\xf9\\n\\x1a9\\xcb\\x92\\x0cxO\\xb3\\xd3U\\xd1C&zA\\x12\\xb4\\x98\\xf6\\xb7\\x7f\\xc1\\xd9\\xc5\\x1d\\xe0\\xd8z\\xcb\\r\\x04\\xac\\x87\\xa4?\\xd1\\x80\\xfa\\xdf\\xa8\\x9b\\\\\\x19\\xfdR\\xad\\xe4\\x99\\xe6{x\\xb8!\\x98\\xceW8\\x8d\\xa8|\\xf9\\x93\\xb1\\x04$'"
      ]
     },
     "execution_count": 105,
     "metadata": {},
     "output_type": "execute_result"
    }
   ],
   "source": [
    "x = np.random.bytes(1000)\n",
    "x"
   ]
  },
  {
   "cell_type": "markdown",
   "metadata": {},
   "source": [
    "## Permutations"
   ]
  },
  {
   "cell_type": "markdown",
   "metadata": {},
   "source": [
    "### shuffle\n",
    "Shuffles the contents of a given list or array (doesn't seem to accept a tuple).\n",
    "Accepts one argument only - the list or array.\n",
    "If a list or one-dimensional array is presented, it returns a shuffled version."
   ]
  },
  {
   "cell_type": "code",
   "execution_count": 136,
   "metadata": {},
   "outputs": [
    {
     "ename": "TypeError",
     "evalue": "'tuple' object does not support item assignment",
     "output_type": "error",
     "traceback": [
      "\u001b[1;31m---------------------------------------------------------------------------\u001b[0m",
      "\u001b[1;31mTypeError\u001b[0m                                 Traceback (most recent call last)",
      "\u001b[1;32m<ipython-input-136-3f94e3a96408>\u001b[0m in \u001b[0;36m<module>\u001b[1;34m\u001b[0m\n\u001b[0;32m      1\u001b[0m \u001b[1;31m# tuples not accepted\u001b[0m\u001b[1;33m\u001b[0m\u001b[1;33m\u001b[0m\u001b[1;33m\u001b[0m\u001b[0m\n\u001b[0;32m      2\u001b[0m \u001b[0mx\u001b[0m \u001b[1;33m=\u001b[0m \u001b[1;33m(\u001b[0m\u001b[1;36m1\u001b[0m\u001b[1;33m,\u001b[0m \u001b[1;36m2\u001b[0m\u001b[1;33m,\u001b[0m \u001b[1;36m3\u001b[0m\u001b[1;33m,\u001b[0m \u001b[1;36m4\u001b[0m\u001b[1;33m,\u001b[0m \u001b[1;36m5\u001b[0m\u001b[1;33m,\u001b[0m \u001b[1;36m6\u001b[0m\u001b[1;33m)\u001b[0m\u001b[1;33m\u001b[0m\u001b[1;33m\u001b[0m\u001b[0m\n\u001b[1;32m----> 3\u001b[1;33m \u001b[0mnp\u001b[0m\u001b[1;33m.\u001b[0m\u001b[0mrandom\u001b[0m\u001b[1;33m.\u001b[0m\u001b[0mshuffle\u001b[0m\u001b[1;33m(\u001b[0m\u001b[0mx\u001b[0m\u001b[1;33m)\u001b[0m\u001b[1;33m\u001b[0m\u001b[1;33m\u001b[0m\u001b[0m\n\u001b[0m\u001b[0;32m      4\u001b[0m \u001b[0mx\u001b[0m\u001b[1;33m\u001b[0m\u001b[1;33m\u001b[0m\u001b[0m\n",
      "\u001b[1;32mmtrand.pyx\u001b[0m in \u001b[0;36mmtrand.RandomState.shuffle\u001b[1;34m()\u001b[0m\n",
      "\u001b[1;32mmtrand.pyx\u001b[0m in \u001b[0;36mmtrand.RandomState.shuffle\u001b[1;34m()\u001b[0m\n",
      "\u001b[1;31mTypeError\u001b[0m: 'tuple' object does not support item assignment"
     ]
    }
   ],
   "source": [
    "# tuples not accepted\n",
    "x = (1, 2, 3, 4, 5, 6)\n",
    "np.random.shuffle(x)\n",
    "x"
   ]
  },
  {
   "cell_type": "code",
   "execution_count": 138,
   "metadata": {},
   "outputs": [
    {
     "data": {
      "text/plain": [
       "[3, 2, 1, 6, 5, 4]"
      ]
     },
     "execution_count": 138,
     "metadata": {},
     "output_type": "execute_result"
    }
   ],
   "source": [
    "# shuffling a list of numbers\n",
    "x = [1, 2, 3, 4, 5, 6]\n",
    "np.random.shuffle(x)\n",
    "x"
   ]
  },
  {
   "cell_type": "markdown",
   "metadata": {},
   "source": [
    "If a multidimensional array is passed, the order of the arrays will be shuffled but the order of the numbers within each single array is nor affected:"
   ]
  },
  {
   "cell_type": "code",
   "execution_count": 135,
   "metadata": {},
   "outputs": [
    {
     "data": {
      "text/plain": [
       "array([[2, 4, 6, 8, 0],\n",
       "       [1, 2, 3, 4, 5],\n",
       "       [5, 4, 3, 2, 1]])"
      ]
     },
     "execution_count": 135,
     "metadata": {},
     "output_type": "execute_result"
    }
   ],
   "source": [
    "# shuffling a numpy array\n",
    "x = np.array([[1, 2, 3, 4, 5], [5, 4, 3, 2, 1], [2, 4, 6, 8, 0]])\n",
    "np.random.shuffle(x)\n",
    "x"
   ]
  },
  {
   "cell_type": "markdown",
   "metadata": {},
   "source": [
    "### permutation\n"
   ]
  },
  {
   "cell_type": "code",
   "execution_count": null,
   "metadata": {},
   "outputs": [],
   "source": []
  }
 ],
 "metadata": {
  "kernelspec": {
   "display_name": "Python 3",
   "language": "python",
   "name": "python3"
  },
  "language_info": {
   "codemirror_mode": {
    "name": "ipython",
    "version": 3
   },
   "file_extension": ".py",
   "mimetype": "text/x-python",
   "name": "python",
   "nbconvert_exporter": "python",
   "pygments_lexer": "ipython3",
   "version": "3.7.4"
  }
 },
 "nbformat": 4,
 "nbformat_minor": 4
}
