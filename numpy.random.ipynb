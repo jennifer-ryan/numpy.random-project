{
 "cells": [
  {
   "cell_type": "markdown",
   "metadata": {},
   "source": [
    "1. Explain the overall purpose of the package.\n",
    "2. Explain the use of the “Simple random data” and “Permutations” functions.\n",
    "3. Explain the use and purpose of at least five “Distributions” functions.\n",
    "4. Explain the use of seeds in generating pseudorandom numbers.\n",
    "\n",
    "Numpy documentation https://docs.scipy.org/doc/numpy-1.16.0/reference/routines.random.html\n",
    "\n",
    "Mersenne Twister - PRNG (pseudorandom number generator) https://en.wikipedia.org/wiki/Mersenne_Twister\n"
   ]
  },
  {
   "cell_type": "markdown",
   "metadata": {},
   "source": [
    "## Purpose of numpy.random\n",
    "\n",
    "Random number generation is vital for many practical programming needs, such as cryptography, model-building, simulation creation and statistical research.[<sup>1</sup>](https://en.wikipedia.org/wiki/Pseudorandom_number_generator) Of course, being programmed, deterministic machines, computers cannot create truly random numbers and so simulate randomness to generate what are called pseudorandom numbers. These numbers are drawn from probability distributions and require an initial input seed, which allows an algorithm to generate numbers in a predetermined fashion. \n",
    "\n",
    "There are many different probability distributions that determine how values are chosen but, broadly-speaking for the purposes of this project, they are either discrete or continuous. A discrete distribution deals with sets of finite values such as heads or tails when flipping a coin or the six sides of a die. There are no values available between the values of a finite distribution - the coin either lands on heads or tails with no other options available. On the other hand, a continuous distribution deals with potentially infinite values, such as weight or distance. There can be an infinite amount of values between any two points in such a distribution - distance could be measured in kilometres but it is possible for values to be only millimetres, or even nanometres, apart.  \n",
    "\n",
    "\n",
    "Pseudorandom numbers are generally suitably random enough for most purposes but also allow for reproducible data. [<sup>2</sup>](https://realpython.com/python-random/) The **numpy.random** package is built on the Mersenne Twister pseudorandom number generator, which is quite strong and has a long period before values start repeating, but not perfect in terms of non-predictability. [<sup>3</sup>](https://www.sciencedirect.com/topics/computer-science/mersenne-twister)\n",
    "\n",
    " \n",
    "\n",
    "### The random module\n",
    "\n",
    "Before commencing the discussion of **numpy.random**, it should be noted that Python already has a module called **random** that functions similarly to **numpy.random**, allowing the user to create random numbers, shuffle a sequence, or set the random seed. However, the **numpy.random** module supplements the **random** module in 2 major ways:<sup>4</sup>\n",
    "\n",
    "- Where **random** returns a single number or sequence of values, **numpy.random** can generate complex arrays of values. [<sup>5</sup>](https://realpython.com/python-random/#prngs-for-arrays-numpyrandom)\n",
    "- The **random** module documentation lists 12 functions that work with different probability distributions [<sup>6</sup>](https://docs.python.org/3/library/random.html#real-valued-distributions), where **numpy.random** has many more with 35 functions available. "
   ]
  },
  {
   "cell_type": "code",
   "execution_count": 77,
   "metadata": {},
   "outputs": [],
   "source": [
    "# Importing libraries\n",
    "import numpy as np\n",
    "import matplotlib.pyplot as plt\n",
    "import sys\n",
    "from scipy import stats"
   ]
  },
  {
   "cell_type": "code",
   "execution_count": 78,
   "metadata": {},
   "outputs": [],
   "source": [
    "# defining bold class to bold decriptive text in the code and make it more readable.\n",
    "class bold:\n",
    "    BOLD = '\\033[1m'\n",
    "    END = '\\033[0m'"
   ]
  },
  {
   "cell_type": "markdown",
   "metadata": {},
   "source": [
    "<br>\n",
    "\n",
    "_________________________________________________________________________________________________________________\n",
    "\n",
    "## Simple Random Data\n",
    "At its most basic, the numpy.random package is used to generate random data or arrays of data, generally numerical. There are several functions in the package that create simple random data and each one does so in different ways. Before I move on to the more complex probability distributions and functions of the package, I will first discuss the following modules in this section:\n",
    "\n",
    "- rand\n",
    "- randn\n",
    "- randint\n",
    "- choice\n",
    "- bytes\n",
    "\n",
    "Within many of these functions, where appropriate, I will make reference to some related but distinct functions that are available elsewhere in the package."
   ]
  },
  {
   "cell_type": "markdown",
   "metadata": {},
   "source": [
    "<br>\n",
    "\n",
    "### RAND \n",
    "\n",
    "The **rand** function generates a floating point number or array of floating point numbers from the half open interval \\[0, 1), meaning that it includes every number greater than or equal to 0 and less than 1. It only accepts integer arguments, either several numbers directly typed into the function or a variable containing a single integer. If a non-numerical value, floating point number or variable containing more than a single integer is passed, the function will return a TypeError. If no arguments are passed to the function, a single random number is returned but **rand** is capable of generating large arrays of randomly generated numbers when integer arguments are passed. There is no limit to the number of arguments that can be passed so these arrays can be hugely complex. "
   ]
  },
  {
   "cell_type": "code",
   "execution_count": 118,
   "metadata": {},
   "outputs": [
    {
     "name": "stdout",
     "output_type": "stream",
     "text": [
      "\u001b[1mGenerates a single random number:\u001b[0m\n",
      "0.6928920007237652\n",
      "\n",
      "\u001b[1mGenerates 2 arrays with 4 random numbers in each:\u001b[0m\n",
      "[[0.78739593 0.21692019 0.0126305  0.37668319]\n",
      " [0.8259805  0.59271626 0.50130614 0.29346846]]\n",
      "\n",
      "\u001b[1mGenerates 2 arrays with each containing 4 arrays and each of those containing 6 random numbers:\u001b[0m\n",
      "[[[0.14721238 0.70636065 0.55592836 0.72121444 0.86534535 0.7844803 ]\n",
      "  [0.5354949  0.31431531 0.07491628 0.4694542  0.23664634 0.68492887]\n",
      "  [0.77759705 0.6429328  0.42840531 0.86174913 0.18358667 0.20687193]\n",
      "  [0.57296173 0.60276424 0.72014947 0.49295314 0.70096202 0.92432827]]\n",
      "\n",
      " [[0.42006771 0.47110857 0.66080294 0.11514218 0.84667718 0.30175176]\n",
      "  [0.11767294 0.17251385 0.76101475 0.40795261 0.53713063 0.12869961]\n",
      "  [0.55843487 0.12881863 0.89036107 0.61425124 0.67211191 0.70481801]\n",
      "  [0.40806485 0.34288705 0.43964353 0.4500883  0.36937841 0.48736434]]]\n"
     ]
    }
   ],
   "source": [
    "# Passing no arguments to generate a single random number.\n",
    "print(bold.BOLD + \"Generates a single random number:\" + bold.END)\n",
    "print(np.random.rand())\n",
    "print()\n",
    "\n",
    "# Passing (x, y) arguments to return x arrays with y values in each.\n",
    "print(bold.BOLD + \"Generates 2 arrays with 4 random numbers in each:\" + bold.END)\n",
    "print(np.random.rand(2, 4))\n",
    "print()\n",
    "\n",
    "# Passing x * y * z to return x arrays containing y arrays that have z values.\n",
    "print(bold.BOLD + \"Generates 2 arrays with each containing 4 arrays and each of those containing 6 random numbers:\" +bold.END)\n",
    "print(np.random.rand(2, 4, 6))\n"
   ]
  },
  {
   "cell_type": "markdown",
   "metadata": {},
   "source": [
    "<br>\n",
    "\n",
    "#### Distribution\n",
    "\n",
    "The values of **rand** are generated from a continuous uniform distribution, meaning that every number in the \\[0, 1) range has an equal chance of being returned as any other. The plot below demonstrates this even distribution across 10,000 randomly generated numbers from the **rand** function."
   ]
  },
  {
   "cell_type": "code",
   "execution_count": 80,
   "metadata": {},
   "outputs": [
    {
     "data": {
      "image/png": "[encoded data removed]",
      "text/plain": [
       "<Figure size 432x288 with 1 Axes>"
      ]
     },
     "metadata": {
      "needs_background": "light"
     },
     "output_type": "display_data"
    }
   ],
   "source": [
    "# Demonstrating the uniform distribution of the rand function.\n",
    "x = np.random.rand(10000)\n",
    "plt.hist(x)\n",
    "plt.title(\"uniform distribution of the rand function\")\n",
    "plt.xlabel(\"values\")\n",
    "plt.ylabel(\"number of values\")\n",
    "plt.show()"
   ]
  },
  {
   "cell_type": "markdown",
   "metadata": {},
   "source": [
    "<br>\n",
    "\n",
    "#### Similar Functions in numpy.random"
   ]
  },
  {
   "cell_type": "markdown",
   "metadata": {},
   "source": [
    "##### random_sample\n",
    "\n",
    "There are several functions in the numpy.random package that are all variations of the same function which is related to **rand**:\n",
    "\n",
    "1. np.random.random\n",
    "2. np.random.ranf\n",
    "3. np.random.sample\n",
    "4. np.random.random_sample\n",
    "\n",
    "These functions can all be considered synonymous with each other and basically aliases for **random_sample**, kept in the package as they may be used by different communities.[<sup>7</sup>](https://stackoverflow.com/a/18829377) Below demonstrates how they all the perform the same function. "
   ]
  },
  {
   "cell_type": "code",
   "execution_count": 81,
   "metadata": {},
   "outputs": [
    {
     "name": "stdout",
     "output_type": "stream",
     "text": [
      "True\n",
      "True\n",
      "True\n"
     ]
    }
   ],
   "source": [
    "# Demonstrating how the below functions are all the same.\n",
    "print(np.random.random_sample == np.random.random)\n",
    "\n",
    "print(np.random.random_sample == np.random.ranf)\n",
    "\n",
    "print(np.random.random_sample == np.random.sample)"
   ]
  },
  {
   "cell_type": "markdown",
   "metadata": {},
   "source": [
    "**random_sample** is essentially the same as the **rand** function except for one very important distinction: while **rand** takes multiple integer arguments to build the shape of an array, **random_sample** only accepts one argument. To build a multi-dimensional array with **random_sample**, a tuple must be passed for it to function correctly.[<sup>8</sup>](https://stackoverflow.com/a/47232184)  This can be useful when there are variables containing tuples from which one wants to create an array of random numbers. **rand** will only accept a variable that contains a single integer and anything more cannot be passed to the function."
   ]
  },
  {
   "cell_type": "code",
   "execution_count": 82,
   "metadata": {},
   "outputs": [
    {
     "name": "stdout",
     "output_type": "stream",
     "text": [
      "\u001b[1m2 x 4 array from rand:\u001b[0m\n",
      "[[0.47217571 0.59304045 0.70299247 0.71448022]\n",
      " [0.6022835  0.72533828 0.87866425 0.99714992]]\n",
      "\n",
      "\u001b[1m2 x 4 array from random_sample:\u001b[0m\n",
      "[[0.26984692 0.38175025 0.3488484  0.56130413]\n",
      " [0.47462694 0.10829871 0.09842516 0.70277838]]\n",
      "\n",
      "\u001b[1m2 x 4 array from random_sample using a variable containing a tuple:\u001b[0m\n",
      "[[0.41093927 0.64179768 0.05716342 0.34741402]\n",
      " [0.4595992  0.00274406 0.12036527 0.99545776]]\n"
     ]
    }
   ],
   "source": [
    "# Demonstrating the difference between rand and random_sample.\n",
    "print(bold.BOLD + \"2 x 4 array from rand:\" + bold.END)\n",
    "print(np.random.rand(2, 4))\n",
    "print()\n",
    "\n",
    "# Passing a tuple\n",
    "print(bold.BOLD + \"2 x 4 array from random_sample:\" + bold.END)\n",
    "print(np.random.random_sample((2, 4)))\n",
    "print()\n",
    "\n",
    "# Passing a variable that contains a tuple\n",
    "t = (2, 4)\n",
    "print(bold.BOLD + \"2 x 4 array from random_sample using a variable containing a tuple:\" + bold.END)\n",
    "print(np.random.random_sample(t))\n"
   ]
  },
  {
   "cell_type": "markdown",
   "metadata": {},
   "source": [
    "\n",
    "##### uniform\n",
    "\n",
    "The \\[0, 1) range cannot be adjusted within the **rand** function, but there is a related function within **numpy.random** called **uniform**, which works in largely the same way as **rand** but allows a custom range to be passed. Again this is a half open interval, generating numbers greater than or equal to the low number and less than the high number. Below is an example of the function in operation and further illustration demonstrating the uniform probability distribution."
   ]
  },
  {
   "cell_type": "code",
   "execution_count": 83,
   "metadata": {},
   "outputs": [
    {
     "name": "stdout",
     "output_type": "stream",
     "text": [
      "\u001b[1mGenerates 2 arrays with 4 random numbers in each within the custom range [-5, 10):\u001b[0m\n",
      "[[ 8.34248229  1.11530763  6.23013107  4.29273516]\n",
      " [ 8.59688152  7.10883303  6.22904415 -1.33126973]]\n",
      "\n",
      "\u001b[1mGenerates 4 random numbers in the custom range [-5, 10):\u001b[0m\n",
      "[-1.89484597  2.37567188  5.48664348  0.86608831]\n",
      "\n"
     ]
    },
    {
     "data": {
      "image/png": "[encoded data removed]",
      "text/plain": [
       "<Figure size 432x288 with 1 Axes>"
      ]
     },
     "metadata": {
      "needs_background": "light"
     },
     "output_type": "display_data"
    }
   ],
   "source": [
    "# Passing low and high arguments with size of (x, y) arguments will return x arrays with y values in each.\n",
    "print(bold.BOLD + \"Generates 2 arrays with 4 random numbers in each within the custom range [-5, 10):\" + bold.END)\n",
    "print(np.random.uniform(low=-5, high=10, size =(2, 4)))\n",
    "print()\n",
    "\n",
    "# Demonstrating it is not necessary to have 'low=' or 'high=' to operate the function. \n",
    "# 'size=' is necessary if more than one array is required.\n",
    "print(bold.BOLD + \"Generates 4 random numbers in the custom range [-5, 10):\" + bold.END)\n",
    "print(np.random.uniform(-5, 10, 4))\n",
    "print()\n",
    "\n",
    "# Demonstrating the uniform distribution of the uniform function.\n",
    "x = np.random.uniform(-10, 10, 10000)\n",
    "plt.hist(x)\n",
    "plt.title(\"uniform distribution of uniform function\")\n",
    "plt.xlabel(\"values\")\n",
    "plt.ylabel(\"number of values\")\n",
    "plt.show()"
   ]
  },
  {
   "cell_type": "markdown",
   "metadata": {},
   "source": [
    "<br>\n",
    "\n",
    "### RANDN\n",
    "\n",
    "**randn** functions in the same way as **rand** when generating numbers. Without any arguments, it will produce a single randomly generated number and with arguments will produce increasingly complex arrays of numbers. "
   ]
  },
  {
   "cell_type": "code",
   "execution_count": 119,
   "metadata": {},
   "outputs": [
    {
     "name": "stdout",
     "output_type": "stream",
     "text": [
      "\u001b[1mGenerates a single random number:\u001b[0m\n",
      "0.9414352930914465\n",
      "\n",
      "\u001b[1mGenerates 2 arrays with 4 random numbers in each:\u001b[0m\n",
      "[[ 1.70892144  1.49350222 -0.07357802  0.16011199]\n",
      " [ 1.33091577 -0.75118465 -0.42524934 -0.08858666]]\n",
      "\n",
      "\u001b[1mGenerates 2 arrays with each containing 4 arrays and each of those containing 5 random numbers:\u001b[0m\n",
      "[[[ 1.58233662  1.70227207 -0.6326081   1.06513583  1.26741488]\n",
      "  [ 0.58645136  0.8170792  -0.44591361 -0.37846361  0.67001268]\n",
      "  [-1.61620271  0.21547717 -0.17613321  1.92526528 -0.26104219]\n",
      "  [-1.16330853 -1.87040229 -0.91992402 -0.20543545  0.05910953]]\n",
      "\n",
      " [[-0.67250856 -0.7939774   0.58294574 -0.27151121 -0.54718528]\n",
      "  [ 1.07880566  0.31330878  0.69780836  0.27518023 -0.67966122]\n",
      "  [ 0.02341392 -0.12216282 -0.95450629 -0.58379062 -0.78835362]\n",
      "  [ 0.85408974 -0.91929304 -0.06821486 -1.6432168   0.0393456 ]]]\n"
     ]
    }
   ],
   "source": [
    "# Passing no arguments to generate a single random number:\n",
    "print(bold.BOLD + \"Generates a single random number:\" + bold.END)\n",
    "print(np.random.randn())\n",
    "print()\n",
    "\n",
    "# Passing (x, y) arguments will return x arrays with y values in each\n",
    "print(bold.BOLD + \"Generates 2 arrays with 4 random numbers in each:\" + bold.END)\n",
    "print(np.random.randn(2, 4))\n",
    "print()\n",
    "\n",
    "# Passing x * y * z will return x arrays containing y arrays that have z values\n",
    "print(bold.BOLD + \"Generates 2 arrays with each containing 4 arrays and each of those containing 5 random numbers:\" + bold.END)\n",
    "print(np.random.randn(2, 4, 5))\n"
   ]
  },
  {
   "cell_type": "markdown",
   "metadata": {},
   "source": [
    "<br>\n",
    "\n",
    "#### Distribution\n",
    "\n",
    "What separates the **randn** function from **rand** is that numbers are generated from a continuous normal or Gaussian distribution rather than a uniform distribution. In this function the normal distribution has a mean of 0 and a variance of 1. This means that the majority of numbers generated centre around 0 and generally range between -1 and 1. The plot below helps to illustrate this; of the 10,000 numbers generated, the vast majority are within the -1 to 1 range and peak at the 0 mark. Looking again at the numbers generated above, it can be seen that they largely sit within the range (-1, 1)."
   ]
  },
  {
   "cell_type": "code",
   "execution_count": 85,
   "metadata": {},
   "outputs": [
    {
     "data": {
      "image/png": "[encoded data removed]",
      "text/plain": [
       "<Figure size 432x288 with 1 Axes>"
      ]
     },
     "metadata": {
      "needs_background": "light"
     },
     "output_type": "display_data"
    }
   ],
   "source": [
    "# Demonstrating the normal distribution of the randn function.\n",
    "x = np.random.randn(10000)\n",
    "plt.hist(x)\n",
    "plt.title(\"normal distribution of randn function\")\n",
    "plt.xlabel(\"values\")\n",
    "plt.ylabel(\"number of values\")\n",
    "plt.show()"
   ]
  },
  {
   "cell_type": "markdown",
   "metadata": {},
   "source": [
    "<br>\n",
    "\n",
    "#### Similar Functions in numpy.random"
   ]
  },
  {
   "cell_type": "markdown",
   "metadata": {},
   "source": [
    "##### standard_normal\n",
    "\n",
    "Like **rand** and **random_sample**, **randn** has the same relationship with another numpy.random function called **standard_normal**, which only takes a single argument but can accept tuples.  "
   ]
  },
  {
   "cell_type": "code",
   "execution_count": 86,
   "metadata": {},
   "outputs": [
    {
     "name": "stdout",
     "output_type": "stream",
     "text": [
      "\u001b[1m2 x 4 array from randn:\u001b[0m\n",
      "[[-0.66074579  0.33652661 -0.42727246 -1.68850445]\n",
      " [ 1.37052902  0.2142954  -2.30522459  0.87957662]]\n",
      "\n",
      "\u001b[1m2 x 4 array from standard_normal:\u001b[0m\n",
      "[[-1.29235719 -0.88853239  0.16259627  0.43061523]\n",
      " [-1.19186076  0.58219058 -0.46843881 -0.46438299]]\n",
      "\n",
      "\u001b[1m2 x 4 array from standard_normal using a variable containing a tuple:\u001b[0m\n",
      "[[-0.12432291 -0.88234526  1.75095168 -0.13679645]\n",
      " [ 0.98574601  0.88787468 -0.98719999 -0.05524587]]\n"
     ]
    }
   ],
   "source": [
    "# Demonstrating the difference between randn and standard_normal.\n",
    "print(bold.BOLD + \"2 x 4 array from randn:\" + bold.END)\n",
    "print(np.random.randn(2, 4))\n",
    "print()\n",
    "\n",
    "# Passing a tuple\n",
    "print(bold.BOLD + \"2 x 4 array from standard_normal:\" + bold.END)\n",
    "print(np.random.standard_normal((2, 4)))\n",
    "print()\n",
    "\n",
    "# Passing a variable that contains a tuple\n",
    "t = (2, 4)\n",
    "print(bold.BOLD + \"2 x 4 array from standard_normal using a variable containing a tuple:\" + bold.END)\n",
    "print(np.random.standard_normal(t))\n"
   ]
  },
  {
   "cell_type": "markdown",
   "metadata": {},
   "source": [
    "\n",
    "##### normal\n",
    "\n",
    "Again similar to **rand**'s range, the mean (0) and standard deviation (1) cannot be altered within the **randn** function but there is another function in the numpy.random package that returns random numbers from a customised normal distribution range. The **normal** function takes a *loc* argument to determine the mean, a *scale* argument for the standard deviation, and a *size* argument for the output shape. In the code below, *loc* is set to 5 and *scale* is set to 3 so the output should largely be in the range 2-8 (since 5 - 3 = 2 and 5 + 3 = 8) and centre around the mean of 5.      "
   ]
  },
  {
   "cell_type": "code",
   "execution_count": 120,
   "metadata": {},
   "outputs": [
    {
     "name": "stdout",
     "output_type": "stream",
     "text": [
      "\u001b[1mGenerates 2 arrays with 4 random numbers from the custom normal distribution:\u001b[0m\n",
      "[[ 5.12977806 11.4797368  -5.11896518  2.9034501 ]\n",
      " [ 6.14816518  7.48897474  1.89397854  1.35732018]]\n",
      "\n",
      "\u001b[1mGenerates 4 random numbers from the custom normal distribution:\u001b[0m\n",
      "[5.22223159 5.35240736 7.95182198 8.16620942]\n",
      "\n"
     ]
    },
    {
     "data": {
      "image/png": "[encoded data removed]",
      "text/plain": [
       "<Figure size 432x288 with 1 Axes>"
      ]
     },
     "metadata": {
      "needs_background": "light"
     },
     "output_type": "display_data"
    }
   ],
   "source": [
    "# Passing loc and scale arguments with size of (x, y) arguments will return x arrays with y values in each.\n",
    "print(bold.BOLD + \"Generates 2 arrays with 4 random numbers from the custom normal distribution:\" + bold.END)\n",
    "print(np.random.normal(loc=5, scale=3, size =(2, 4)))\n",
    "print()\n",
    "\n",
    "# Demonstrating it is not necessary to have 'loc=' or 'scale=' to operate the function. \n",
    "# 'size=' is necessary if more than one array is required.\n",
    "print(bold.BOLD + \"Generates 4 random numbers from the custom normal distribution:\" + bold.END)\n",
    "print(np.random.normal(5, 3, 4))\n",
    "print()\n",
    "\n",
    "# Demonstrating the normal distribution of the normal function.\n",
    "x = np.random.normal(5, 3, 10000)\n",
    "plt.hist(x)\n",
    "plt.title(\"normal distribution of normal function\")\n",
    "plt.xlabel(\"values\")\n",
    "plt.ylabel(\"number of values\")\n",
    "plt.show()"
   ]
  },
  {
   "cell_type": "markdown",
   "metadata": {},
   "source": [
    "<br>\n",
    "\n",
    "### RANDINT\n",
    "\n",
    "The functions explored so far all return random floating point numbers. If randomly generated integers are required, there is the **randint** function which returns random integers of a given range. The function  requires at least one argument to operate. If a single argument is provided, the function will return a number from the range 0 up to but not including the number passed, making it a half open interval. If a float rather than integer is passed, it will round down to the nearest integer. "
   ]
  },
  {
   "cell_type": "code",
   "execution_count": 130,
   "metadata": {
    "scrolled": true
   },
   "outputs": [
    {
     "name": "stdout",
     "output_type": "stream",
     "text": [
      "0\n",
      "2\n"
     ]
    }
   ],
   "source": [
    "# Returns single random integer between 0-9 inclusive.\n",
    "print(np.random.randint(10))\n",
    "\n",
    "# Returns single random integer between 0-4 inclusive.\n",
    "print(np.random.randint(5.925))"
   ]
  },
  {
   "cell_type": "markdown",
   "metadata": {},
   "source": [
    "<br>\n",
    "\n",
    "If two arguments are provided to **randint**, the first will be considered the lowest included number in the range and the second represents the number one above the highest possible number in the range. \n",
    "\n",
    "**randint** can also take an argument that dictates the shape of the output, either a single value for an array of that many numbers or a tuple for multi-dimensional arrays."
   ]
  },
  {
   "cell_type": "code",
   "execution_count": 89,
   "metadata": {},
   "outputs": [
    {
     "name": "stdout",
     "output_type": "stream",
     "text": [
      "\u001b[1mGenerates 1 random number between 5-10 inclusive:\u001b[0m\n",
      "5\n",
      "\n",
      "\u001b[1mGenerates 3 random numbers between 5-10 inclusive:\u001b[0m\n",
      "[8 6 6]\n",
      "\n",
      "\u001b[1mGenerates 2 arrays of 4 random numbers in each between 5-10 inclusive:\u001b[0m\n",
      "[[ 6  7  8  8]\n",
      " [10  7  8  5]]\n"
     ]
    }
   ],
   "source": [
    "# Returns single random integer between 5-10 inclusive.\n",
    "print(bold.BOLD + \"Generates 1 random number between 5-10 inclusive:\" + bold.END)\n",
    "print(np.random.randint(5, 11))\n",
    "print()\n",
    "\n",
    "print(bold.BOLD + \"Generates 3 random numbers between 5-10 inclusive:\" + bold.END)\n",
    "print(np.random.randint(5, 11, 3))\n",
    "print()\n",
    "\n",
    "print(bold.BOLD + \"Generates 2 arrays of 4 random numbers in each between 5-10 inclusive:\" + bold.END)\n",
    "print(np.random.randint(5, 11, size=(2, 4)))"
   ]
  },
  {
   "cell_type": "markdown",
   "metadata": {},
   "source": [
    "<br>\n",
    "\n",
    "There is a relatively new parameter in the **randint** function, which allows the output datatype to be specified. Different types of integer will be take up different amounts of storage space [<sup>9</sup>](https://stackoverflow.com/a/9696777) and so this parameter is useful if dealing with extremely large amounts of data. Each piece of code below generates the number 5 and the output demonstrates the number of bytes it takes to store each number 5, depending on the datatype argument.[<sup>10</sup>](https://stackoverflow.com/a/14329864)  As would be expected, the *int64* type takes up more space than the *int8* type."
   ]
  },
  {
   "cell_type": "code",
   "execution_count": 124,
   "metadata": {},
   "outputs": [
    {
     "name": "stdout",
     "output_type": "stream",
     "text": [
      "\u001b[1mint8:\u001b[0m\n",
      "25\n",
      "\n",
      "\u001b[1mint16:\u001b[0m\n",
      "26\n",
      "\n",
      "\u001b[1mint32:\u001b[0m\n",
      "28\n",
      "\n",
      "\u001b[1mint64:\u001b[0m\n",
      "32\n"
     ]
    }
   ],
   "source": [
    "w = np.random.randint(5, 6, dtype='int8')\n",
    "print(bold.BOLD + \"int8:\" + bold.END)\n",
    "print(sys.getsizeof(w))\n",
    "print()\n",
    "\n",
    "x = np.random.randint(5, 6, dtype='int16')\n",
    "print(bold.BOLD + \"int16:\" + bold.END)\n",
    "print(sys.getsizeof(x))\n",
    "print()\n",
    "\n",
    "y = np.random.randint(5, 6, dtype='int32')\n",
    "print(bold.BOLD + \"int32:\" + bold.END)\n",
    "print(sys.getsizeof(y))\n",
    "print()\n",
    "\n",
    "z = np.random.randint(5, 6, dtype='int64')\n",
    "print(bold.BOLD + \"int64:\" + bold.END)\n",
    "print(sys.getsizeof(z))"
   ]
  },
  {
   "cell_type": "markdown",
   "metadata": {},
   "source": [
    "<br>\n",
    "\n",
    "#### Distribution\n",
    "\n",
    "**randint** generates random integers from a discrete uniform distribution, meaning that there is a finite amount of values that can be generated but each one has an equal chance of being returned. Below, every integer on the range 0-1000 inclusive has an equal chance of being called across 10,000 numbers."
   ]
  },
  {
   "cell_type": "code",
   "execution_count": 91,
   "metadata": {},
   "outputs": [
    {
     "data": {
      "image/png": "[encoded data removed]",
      "text/plain": [
       "<Figure size 432x288 with 1 Axes>"
      ]
     },
     "metadata": {
      "needs_background": "light"
     },
     "output_type": "display_data"
    }
   ],
   "source": [
    "# Demonstrating the uniform distribution of the randint function.\n",
    "x = np.random.randint(0, 1001, 10000)\n",
    "plt.hist(x)\n",
    "plt.title(\"unifrom distribution of the randint function\")\n",
    "plt.xlabel(\"values\")\n",
    "plt.ylabel(\"number of values\")\n",
    "plt.show()"
   ]
  },
  {
   "cell_type": "markdown",
   "metadata": {},
   "source": [
    "<br>\n",
    "\n",
    "#### Similar Function in numpy.random\n",
    "\n",
    "There's another function listed in the numpy.random package called **random_integer** but this has been deprecated according to the documentation[<sup>11</sup>](https://docs.scipy.org/doc/numpy-1.16.0/reference/generated/numpy.random.random_integers.html#numpy.random.random_integers) with the recommendation that **randint** be used instead."
   ]
  },
  {
   "cell_type": "markdown",
   "metadata": {},
   "source": [
    "<br>\n",
    "\n",
    "#### Practical Example\n",
    "\n",
    "Below is an example **randint** being used to simulate the answers provided by a Magic 8 Ball. Each answer is assigned to an integer and when an integer is randomly generated from the **randint** function, the appropriate reply is returned.<sup>12</sup> "
   ]
  },
  {
   "cell_type": "code",
   "execution_count": 127,
   "metadata": {},
   "outputs": [
    {
     "name": "stdout",
     "output_type": "stream",
     "text": [
      "Will I be late for work in the morning?\n",
      "Doubtful\n"
     ]
    }
   ],
   "source": [
    "# Magic 8 Ball simulation\n",
    "\n",
    "# Defining the answers.\n",
    "def Answer(number):\n",
    "    if number == 1: \n",
    "        return \"Yes.\"\n",
    "    elif number == 2:\n",
    "        return \"Most likely.\"\n",
    "    elif number == 3:\n",
    "        return \"All signs point to yes.\"\n",
    "    elif number == 4:\n",
    "        return \"Ask again later.\"\n",
    "    elif number == 5:\n",
    "        return \"Possibly.\"\n",
    "    elif number == 6:\n",
    "        return \"Outlook not so good.\"\n",
    "    elif number == 7:\n",
    "        return \"Doubtful\"\n",
    "    elif number == 8:\n",
    "        return \"No.\"\n",
    "    \n",
    "# Testing out the Magic 8 Ball.    \n",
    "print(\"Will I be late for work in the morning?\")\n",
    "print(Answer(np.random.randint(1, 9)))"
   ]
  },
  {
   "cell_type": "markdown",
   "metadata": {},
   "source": [
    "<br>\n",
    "\n",
    "### CHOICE\n",
    "\n",
    "**choice** is similar to **randint** in that it can generate random integers in a particular array shape. However, **choice** can accept ndarrays, tuples and lists as input, meaning that it has the potential to randomise non-numerical data, such as strings. With **choice** the user can specify the number of values to be randomly generated from a given variable. \n",
    "\n",
    "Again like **randint**, the function does not work when no arguments are passed. With a single integer argument, **choice** will return a single random integer from 0 up to but not including the number entered, just as **randint** does. Unlike **randint**, which will round down a float argument to the nearest integer, **choice** does not accept floating point numbers as direct arguments - however, they can be accepted if part of an array, tuple or list from which values are drawn. "
   ]
  },
  {
   "cell_type": "code",
   "execution_count": 137,
   "metadata": {},
   "outputs": [
    {
     "name": "stdout",
     "output_type": "stream",
     "text": [
      "\u001b[1mGenerates 1 random number between 0-9 inclusive:\u001b[0m\n",
      "2\n",
      "\n",
      "\u001b[1mGenerates 3 random numbers from an array:\u001b[0m\n",
      "[0 5 2]\n",
      "\n",
      "\u001b[1mGenerates 3 random numbers from a tuple:\u001b[0m\n",
      "[10.2  15.47  7.63]\n",
      "\n",
      "\u001b[1mGenerates 3 random names from a list:\u001b[0m\n",
      "['Helen' 'John' 'Helen']\n"
     ]
    }
   ],
   "source": [
    "# Returns single random integer\n",
    "print(bold.BOLD + \"Generates 1 random number between 0-9 inclusive:\" + bold.END)\n",
    "print(np.random.choice(10))\n",
    "print()\n",
    "\n",
    "# Returns random numbers from an array:\n",
    "arr = np.arange(10)\n",
    "print(bold.BOLD + \"Generates 3 random numbers from an array:\" + bold.END)\n",
    "print(np.random.choice(arr, size=3))\n",
    "print()\n",
    "\n",
    "# Returns random numbers from a tuple\n",
    "tup = (4.9, 6.7, 7.63, 10.2, 15.47)\n",
    "print(bold.BOLD + \"Generates 3 random numbers from a tuple:\" + bold.END)\n",
    "print(np.random.choice(tup, size=3))\n",
    "print()\n",
    "\n",
    "# Returns random non-numerical values from a list\n",
    "lst = [\"Mary\", \"John\", \"Helen\", \"Tony\"]\n",
    "print(bold.BOLD + \"Generates 3 random names from a list:\" + bold.END)\n",
    "print(np.random.choice(lst, size=3))"
   ]
  },
  {
   "cell_type": "markdown",
   "metadata": {},
   "source": [
    "<br>\n",
    "\n",
    "The previously discussed functions can potentially repeat numbers from a range in the output array, and **choice** also does this by default. However, **choice** has a parameter called *replace*, a true/false boolean that is set to True by default but, if set to False by the user, will generate an output of unique values. In this case, once a value has been randomly generated, it is removed from the pool of available values and cannot be generated again. However, if the total number of values to choose from is smaller than the output shape specified (*size*) and *replace* is set to False, a *ValueError* will occur because there are not enough elements to fulfill the desired output without repeating any of them."
   ]
  },
  {
   "cell_type": "code",
   "execution_count": 94,
   "metadata": {},
   "outputs": [
    {
     "name": "stdout",
     "output_type": "stream",
     "text": [
      "\u001b[1mGenerates 3 random names from a list with no duplicates:\u001b[0m\n",
      "['Mary' 'Helen' 'John']\n"
     ]
    }
   ],
   "source": [
    "# Returns random values from a list with no duplicates:\n",
    "print(bold.BOLD + \"Generates 3 random names from a list with no duplicates:\" + bold.END)\n",
    "print(np.random.choice(lst, size=3, replace=False))\n"
   ]
  },
  {
   "cell_type": "markdown",
   "metadata": {},
   "source": [
    "<br>\n",
    "\n",
    "#### Distribution\n",
    "\n",
    "By default, **choice** randomly picks values from a discrete uniform distribution but has an optional parameter, *p*, which allows the user to adjust the probability of each individual value appearing in the output. The number of values passed to *p* must be equal to the amount of elements available in the input and these *p* values must sum up to 1, to account for a total 100% probability. \n",
    "\n",
    "To illustrate this, the code below generates 1000 numbers from the range (0, 11]. As required, there is a *p* value for every element in this range. Most of the numbers have been given 0% probability of being returned but numbers 1, 5 and 10 have a 60%, 10%, and 30% chance of appearing in the output respectively. The plot shows that, of the 1000 numbers generated, approximately 600 were ones, 100 were fives and 300 were tens."
   ]
  },
  {
   "cell_type": "code",
   "execution_count": 95,
   "metadata": {},
   "outputs": [
    {
     "data": {
      "image/png": "[encoded data removed]",
      "text/plain": [
       "<Figure size 432x288 with 1 Axes>"
      ]
     },
     "metadata": {
      "needs_background": "light"
     },
     "output_type": "display_data"
    }
   ],
   "source": [
    "# Customising the probability of each input element and plotting the output.\n",
    "x = np.random.choice((np.arange(11)), p = (0, 0.6, 0, 0, 0, 0.1, 0, 0, 0, 0, 0.3), size = 1000)\n",
    "plt.hist(x)\n",
    "plt.title(\"custom probabilities\")\n",
    "plt.xlabel(\"values\")\n",
    "plt.ylabel(\"number of values\")\n",
    "plt.show()"
   ]
  },
  {
   "cell_type": "markdown",
   "metadata": {},
   "source": [
    "<br>\n",
    "\n",
    "#### Practical Example\n",
    "\n",
    "Below is an example of **choice** being used to simulate the drawing of hands from a deck of cards. A list containing the 52 cards of a deck is created[<sup>13</sup>](http://www.spronck.net/pythonbook/pythonbook.pdf) and **choice** allows the user to draw 4 hands of five cards each with no duplications. "
   ]
  },
  {
   "cell_type": "code",
   "execution_count": 96,
   "metadata": {},
   "outputs": [
    {
     "data": {
      "text/plain": [
       "array([['Ace of Hearts', '4 of Hearts', '8 of Clubs', '10 of Clubs',\n",
       "        '7 of Clubs'],\n",
       "       ['8 of Spades', '6 of Diamonds', '3 of Clubs', 'Jack of Spades',\n",
       "        '7 of Hearts'],\n",
       "       ['2 of Hearts', '5 of Hearts', '10 of Diamonds', 'Ace of Clubs',\n",
       "        '9 of Clubs'],\n",
       "       ['King of Spades', 'Jack of Diamonds', '10 of Spades',\n",
       "        '7 of Spades', '5 of Spades']], dtype='<U17')"
      ]
     },
     "execution_count": 96,
     "metadata": {},
     "output_type": "execute_result"
    }
   ],
   "source": [
    "# Creating a deck of cards.\n",
    "cards = []\n",
    "values = [\"2\", \"3\", \"4\", \"5\", \"6\", \"7\", \"8\", \"9\", \"10\", \"Jack\", \"Queen\", \"King\", \"Ace\"]\n",
    "suits = [\"Hearts\", \"Diamonds\", \"Spades\", \"Clubs\"]\n",
    "\n",
    "for value in values:\n",
    "    for suit in suits:\n",
    "        cards.append(f\"{value} of {suit}\")\n",
    "\n",
    "    \n",
    "# Deals 4 hands with 5 cards in each and no duplicates.\n",
    "hands = np.random.choice(cards, size=(4,5), replace=False)  \n",
    "hands"
   ]
  },
  {
   "cell_type": "markdown",
   "metadata": {},
   "source": [
    "<br>\n",
    "\n",
    "### BYTES\n",
    "\n",
    "The final function from the *Simple Random Data* section of the **numpy.random** package that I will discuss simply takes a single integer argument and generates a random sample of bytes of that length. **bytes** is an excellent function for efficiently generating a huge amounts of random data,[<sup>14</sup>](stefanocappellini.it/generate-pseudorandom-bytes-with-python/) which is useful for testing code. The below code generates 30 random bytes. "
   ]
  },
  {
   "cell_type": "code",
   "execution_count": 138,
   "metadata": {},
   "outputs": [
    {
     "data": {
      "text/plain": [
       "b'|\\xd4\\xa3\\xc5\\x1e.\\xd7eM\\xf45\\xb1/\\xfe\\x984\\xb9\\x96\\xe8L\\r\\xbf&\\xa7h\\x1bY$\\xae;'"
      ]
     },
     "execution_count": 138,
     "metadata": {},
     "output_type": "execute_result"
    }
   ],
   "source": [
    "# Random byte generation\n",
    "np.random.bytes(30)"
   ]
  },
  {
   "cell_type": "markdown",
   "metadata": {},
   "source": [
    "<br>\n",
    "\n",
    "_________________________________________________________________________________________________________\n",
    "\n",
    "## Permutations\n",
    "\n",
    "There are two separate but related functions in the numpy.random package that randomly rearrange the order of existing data or create a shuffled range of numbers:\n",
    "\n",
    "- shuffle\n",
    "- permutation\n",
    "\n",
    "Below I examine these similar but distinct functions."
   ]
  },
  {
   "cell_type": "markdown",
   "metadata": {},
   "source": [
    "### SHUFFLE\n",
    "\n",
    "As the name suggests, **shuffle** shuffles the contents of a given list or array in place. This means that, unlike previous functions that can return the output when called, **shuffle** alters a variable and its effect can't be observed until the variable itself is called. The function takes one argument only, the list or array to be shuffled. It does not accept tuples as they are immutable and thus cannot be modified by shuffling the contents."
   ]
  },
  {
   "cell_type": "code",
   "execution_count": 98,
   "metadata": {},
   "outputs": [
    {
     "name": "stdout",
     "output_type": "stream",
     "text": [
      "\u001b[1mOutput from attempting to print shuffle command:\u001b[0m\n",
      "None\n",
      "\n",
      "\u001b[1mOriginal array:\u001b[0m\n",
      "[1 2 3 4 5 6]\n",
      "\n",
      "\u001b[1mShuffled array:\u001b[0m\n",
      "[3 1 2 6 5 4]\n",
      "\n",
      "\u001b[1mOriginal deck order:\u001b[0m\n",
      "['2 of Hearts', '2 of Diamonds', '2 of Spades', '2 of Clubs', '3 of Hearts', '3 of Diamonds', '3 of Spades', '3 of Clubs', '4 of Hearts', '4 of Diamonds', '4 of Spades', '4 of Clubs', '5 of Hearts', '5 of Diamonds', '5 of Spades']\n",
      "\n",
      "\u001b[1mShuffled deck order:\u001b[0m\n",
      "['4 of Hearts', '5 of Clubs', '2 of Spades', 'Ace of Hearts', 'Queen of Clubs', 'Jack of Spades', '10 of Hearts', '9 of Clubs', '2 of Hearts', '6 of Hearts', '6 of Spades', '3 of Hearts', 'Ace of Clubs', 'King of Hearts', '7 of Clubs']\n"
     ]
    }
   ],
   "source": [
    "# Demonstrating how shuffle operates in place.\n",
    "print(bold.BOLD + \"Output from attempting to print shuffle command:\" + bold.END)\n",
    "print(np.random.shuffle([1, 2, 3]))\n",
    "print()\n",
    "\n",
    "# Shuffling a 1D array of numbers.\n",
    "x = np.array([1, 2, 3, 4, 5, 6])\n",
    "print(bold.BOLD + \"Original array:\" + bold.END)\n",
    "print(x)\n",
    "print()\n",
    "\n",
    "np.random.shuffle(x)\n",
    "print(bold.BOLD + \"Shuffled array:\" + bold.END)\n",
    "print(x)\n",
    "print()\n",
    "\n",
    "# Shuffling a list using the deck of cards created earlier. Note original list is in numerical order.\n",
    "print(bold.BOLD + \"Original deck order:\" + bold.END)\n",
    "print(cards[:15])\n",
    "print()\n",
    "\n",
    "np.random.shuffle(cards)\n",
    "print(bold.BOLD + \"Shuffled deck order:\" + bold.END)\n",
    "print(cards[:15])"
   ]
  },
  {
   "cell_type": "markdown",
   "metadata": {},
   "source": [
    "<br>\n",
    "\n",
    "If a multidimensional array is passed, only the outermost arrays will be shuffled. The order of inner arrays and individual elements are not affected by **shuffle**. The 3D array below consists of 3 arrays, each containing 2 arrays of 3 elements each. When this array is passed through the **shuffle** function, only the first 3 arrays are rearranged.   "
   ]
  },
  {
   "cell_type": "code",
   "execution_count": 99,
   "metadata": {},
   "outputs": [
    {
     "data": {
      "text/plain": [
       "array([[[ 1,  2,  3],\n",
       "        [ 4,  5,  6]],\n",
       "\n",
       "       [[13, 14, 15],\n",
       "        [16, 17, 18]],\n",
       "\n",
       "       [[ 7,  8,  9],\n",
       "        [10, 11, 12]]])"
      ]
     },
     "execution_count": 99,
     "metadata": {},
     "output_type": "execute_result"
    }
   ],
   "source": [
    "# shuffling a 3D numpy array\n",
    "x = np.array([[[1, 2, 3],[4, 5, 6]], [[7, 8, 9], [10, 11, 12]], [[13, 14, 15], [16, 17, 18]]])\n",
    "np.random.shuffle(x)\n",
    "x"
   ]
  },
  {
   "cell_type": "markdown",
   "metadata": {},
   "source": [
    "To shuffle the innermost elements of a multi-dimensional array, you can first change it to a 1D array, perform shuffle and then return the array to its original shape.[<sup>15</sup>](https://www.science-emergence.com/Articles/How-to-randomly-shuffle-an-array-in-python-using-numpy/) "
   ]
  },
  {
   "cell_type": "code",
   "execution_count": 139,
   "metadata": {},
   "outputs": [
    {
     "name": "stdout",
     "output_type": "stream",
     "text": [
      "\u001b[1mOriginal 3D array:\u001b[0m\n",
      "[[[ 1  2  3]\n",
      "  [ 4  5  6]]\n",
      "\n",
      " [[ 7  8  9]\n",
      "  [10 11 12]]]\n",
      "\n",
      "\u001b[1m3D array changed to 1D array:\u001b[0m\n",
      "[ 1  2  3  4  5  6  7  8  9 10 11 12]\n",
      "\n",
      "\u001b[1mShuffled 1D array:\u001b[0m\n",
      "[ 6  4  8  1  2  5  9 12  3 11 10  7]\n",
      "\n",
      "\u001b[1mShuffled 1D array changed back to 3D array:\u001b[0m\n",
      "[[[ 6  4  8]\n",
      "  [ 1  2  5]]\n",
      "\n",
      " [[ 9 12  3]\n",
      "  [11 10  7]]]\n"
     ]
    }
   ],
   "source": [
    "# Create 3D array\n",
    "x = np.array([[[1, 2, 3],[4, 5, 6]], [[7, 8, 9], [10, 11, 12]]])\n",
    "print(bold.BOLD + \"Original 3D array:\" + bold.END)\n",
    "print(x)\n",
    "print()\n",
    "\n",
    "# Transform into 1D array \n",
    "x = x.ravel()\n",
    "print(bold.BOLD + \"3D array changed to 1D array:\" + bold.END)\n",
    "print(x)\n",
    "print()\n",
    "\n",
    "# Shuffle the array\n",
    "np.random.shuffle(x)\n",
    "print(bold.BOLD + \"Shuffled 1D array:\" + bold.END)\n",
    "print(x)\n",
    "print()\n",
    "\n",
    "# Transform back to 3D array\n",
    "x = x.reshape(2, 2, 3)\n",
    "print(bold.BOLD + \"Shuffled 1D array changed back to 3D array:\" + bold.END)\n",
    "print(x)"
   ]
  },
  {
   "cell_type": "markdown",
   "metadata": {},
   "source": [
    "<br>\n",
    "\n",
    "### PERMUTATION\n",
    "\n",
    "Like the **shuffle** function, **permutation** will rearrange the contents of an array, list or tuple but, rather than affecting the input in place, returns a copy of the variable with the contents shuffled. [<sup>16</sup>](https://stackoverflow.com/a/15474335)  The original order is not affected as illustrated in the code below."
   ]
  },
  {
   "cell_type": "code",
   "execution_count": 101,
   "metadata": {},
   "outputs": [
    {
     "name": "stdout",
     "output_type": "stream",
     "text": [
      "\u001b[1mVariable x:\u001b[0m\n",
      "(1, 2, 3, 4, 5, 6)\n",
      "\n",
      "\u001b[1mPermuted instance of x:\u001b[0m\n",
      "[5 6 3 4 1 2]\n",
      "\n",
      "\u001b[1mUnaffected original x:\u001b[0m\n",
      "(1, 2, 3, 4, 5, 6)\n"
     ]
    }
   ],
   "source": [
    "# Demonstrating that permutation does not affect original variable\n",
    "x = (1, 2, 3, 4, 5, 6)\n",
    "print(bold.BOLD + \"Variable x:\" + bold.END)\n",
    "print(x)\n",
    "print()\n",
    "print(bold.BOLD + \"Permuted instance of x:\" + bold.END)\n",
    "print(np.random.permutation(x))\n",
    "print()\n",
    "print(bold.BOLD + \"Unaffected original x:\" + bold.END)\n",
    "print(x)"
   ]
  },
  {
   "cell_type": "markdown",
   "metadata": {},
   "source": [
    "<br>\n",
    "\n",
    "Another feature that differentiates **permutation** from **shuffle** is that **permutation** can accept a single integer argument and will return a shuffled version of a range from 0 up to but not including the integer passed. "
   ]
  },
  {
   "cell_type": "code",
   "execution_count": 142,
   "metadata": {},
   "outputs": [
    {
     "data": {
      "text/plain": [
       "array([9, 1, 0, 3, 5, 4, 6, 2, 7, 8])"
      ]
     },
     "execution_count": 142,
     "metadata": {},
     "output_type": "execute_result"
    }
   ],
   "source": [
    "# Returning a sequence of numbers in half open interval [0,10)\n",
    "np.random.permutation(10)"
   ]
  },
  {
   "cell_type": "markdown",
   "metadata": {},
   "source": [
    "This output cannot be returned as a multidimensional array by the **permutation** function itself but this can be achieved by adding the **reshape** function as shown below. "
   ]
  },
  {
   "cell_type": "code",
   "execution_count": 102,
   "metadata": {},
   "outputs": [
    {
     "data": {
      "text/plain": [
       "array([[6, 2, 9, 3, 8],\n",
       "       [0, 4, 7, 5, 1]])"
      ]
     },
     "execution_count": 102,
     "metadata": {},
     "output_type": "execute_result"
    }
   ],
   "source": [
    "# Returning shuffled 2D array of numbers from 0-9 inclusive\n",
    "np.random.permutation(10).reshape(2, 5)"
   ]
  },
  {
   "cell_type": "markdown",
   "metadata": {},
   "source": [
    "<br>\n",
    "\n",
    "Multidimensional arrays are treated in a similar way to **shuffle** in that arrays are only shuffled along the first axis in the returned output."
   ]
  },
  {
   "cell_type": "code",
   "execution_count": 103,
   "metadata": {},
   "outputs": [
    {
     "data": {
      "text/plain": [
       "array([[[13, 14, 15],\n",
       "        [16, 17, 18]],\n",
       "\n",
       "       [[ 7,  8,  9],\n",
       "        [10, 11, 12]],\n",
       "\n",
       "       [[ 1,  2,  3],\n",
       "        [ 4,  5,  6]]])"
      ]
     },
     "execution_count": 103,
     "metadata": {},
     "output_type": "execute_result"
    }
   ],
   "source": [
    "x = np.array([[[1, 2, 3],[4, 5, 6]], [[7, 8, 9], [10, 11, 12]], [[13, 14, 15], [16, 17, 18]]])\n",
    "np.random.permutation(x)"
   ]
  },
  {
   "cell_type": "markdown",
   "metadata": {},
   "source": [
    "<br>\n",
    "\n",
    "_________________________________________________________________________________________\n",
    "\n",
    "## Probability Distributions\n",
    "\n",
    "In previous sections, the numbers generated have been drawn from either uniform or normal distributions by default but **numpy.random** offers 35 different probability distribution functions. I have previously discussed the continuous distributions of **uniform** and **normal** as they related to the **rand** and **randn** functions respectively so in this section I will look at the following distribution functions, most of which are discrete: \n",
    "\n",
    "- Binomial\n",
    "- Multinomial\n",
    "- Poisson\n",
    "- Exponential\n",
    "- Geometric\n",
    "\n",
    "There are similarities between these functions but they are certainly quite distinct from one another. I have used practical examples to illustrate each one. Of note, all of these functions have the parameter *size* which allows them to create multi-dimensional arrays of random numbers. When illustrating the functions below, I have only generated single arrays of numbers but it is possible to generate very complex multidimensional arrays from each of these different probability distributions."
   ]
  },
  {
   "cell_type": "markdown",
   "metadata": {},
   "source": [
    "### BINOMIAL\n",
    "\n",
    "The **binomial** function is a based on the Bernoulli distribution, a discrete binary distribution that operates with just two mutually exclusive outcomes such as yes/no, on/off, heads/tails.[<sup>17</sup>](https://onlinelibrary.wiley.com/doi/pdf/10.1002/9781119197096.app03) The function takes three arguments:\n",
    "\n",
    "- *n:* the number of independent trials, e.g. the number of times a coin is flipped.\n",
    "- *p:* probability of an outcome of each trial, e.g. the probability of flipping a coin and getting heads would be 50/50.\n",
    "- *size:* the output shape which is the number of times a series of trials is carried out, e.g. carrying out a 10 coin flips 100 times.\n",
    "\n",
    "Taking a fair coin toss as an illustrative example, the code below demonstrates the binomial distribution of the number of times heads is achieved every 10 flips across 1000 experiments. [<sup>18</sup>](https://cmdlinetips.com/2018/12/simulating-coin-toss-experiment-with-binomial-random-numbers-using-numpy/) The histogram reflects the 50% probability of heads winning on a coin flip. The plot peaks at approximately 5 heads winning every 10 flips, while 0-2 heads and 8-10 heads are a lot less likely to happen.The shape of the plot can look very similar to a normal distribution, but that is only because of the large sample size. The key difference between normal and binomial distributions is that normal is continuous while binomial is discrete. [<sup>19</sup>](http://staweb.sta.cathedral.org/departments/math/mhansen/public_html/23stat/handouts/normbino.htm) There are no values in between the values of a binomial distribution, i.e. a coin lands on heads either 2 or 3 times, there is no option between these values.\n",
    "\n",
    "From this distribution, the **binomial** function generates 1000 random numbers, which can range from 0 (no heads in 10 flips) to 10 (all coins flipped are heads). The mean should be approximately 5 but, since this is a discrete distribution, both the median and mode should be exactly 5 to reflect the 50% probability that the coin will land on heads."
   ]
  },
  {
   "cell_type": "code",
   "execution_count": 143,
   "metadata": {},
   "outputs": [
    {
     "data": {
      "image/png": "[encoded data removed]",
      "text/plain": [
       "<Figure size 432x288 with 1 Axes>"
      ]
     },
     "metadata": {
      "needs_background": "light"
     },
     "output_type": "display_data"
    },
    {
     "name": "stdout",
     "output_type": "stream",
     "text": [
      "\u001b[1mSample of random numbers:\u001b[0m\n",
      "[4 3 2 4 5 5 5 4 4 4 7 5 2 7 4 4 6 5 7 4]\n",
      "\n",
      "\u001b[1mThe 1000 random numbers generated from this binomial distributions range from 0 to 10 with a mean of 4.936, a median of 5.0 and a mode of [5].\u001b[0m\n"
     ]
    }
   ],
   "source": [
    "# Flipping a coin 10 times.\n",
    "flips = 10\n",
    "\n",
    "# Setting probability that heads will come up.\n",
    "heads_prob = 0.5\n",
    "\n",
    "# Number of experiments where the coin is tossed 10 times.\n",
    "exp = 1000\n",
    "\n",
    "# Creating the array of random numbers.\n",
    "x = np.random.binomial(flips, heads_prob, size = exp)\n",
    "\n",
    "# Plotting the distribution\n",
    "plt.hist(x)\n",
    "plt.title(\"coin toss binomial distrbution\")\n",
    "plt.xlabel(\"number of heads\")\n",
    "plt.ylabel(\"heads success rate\")\n",
    "plt.show()\n",
    "\n",
    "# Sample of generated numbers\n",
    "print(bold.BOLD + \"Sample of random numbers:\" + bold.END)\n",
    "print(x[:20])\n",
    "print()\n",
    "\n",
    "# Calculating the value that occurs most often. \n",
    "mode = stats.mode(x)\n",
    "\n",
    "# The 1000 numbers generated from the binomial distribution.\n",
    "print(bold.BOLD + f\"The {exp} random numbers generated from this binomial distributions range from {x.min()} to {x.max()} with a mean of {x.mean()}, a median of {np.median(x)} and a mode of {mode[0]}.\"  + bold.END)"
   ]
  },
  {
   "cell_type": "markdown",
   "metadata": {},
   "source": [
    "<br>\n",
    "\n",
    "### MULTINOMIAL\n",
    "\n",
    "Where the binomial distribution operates on two possible outcomes, a multinomial distribution - as the name suggests - can work with several. The **multinomial** function takes three arguments, some of which are similar to the **binomial** function, and returns a random number array:\n",
    "\n",
    "- *n:* the number of independent trials, e.g. the number of times a single card is picked.\n",
    "- *pvals:* probability of each value outcome, e.g. the 1/4 probability of each suit in a deck of cards.\n",
    "- *size:* the output shape which is the number of times a series of trials is carried out, e.g. 5 cards drawn 100 times.\n",
    "\n",
    "To illustrate this discrete distribution, I'll revisit the example of a deck of cards. [<sup>20</sup>](https://stattrek.com/probability-distributions/multinomial.aspx)  A card is drawn from a 52 card deck, the suit is noted and the card is shuffled back into the deck. This means that every time a card is drawn, there is consistently a 25% chance that it could be any suit. Ten cards are drawn in this way to constitute a single trial. A numpy array is returned that shows how many times each suit is drawn as shown below:"
   ]
  },
  {
   "cell_type": "code",
   "execution_count": 144,
   "metadata": {},
   "outputs": [
    {
     "name": "stdout",
     "output_type": "stream",
     "text": [
      "[4 3 0 3]\n",
      "\n",
      "\u001b[1mThe 10 cards drawn in this trial contain 4 hearts, 3 diamonds, 0 clubs and 3 spades.\u001b[0m\n"
     ]
    }
   ],
   "source": [
    "# Drawing 10 cards\n",
    "draws = 10\n",
    "\n",
    "#  Single multinomial trial.\n",
    "x = np.random.multinomial(draws, pvals = (0.25, 0.25, 0.25, 0.25))\n",
    "print(x)\n",
    "print()\n",
    "print(bold.BOLD + f\"The {draws} cards drawn in this trial contain {x[0]} hearts, {x[1]} diamonds, {x[2]} clubs and {x[3]} spades.\" + bold.END)"
   ]
  },
  {
   "cell_type": "markdown",
   "metadata": {},
   "source": [
    "The code below repeats each trial 10,000 times to visually demonstrate the distribution. In the histogram, each suit is represented by a different colour and they are uniformly distributed in the frequency they are drawn, which is to be expected as the probability for each is equal. With 10 cards drawn, and the probability of each suit set to 25%, an average of 2.5 cards of each suit should be drawn (reflected in the mean below). However, since we can't halve cards and this is a discrete distribution, we can see that each suit generally appears 2 or 3 times in the returned arrays. The numbers within in each array can potentially range from 0 (no cards of a particular suit drawn) to 10 (all cards drawn are of the same suit)."
   ]
  },
  {
   "cell_type": "code",
   "execution_count": 106,
   "metadata": {},
   "outputs": [
    {
     "data": {
      "image/png": "[encoded data removed]",
      "text/plain": [
       "<Figure size 432x288 with 1 Axes>"
      ]
     },
     "metadata": {
      "needs_background": "light"
     },
     "output_type": "display_data"
    },
    {
     "name": "stdout",
     "output_type": "stream",
     "text": [
      "\u001b[1mSample of random number arrays:\u001b[0m\n",
      "[[3 2 1 4]\n",
      " [1 3 3 3]\n",
      " [4 1 2 3]\n",
      " [0 5 2 3]\n",
      " [3 3 2 2]\n",
      " [3 2 4 1]\n",
      " [2 3 4 1]\n",
      " [5 2 1 2]\n",
      " [6 3 0 1]\n",
      " [2 2 1 5]]\n",
      "\n",
      "\u001b[1mThe 10000 random arrays generated from this multinomial distribution have numbers ranging from 0 to 9 with a mean of 2.5.\u001b[0m\n"
     ]
    }
   ],
   "source": [
    "# Output size.\n",
    "size = 10000\n",
    "\n",
    "# Creating the random number arrays.\n",
    "x = np.random.multinomial(draws, pvals = (0.25, 0.25, 0.25, 0.25), size=size)\n",
    "\n",
    "# Plotting the distribution.\n",
    "plt.hist(x)\n",
    "plt.title(\"card suits multinomial distrbution\")\n",
    "plt.xlabel(\"number of times each suit is drawn\")\n",
    "plt.ylabel(\"suits success rate\")\n",
    "plt.show()\n",
    "\n",
    "# Sample of genrated numbers\n",
    "print(bold.BOLD + \"Sample of random number arrays:\" + bold.END)\n",
    "print(x[:10])\n",
    "print()\n",
    "\n",
    "# Calculating the value that occurs most often. \n",
    "mode = stats.mode(x)\n",
    "\n",
    "# The 10,000 random number arrays returned.\n",
    "print(bold.BOLD + f\"The {size} random arrays generated from this multinomial distribution have numbers ranging from {x.min()} to {x.max()} with a mean of {x.mean()}.\"  + bold.END)"
   ]
  },
  {
   "cell_type": "markdown",
   "metadata": {},
   "source": [
    "<br>\n",
    "\n",
    "### POISSON\n",
    "\n",
    "The poisson distribution is a special case of the binomial distribution where we do not know the exact values of n (number of trials) or p (probability) but do know the average number of successes in a certain period of time. This value, the success rate, is called lambda (λ) and is the same as multiplying the probability of success by the number of trials (np). [<sup>21</sup>](https://medium.com/@andrew.chamberlain/deriving-the-poisson-distribution-from-the-binomial-distribution-840cc1668239) It is a discrete distribution, usually used to model the average rate that independent events occur.\n",
    "\n",
    "The **poisson** function takes two arguments: \n",
    "\n",
    "- *λ (lam):* the average number of events in a certain unit of time, e.g. calls per hour.\n",
    "- *size:* the output shape, which is the number of time periods, e.g. number of hours per week.\n",
    "\n",
    "As an example, the code below looks at the number of phone calls an employee takes per hour at their job over the course of a year, working 40 hours a week for 48 weeks of the year. Of course, it would be impossible to know for certain how many people are going to phone in an hour, never mind the probability of such, but the number of calls received in an hour can be quantified and the mean deduced. If the average number of phone calls received every hour is 10 (λ=10), then with the **poisson** function the random numbers generated from this can potentially range from 0 (no calls in an hour) to 20+ (over 20 calls per hour), but generally the numbers will be close to 10 as demonstrated by the mean, median and mode values below. "
   ]
  },
  {
   "cell_type": "code",
   "execution_count": 107,
   "metadata": {},
   "outputs": [
    {
     "data": {
      "image/png": "[encoded data removed]",
      "text/plain": [
       "<Figure size 432x288 with 1 Axes>"
      ]
     },
     "metadata": {
      "needs_background": "light"
     },
     "output_type": "display_data"
    },
    {
     "name": "stdout",
     "output_type": "stream",
     "text": [
      "\u001b[1mSample of random numbers:\u001b[0m\n",
      "[12  8 10  8  6  8 13  4 11  5 11  9 19  9 13 15 11 10  9 10]\n",
      "\n",
      "\u001b[1mThe 1920 random numbers generated from this poisson distribution range from 0 to 21 with a mean of 9.936, a median of 10.0 and a mode of [9].\u001b[0m\n"
     ]
    }
   ],
   "source": [
    "# Calls per hour.\n",
    "cph = 10\n",
    "\n",
    "# Number of hours worked in a year.\n",
    "year = 40 * 48\n",
    "\n",
    "# Creating the array of random numbers\n",
    "x = np.random.poisson(cph, size = year)\n",
    "\n",
    "# Plotting the distribution.\n",
    "plt.hist(x)\n",
    "plt.title(\"phone calls poisson distrbution\")\n",
    "plt.xlabel(\"calls per hour\")\n",
    "plt.ylabel(\"frequency of the number of calls\")\n",
    "plt.show()\n",
    "\n",
    "# Sample of genrated numbers\n",
    "print(bold.BOLD + \"Sample of random numbers:\" + bold.END)\n",
    "print(x[:20])\n",
    "print()\n",
    "\n",
    "# Calculating the value that occurs most often. \n",
    "mode = stats.mode(x)\n",
    "\n",
    "# The 1920 numbers generated from the poisson distribution.\n",
    "print(bold.BOLD + f\"The {year} random numbers generated from this poisson distribution range from {x.min()} to {x.max()} with a mean of {x.mean().round(3)}, a median of {np.median(x)} and a mode of {mode[0]}.\"  + bold.END)"
   ]
  },
  {
   "cell_type": "markdown",
   "metadata": {},
   "source": [
    "<br>\n",
    "\n",
    "### EXPONENTIAL\n",
    "\n",
    "Where the poisson distribution looks at the number of events in a certain time frame, an exponential distribution could be used to look at the time intervals between events.[<sup>22</sup>](https://stats.stackexchange.com/questions/2092/relationship-between-poisson-and-exponential-distribution) It is a continuous distribution as time is not made up of fixed values. The **exponential** function takes two arguments:\n",
    "\n",
    "- *β (scale):* 1/λ - the time interval between events, e.g. 6 minutes between one phone call and another.\n",
    "- *size*: the output shape, which is the number of times a particular time period lapsed between events, e.g. the number of times that 6 minutes lapsed between phone calls.  \n",
    "\n",
    "Looking back at the worker who has an average of 10 phone calls per hour, the parameter β would be 1/10 (1/λ) to represent 0.1 or 10% of the time interval, which in this case is an hour. This means the worker gets approximately 1 call every 6 minutes (10% of 60 mins = 6mins). As the histogram below illustrates, most of the phone calls that come in are centred around the 0.1 mark and as the time interval gets larger, the chances that it takes longer for the next call to come in drop dramatically, e.g. it is very rare that half an hour (0.5 on the histogram) would pass between phone calls. "
   ]
  },
  {
   "cell_type": "code",
   "execution_count": 234,
   "metadata": {},
   "outputs": [
    {
     "data": {
      "image/png": "[encoded data removed]",
      "text/plain": [
       "<Figure size 432x288 with 1 Axes>"
      ]
     },
     "metadata": {
      "needs_background": "light"
     },
     "output_type": "display_data"
    }
   ],
   "source": [
    "# Average time interval (1/λ).\n",
    "interval = 1/cph\n",
    "\n",
    "# Creating the array of random numbers.\n",
    "x = np.random.exponential(interval, size = 1000)\n",
    "\n",
    "# Plotting the distribution.\n",
    "plt.hist(x)\n",
    "plt.title(\"interval between phonecalls exponential distribution\")\n",
    "plt.xlabel(\"time intervals\")\n",
    "plt.ylabel(\"frequency of time intervals\")\n",
    "plt.show()"
   ]
  },
  {
   "cell_type": "markdown",
   "metadata": {},
   "source": [
    "The random numbers generated from this exponential distribution are floating point numbers that are portions of an hour and nearly all fall between 0.0-0.3, with very few values beyond this. The mean, as should be expected, is close to 0.1."
   ]
  },
  {
   "cell_type": "code",
   "execution_count": 235,
   "metadata": {},
   "outputs": [
    {
     "name": "stdout",
     "output_type": "stream",
     "text": [
      "\u001b[1mSample of random numbers:\u001b[0m\n",
      "[0.27075189 0.18720181 0.27585225 0.01907067 0.01577929]\n",
      "\n",
      "\u001b[1mThe 1000 random numbers generated from this exponential distribution range from about 6.784061339745768e-06 to 0.7358100906997809 with a mean of 0.09627286596220533.\u001b[0m\n"
     ]
    }
   ],
   "source": [
    "# Sample of genrated numbers\n",
    "print(bold.BOLD + \"Sample of random numbers:\" + bold.END)\n",
    "print(x[:5])\n",
    "print()\n",
    "\n",
    "# The 1920 numbers generated from the exponential distribution.\n",
    "print(bold.BOLD + f\"The 1000 random numbers generated from this exponential distribution range from about {x.min()} to {x.max()} with a mean of {x.mean()}.\" + bold.END)             "
   ]
  },
  {
   "cell_type": "markdown",
   "metadata": {},
   "source": [
    "### GEOMETRIC\n",
    "\n",
    "The final function I will discuss is the **geometric** function, which is related to the exponential distribution except that is it discrete rather than continuous. The histogram in the code below looks very similar to the exponential plot above but represents a very different set of data. Where an exponential distribution is the time between events, a geometric probability distribution represents the number of failures before a successful event in a series of Bernoulli trials. [<sup>23</sup>](https://www.statisticshowto.datasciencecentral.com/geometric-distribution/). The **geometric** function takes two parameters:\n",
    "\n",
    "- *p:* the probability of the successful event occurring in a trial, e.g. the 50/50 chance of heads when flipping a coin.\n",
    "- *size:* the output shape, which is the number of trials before a success, e.g. the number of times the coin was flipped before getting a heads.\n",
    "\n",
    "Going back to the Bernoulli trial of a coin flip that was used in the discussion about the **binomial** function, I will use the same scenario to demonstrate the geometric distribution. While previously we counted the number of times heads was achieved in 10 coin flips, here we look at the number of flips it takes before the coin lands on heads. Once a heads is achieved, the number of flips is recorded and the next trial begins. The *p* value is again set to 0.5 to represent the 50% probability of getting heads. As may be expected, most of the time when flipping a coin it might only takes 1 or 2 flips before you'd see a heads and the histogram below reflects this with a huge proportion of the 1000 trials taking 2 flips or less.  "
   ]
  },
  {
   "cell_type": "code",
   "execution_count": 230,
   "metadata": {},
   "outputs": [
    {
     "data": {
      "image/png": "[encoded data removed]",
      "text/plain": [
       "<Figure size 432x288 with 1 Axes>"
      ]
     },
     "metadata": {
      "needs_background": "light"
     },
     "output_type": "display_data"
    }
   ],
   "source": [
    "# Creating the array of random numbers.\n",
    "x = np.random.geometric(0.5, size = 1000)\n",
    "\n",
    "\n",
    "# Plotting the distribution.\n",
    "plt.hist(x)\n",
    "plt.title(\"Geometric Distrbution: Coin Flips\")\n",
    "plt.xlabel(\"Number of Flips\")\n",
    "plt.ylabel(\"Frequency of Flip Numbers\")\n",
    "plt.show()"
   ]
  },
  {
   "cell_type": "markdown",
   "metadata": {},
   "source": [
    "The mean, median and mode below also illustrate the trend of 1 or 2 flips before getting heads. The range of the numbers starts at 1 (a single flip) but the top of the range cannot be estimated. Since each coin flip is an independent trial, there could potentially be a large amount of flips before the coin lands on heads, even if it's quite unlikely."
   ]
  },
  {
   "cell_type": "code",
   "execution_count": 232,
   "metadata": {},
   "outputs": [
    {
     "name": "stdout",
     "output_type": "stream",
     "text": [
      "\u001b[1mSample of random numbers:\u001b[0m\n",
      "[ 1  1  2  3  2  1  1  3  1  1  1 10  1  1  1  1  1  2  2  1]\n",
      "\n",
      "\u001b[1mThe 1000 random numbers generated from this geometric distribution range from 1 to 12 with a mean of 2.037, a median of 2.0 and a mode of [1].\u001b[0m\n"
     ]
    }
   ],
   "source": [
    "# Sample of generated numbers.\n",
    "print(bold.BOLD + \"Sample of random numbers:\" + bold.END)\n",
    "print(x[:20])\n",
    "print()\n",
    "\n",
    "# Calculating the value that occurs most often. \n",
    "mode = stats.mode(x)\n",
    "\n",
    "# The 1000 numbers generated from the geometrical distribution.\n",
    "print(bold.BOLD + f\"The 1000 random numbers generated from this geometric distribution range from {x.min()} to {x.max()} with a mean of {x.mean().round(3)}, a median of {np.median(x)} and a mode of {mode[0]}.\"  + bold.END)"
   ]
  },
  {
   "cell_type": "markdown",
   "metadata": {},
   "source": [
    "<br>\n",
    "\n",
    "_________________________________________________________________________________________________________________\n",
    "\n",
    "## Random Generators\n",
    "\n",
    "In the introduction to this project, I mentioned that pseudorandom number generators, such as **numpy.random**, are initialised by a **seed**. This seed can be a number or array that is manipulated by an algorithm to generate random values. By default, a system's clock in milliseconds is often used as the seed [<sup>24</sup>](https://machinelearningmastery.com/how-to-generate-random-numbers-in-python/) but it is also possible to create your own seed. This is useful as it allows for reproducibility when testing or debugging code as the random sequence generated will always be the same if a function is initialised with the same seed. **numpy.random** has 2 functions that allow the user to set a seed state:\n",
    "\n",
    "- seed\n",
    "- RandomState\n",
    "\n",
    "I will discuss these functions and the difference between them below."
   ]
  },
  {
   "cell_type": "markdown",
   "metadata": {},
   "source": [
    "<br>\n",
    "\n",
    "### SEED \n",
    "\n",
    "The **seed** function accepts a single argument, either an integer or array, that is used to seed the pseudorandom number generator. It doesn't matter what value is entered into the function as it only serves as a starting point to create the initial random value. \n",
    "\n",
    "Below is an example of the function in operation. Once the seed is set, the **rand** function is called twice and returns two different sets of numbers. The reason it does not return the same sequence the second time, even though the same function is being called, is because the seed value only affects the first randomly generated value. After that, the seed becomes the previous number generated [<sup>25</sup>](https://stackoverflow.com/a/22639752) and so a different sequence of numbers will be created. However, if the seed is reset with the same value and the two rand functions run again, the sequences will match those of the first instance.  "
   ]
  },
  {
   "cell_type": "code",
   "execution_count": 190,
   "metadata": {},
   "outputs": [
    {
     "name": "stdout",
     "output_type": "stream",
     "text": [
      "\u001b[1mFirst rand sequence:\u001b[0m\n",
      "[0.69646919 0.28613933 0.22685145]\n",
      "\n",
      "\u001b[1mSecond rand sequence:\u001b[0m\n",
      "[0.55131477 0.71946897 0.42310646]\n",
      "\n",
      "\u001b[1mFirst rand sequence after seed reset:\u001b[0m\n",
      "[0.69646919 0.28613933 0.22685145]\n",
      "\n",
      "\u001b[1mSecond rand sequence after seed reset:\u001b[0m\n",
      "[0.55131477 0.71946897 0.42310646]\n"
     ]
    }
   ],
   "source": [
    "# Setting the seed.\n",
    "np.random.seed(123)\n",
    "\n",
    "# Calling rand function twice.\n",
    "print(bold.BOLD + \"First rand sequence:\" + bold.END)\n",
    "print(np.random.rand(3))\n",
    "print()\n",
    "print(bold.BOLD + \"Second rand sequence:\" + bold.END)\n",
    "print(np.random.rand(3))\n",
    "print()\n",
    "\n",
    "# Setting the seed again with the same value.\n",
    "np.random.seed(123)\n",
    "\n",
    "print(bold.BOLD + \"First rand sequence after seed reset:\" + bold.END)\n",
    "print(np.random.rand(3))\n",
    "print()\n",
    "print(bold.BOLD + \"Second rand sequence after seed reset:\" + bold.END)\n",
    "print(np.random.rand(3))"
   ]
  },
  {
   "cell_type": "markdown",
   "metadata": {},
   "source": [
    "Some believe that using the **seed** function should be avoided where possible for the following related reasons:\n",
    "\n",
    "- It resets the global state, which can have unpredictable and undesirable effects on a program.[<sup>26</sup>](https://softwareengineering.stackexchange.com/a/148109)\n",
    "- It is not thread safe.[<sup>27</sup>](https://stackoverflow.com/questions/5836335/consistently-create-same-random-numpy-array) Threads are a way in which a program can be split into simultaneously running tasks[<sup>28</sup>](https://simple.wikipedia.org/wiki/Thread_(computer_science)) and the **seed** function may have issues if different threads attempt to run it at the same time.[<sup>29</sup>](https://stackoverflow.com/a/7030595) \n",
    "\n",
    "The **RandomState** function does not have such issues and it is recommended by some to use this function over **seed** when possible, although there is some debate about that.[<sup>30</sup>](https://stackoverflow.com/a/37224605)"
   ]
  },
  {
   "cell_type": "markdown",
   "metadata": {},
   "source": [
    "<br>\n",
    "\n",
    "### RANDOMSTATE\n",
    "\n",
    "The **RandomState** function takes the same kind of argument as **seed** but works differently. It creates a new seed instance without affecting the rest of the program so you always know what code uses the set seed as it needs to be explicitly stated. [<sup>31</sup>](https://stackoverflow.com/questions/37224116/difference-between-randomstate-and-seed-in-numpy) As a *class*, it serves as a blueprint for a new seed and must be reinitialised to get predictable sequences. For this reason, it is generally assigned to a variable as it works directly on function. \n",
    "\n",
    "Below the **geometric** and **choice** functions are called with the variable *rs* which contains an instance of **RandomState**. As with **seed**, when called a second time, each function returns a different sequence. **RandomState** is then reinitialised under the variable *rs2* and when the functions are called again, the sequences match the first instance."
   ]
  },
  {
   "cell_type": "code",
   "execution_count": 227,
   "metadata": {},
   "outputs": [
    {
     "name": "stdout",
     "output_type": "stream",
     "text": [
      "\u001b[1mFirst sequences:\u001b[0m\n",
      "[7 1 1 1 2]\n",
      "\n",
      "['John' 'John' 'Helen' 'John' 'Tony']\n",
      "\n",
      "[8 2 1 7 1]\n",
      "\n",
      "['Helen' 'John' 'Helen' 'Helen' 'Tony']\n",
      "\n",
      "\u001b[1mRepeated sequences:\u001b[0m\n",
      "[7 1 1 1 2]\n",
      "\n",
      "['John' 'John' 'Helen' 'John' 'Tony']\n",
      "\n",
      "[8 2 1 7 1]\n",
      "\n",
      "['Helen' 'John' 'Helen' 'Helen' 'Tony']\n"
     ]
    }
   ],
   "source": [
    "# Creating RandomState variable\n",
    "rs = np.random.RandomState(12345)\n",
    "\n",
    "# Using the variable to seed a function\n",
    "print(bold.BOLD + \"First sequences:\" + bold.END)\n",
    "print(rs.geometric(0.35, 5))\n",
    "print()\n",
    "print(rs.choice(lst, 5))\n",
    "print()\n",
    "print(rs.geometric(0.3, 5))\n",
    "print()\n",
    "print(rs.choice(lst, 5))\n",
    "print()\n",
    "\n",
    "# Reinitialising RandomState.\n",
    "rs2 = np.random.RandomState(12345)\n",
    "\n",
    "# Using the newvariable to seed a function\n",
    "print(bold.BOLD + \"Repeated sequences:\" + bold.END)\n",
    "print(rs2.geometric(0.35, 5))\n",
    "print()\n",
    "print(rs2.choice(lst, 5))\n",
    "print()\n",
    "print(rs2.geometric(0.3, 5))\n",
    "print()\n",
    "print(rs2.choice(lst, 5))\n"
   ]
  },
  {
   "cell_type": "code",
   "execution_count": 221,
   "metadata": {},
   "outputs": [
    {
     "data": {
      "text/plain": [
       "('MT19937', array([1122872025,  737094441, 4160526012, 3414899017, 3282997386,\n",
       "        3586720757, 2011856609,  691369529, 2704741050,  320439860,\n",
       "         922494571, 3178248661, 3274377074, 3275764267, 3081342085,\n",
       "        2076807258, 1081761650, 3533801578, 2432145187, 1699078966,\n",
       "        2512661213, 1425501352, 2918224469, 2454684247, 3388172078,\n",
       "        4259147081, 2363261628,  303126520, 3848195136, 4116394420,\n",
       "         140915001, 3005568500, 1375581996, 3142161116,  206045127,\n",
       "         457585225, 1679241285,  505342217, 4046559470, 1308879792,\n",
       "        3204447901, 1734328260, 1896898150, 3691171616, 1355923724,\n",
       "        3055484125, 2589013697, 3544610295, 2961208966, 3577412106,\n",
       "        1869140688, 1175939934, 3375062202, 1643448851, 2530320692,\n",
       "        1057421054,  884475053, 3346252175, 3889918247, 4066914563,\n",
       "         274216968,  713733417, 3805498216, 3999013250, 1969742413,\n",
       "        3098704596, 1717761612, 3694012174, 1808552583, 1972588566,\n",
       "        1658590618, 1898870322, 1499872357, 1039751222, 3880105830,\n",
       "        3696705387, 1607970438, 1898117675,  659853514, 3282708766,\n",
       "         819682166, 1371972783, 2187801424,  960008648, 2293014227,\n",
       "        3034264138, 2017002840,   58723420, 4036501433,  388258582,\n",
       "         802716879, 4025706644, 3858269009, 1045520167,  877461974,\n",
       "        2695592382, 3829809646, 1996136340, 3367075933, 3285255553,\n",
       "        1336701831, 2800433325, 3254471065, 3211425170,  187130101,\n",
       "        1163498262, 1108342448, 1421522846, 4261841367, 2760766097,\n",
       "         914228878, 1981461314, 2354325253, 3200487865, 1990934641,\n",
       "        3126186330, 2303633240, 2908561938, 2266471168, 3696819779,\n",
       "         905242403, 3281138319, 4081560457, 3279226936, 3282823424,\n",
       "        1889953775,  301481425, 2552827920, 2918194413,  904109635,\n",
       "         552230479,  161650292,   16950610,  947572109, 1476654111,\n",
       "        4256645035, 4156963877,  830712929, 1173112624,  758435882,\n",
       "        3579715829, 2315344448, 2287728185, 2472835962, 2365892946,\n",
       "        3510583757, 3475656166, 2434499731, 2216680284, 2359973408,\n",
       "        1393210317, 2311957733, 2748671078,  536854380, 2143190453,\n",
       "        3340280002, 1732575844, 3161815031, 1036892316, 3193369909,\n",
       "          70417284, 2021041499, 3367340408, 2719652041, 2324900995,\n",
       "        2664480367, 1176291886, 1862139718, 1353925187, 3882857670,\n",
       "        2533964711, 1511717822, 4177874634, 4120968952, 2095908382,\n",
       "        2082295578, 1627861547, 1911768575, 3539434040, 4121524024,\n",
       "         700002367, 2679419985,  136773556, 2062264432, 3523702439,\n",
       "        2211275877, 3972263260, 2375398073, 2961970464, 2040720185,\n",
       "        2432762515, 3318975361, 2408036026, 3289896250, 2265870178,\n",
       "         367424839, 1722443602, 1688516966, 2247758598, 2775270453,\n",
       "         838489712,  979962382, 1321601760, 1605447103, 2023457969,\n",
       "        1409942241, 2412900480, 2694360435, 1896576861, 3789966922,\n",
       "        2460761754, 3831962867,  192276956, 3827302317, 1072028217,\n",
       "        2539208068, 2048661212, 1335821353,  913061931, 1875071013,\n",
       "        1465248384,  625898375, 3532592441, 2195751855, 3186747009,\n",
       "        2693894474,  319090394, 1593383641, 3498533409, 3375052794,\n",
       "        2296208480, 3740879403, 1926355411,  627741356, 2370873648,\n",
       "        2195175262,  481409577, 1555207656, 4175368353, 3462228046,\n",
       "        1370258896,  860065285, 2101898237,  168051082,  210583810,\n",
       "        1635452935, 3185896436, 1183383096,  717787102,   47483447,\n",
       "        2017991713, 2726180840, 4290114566, 3400382713, 3786376820,\n",
       "        3289390463, 3783998394, 1840827989, 3331306945, 3643314414,\n",
       "        4049325469,  424124911, 3638990118, 3922578748, 1040897212,\n",
       "        1455542929, 3887192778, 4203615399, 3904339059, 3392347128,\n",
       "         861764920,  216780714, 1615227753, 1928890899, 1578726274,\n",
       "         227350039,  349977696, 4075951529,  426848895, 2446857878,\n",
       "        3038045057, 1529396688, 1125856476, 2887989976, 3964258780,\n",
       "         441003619,  200242061, 1039584141,  175485077, 1460494296,\n",
       "        1457778177,  661458702, 1840195479, 4185700674, 3399134389,\n",
       "        1641244380, 3142726367, 3076936223,  391280925, 2604264660,\n",
       "        1155031074,  368583979, 1923828101, 1999553643, 1916548071,\n",
       "        1391182768, 3106123469, 2338893090, 4139658241, 4193060763,\n",
       "         106999213, 1061980203,  739700330, 4261710189,  629410814,\n",
       "        1052159225,  174592282, 1254969359, 3395437958,   69110623,\n",
       "        2543070189, 1608782163, 3984757974, 2402328033, 1726939604,\n",
       "        2706290965, 3113055650, 2345203608, 4057851601, 2530927983,\n",
       "         250619646,  278184368, 3025741747,  451112606, 3181393267,\n",
       "        3580762549, 2998590612,  536269612, 1960538884, 2618586445,\n",
       "         313253492,   65113691, 2589213866,  423053961, 2696338423,\n",
       "        3205479942, 3537660157, 1472222762, 3378011233, 4110059804,\n",
       "        1229904543, 1088458597, 1197564202, 2373669650, 3136975456,\n",
       "         819931046,  834638986, 1164384212, 1475981148, 1722932147,\n",
       "        1587576394, 4093146410,  631896600, 1080322558, 3583251473,\n",
       "         407489645, 2706612637,   53335293, 4183239065,  593419758,\n",
       "        1526216675, 1102206434, 3711374837, 4006182709, 2206546238,\n",
       "        3015881121, 4146692347, 3372072900, 3139200827,  958977727,\n",
       "        2047602264, 4059983775, 3532426713, 1209220355, 4072089926,\n",
       "         671001866,  747671301, 3028711396, 2832478268, 1843472042,\n",
       "         155393522, 4021812638, 2616030343, 1230240867, 3516919231,\n",
       "         190487402,  116789655, 2745255018,  762095432,  238706680,\n",
       "         329670851, 1392607907,  513667250, 3136313053, 1466445653,\n",
       "         669554451,  949151891, 3195474594, 3452100799, 1250596268,\n",
       "        4204244202,  409769516, 2885494464,  318278070,  166401246,\n",
       "        1532369024, 2320853600, 3353462919, 1438340587, 1840693485,\n",
       "        1272805791,  254448666, 1600454979, 2107936058, 2694817016,\n",
       "         387402485, 2229144529, 4251070798,  884887616, 1957320061,\n",
       "         813881257, 2440006643, 2927929178, 4174220850, 2725621429,\n",
       "        1039370752,  599313587, 2034885557, 1417575591, 1662175378,\n",
       "        2964311831, 1397856157, 3312421165, 1019689466, 3291038762,\n",
       "        4079917366,  751858340, 1189039173, 3792204652, 1128315889,\n",
       "        2158850056, 3965653473,  428922967, 1105791752, 2473538084,\n",
       "         762991771,  111545725,  703700720,  677326175,  232442155,\n",
       "        1028963805, 2639501388, 1190554553, 3865965537, 3662590156,\n",
       "        1383392476, 1623662146,  278965780, 3347956857,   55050024,\n",
       "        1084141768, 2073971289, 1953299329, 4254318532, 3354503482,\n",
       "        2429860816, 3892808726,  668907179, 1593060337, 3285964040,\n",
       "        2990370679, 1003122341, 3770227797,  855487998, 1848157593,\n",
       "        4071686574, 4252093599, 2055719545,  970720001,  667668747,\n",
       "         594661943, 4265297362, 1118641135, 3129519576, 1113864553,\n",
       "        4082789854, 1233331230, 4199871268, 1284412828, 1157305633,\n",
       "        1135323654, 3214402252, 3210575608,  357746572, 2119439470,\n",
       "        3089432199,  364084521,  309584334, 3367014081, 3760228340,\n",
       "         640371317, 1110166959, 3888464125,  147589675, 2958863917,\n",
       "        3146184581, 3215846479,  854176721,  764549064,  301424912,\n",
       "        3711594168, 1559484723, 1045028780, 4161638724, 1511003144,\n",
       "         284302578, 1214761446, 2483873579,  391738882,  932544084,\n",
       "        2319196845,  589488997, 3249055035, 1943981140, 3692042211,\n",
       "        3546797104, 2915657524,  612393141, 1365940662, 3034505988,\n",
       "        3597524219, 3977110133, 1520119218, 3293495345, 1034082403,\n",
       "         795547805, 3091892453, 3873136747, 1837455088, 1807376413,\n",
       "        3726656238,  579305038,  654297884,  988409672, 3615143892,\n",
       "        2232054438, 2786910931, 2744449236, 3880266292, 3799519785,\n",
       "        3756835966,  960320010, 3111460890, 1037779612,  209951884,\n",
       "         983033764, 1497040946, 3783877112, 4074885362, 3593503162,\n",
       "        3029903931, 4088814669, 1207086652, 3382337669, 2326921001,\n",
       "         704500669,  619566889, 2191761866,  428341710, 1080112307,\n",
       "        2087452119, 3199187205, 2728582021, 4041125618, 1410125678,\n",
       "        1818731483,  151893765, 2300663710, 2407658977, 3184292407,\n",
       "         877616145, 1961447659, 2926926963, 3071055827, 3454849398,\n",
       "        1001018403,  569706072, 1252270618, 2909045054, 3647931566,\n",
       "        1052757060, 1022942820, 1719086399,   20269828,   51720488,\n",
       "          54414564, 3957970932, 2696006700, 2271540074, 1848767114,\n",
       "        4173021873, 2245102472, 1639277978,  716946694, 1867844294,\n",
       "         608169812,  140515359, 2949172605, 1227922820, 2150940520,\n",
       "        2529859744,  676177722, 2760301324, 4270355492], dtype=uint32), 36, 0, 0.0)"
      ]
     },
     "execution_count": 221,
     "metadata": {},
     "output_type": "execute_result"
    }
   ],
   "source": [
    "np.random.get_state()"
   ]
  },
  {
   "cell_type": "code",
   "execution_count": 222,
   "metadata": {},
   "outputs": [
    {
     "data": {
      "text/plain": [
       "('MT19937', array([4081643083,  713234725, 1676298141, 2703880759, 1938010282,\n",
       "        2961673024, 2040864761, 2364479749,  814124955, 1481755106,\n",
       "        2571383239,  922617114, 2219325209,  618923098,  477672485,\n",
       "        3446664840, 3567881544, 3730020183, 2580746221,  270647164,\n",
       "        3167939650, 1094761696,  162231932,  935747621, 2766218294,\n",
       "        2961259375, 3285900209, 3120216060, 2878394725, 4107493738,\n",
       "        2637641400, 2297982027, 3564620934, 2496516151, 2968776305,\n",
       "        3288922697, 3064779181, 3377629752,  738150492,  815321484,\n",
       "        3966065648, 3553096489,   80228439, 3538799024, 1200200603,\n",
       "        1355213930, 3369104561, 3345715374, 3425499241,  607221289,\n",
       "        1233968550, 1725546180, 1666166600, 3495312510, 2135421948,\n",
       "        3879801685, 1457510672, 2373164090, 1469647467, 4186860373,\n",
       "        3787907004,  311604488, 1603304843, 3792488926, 3637760321,\n",
       "        4116703473, 2032354060, 3129288879, 1692282718,   69450769,\n",
       "        3422224185, 2829759207, 3470656593, 3692262205, 2383000712,\n",
       "        4232831036, 4252388218, 2485126026,  238951380, 3762671804,\n",
       "        1310584806, 4169657211, 1863433846, 2383530921,  611931206,\n",
       "        3637691205, 3309422129, 3894659327, 2256656449,  690312951,\n",
       "        3420930878, 3630035771,  881533501, 1368109424, 4034214528,\n",
       "         679829347, 2762761373, 1684970794, 3606342873, 4157568801,\n",
       "         219227241, 1654962968, 1311243264, 1673243225, 3804860422,\n",
       "        1923547438, 3354813413, 2063022284,    6451648,   10650510,\n",
       "        2627885521,  325154170, 2966458637,  706717625,  410393389,\n",
       "         137582459,  358234884, 2168039865, 3426688162, 4171516988,\n",
       "        2112435535, 1470994602,  904941093, 1289592011, 1891184149,\n",
       "         916357384, 2173956680, 3171078286, 3097225777,  883234195,\n",
       "        3536057711, 3415911979,   57136804, 3076791159, 2387001505,\n",
       "        3091290447,  296772838, 3316670225, 3735396920, 1031176893,\n",
       "        1230150730, 2737302351, 1625740559, 2671789630,  732731294,\n",
       "         434724621, 1426798325, 3871694275, 2933352006, 4142755522,\n",
       "         906508124, 3837232149,  210408429,  987413891, 1423090607,\n",
       "         120166176, 2289238028, 3994410731,   75045800, 3102188257,\n",
       "        2239190491, 2935400659, 4240574094, 2932021330, 1523977838,\n",
       "        1756651545, 2099161204, 3709314229, 1938417596, 3300503531,\n",
       "        1998713886, 3100598016, 1233635440, 1143910791,   32300166,\n",
       "        2545722971, 4098472333, 1560246460, 3310635013,  150598817,\n",
       "        2946766776, 1861297023, 2002726391, 3991398331, 1520251585,\n",
       "        1524170627, 3940758035, 2004131303, 2091548470, 3944959599,\n",
       "          83261344,  361506141, 3264361146, 2422743591,  855000338,\n",
       "        2204818428, 2376656369,  575155748, 3481388474, 1831622453,\n",
       "         150638229, 4277372976, 2532329804, 1957371685, 1052225735,\n",
       "        2039992582,  631625781, 1049641557, 2833448576,  432215879,\n",
       "         691740190, 4261286696, 3262972258, 1170039226,  728162318,\n",
       "         903016994, 1221484447,  476982168, 3959058489, 1252012197,\n",
       "        4087625991, 3578424850, 2329404200, 3196801998, 1730251045,\n",
       "        1961116208, 3151044911,  617417549, 1696342648,  871424034,\n",
       "         815998758, 2618406564,  723108470, 3357319218, 1033834115,\n",
       "         403777544, 1675248842, 1257301582, 2079923303, 2593375440,\n",
       "        3512304357,  105865340, 1199453889, 1908241357,  583908073,\n",
       "        2979991341,  495415186, 3489380741,  635645613, 3209786419,\n",
       "        2163299255, 3347537228, 3192440636, 2821502312, 3129218611,\n",
       "        2376486734, 3146368175, 3571612781, 1073045278, 2351465951,\n",
       "         612561271, 2507171151, 3675724005, 4029862504,  653089343,\n",
       "         350979553, 1542348264,  180608318,  534161184, 3344145796,\n",
       "        3573575494,  341284192, 2226909087,  492485724, 2187259125,\n",
       "        4094638872, 1945609796,    6478465, 3105302162, 2480772465,\n",
       "        2076798955,  651895768,  755847084, 3762827249,  241486305,\n",
       "        3352688993, 3835489822, 3413534107, 1056940206, 4223002773,\n",
       "        2068797367,  192234473, 2738711330, 1426960094, 2685391759,\n",
       "         134124231, 1655658030, 1111664836, 3856598000, 2752749589,\n",
       "        3489303328, 3889195819, 3143586312, 3498207334, 2546178269,\n",
       "        1350128723, 1160773567, 1197744512,  618386841, 2990075984,\n",
       "        2210288930, 1066902581,  248884236,  726055948, 1641055719,\n",
       "         925240141, 2555292661, 4211392238, 2279551740, 1211648899,\n",
       "         890701278,  539770625,  308608521,  804584036,  721896594,\n",
       "        2896268153, 2206935034, 2854242827, 2542237463, 1384411829,\n",
       "        2422389551, 3171303400, 3258414717, 2602193837, 2398787175,\n",
       "          85944748, 3670920184,  252753926, 2034498451, 1973448502,\n",
       "        2112476431, 1993747187, 1328782882,  690301645, 2618356501,\n",
       "        2511161164,  550948891, 3975265960, 1158251219, 1942021154,\n",
       "        3213846297,  363079289, 1819012204, 3585197250, 1182173401,\n",
       "        2548788331, 1029825908, 2402014238, 1308865980, 2775746229,\n",
       "        1940771575,  900402844, 1894671060, 2637811461, 2172810859,\n",
       "        3304523233, 2770364470, 2193475942, 3288994986, 2176375695,\n",
       "         687474133, 1486407229, 1697444698, 4020229354,  468779772,\n",
       "        2573132378, 3106801442, 1793136862, 1052700326, 3105135934,\n",
       "        3529178499, 1792408597, 1684867609, 1438348377, 4178638606,\n",
       "        1774817309, 3250427289,  518863560, 3231936133, 2090057010,\n",
       "        2654021335, 2373561659, 1015332439,  997610628,  155242672,\n",
       "        4254748185, 4195660656, 3137158394, 3070531777,  906774520,\n",
       "         881591823, 3553170385, 2203220095, 2993409006, 4201960634,\n",
       "        3394095981, 2244658349,  631186650, 1609615215, 3848852199,\n",
       "        3887787664, 1582600964, 2762668158, 4089069866, 4294892148,\n",
       "        3988376983, 4249903446,  313545966, 3510542462,  382793008,\n",
       "        3187438889, 3799306429, 2935464266,  174768250,  695111055,\n",
       "        2331724125, 4181119250, 2945717034, 1841528665,  359305156,\n",
       "        1999182840,  709263822, 2902638809, 4291410714,  861311337,\n",
       "        2244119814, 1737920407, 3128160604, 4028731479, 3246119317,\n",
       "        2386357903, 4003827863,  333767948, 2747989339, 3998192743,\n",
       "        3184054749, 3832570793, 2661252541, 3389588199, 2337012130,\n",
       "        1830043561, 2150818411, 2273395293, 4067074989, 2762320831,\n",
       "        4074352368,  257475272, 2730840592, 3588797572,  727266800,\n",
       "         131987652, 3734403901, 2816692731, 1159180174, 1576279329,\n",
       "        1014893864, 1647699616, 2960752501, 1291716782,  228749803,\n",
       "        2845758704, 2168400382,  349804838, 1425481828,  556315962,\n",
       "        1372263070, 4029231976, 3840410310, 3777641851, 1294063379,\n",
       "        2065202354, 2016546523, 3692906428, 3803207550, 2003036117,\n",
       "        1205135663, 3976778569, 3585605521, 1925763228, 2526538995,\n",
       "         505151423, 1919327420, 2484426907, 4069243381, 3776487687,\n",
       "        1801375803, 3657870294, 3589160469, 4120370668, 3536860363,\n",
       "        2221633949, 1060072617, 2069673069, 2486989246, 3459226734,\n",
       "         816971986, 3853604215, 3407438138, 2773084547, 2653372598,\n",
       "         535892605, 1938779579, 2797119995,   51436315, 1688121159,\n",
       "         521084831, 2435451696, 3475572134, 3652497560,  693128353,\n",
       "         262794422, 3879253757, 3602690172, 4012174813, 1319572177,\n",
       "        2820414747, 1425505683, 3586149637, 1793335637, 1288021004,\n",
       "         102516658, 1176106668,  626201499, 4206055621, 3901643643,\n",
       "        1282497340, 3961987107, 4152759589, 1295358507, 3720397352,\n",
       "         129543620, 4075086993, 1357606471,  287500190, 2232412354,\n",
       "         840553276, 4086850064, 1723774125, 4246964946, 3871077936,\n",
       "        4238137741, 3311975732, 1911557834,  709046854,  756074224,\n",
       "          30475316, 2074642048,   92893250, 3218467564, 4288240081,\n",
       "        3621878177, 3825802077, 2052290751,  811751617, 2154383361,\n",
       "        2652780326, 3667660548,  284258103, 1159929620, 2799645040,\n",
       "        2274390700, 3099357441, 2878770425, 4233369361, 3462969203,\n",
       "        4154912309, 2572390341, 4040333447, 2409627345, 4262983540,\n",
       "        3302739610,  884490137, 3012050557, 3467321922, 1310659437,\n",
       "        3031340923,  911428343, 2398095692, 4216115900, 2186896900,\n",
       "         508980680,  123555392, 3187535461, 1742145213, 3807982339,\n",
       "        1056225061, 1059783914, 1036622424, 2869143941, 1536864405,\n",
       "        2940735695,  501887546, 2132012085, 3578392865,   90046069,\n",
       "        2988381217, 3152785316, 3366165617, 3971050336, 2347980188,\n",
       "        3012749214, 2627390465,  759169142, 2462654620, 3269658064,\n",
       "        1331109939, 1347087206, 1752220792,  845834881, 1408377341,\n",
       "        1468404708, 2867474086,  557375705,  448296074], dtype=uint32), 12, 0, 0.0)"
      ]
     },
     "execution_count": 222,
     "metadata": {},
     "output_type": "execute_result"
    }
   ],
   "source": [
    "r.get_state()"
   ]
  },
  {
   "cell_type": "markdown",
   "metadata": {},
   "source": [
    "<br>\n",
    "\n",
    "__________________________________________________________________________________________________________\n",
    "\n",
    "\n",
    "## References\n",
    "\n",
    "1. Why randomly generated numbers are useful: https://www.howtogeek.com/183051/htg-explains-how-computers-generate-random-numbers/\n",
    "2. Pseudorandom numbers: https://realpython.com/python-random/\n",
    "3. Mersenne Twister: https://www.sciencedirect.com/topics/computer-science/mersenne-twister\n",
    "4. Difference between random module and numpy.random module: McKinney, W. (2018) *Python for Data Analysis.* California: O'Reilly Media. (p. 118).\n",
    "5. Values versus arrays: https://realpython.com/python-random/#prngs-for-arrays-numpyrandom\n",
    "6. random module probability distributions: https://docs.python.org/3/library/random.html#real-valued-distributions\n",
    "7. Rand versus random_sample: https://stackoverflow.com/a/18829377\n",
    "8. Difference between rand and random_sample: https://stackoverflow.com/a/47232184\n",
    "9. Different integer types: https://stackoverflow.com/a/9696777\n",
    "10. Checking the size of different datatypes: https://stackoverflow.com/a/14329864\n",
    "11. Deprecation of random_integers https://docs.scipy.org/doc/numpy-16.0/reference/generated/numpy.random.random_integers.html#numpy.random.random_integers\n",
    "12. Magic 8 Ball code adapted from: Sweigart, A. (2015). *Automate the Boring Stuff with Python*. San Fracisco: No Starch Press (p. 64).\n",
    "13. Deck of cards adapted from: Spronck, P. (2017). *The Coder's Apprentice: LEarning Programming with Python 3*. http://www.spronck.net/pythonbook/pythonbook.pdf (p. 341).\n",
    "14. Efficiency of the bytes function: Cappellini, S. (2018). *How to (efficiently) generate a huge number of pseudorandom bytes using Python*. stefanocappellini.it/generate-pseudorandom-bytes-with-python/\n",
    "15. Shuffling elements of multidimensional arrays. Code adapted from: https://www.science-emergence.com/Articles/How-to-randomly-shuffle-an-array-in-python-using-numpy/\n",
    "16. Difference between shuffle and permutation: https://stackoverflow.com/a/15474335\n",
    "17. Bernoulli Distributions: https://onlinelibrary.wiley.com/doi/pdf/10.1002/9781119197096.app03\n",
    "18. Coin toss binomial function. Code adapted from: https://cmdlinetips.com/2018/12/simulating-coin-toss-experiment-with-binomial-random-numbers-using-numpy/\n",
    "19. Difference between binomial and normal distributions: http://staweb.sta.cathedral.org/departments/math/mhansen/public_html/23stat/handouts/normbino.htm\n",
    "20. Multinomial distribution example idea: https://stattrek.com/probability-distributions/multinomial.aspx\n",
    "21. About the poisson distribution: https://medium.com/@andrew.chamberlain/deriving-the-poisson-distribution-from-the-binomial-distribution-840cc1668239\n",
    "22. Relationship between poisson and exponential: https://stats.stackexchange.com/questions/2092/relationship-between-poisson-and-exponential-distribution\n",
    "23. Relationship between geometric and exponential: https://www.statisticshowto.datasciencecentral.com/geometric-distribution/\n",
    "24. Default pseudorandom number generator seed: https://machinelearningmastery.com/how-to-generate-random-numbers-in-python/\n",
    "25. Different sequences after setting the seed: https://stackoverflow.com/a/22639752\n",
    "26. Global state issues with the seed function: https://softwareengineering.stackexchange.com/a/148109\n",
    "27. Thread issues with the seed function: https://stackoverflow.com/questions/5836335/consistently-create-same-random-numpy-array\n",
    "28. Threads: https://simple.wikipedia.org/wiki/Thread_(computer_science)\n",
    "29. seed function and thread safety: https://stackoverflow.com/a/7030595\n",
    "30. Use RandomState over seed function: https://stackoverflow.com/a/37224605\n",
    "31. RandomState: https://stackoverflow.com/questions/37224116/difference-between-randomstate-and-seed-in-numpy"
   ]
  },
  {
   "cell_type": "code",
   "execution_count": null,
   "metadata": {},
   "outputs": [],
   "source": []
  }
 ],
 "metadata": {
  "kernelspec": {
   "display_name": "Python 3",
   "language": "python",
   "name": "python3"
  },
  "language_info": {
   "codemirror_mode": {
    "name": "ipython",
    "version": 3
   },
   "file_extension": ".py",
   "mimetype": "text/x-python",
   "name": "python",
   "nbconvert_exporter": "python",
   "pygments_lexer": "ipython3",
   "version": "3.7.4"
  }
 },
 "nbformat": 4,
 "nbformat_minor": 4
}
