{
 "cells": [
  {
   "cell_type": "markdown",
   "metadata": {},
   "source": [
    "1. Explain the overall purpose of the package.\n",
    "2. Explain the use of the “Simple random data” and “Permutations” functions.\n",
    "3. Explain the use and purpose of at least five “Distributions” functions.\n",
    "4. Explain the use of seeds in generating pseudorandom numbers.\n",
    "\n",
    "Numpy documentation https://docs.scipy.org/doc/numpy-1.16.0/reference/routines.random.html\n",
    "\n",
    "Mersenne Twister - PRNG (pseudorandom number generator) https://en.wikipedia.org/wiki/Mersenne_Twister\n"
   ]
  },
  {
   "cell_type": "markdown",
   "metadata": {},
   "source": [
    "## Purpose of numpy.random\n",
    "\n",
    "Random number generation is vital for many practical programming needs such as security, model-building, simulation creation and statistical research. Of course, being deterministic machines, computers cannot create truly random numbers and so simulate randomness to create what are called pseudorandom numbers. These numbers are generally drawn from probability distributions and require an initial input seed to which an algorithm is applied in order to generate numbers in a predetermined fashion.\n",
    "\n",
    "Pseudorandom - random but reproducible data https://realpython.com/python-random/\n",
    "\n",
    "When discussing the various functions below, I will use random as a descriptive term, even though everything generated from the package is pseudorandom.\n",
    "\n",
    "https://stackoverflow.com/questions/4156907/why-is-random-not-so-random\n",
    "\n",
    "https://www.eriksmistad.no/pseudo-random-numbers-and-sampling-from-probability-distributions/"
   ]
  },
  {
   "cell_type": "markdown",
   "metadata": {},
   "source": [
    "### Why use numpy.random instead of built-in random.random?\n",
    "While random.random by default produces single random numbers, it can produce multiple if used with the range function. However, numpy.random allows you to produce increasingly complex arrays of random numbers. https://realpython.com/python-random/#prngs-for-arrays-numpyrandom\n",
    "\n",
    "According to Python for Data Analysis (p. 118) numpy.random supplements the random module with a few extra probability distributions and functions\n",
    "https://stackoverflow.com/questions/7029993/differences-between-numpy-random-and-random-random-in-python"
   ]
  },
  {
   "cell_type": "code",
   "execution_count": 1,
   "metadata": {},
   "outputs": [],
   "source": [
    "# Importing libraries\n",
    "import numpy as np\n",
    "import matplotlib.pyplot as plt\n",
    "%matplotlib inline\n",
    "import sys"
   ]
  },
  {
   "cell_type": "markdown",
   "metadata": {},
   "source": [
    "<br>\n",
    "\n",
    "## Simple Random Data\n",
    "At its most basic, the numpy.random package is used to generate random data or arrays of data, generally numerical. There are several functions in the package that create simple random data and each one does so in different ways. Before I move on to the more complex probability distributions and seed functions of the package, I will first discuss the following modules in this section:\n",
    "\n",
    "- rand\n",
    "- randn\n",
    "- randint\n",
    "- choice\n",
    "- bytes\n",
    "\n",
    "Within many of these functions I will discuss similar related functions that are also available elsewhere in the package."
   ]
  },
  {
   "cell_type": "markdown",
   "metadata": {},
   "source": [
    "<br>\n",
    "\n",
    "### RAND \n",
    "\n",
    "The **rand** function generates a floating point number or array of floating point numbers from the half open interval \\[0, 1), meaning that it includes every number greater than or equal to 0 and less than 1. If no arguments are passed to the function, a single random number is returned but **rand** is capable of generating large arrays of randomly generated numbers when integer arguments are passed. There is no limit to the number of arguments that can be passed so these arrays can be hugely complex. "
   ]
  },
  {
   "cell_type": "code",
   "execution_count": 2,
   "metadata": {},
   "outputs": [
    {
     "name": "stdout",
     "output_type": "stream",
     "text": [
      "\u001b[1mGenerates a single random number:\u001b[0m\n",
      "0.49863970529853885\n",
      "\n",
      "\u001b[1mGenerates 2 arrays with 4 random numbers in each:\u001b[0m\n",
      "[[9.86399560e-02 4.68638118e-04 8.62948264e-01 9.37619220e-01]\n",
      " [4.40317441e-01 3.73461721e-01 5.46646999e-01 5.61402290e-01]]\n",
      "\n",
      "\u001b[1mGenerates 2 arrays with each containing 4 arrays and each of those containing 6 random numbers:\u001b[0m\n",
      "[[[0.64138524 0.65520192 0.01737755 0.47455316 0.02681809 0.50673862]\n",
      "  [0.35907952 0.41968623 0.15823943 0.39636569 0.41314052 0.53193791]\n",
      "  [0.73658609 0.60477198 0.26478758 0.58855527 0.06324655 0.7563441 ]\n",
      "  [0.37685691 0.67111512 0.37292146 0.63709208 0.13132328 0.3652622 ]]\n",
      "\n",
      " [[0.90399698 0.445504   0.90157375 0.17134487 0.87480006 0.58555364]\n",
      "  [0.69715445 0.87869684 0.61195647 0.98141186 0.68664249 0.3763054 ]\n",
      "  [0.87595332 0.3756009  0.6522598  0.17259621 0.31090605 0.34562343]\n",
      "  [0.49389594 0.01667717 0.25624548 0.40376799 0.99397902 0.50199867]]]\n"
     ]
    }
   ],
   "source": [
    "# Passing no arguments to generate a single random number.\n",
    "print(\"\\033[1m\" + \"Generates a single random number:\" + \"\\033[0m\")\n",
    "print(np.random.rand())\n",
    "print()\n",
    "\n",
    "# Passing (x, y) arguments will return x arrays with y values in each.\n",
    "print(\"\\033[1m\" + \"Generates 2 arrays with 4 random numbers in each:\" + \"\\033[0m\")\n",
    "print(np.random.rand(2, 4))\n",
    "print()\n",
    "\n",
    "# Passing x * y * z will return x arrays containing y arrays that have z values.\n",
    "print(\"\\033[1m\" + \"Generates 2 arrays with each containing 4 arrays and each of those containing 6 random numbers:\" + \"\\033[0m\")\n",
    "print(np.random.rand(2, 4, 6))\n"
   ]
  },
  {
   "cell_type": "markdown",
   "metadata": {},
   "source": [
    "<br>\n",
    "\n",
    "#### Distribution\n",
    "\n",
    "The numbers from **rand** are generated from a continuous uniform distribution, meaning that every number in the \\[0, 1) range has an equal chance of being returned as any other. The plot below demonstrates this distribution across 10,000 randomly generated numbers from the **rand** function."
   ]
  },
  {
   "cell_type": "code",
   "execution_count": 3,
   "metadata": {},
   "outputs": [
    {
     "data": {
      "image/png": "[encoded data removed]",
      "text/plain": [
       "<Figure size 432x288 with 1 Axes>"
      ]
     },
     "metadata": {
      "needs_background": "light"
     },
     "output_type": "display_data"
    }
   ],
   "source": [
    "# Demonstrating the uniform distribution of the rand function.\n",
    "x = np.random.rand(10000)\n",
    "plt.hist(x)\n",
    "plt.title(\"uniform distribution of rand function\")\n",
    "plt.show()"
   ]
  },
  {
   "cell_type": "markdown",
   "metadata": {},
   "source": [
    "<br>\n",
    "\n",
    "#### Similar Functions"
   ]
  },
  {
   "cell_type": "markdown",
   "metadata": {},
   "source": [
    "##### random_sample\n",
    "\n",
    "There are several functions in the numpy.random package that are all variations of the same function and related to **rand**:\n",
    "\n",
    "1. np.random.random\n",
    "2. np.random.ranf\n",
    "3. np.random.sample\n",
    "4. np.random.random_sample\n",
    "\n",
    "These functions can all be considered synonymous with each other, basically aliases for **random_sample**, kept in the package as they may be used by different communities.[<sup>1</sup>](https://stackoverflow.com/a/18829377) Below demonstrates how they all the perform the same function. "
   ]
  },
  {
   "cell_type": "code",
   "execution_count": 4,
   "metadata": {},
   "outputs": [
    {
     "name": "stdout",
     "output_type": "stream",
     "text": [
      "True\n",
      "True\n",
      "True\n"
     ]
    }
   ],
   "source": [
    "# Demonstrating how the below functions are all the same\n",
    "print(np.random.random_sample == np.random.random)\n",
    "\n",
    "print(np.random.random_sample == np.random.ranf)\n",
    "\n",
    "print(np.random.random_sample == np.random.sample)"
   ]
  },
  {
   "cell_type": "markdown",
   "metadata": {},
   "source": [
    "**random_sample** is essentially the same as the **rand** function except for one very important distinction: while **rand** takes multiple arguments to build the shape of an array, **random_sample** only accepts one argument. To build a multi-dimensional array with **random_sample**, a tuple must be passed for it to function correctly[<sup>2</sup>](https://stackoverflow.com/a/47232184). This can be useful when there are variables containing tuples from which one wants to create an array of random numbers."
   ]
  },
  {
   "cell_type": "code",
   "execution_count": 5,
   "metadata": {},
   "outputs": [
    {
     "name": "stdout",
     "output_type": "stream",
     "text": [
      "\u001b[1m2 x 4 array from rand:\u001b[0m\n",
      "[[0.46215566 0.40642727 0.59289052 0.08234942]\n",
      " [0.19240694 0.20382345 0.1923202  0.53595279]]\n",
      "\n",
      "\u001b[1m2 x 4 array from random_sample:\u001b[0m\n",
      "[[0.32078932 0.70156045 0.28955566 0.76804022]\n",
      " [0.25091614 0.88964611 0.9312913  0.19997767]]\n",
      "\n",
      "\u001b[1m2 x 4 array from random_sample using a variable containing a tuple:\u001b[0m\n",
      "[[0.98060616 0.2462734  0.51444305 0.20355758]\n",
      " [0.12494841 0.08276516 0.60339889 0.49667437]]\n"
     ]
    }
   ],
   "source": [
    "# Demonstrating the difference between rand and random_sample.\n",
    "print(\"\\033[1m\" + \"2 x 4 array from rand:\" + \"\\033[0m\")\n",
    "print(np.random.rand(2, 4))\n",
    "print()\n",
    "\n",
    "# Passing a tuple\n",
    "print(\"\\033[1m\" + \"2 x 4 array from random_sample:\" + \"\\033[0m\")\n",
    "print(np.random.random_sample((2, 4)))\n",
    "print()\n",
    "\n",
    "# Passing a variable that contains a tuple\n",
    "t = (2, 4)\n",
    "print(\"\\033[1m\" + \"2 x 4 array from random_sample using a variable containing a tuple:\" + \"\\033[0m\")\n",
    "print(np.random.random_sample(t))\n"
   ]
  },
  {
   "cell_type": "markdown",
   "metadata": {},
   "source": [
    "\n",
    "##### uniform\n",
    "\n",
    "The \\[0, 1) range cannot be adjusted within the **rand** function, but there is a related function within numpy.random called **uniform**, which works in largely the same way as **rand** but allows a custom range to be passed. Again this is a half open interval, generating numbers greater than or equal to the low number and less than the high number. Below is an example of the function in operation and further illustration demonstrating the uniform probability distribution."
   ]
  },
  {
   "cell_type": "code",
   "execution_count": 6,
   "metadata": {},
   "outputs": [
    {
     "name": "stdout",
     "output_type": "stream",
     "text": [
      "\u001b[1mGenerates 2 arrays with 4 random numbers in each within the custom range [-5, 10):\u001b[0m\n",
      "[[ 4.44851736 -0.36013426 -1.1414711  -4.85176323]\n",
      " [ 8.18028769 -4.87276733  6.10220467  0.79599985]]\n",
      "\n",
      "\u001b[1mGenerates 4 random numbers in the custom range [-5, 10):\u001b[0m\n",
      "[ 6.40569321 -3.28989389  2.75768064  0.64645172]\n",
      "\n"
     ]
    },
    {
     "data": {
      "image/png": "[encoded data removed]",
      "text/plain": [
       "<Figure size 432x288 with 1 Axes>"
      ]
     },
     "metadata": {
      "needs_background": "light"
     },
     "output_type": "display_data"
    }
   ],
   "source": [
    "# Passing low and high arguments with size of (x, y) arguments will return x arrays with y values in each.\n",
    "print(\"\\033[1m\" + \"Generates 2 arrays with 4 random numbers in each within the custom range [-5, 10):\" + \"\\033[0m\")\n",
    "print(np.random.uniform(low=-5, high=10, size =(2, 4)))\n",
    "print()\n",
    "\n",
    "# Demonstrating it is not necessary to have 'low=' or 'high=' to operate the function. \n",
    "# 'size=' is necessary if more than one array is required.\n",
    "print(\"\\033[1m\" + \"Generates 4 random numbers in the custom range [-5, 10):\" + \"\\033[0m\")\n",
    "print(np.random.uniform(-5, 10, 4))\n",
    "print()\n",
    "\n",
    "# Demonstrating the uniform distribution of the uniform function.\n",
    "x = np.random.uniform(-10, 10, 10000)\n",
    "plt.hist(x)\n",
    "plt.title(\"uniform distribution of uniform function\")\n",
    "plt.show()"
   ]
  },
  {
   "cell_type": "markdown",
   "metadata": {},
   "source": [
    "<br>\n",
    "\n",
    "### RANDN\n",
    "\n",
    "**randn** functions in the same way as **rand** when generating numbers. Without any arguments, it will produce a single randomly generated number and with arguments will produce increasingly complex arrays of numbers. "
   ]
  },
  {
   "cell_type": "code",
   "execution_count": 7,
   "metadata": {},
   "outputs": [
    {
     "name": "stdout",
     "output_type": "stream",
     "text": [
      "\u001b[1mGenerates a single random number:\u001b[0m\n",
      "0.6916803754065949\n",
      "\n",
      "\u001b[1mGenerates 2 arrays with 4 random numbers in each:\u001b[0m\n",
      "[[ 0.25642714 -1.23109025  0.24805222 -0.6980133 ]\n",
      " [ 0.72570639 -2.2130722   0.09432736  0.50498231]]\n",
      "\n",
      "\u001b[1mGenerates 2 arrays with each containing 4 arrays and each of those containing 6 random numbers:\u001b[0m\n",
      "[[[-0.71629869  0.24115265  0.9563602   0.65666875  0.02423457\n",
      "    0.05562764]\n",
      "  [ 0.61186734 -0.75113659 -0.4992501  -1.04176597  0.75280473\n",
      "   -1.43505557]\n",
      "  [-0.49088382 -0.45894518 -1.32435822 -2.37125785  1.05666697\n",
      "    0.16339551]\n",
      "  [-0.34980032  1.6730414  -0.69984574 -1.46108404  0.10414739\n",
      "    1.36201121]]\n",
      "\n",
      " [[ 1.27058793  2.55576198 -0.27283462 -0.72923435 -0.38017207\n",
      "   -0.66660924]\n",
      "  [-0.08011414  0.55326406  0.08487759 -1.20958057 -0.49957757\n",
      "    1.61418546]\n",
      "  [-1.16530377  0.93468051 -0.73852357 -0.42852831 -0.56199717\n",
      "   -2.4137573 ]\n",
      "  [ 1.96505173 -0.64267322 -1.63231055  2.14970846 -1.56848918\n",
      "    1.20491894]]]\n"
     ]
    }
   ],
   "source": [
    "# Passing no arguments to generate a single random number:\n",
    "print(\"\\033[1m\" + \"Generates a single random number:\" + \"\\033[0m\")\n",
    "print(np.random.randn())\n",
    "print()\n",
    "\n",
    "# Passing (x, y) arguments will return x arrays with y values in each\n",
    "print(\"\\033[1m\" + \"Generates 2 arrays with 4 random numbers in each:\" + \"\\033[0m\")\n",
    "print(np.random.randn(2, 4))\n",
    "print()\n",
    "\n",
    "# Passing x * y * z will return x arrays containing y arrays that have z values\n",
    "print(\"\\033[1m\" + \"Generates 2 arrays with each containing 4 arrays and each of those containing 6 random numbers:\" + \"\\033[0m\")\n",
    "print(np.random.randn(2, 4, 6))\n"
   ]
  },
  {
   "cell_type": "markdown",
   "metadata": {},
   "source": [
    "<br>\n",
    "\n",
    "#### Distribution\n",
    "\n",
    "What separates the **randn** function from **rand** is that numbers are generated from a normal Gaussian distribution rather that a uniform distribution. In this function the normal distribution has a mean of 0 and a variance of 1. This means that the majority of numbers generated centre around 0 and generally range between -1 and 1. The plot below helps to illustrate this; of the 10,000 numbers generated, the vast majority are within the -1 to 1 range and peak at the 0 mark. Looking again at the numbers generated above, it can be seen that they largely sit within the range (-1, 1)."
   ]
  },
  {
   "cell_type": "code",
   "execution_count": 8,
   "metadata": {},
   "outputs": [
    {
     "data": {
      "image/png": "[encoded data removed]",
      "text/plain": [
       "<Figure size 432x288 with 1 Axes>"
      ]
     },
     "metadata": {
      "needs_background": "light"
     },
     "output_type": "display_data"
    }
   ],
   "source": [
    "# Demonstrating the normal distribution of the randn function.\n",
    "x = np.random.randn(10000)\n",
    "plt.hist(x)\n",
    "plt.title(\"normal distribution of randn function\")\n",
    "plt.show()"
   ]
  },
  {
   "cell_type": "markdown",
   "metadata": {},
   "source": [
    "<br>\n",
    "\n",
    "#### Similar Functions"
   ]
  },
  {
   "cell_type": "markdown",
   "metadata": {},
   "source": [
    "##### standard_normal\n",
    "\n",
    "Like **rand** and **random_sample**, **randn** has the same relationship with another numpy.random function called **standard_normal**, which only takes a single argument but can accept tuples.  "
   ]
  },
  {
   "cell_type": "code",
   "execution_count": 9,
   "metadata": {},
   "outputs": [
    {
     "name": "stdout",
     "output_type": "stream",
     "text": [
      "\u001b[1m2 x 4 array from randn:\u001b[0m\n",
      "[[ 0.07741362 -0.81901598  1.49365662 -1.29190741]\n",
      " [-0.23037316  0.83277121 -0.3103418   1.73397682]]\n",
      "\n",
      "\u001b[1m2 x 4 array from standard_normal:\u001b[0m\n",
      "[[-0.40601376  0.19287002  1.02135949 -0.33877105]\n",
      " [ 0.42763564 -0.83974126 -0.87233211 -0.92733359]]\n",
      "\n",
      "\u001b[1m2 x 4 array from standard_normal using a variable containing a tuple:\u001b[0m\n",
      "[[ 1.64879227  1.03449852 -1.01878167  0.18360596]\n",
      " [-0.42246888  0.27491695 -1.26256551  0.44982309]]\n"
     ]
    }
   ],
   "source": [
    "# Demonstrating the difference between randn and standard_normal.\n",
    "print(\"\\033[1m\" + \"2 x 4 array from randn:\" + \"\\033[0m\")\n",
    "print(np.random.randn(2, 4))\n",
    "print()\n",
    "\n",
    "# Passing a tuple\n",
    "print(\"\\033[1m\" + \"2 x 4 array from standard_normal:\" + \"\\033[0m\")\n",
    "print(np.random.standard_normal((2, 4)))\n",
    "print()\n",
    "\n",
    "# Passing a variable that contains a tuple\n",
    "t = (2, 4)\n",
    "print(\"\\033[1m\" + \"2 x 4 array from standard_normal using a variable containing a tuple:\" + \"\\033[0m\")\n",
    "print(np.random.standard_normal(t))\n"
   ]
  },
  {
   "cell_type": "markdown",
   "metadata": {},
   "source": [
    "\n",
    "##### normal\n",
    "\n",
    "Again similar to **rand**'s range, the mean (0) and standard deviation (1) cannot be altered within the **randn** function but there is another function in the numpy.random package that returns random numbers from a customised normal distribution range. The **normal** function takes a *loc* argument to determine the mean, a *scale* argument for the standard deviation, and a *size* argument for the output shape. In each of the functions below, the output should largely be in the range (2, 8) and centre around 5.      "
   ]
  },
  {
   "cell_type": "code",
   "execution_count": 10,
   "metadata": {},
   "outputs": [
    {
     "name": "stdout",
     "output_type": "stream",
     "text": [
      "\u001b[1mGenerates 2 arrays with 4 random numbers from the custom normal distribution:\u001b[0m\n",
      "[[9.38668331 3.53597665 2.5032129  8.67228764]\n",
      " [8.92792624 6.40703255 1.77822277 1.64814971]]\n",
      "\n",
      "\u001b[1mGenerates 4 random numbers from the custom normal distribution:\u001b[0m\n",
      "[8.57854066 2.63204239 7.84849227 7.21715936]\n",
      "\n"
     ]
    },
    {
     "data": {
      "image/png": "[encoded data removed]",
      "text/plain": [
       "<Figure size 432x288 with 1 Axes>"
      ]
     },
     "metadata": {
      "needs_background": "light"
     },
     "output_type": "display_data"
    }
   ],
   "source": [
    "# Passing loc and scale arguments with size of (x, y) arguments will return x arrays with y values in each.\n",
    "print(\"\\033[1m\" + \"Generates 2 arrays with 4 random numbers from the custom normal distribution:\" + \"\\033[0m\")\n",
    "print(np.random.normal(loc=5, scale=3, size =(2, 4)))\n",
    "print()\n",
    "\n",
    "# Demonstrating it is not necessary to have 'loc=' or 'scale=' to operate the function. \n",
    "# 'size=' is necessary if more than one array is required.\n",
    "print(\"\\033[1m\" + \"Generates 4 random numbers from the custom normal distribution:\" + \"\\033[0m\")\n",
    "print(np.random.normal(5, 3, 4))\n",
    "print()\n",
    "\n",
    "# Demonstrating the normal distribution of the normal function.\n",
    "x = np.random.normal(5, 3, 10000)\n",
    "plt.hist(x)\n",
    "plt.title(\"normal distribution of normal function\")\n",
    "plt.show()"
   ]
  },
  {
   "cell_type": "markdown",
   "metadata": {},
   "source": [
    "<br>\n",
    "\n",
    "### RANDINT\n",
    "\n",
    "The functions explored so far all return random floating point numbers. If randomly generated integers are required, there is the **randint** function which returns random integers of a given range. The function  requires at least one argument to operate. If a single argument is provided, the function will return a number from the range 0 up to but not including the number passed, making it a half open interval. If a float rather than integer is passed, it will round down to the nearest integer. "
   ]
  },
  {
   "cell_type": "code",
   "execution_count": 11,
   "metadata": {
    "scrolled": true
   },
   "outputs": [
    {
     "name": "stdout",
     "output_type": "stream",
     "text": [
      "9\n",
      "2\n"
     ]
    }
   ],
   "source": [
    "# Returns single random integer between 0-9 inclusive.\n",
    "print(np.random.randint(10))\n",
    "\n",
    "# Returns single random integer between 0-4 inclusive.\n",
    "print(np.random.randint(5.925))"
   ]
  },
  {
   "cell_type": "markdown",
   "metadata": {},
   "source": [
    "<br>\n",
    "\n",
    "If two arguments are provided to **randint**, the first will be considered the lowest included number in the range and the second represents the number one above the highest possible number in the range. \n",
    "\n",
    "**randint** can also take an argument that dictates the shape of the output, either a single value for an array of that many numbers or a tuple for multi-dimensional arrays."
   ]
  },
  {
   "cell_type": "code",
   "execution_count": 12,
   "metadata": {},
   "outputs": [
    {
     "name": "stdout",
     "output_type": "stream",
     "text": [
      "\u001b[1mGenerates 1 random number between 5-10 inclusive:\u001b[0m\n",
      "5\n",
      "\n",
      "\u001b[1mGenerates 3 random numbers between 5-10 inclusive:\u001b[0m\n",
      "[8 7 7]\n",
      "\n",
      "\u001b[1mGenerates 2 arrays of 4 random numbers in each between 5-10 inclusive:\u001b[0m\n",
      "[[10 10  8  9]\n",
      " [ 8  8  6  5]]\n"
     ]
    }
   ],
   "source": [
    "# Returns single random integer between 5-10 inclusive.\n",
    "print(\"\\033[1m\" + \"Generates 1 random number between 5-10 inclusive:\" + \"\\033[0m\")\n",
    "print(np.random.randint(5, 11))\n",
    "print()\n",
    "\n",
    "print(\"\\033[1m\" + \"Generates 3 random numbers between 5-10 inclusive:\" + \"\\033[0m\")\n",
    "print(np.random.randint(5, 11, 3))\n",
    "print()\n",
    "\n",
    "print(\"\\033[1m\" + \"Generates 2 arrays of 4 random numbers in each between 5-10 inclusive:\" + \"\\033[0m\")\n",
    "print(np.random.randint(5, 11, size=(2, 4)))"
   ]
  },
  {
   "cell_type": "markdown",
   "metadata": {},
   "source": [
    "<br>\n",
    "\n",
    "There is a relatively new parameter in the **randint** function, which allows the output datatype to be specified. Different types of integer will be take up different amounts of storage space [<sup>3</sup>](https://stackoverflow.com/a/9696777) and so this parameter is useful if dealing with extremely large amounts of data. Each piece of code below generates the number 5 and the output demonstrates the number of bytes it takes to store each number 5, depending on the datatype argument. [<sup>4</sup>](https://stackoverflow.com/a/14329864) As would be expected, the *int64* type takes up more space than the *int8* type."
   ]
  },
  {
   "cell_type": "code",
   "execution_count": 13,
   "metadata": {},
   "outputs": [
    {
     "name": "stdout",
     "output_type": "stream",
     "text": [
      "25\n",
      "26\n",
      "28\n",
      "32\n"
     ]
    }
   ],
   "source": [
    "w = np.random.randint(5, 6, dtype='int8')\n",
    "print(sys.getsizeof(w))\n",
    "\n",
    "x = np.random.randint(5, 6, dtype='int16')\n",
    "print(sys.getsizeof(x))\n",
    "\n",
    "y = np.random.randint(5, 6, dtype='int32')\n",
    "print(sys.getsizeof(y))\n",
    "\n",
    "z = np.random.randint(5, 6, dtype='int64')\n",
    "print(sys.getsizeof(z))"
   ]
  },
  {
   "cell_type": "markdown",
   "metadata": {},
   "source": [
    "<br>\n",
    "\n",
    "#### Distribution\n",
    "\n",
    "**randint** generates random integers from a discrete uniform distribution, meaning that there is a finite amount of values that can be generated but each one has an equal change of being returned. Below, every integer on the range (0, 1000) inclusive has an equal chance of being called across 10,000 numbers."
   ]
  },
  {
   "cell_type": "code",
   "execution_count": 14,
   "metadata": {},
   "outputs": [
    {
     "data": {
      "image/png": "[encoded data removed]",
      "text/plain": [
       "<Figure size 432x288 with 1 Axes>"
      ]
     },
     "metadata": {
      "needs_background": "light"
     },
     "output_type": "display_data"
    }
   ],
   "source": [
    "# Demonstrating the uniform distribution of the randint function.\n",
    "x = np.random.randint(0, 1001, 10000)\n",
    "plt.hist(x)\n",
    "plt.title(\"unifrom distribution of the randint function\")\n",
    "plt.show()"
   ]
  },
  {
   "cell_type": "markdown",
   "metadata": {},
   "source": [
    "<br>\n",
    "\n",
    "#### Similar Functions\n",
    "\n",
    "There's another function listed in the numpy.random package called **random_integer** but this has been deprecated according to the documentation with the recommendation that **randint** be used instead."
   ]
  },
  {
   "cell_type": "markdown",
   "metadata": {},
   "source": [
    "<br>\n",
    "\n",
    "#### Practical Example\n",
    "\n",
    "Below is an example **randint** being used to simulate the answers provided by Magic 8 Ball. Each answer is assigned to an integer and when an integer is randomly generated from the **randint** function, the appropriate reply is returned.<sup>5</sup> "
   ]
  },
  {
   "cell_type": "code",
   "execution_count": 15,
   "metadata": {},
   "outputs": [
    {
     "name": "stdout",
     "output_type": "stream",
     "text": [
      "Will I be late for work in the morning?\n",
      "Doubtful\n"
     ]
    }
   ],
   "source": [
    "# Magic 8 Ball simulation\n",
    "# help from Automate the boring stuff p. 64\n",
    "\n",
    "def Answer(number):\n",
    "    if number == 1: \n",
    "        return \"Yes.\"\n",
    "    elif number == 2:\n",
    "        return \"Most likely.\"\n",
    "    elif number == 3:\n",
    "        return \"All signs point to yes.\"\n",
    "    elif number == 4:\n",
    "        return \"Ask again later.\"\n",
    "    elif number == 5:\n",
    "        return \"Possibly.\"\n",
    "    elif number == 6:\n",
    "        return \"Outlook not so good.\"\n",
    "    elif number == 7:\n",
    "        return \"Doubtful\"\n",
    "    elif number == 8:\n",
    "        return \"No.\"\n",
    "    \n",
    "print(\"Will I be late for work in the morning?\")\n",
    "print(Answer(np.random.randint(1, 9)))"
   ]
  },
  {
   "cell_type": "markdown",
   "metadata": {},
   "source": [
    "<br>\n",
    "\n",
    "### CHOICE\n",
    "\n",
    "**choice** is similar to **randint** in that it can generate random integers in a particular array shape. However, **choice** can accept ndarrays, tuples and lists as input, meaning that it has the potential to randomise non-numerical data, such as strings.\n",
    "\n",
    "With only one argument passed, **choice** will return a single random integer from 0 up to but not including the number entered, just as **randint** does."
   ]
  },
  {
   "cell_type": "code",
   "execution_count": 16,
   "metadata": {},
   "outputs": [
    {
     "name": "stdout",
     "output_type": "stream",
     "text": [
      "\u001b[1mGenerates 1 random number between 0-9 inclusive:\u001b[0m\n",
      "4\n",
      "\n",
      "\u001b[1mGenerates 3 random numbers from an array:\u001b[0m\n",
      "[6 5 0]\n",
      "\n",
      "\u001b[1mGenerates 3 random numbers from a tuple:\u001b[0m\n",
      "[7 4 7]\n",
      "\n",
      "\u001b[1mGenerates 3 random names from a list:\u001b[0m\n",
      "['John' 'John' 'John']\n"
     ]
    }
   ],
   "source": [
    "# Returns single random integer\n",
    "print(\"\\033[1m\" + \"Generates 1 random number between 0-9 inclusive:\" + \"\\033[0m\")\n",
    "print(np.random.choice(10))\n",
    "print()\n",
    "\n",
    "# Returns random numbers from an array:\n",
    "arr = np.arange(10)\n",
    "print(\"\\033[1m\" + \"Generates 3 random numbers from an array:\" + \"\\033[0m\")\n",
    "print(np.random.choice(arr, size=3))\n",
    "print()\n",
    "\n",
    "# Returns random numbers from a tuple\n",
    "tup = (4, 6, 7, 10, 15)\n",
    "print(\"\\033[1m\" + \"Generates 3 random numbers from a tuple:\" + \"\\033[0m\")\n",
    "print(np.random.choice(tup, size=3))\n",
    "print()\n",
    "\n",
    "# Returns random non-numerical values from a list\n",
    "lst = [\"Mary\", \"John\", \"Helen\", \"Tony\"]\n",
    "print(\"\\033[1m\" + \"Generates 3 random names from a list:\" + \"\\033[0m\")\n",
    "print(np.random.choice(lst, size=3))"
   ]
  },
  {
   "cell_type": "markdown",
   "metadata": {},
   "source": [
    "<br>\n",
    "\n",
    "The previously discussed functions can potentially repeat numbers from a range in the output array, and **choice** also does this by default. However, **choice** has a parameter called *replace*, a true/false boolean that is set to True by default but, if set to False by the user, will generate an output of unique values. In this case, once a value has been randomly generated, it is removed from the pool of available values and cannot be generated again. However, if the total number of values to choose from is smaller than the output shape specified (*size*) and *replace* is set to False, a *ValueError* will occur because there are not enough elements to fulfill the desired output without repeating any of them."
   ]
  },
  {
   "cell_type": "code",
   "execution_count": 17,
   "metadata": {},
   "outputs": [
    {
     "name": "stdout",
     "output_type": "stream",
     "text": [
      "\u001b[1mGenerates 3 random names from a list with no duplicates:\u001b[0m\n",
      "['John' 'Helen' 'Mary']\n"
     ]
    }
   ],
   "source": [
    "# Returns random values from a list with no duplicates:\n",
    "print(\"\\033[1m\" + \"Generates 3 random names from a list with no duplicates:\" + \"\\033[0m\")\n",
    "print(np.random.choice(lst, size=3, replace=False))\n"
   ]
  },
  {
   "cell_type": "markdown",
   "metadata": {},
   "source": [
    "<br>\n",
    "\n",
    "#### Distribution\n",
    "\n",
    "By default, **choice** randomly picks values from a discrete uniform distribution but has an optional parameter, *p*, which allows the user to adjust the probability of each individual value appearing in the output. The number of values passed to *p* must be equal to the amount of elements available in the input and these *p* values must sum up to 1, to account for a total 100% probability. \n",
    "\n",
    "To illustrate this, the code below generates 1000 numbers from the range (0, 11]. As required, there is a *p* value for every element in this range. Most of the numbers have been given 0% probability of being returned but numbers 1, 5 and 10 have a 60%, 10%, and 30% chance of appearing in the output respectively. The plot shows that, of the 1000 numbers generated, 600 were ones, 100 were fives and 300 were tens."
   ]
  },
  {
   "cell_type": "code",
   "execution_count": 43,
   "metadata": {},
   "outputs": [
    {
     "data": {
      "image/png": "[encoded data removed]",
      "text/plain": [
       "<Figure size 432x288 with 1 Axes>"
      ]
     },
     "metadata": {
      "needs_background": "light"
     },
     "output_type": "display_data"
    }
   ],
   "source": [
    "# Customising the probability of each input element and plotting the output.\n",
    "x = np.random.choice((np.arange(11)), p = (0, 0.6, 0, 0, 0, 0.1, 0, 0, 0, 0, 0.3), size = 1000)\n",
    "plt.hist(x)\n",
    "plt.title(\"custom probabilities\")\n",
    "plt.show()"
   ]
  },
  {
   "cell_type": "markdown",
   "metadata": {},
   "source": [
    "<br>\n",
    "\n",
    "#### Practical Example\n",
    "\n",
    "Below is an example of **choice** being used to simulate the drawing of hands from a deck of cards. A list containing the 52 cards of a deck is created[<sup>6</sup>](http://www.spronck.net/pythonbook/pythonbook.pdf) and **choice** allows the user to draw 4 hands of five cards each with no duplications. "
   ]
  },
  {
   "cell_type": "code",
   "execution_count": 19,
   "metadata": {},
   "outputs": [
    {
     "data": {
      "text/plain": [
       "array([['Jack of Hearts', 'Jack of Spades', '4 of Spades', '6 of Hearts',\n",
       "        '7 of Hearts'],\n",
       "       ['3 of Clubs', 'Queen of Diamonds', 'Ace of Spades',\n",
       "        '7 of Diamonds', '9 of Spades'],\n",
       "       ['2 of Hearts', 'Queen of Hearts', '8 of Clubs', '2 of Clubs',\n",
       "        '5 of Hearts'],\n",
       "       ['5 of Diamonds', '5 of Clubs', 'Ace of Diamonds',\n",
       "        'Jack of Clubs', 'Ace of Hearts']], dtype='<U17')"
      ]
     },
     "execution_count": 19,
     "metadata": {},
     "output_type": "execute_result"
    }
   ],
   "source": [
    "# Creating a deck of cards.\n",
    "cards = []\n",
    "values = [\"2\", \"3\", \"4\", \"5\", \"6\", \"7\", \"8\", \"9\", \"10\", \"Jack\", \"Queen\", \"King\", \"Ace\"]\n",
    "suits = [\"Hearts\", \"Diamonds\", \"Spades\", \"Clubs\"]\n",
    "\n",
    "for value in values:\n",
    "    for suit in suits:\n",
    "        cards.append(f\"{value} of {suit}\")\n",
    "\n",
    "    \n",
    "# Deals 4 hands with 5 cards in each and no duplicates.\n",
    "hands = np.random.choice(cards, size=(4,5), replace=False)  \n",
    "hands"
   ]
  },
  {
   "cell_type": "markdown",
   "metadata": {},
   "source": [
    "<br>\n",
    "\n",
    "### bytes\n",
    "\n",
    "The final function from the *Simple Random Data* section of the numpy.random package that I will discuss simply takes a single integer argument and generates a random sample of bytes of that length. **bytes** is an excellent function for efficiently generating a huge amounts of random data,[<sup>7</sup>](stefanocappellini.it/generate-pseudorandom-bytes-with-python/) which is useful for testing code. The below code generates 30 random bytes. "
   ]
  },
  {
   "cell_type": "code",
   "execution_count": 20,
   "metadata": {},
   "outputs": [
    {
     "data": {
      "text/plain": [
       "b'\\xa0\\x81\\x11\\x88\\x88v\\x80\\xe4s\\xe1V\\x0fe\\xe5?\\x9f#=\\x9d&\\xf4f\\xcf1\\xb2_\\xf1\\x07V-'"
      ]
     },
     "execution_count": 20,
     "metadata": {},
     "output_type": "execute_result"
    }
   ],
   "source": [
    "# Random byte generation\n",
    "np.random.bytes(30)"
   ]
  },
  {
   "cell_type": "markdown",
   "metadata": {},
   "source": [
    "<br>\n",
    "\n",
    "## Permutations\n",
    "\n",
    "There are two separate but related functions in the numpy.random package that randomly rearrange the order of existing data or create a shuffled range of numbers."
   ]
  },
  {
   "cell_type": "markdown",
   "metadata": {},
   "source": [
    "### SHUFFLE\n",
    "\n",
    "As the name suggests, **shuffle** shuffles the contents of a given list or array in place. This means that, unlike previous functions that can return the output when called, **shuffle** alters a variable and its effect can't be observed until the variable itself is called. The function takes one argument only, the list or array to be shuffled. It does not accept tuples as they are immutable and thus cannot be modified by shuffling the contents."
   ]
  },
  {
   "cell_type": "code",
   "execution_count": 21,
   "metadata": {},
   "outputs": [
    {
     "name": "stdout",
     "output_type": "stream",
     "text": [
      "\u001b[1mOutput from attempting to print shuffle command:\u001b[0m\n",
      "None\n",
      "\n",
      "\u001b[1mOriginal array:\u001b[0m\n",
      "[1 2 3 4 5 6]\n",
      "\n",
      "\u001b[1mShuffled array:\u001b[0m\n",
      "[6 1 4 3 5 2]\n",
      "\n",
      "\u001b[1mOriginal deck order:\u001b[0m\n",
      "['2 of Hearts', '2 of Diamonds', '2 of Spades', '2 of Clubs', '3 of Hearts', '3 of Diamonds', '3 of Spades', '3 of Clubs', '4 of Hearts', '4 of Diamonds', '4 of Spades', '4 of Clubs', '5 of Hearts', '5 of Diamonds', '5 of Spades']\n",
      "\n",
      "\u001b[1mShuffled deck order:\u001b[0m\n",
      "['7 of Spades', '7 of Clubs', 'Ace of Clubs', '8 of Hearts', '7 of Hearts', '4 of Diamonds', '2 of Hearts', 'Jack of Clubs', '3 of Spades', '5 of Diamonds', 'Ace of Hearts', '8 of Clubs', '9 of Clubs', '10 of Spades', '2 of Spades']\n"
     ]
    }
   ],
   "source": [
    "# Demonstrating how shuffle operates in place.\n",
    "print(\"\\033[1m\" + \"Output from attempting to print shuffle command:\" + \"\\033[0m\")\n",
    "print(np.random.shuffle([1, 2, 3]))\n",
    "print()\n",
    "\n",
    "# Shuffling a 1D array of numbers.\n",
    "x = np.array([1, 2, 3, 4, 5, 6])\n",
    "print(\"\\033[1m\" + \"Original array:\" + \"\\033[0m\")\n",
    "print(x)\n",
    "print()\n",
    "np.random.shuffle(x)\n",
    "print(\"\\033[1m\" + \"Shuffled array:\" + \"\\033[0m\")\n",
    "print(x)\n",
    "print()\n",
    "\n",
    "# Shuffling a list using the deck of cards created earlier.\n",
    "print(\"\\033[1m\" + \"Original deck order:\" + \"\\033[0m\")\n",
    "print(cards[:15])\n",
    "print()\n",
    "np.random.shuffle(cards)\n",
    "print(\"\\033[1m\" + \"Shuffled deck order:\" + \"\\033[0m\")\n",
    "print(cards[:15])"
   ]
  },
  {
   "cell_type": "markdown",
   "metadata": {},
   "source": [
    "<br>\n",
    "\n",
    "If a multidimensional array is passed, only the outermost arrays will be shuffled. The order of inner arrays and individual elements are not affected by **shuffle**. The 3D array below consists of 3 arrays, each containing 2 arrays of 3 elements each. When this array is passed through the **shuffle** function, only the first 3 arrays are rearranged.   "
   ]
  },
  {
   "cell_type": "code",
   "execution_count": 22,
   "metadata": {},
   "outputs": [
    {
     "data": {
      "text/plain": [
       "array([[[ 7,  8,  9],\n",
       "        [10, 11, 12]],\n",
       "\n",
       "       [[13, 14, 15],\n",
       "        [16, 17, 18]],\n",
       "\n",
       "       [[ 1,  2,  3],\n",
       "        [ 4,  5,  6]]])"
      ]
     },
     "execution_count": 22,
     "metadata": {},
     "output_type": "execute_result"
    }
   ],
   "source": [
    "# shuffling a 3D numpy array\n",
    "x = np.array([[[1, 2, 3],[4, 5, 6]], [[7, 8, 9], [10, 11, 12]], [[13, 14, 15], [16, 17, 18]]])\n",
    "np.random.shuffle(x)\n",
    "x"
   ]
  },
  {
   "cell_type": "markdown",
   "metadata": {},
   "source": [
    "To shuffle the innermost elements of a multi-dimensional array, you can first change it to a 1D array, perform shuffle and then return the array to its original shape.[<sup>8</sup>](https://www.science-emergence.com/Articles/How-to-randomly-shuffle-an-array-in-python-using-numpy/) "
   ]
  },
  {
   "cell_type": "code",
   "execution_count": 23,
   "metadata": {},
   "outputs": [
    {
     "name": "stdout",
     "output_type": "stream",
     "text": [
      "\u001b[1m3D array:\u001b[0m\n",
      "[[[ 1  2  3]\n",
      "  [ 4  5  6]]\n",
      "\n",
      " [[ 7  8  9]\n",
      "  [10 11 12]]]\n",
      "\n",
      "\u001b[1m3D array changed to 1D array:\u001b[0m\n",
      "[ 1  2  3  4  5  6  7  8  9 10 11 12]\n",
      "\n",
      "\u001b[1mShuffled 1D array:\u001b[0m\n",
      "[11 12  9  7  4  2  8  3  6  1  5 10]\n",
      "\n",
      "\u001b[1mShuffled 1D array changed back to 3D array:\u001b[0m\n",
      "[[[11 12  9]\n",
      "  [ 7  4  2]]\n",
      "\n",
      " [[ 8  3  6]\n",
      "  [ 1  5 10]]]\n"
     ]
    }
   ],
   "source": [
    "# Create 3D array\n",
    "x = np.array([[[1, 2, 3],[4, 5, 6]], [[7, 8, 9], [10, 11, 12]]])\n",
    "print(\"\\033[1m\" + \"3D array:\" + \"\\033[0m\")\n",
    "print(x)\n",
    "print()\n",
    "\n",
    "# Transform into 1D array \n",
    "x = x.ravel()\n",
    "print(\"\\033[1m\" + \"3D array changed to 1D array:\" + \"\\033[0m\")\n",
    "print(x)\n",
    "print()\n",
    "\n",
    "# Shuffle the array\n",
    "np.random.shuffle(x)\n",
    "print(\"\\033[1m\" + \"Shuffled 1D array:\" + \"\\033[0m\")\n",
    "print(x)\n",
    "print()\n",
    "\n",
    "# Transform back to 3D array\n",
    "x = x.reshape(2, 2, 3)\n",
    "print(\"\\033[1m\" + \"Shuffled 1D array changed back to 3D array:\" + \"\\033[0m\")\n",
    "print(x)"
   ]
  },
  {
   "cell_type": "markdown",
   "metadata": {},
   "source": [
    "<br>\n",
    "\n",
    "### PERMUTATION\n",
    "\n",
    "Like the **shuffle** function, **permutation** will rearrange the contents of an array, list or tuple but, rather than affecting the input in place, returns a copy of the variable with the contents shuffled. [<sup>9</sup>](https://stackoverflow.com/a/15474335)  The original order is not affected as illustrated in the code below."
   ]
  },
  {
   "cell_type": "code",
   "execution_count": 24,
   "metadata": {},
   "outputs": [
    {
     "name": "stdout",
     "output_type": "stream",
     "text": [
      "\u001b[1mVariable x:\u001b[0m\n",
      "(1, 2, 3, 4, 5, 6)\n",
      "\n",
      "\u001b[1mPermuted instance of x:\u001b[0m\n",
      "[6 1 5 3 2 4]\n",
      "\n",
      "\u001b[1mUnaffected original x:\u001b[0m\n",
      "(1, 2, 3, 4, 5, 6)\n"
     ]
    }
   ],
   "source": [
    "# Demonstrating that permutation does not affect original variable\n",
    "x = (1, 2, 3, 4, 5, 6)\n",
    "print(\"\\033[1m\" + \"Variable x:\" + \"\\033[0m\")\n",
    "print(x)\n",
    "print()\n",
    "print(\"\\033[1m\" + \"Permuted instance of x:\" + \"\\033[0m\")\n",
    "print(np.random.permutation(x))\n",
    "print()\n",
    "print(\"\\033[1m\" + \"Unaffected original x:\" + \"\\033[0m\")\n",
    "print(x)"
   ]
  },
  {
   "cell_type": "markdown",
   "metadata": {},
   "source": [
    "<br>\n",
    "\n",
    "Another feature that differentiates **permutation** from **shuffle** is that **permutation** can accept a single integer argument and will return a shuffled version of a range from 0 up to but not including the integer passed. This output can also be shaped into an array as shown below. "
   ]
  },
  {
   "cell_type": "code",
   "execution_count": 25,
   "metadata": {},
   "outputs": [
    {
     "data": {
      "text/plain": [
       "array([[4, 6, 0, 9, 1],\n",
       "       [3, 5, 2, 8, 7]])"
      ]
     },
     "execution_count": 25,
     "metadata": {},
     "output_type": "execute_result"
    }
   ],
   "source": [
    "# Returning shuffled 2D array of numbers from 0-9 inclusive\n",
    "np.random.permutation(10).reshape(2, 5)"
   ]
  },
  {
   "cell_type": "markdown",
   "metadata": {},
   "source": [
    "<br>\n",
    "\n",
    "Multidimensional arrays are treated in a similar way to **shuffle** in that arrays are only shuffled along the first axis in the returned output."
   ]
  },
  {
   "cell_type": "code",
   "execution_count": 26,
   "metadata": {},
   "outputs": [
    {
     "data": {
      "text/plain": [
       "array([[[ 1,  2,  3],\n",
       "        [ 4,  5,  6]],\n",
       "\n",
       "       [[13, 14, 15],\n",
       "        [16, 17, 18]],\n",
       "\n",
       "       [[ 7,  8,  9],\n",
       "        [10, 11, 12]]])"
      ]
     },
     "execution_count": 26,
     "metadata": {},
     "output_type": "execute_result"
    }
   ],
   "source": [
    "x = np.array([[[1, 2, 3],[4, 5, 6]], [[7, 8, 9], [10, 11, 12]], [[13, 14, 15], [16, 17, 18]]])\n",
    "np.random.permutation(x)"
   ]
  },
  {
   "cell_type": "markdown",
   "metadata": {},
   "source": [
    "<br>\n",
    "\n",
    "## Probability Distributions\n",
    "\n",
    "In previous sections, the numbers generated have been drawn from either uniform or normal distributions by default but numpy.random offers 35 different probability distribution functions. \n",
    "\n",
    "\n",
    "https://www.analyticsvidhya.com/blog/2017/09/6-probability-distributions-data-science/\n",
    "\n",
    "Discrete data can only take a specific, finite number of values and is usually represented as whole numbers e.g. flipping a coin or rolling dice\n",
    "\n",
    "Continuous data can take an infinite number of values from a given range, e.g. height, weight or distance.\n",
    "\n",
    "https://onlinelibrary.wiley.com/doi/pdf/10.1002/9781119197096.app03\n",
    "\n",
    "https://www.johndcook.com/blog/2009/01/23/probability-distributions-and-object-oriented-programming/\n",
    "\n"
   ]
  },
  {
   "cell_type": "markdown",
   "metadata": {},
   "source": [
    "### Binomial\n",
    "\n",
    "The **binomial** distribution function is based on the Bernoulli distribution,  \n",
    "\n",
    "https://towardsdatascience.com/fun-with-the-binomial-distribution-96a5ecabf65b\n",
    "\n",
    "Discrete (similar to Poisson)\n",
    "\n",
    "\n",
    "Types of Bernoulli distributions https://onlinelibrary.wiley.com/doi/pdf/10.1002/9781119197096.app03\n",
    "\n",
    "Bernoulli distribution is a discrete distribution with two outcomes, i.e. yes/no, heads/tails, on/off\n",
    "\n",
    "Binary\n",
    "\n",
    "Arguments:\n",
    "- n = number of trials or events, e.g. number of times the coin is flipped\n",
    "- p = probability of success e.g. getting heads on a coin toss, 50/50 chance\n",
    "- size = the number of times "
   ]
  },
  {
   "cell_type": "code",
   "execution_count": 59,
   "metadata": {},
   "outputs": [
    {
     "name": "stdout",
     "output_type": "stream",
     "text": [
      "[2 0 3 0 0 1 2 1 2 0 0 0 1 1 3 1 1 1 0 0 0 0 2 0 0 1 0 0 0 1 1 1 1 1 1 1 2\n",
      " 0 1 3 0 3 1 0 2 0 0 1 0 3 2 0 1 1 0 2 0 0 0 0 1 0 1 3 1 0 1 1 1 1 1 1 1 1\n",
      " 0 1 0 1 2 1 1 0 0 0 0 2 1 0 1 1 0 1 1 3 2 2 0 2 1 0]\n"
     ]
    },
    {
     "data": {
      "text/plain": [
       "(array([39.,  0.,  0., 41.,  0.,  0., 13.,  0.,  0.,  7.]),\n",
       " array([0. , 0.3, 0.6, 0.9, 1.2, 1.5, 1.8, 2.1, 2.4, 2.7, 3. ]),\n",
       " <a list of 10 Patch objects>)"
      ]
     },
     "execution_count": 59,
     "metadata": {},
     "output_type": "execute_result"
    },
    {
     "data": {
      "image/png": "[encoded data removed]",
      "text/plain": [
       "<Figure size 432x288 with 1 Axes>"
      ]
     },
     "metadata": {
      "needs_background": "light"
     },
     "output_type": "display_data"
    }
   ],
   "source": [
    "x = np.random.binomial(10, 0.1, size = 100)\n",
    "print(x)\n",
    "plt.hist(x)"
   ]
  },
  {
   "cell_type": "code",
   "execution_count": 45,
   "metadata": {},
   "outputs": [
    {
     "data": {
      "text/plain": [
       "(array([2., 7., 4., 1., 1., 2., 1., 1., 0., 1.]),\n",
       " array([ 6. ,  7.7,  9.4, 11.1, 12.8, 14.5, 16.2, 17.9, 19.6, 21.3, 23. ]),\n",
       " <a list of 10 Patch objects>)"
      ]
     },
     "execution_count": 45,
     "metadata": {},
     "output_type": "execute_result"
    },
    {
     "data": {
      "image/png": "[encoded data removed]",
      "text/plain": [
       "<Figure size 432x288 with 1 Axes>"
      ]
     },
     "metadata": {
      "needs_background": "light"
     },
     "output_type": "display_data"
    }
   ],
   "source": [
    "# Negative Binomial \n",
    "x = np.random.negative_binomial(10, 0.5, 20)\n",
    "plt.hist(x)"
   ]
  },
  {
   "cell_type": "markdown",
   "metadata": {},
   "source": [
    "### Poisson\n",
    "\n",
    "Continuous (similar to binomial)\n",
    "\n",
    "\n"
   ]
  },
  {
   "cell_type": "code",
   "execution_count": 27,
   "metadata": {},
   "outputs": [
    {
     "data": {
      "text/plain": [
       "(array([ 104.,  523., 1594., 2331., 2388., 2235.,  568.,  190.,   52.,\n",
       "          15.]),\n",
       " array([ 1. ,  3.2,  5.4,  7.6,  9.8, 12. , 14.2, 16.4, 18.6, 20.8, 23. ]),\n",
       " <a list of 10 Patch objects>)"
      ]
     },
     "execution_count": 27,
     "metadata": {},
     "output_type": "execute_result"
    },
    {
     "data": {
      "image/png": "[encoded data removed]",
      "text/plain": [
       "<Figure size 432x288 with 1 Axes>"
      ]
     },
     "metadata": {
      "needs_background": "light"
     },
     "output_type": "display_data"
    }
   ],
   "source": [
    "x = np.random.poisson(10, size = 10000)\n",
    "plt.hist(x)"
   ]
  },
  {
   "cell_type": "markdown",
   "metadata": {},
   "source": [
    "### Pareto \n",
    "\n",
    "aka Lomax distribution\n",
    "\n",
    "https://machinelearningmastery.com/continuous-probability-distributions-for-machine-learning/\n",
    "\n",
    "Similar to exponential:\n",
    "https://www.allaboutlean.com/measure-cycle-time-part-1/exponential-and-pareto/"
   ]
  },
  {
   "cell_type": "code",
   "execution_count": 29,
   "metadata": {},
   "outputs": [
    {
     "data": {
      "text/plain": [
       "(array([7.120e+03, 1.963e+03, 5.830e+02, 1.990e+02, 8.300e+01, 2.400e+01,\n",
       "        1.400e+01, 7.000e+00, 4.000e+00, 3.000e+00]),\n",
       " array([4.25663569e-06, 1.34314610e-01, 2.68624964e-01, 4.02935317e-01,\n",
       "        5.37245671e-01, 6.71556024e-01, 8.05866378e-01, 9.40176731e-01,\n",
       "        1.07448708e+00, 1.20879744e+00, 1.34310779e+00]),\n",
       " <a list of 10 Patch objects>)"
      ]
     },
     "execution_count": 29,
     "metadata": {},
     "output_type": "execute_result"
    },
    {
     "data": {
      "image/png": "[encoded data removed]",
      "text/plain": [
       "<Figure size 432x288 with 1 Axes>"
      ]
     },
     "metadata": {
      "needs_background": "light"
     },
     "output_type": "display_data"
    }
   ],
   "source": [
    "x = np.random.pareto(10, size = 10000)\n",
    "plt.hist(x)"
   ]
  },
  {
   "cell_type": "markdown",
   "metadata": {},
   "source": [
    "## Gamma Distributions\n",
    "\n",
    "Continuous\n",
    "\n",
    "https://www.datacamp.com/community/tutorials/probability-distributions-python - rarely used in its raw form. exponential, chi-squared and erlang distributions are special cases of gamma distribution"
   ]
  },
  {
   "cell_type": "code",
   "execution_count": 30,
   "metadata": {},
   "outputs": [
    {
     "data": {
      "text/plain": [
       "(array([198., 287., 226., 137.,  74.,  37.,  22.,   9.,   5.,   5.]),\n",
       " array([ 0.05600519,  1.64310678,  3.23020838,  4.81730998,  6.40441158,\n",
       "         7.99151318,  9.57861478, 11.16571637, 12.75281797, 14.33991957,\n",
       "        15.92702117]),\n",
       " <a list of 10 Patch objects>)"
      ]
     },
     "execution_count": 30,
     "metadata": {},
     "output_type": "execute_result"
    },
    {
     "data": {
      "image/png": "[encoded data removed]",
      "text/plain": [
       "<Figure size 432x288 with 1 Axes>"
      ]
     },
     "metadata": {
      "needs_background": "light"
     },
     "output_type": "display_data"
    }
   ],
   "source": [
    "x = np.random.gamma(2, 2, 1000)\n",
    "plt.hist(x)"
   ]
  },
  {
   "cell_type": "markdown",
   "metadata": {},
   "source": [
    "### Exponential\n",
    "\n",
    "Continuous\n",
    "\n",
    "https://machinelearningmastery.com/continuous-probability-distributions-for-machine-learning/\n",
    "\n",
    "Similar to pareto:\n",
    "https://www.allaboutlean.com/measure-cycle-time-part-1/exponential-and-pareto/"
   ]
  },
  {
   "cell_type": "code",
   "execution_count": 31,
   "metadata": {
    "scrolled": true
   },
   "outputs": [
    {
     "data": {
      "text/plain": [
       "(array([6.081e+03, 2.386e+03, 9.040e+02, 3.810e+02, 1.340e+02, 7.300e+01,\n",
       "        2.300e+01, 1.200e+01, 5.000e+00, 1.000e+00]),\n",
       " array([2.51337016e-03, 9.38256758e+00, 1.87626218e+01, 2.81426760e+01,\n",
       "        3.75227302e+01, 4.69027844e+01, 5.62828386e+01, 6.56628928e+01,\n",
       "        7.50429470e+01, 8.44230012e+01, 9.38030555e+01]),\n",
       " <a list of 10 Patch objects>)"
      ]
     },
     "execution_count": 31,
     "metadata": {},
     "output_type": "execute_result"
    },
    {
     "data": {
      "image/png": "[encoded data removed]",
      "text/plain": [
       "<Figure size 432x288 with 1 Axes>"
      ]
     },
     "metadata": {
      "needs_background": "light"
     },
     "output_type": "display_data"
    }
   ],
   "source": [
    "x = np.random.exponential(10, size = 10000)\n",
    "plt.hist(x)"
   ]
  },
  {
   "cell_type": "markdown",
   "metadata": {},
   "source": [
    "### Chi Square\n",
    "\n",
    "https://www.youtube.com/watch?v=hcDb12fsbBU \n",
    "\n",
    "Continuous\n",
    "\n",
    "Related to standard normal "
   ]
  },
  {
   "cell_type": "markdown",
   "metadata": {},
   "source": [
    "### Geometric"
   ]
  },
  {
   "cell_type": "code",
   "execution_count": 34,
   "metadata": {},
   "outputs": [
    {
     "data": {
      "text/plain": [
       "(array([5.914e+03, 2.460e+03, 9.640e+02, 3.680e+02, 1.670e+02, 7.000e+01,\n",
       "        3.300e+01, 1.600e+01, 6.000e+00, 2.000e+00]),\n",
       " array([ 1. ,  4.9,  8.8, 12.7, 16.6, 20.5, 24.4, 28.3, 32.2, 36.1, 40. ]),\n",
       " <a list of 10 Patch objects>)"
      ]
     },
     "execution_count": 34,
     "metadata": {},
     "output_type": "execute_result"
    },
    {
     "data": {
      "image/png": "[encoded data removed]",
      "text/plain": [
       "<Figure size 432x288 with 1 Axes>"
      ]
     },
     "metadata": {
      "needs_background": "light"
     },
     "output_type": "display_data"
    }
   ],
   "source": [
    "x = np.random.geometric(0.2, size = 10000)\n",
    "plt.hist(x)"
   ]
  },
  {
   "cell_type": "markdown",
   "metadata": {},
   "source": [
    "## Random Seeds\n",
    "\n",
    "Difference between using random.seed with and without initialising RandomState https://stackoverflow.com/questions/22994423/difference-between-np-random-seed-and-np-random-randomstate/22994529\n",
    "https://stackoverflow.com/a/5837352\n",
    "\n",
    "Looks like with RandomState you can create an instance of a new seed without affecting anything else while random.seed  has a global effect\n",
    "\n",
    "https://www.sharpsightlabs.com/blog/numpy-random-seed/\n",
    "\n",
    "http://justinbois.github.io/bootcamp/2016/lessons/l26_random_number_generation.html\n",
    "\n",
    "https://www.statisticshowto.datasciencecentral.com/random-seed-definition/\n"
   ]
  },
  {
   "cell_type": "code",
   "execution_count": 35,
   "metadata": {},
   "outputs": [
    {
     "name": "stdout",
     "output_type": "stream",
     "text": [
      "[0.77132064 0.02075195 0.63364823]\n",
      "[0.22199317 0.87073231 0.20671916]\n",
      "[0.74880388 0.49850701 0.22479665]\n",
      "[0.91861091 0.48841119 0.61174386]\n"
     ]
    }
   ],
   "source": [
    "# To initialise a seed instance\n",
    "x = np.random.RandomState(10)\n",
    "# To change the seed globally\n",
    "np.random.seed(5)\n",
    "\n",
    "print(x.rand(3))\n",
    "\n",
    "print (np.random.rand(3))\n",
    "\n",
    "print(x.rand(3))\n",
    "\n",
    "print (np.random.rand(3))"
   ]
  },
  {
   "cell_type": "code",
   "execution_count": null,
   "metadata": {},
   "outputs": [],
   "source": []
  },
  {
   "cell_type": "code",
   "execution_count": null,
   "metadata": {},
   "outputs": [],
   "source": []
  },
  {
   "cell_type": "code",
   "execution_count": null,
   "metadata": {},
   "outputs": [],
   "source": []
  },
  {
   "cell_type": "markdown",
   "metadata": {},
   "source": [
    "## References\n",
    "\n",
    "1. Rand versus random_sample: https://stackoverflow.com/a/18829377\n",
    "2. Difference between np.random.rand and np.random.random: https://stackoverflow.com/a/47232184\n",
    "3. Different integer types: https://stackoverflow.com/a/9696777\n",
    "4. Checking the size of different datatypes: https://stackoverflow.com/a/14329864\n",
    "5. Magic 8 Ball code adapted from: Sweigart, A. (2015). *Automate the Boring Stuff with Python*. San Fracisco: No Starch Press (p. 64).\n",
    "6. Deck of cards adapted from: Spronck, P. (2017). *The Coder's Apprentice: LEarning Programming with Python 3*. http://www.spronck.net/pythonbook/pythonbook.pdf (p. 341).\n",
    "7. Efficiency of the bytes function: Cappellini, S. (2018). *How to (efficiently) generate a huge number of pseudorandom bytes using Python*. stefanocappellini.it/generate-pseudorandom-bytes-with-python/\n",
    "8. Shuffling elements of multidimensional arrays adapted from: https://www.science-emergence.com/Articles/How-to-randomly-shuffle-an-array-in-python-using-numpy/\n",
    "9. Difference between np.random.shuffle and np.random.permutation: https://stackoverflow.com/a/15474335\n"
   ]
  },
  {
   "cell_type": "code",
   "execution_count": null,
   "metadata": {},
   "outputs": [],
   "source": []
  }
 ],
 "metadata": {
  "kernelspec": {
   "display_name": "Python 3",
   "language": "python",
   "name": "python3"
  },
  "language_info": {
   "codemirror_mode": {
    "name": "ipython",
    "version": 3
   },
   "file_extension": ".py",
   "mimetype": "text/x-python",
   "name": "python",
   "nbconvert_exporter": "python",
   "pygments_lexer": "ipython3",
   "version": "3.7.4"
  }
 },
 "nbformat": 4,
 "nbformat_minor": 4
}
